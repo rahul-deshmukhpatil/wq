{
 "cells": [
  {
   "cell_type": "markdown",
   "id": "661c9334",
   "metadata": {},
   "source": [
    "***\n",
    "# WorldQuant University\n",
    "<b>MScFE 610 Econometrics: Group Project 1 Submission</b><br>\n",
    "***\n",
    "\n",
    "<b>Group 11 Team Members:</b>\n",
    "\n",
    "- Beh Min Yan\n",
    "- Mohammadkian Maghsoodi\n",
    "- Rahul Patil\n",
    "\n",
    "# Question 5\n",
    "\n",
    "<b>This notebook contains our worked solutions to Q5, including code, outputs, and short answers as to the interpretation of results.</b>\n",
    "\n",
    "***"
   ]
  },
  {
   "cell_type": "markdown",
   "id": "b7221ba0",
   "metadata": {},
   "source": [
    "**Import Libraries & Relevant Datasets**"
   ]
  },
  {
   "cell_type": "code",
   "execution_count": 1,
   "id": "d5d4e06e",
   "metadata": {},
   "outputs": [],
   "source": [
    "import matplotlib.pyplot as plt\n",
    "from nelson_siegel_svensson.calibrate import calibrate_ns_ols\n",
    "import numpy as np\n",
    "import pandas as pd\n",
    "\n",
    "pd.options.display.max_rows = 15\n",
    "tnote_avg_yields_df = pd.read_csv('tnote_avg_yields.csv').set_index('index') # Import dataset from Question 3.1"
   ]
  },
  {
   "cell_type": "markdown",
   "id": "2aa2f4a5",
   "metadata": {},
   "source": [
    "# 5 Fitting the Yield Curve"
   ]
  },
  {
   "cell_type": "markdown",
   "id": "9107a718",
   "metadata": {},
   "source": [
    "<b>5.1) Use either Nelson-Siegel, or Nelson-Siegel-Svensson to fit the Yield Curve.  Write out the equation.</b>\n",
    "\n",
    "<u>Equation for Nelson-Siegel Curve:</u>"
   ]
  },
  {
   "cell_type": "markdown",
   "id": "786db09d",
   "metadata": {},
   "source": [
    "<img src='data:image/gif;base64,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'/>"
   ]
  },
  {
   "cell_type": "markdown",
   "id": "31a96685",
   "metadata": {},
   "source": [
    "<b>5.2) Fit the Nielson-Siegel yield curve each day using the 6 benchmark yields for the October data</b>"
   ]
  },
  {
   "cell_type": "code",
   "execution_count": 2,
   "id": "7d22797e",
   "metadata": {
    "scrolled": false
   },
   "outputs": [
    {
     "data": {
      "text/html": [
       "<div>\n",
       "<style scoped>\n",
       "    .dataframe tbody tr th:only-of-type {\n",
       "        vertical-align: middle;\n",
       "    }\n",
       "\n",
       "    .dataframe tbody tr th {\n",
       "        vertical-align: top;\n",
       "    }\n",
       "\n",
       "    .dataframe thead th {\n",
       "        text-align: right;\n",
       "    }\n",
       "</style>\n",
       "<table border=\"1\" class=\"dataframe\">\n",
       "  <thead>\n",
       "    <tr style=\"text-align: right;\">\n",
       "      <th></th>\n",
       "      <th>Oct 2019 Avg Yield</th>\n",
       "    </tr>\n",
       "    <tr>\n",
       "      <th>index</th>\n",
       "      <th></th>\n",
       "    </tr>\n",
       "  </thead>\n",
       "  <tbody>\n",
       "    <tr>\n",
       "      <th>2 YR US T-Note</th>\n",
       "      <td>1.551364</td>\n",
       "    </tr>\n",
       "    <tr>\n",
       "      <th>3 YR US T-Note</th>\n",
       "      <td>1.528182</td>\n",
       "    </tr>\n",
       "    <tr>\n",
       "      <th>5 YR US T-Note</th>\n",
       "      <td>1.525000</td>\n",
       "    </tr>\n",
       "    <tr>\n",
       "      <th>7 YR US T-Note</th>\n",
       "      <td>1.615000</td>\n",
       "    </tr>\n",
       "    <tr>\n",
       "      <th>10 YR US T-Note</th>\n",
       "      <td>1.706818</td>\n",
       "    </tr>\n",
       "    <tr>\n",
       "      <th>30 YR US T-Note</th>\n",
       "      <td>2.190455</td>\n",
       "    </tr>\n",
       "  </tbody>\n",
       "</table>\n",
       "</div>"
      ],
      "text/plain": [
       "                 Oct 2019 Avg Yield\n",
       "index                              \n",
       "2 YR US T-Note             1.551364\n",
       "3 YR US T-Note             1.528182\n",
       "5 YR US T-Note             1.525000\n",
       "7 YR US T-Note             1.615000\n",
       "10 YR US T-Note            1.706818\n",
       "30 YR US T-Note            2.190455"
      ]
     },
     "execution_count": 2,
     "metadata": {},
     "output_type": "execute_result"
    }
   ],
   "source": [
    "tnote_avg_yields_df[['Oct 2019 Avg Yield']]"
   ]
  },
  {
   "cell_type": "code",
   "execution_count": 3,
   "id": "4160d44d",
   "metadata": {},
   "outputs": [
    {
     "data": {
      "text/plain": [
       "NelsonSiegelCurve(beta0=2.5349155085578663, beta1=-0.8131505073187899, beta2=-1.8864998896367546, tau=3.8431237793810236)"
      ]
     },
     "execution_count": 3,
     "metadata": {},
     "output_type": "execute_result"
    }
   ],
   "source": [
    "maturities = np.array([2, 3, 5, 7, 10, 30])  # Benchmark yield periods, in years\n",
    "ns_curve_oct, _ = calibrate_ns_ols(maturities, tnote_avg_yields_df['Oct 2019 Avg Yield'])\n",
    "ns_curve_oct"
   ]
  },
  {
   "cell_type": "code",
   "execution_count": 4,
   "id": "fe6b7815",
   "metadata": {},
   "outputs": [
    {
     "data": {
      "image/png": "[encoded data removed]",
      "text/plain": [
       "<Figure size 432x288 with 1 Axes>"
      ]
     },
     "metadata": {
      "needs_background": "light"
     },
     "output_type": "display_data"
    }
   ],
   "source": [
    "plt.plot(maturities, ns_curve_oct(maturities), label='Oct 2019')\n",
    "plt.title('Fitted Nelson-Siegel curve from October 2019 US Treasury yields')\n",
    "plt.ylabel('Yield')\n",
    "plt.xlabel('Time to Maturity (Years)')\n",
    "plt.legend()\n",
    "plt.show()"
   ]
  },
  {
   "cell_type": "markdown",
   "id": "85bc8a34",
   "metadata": {},
   "source": [
    "<b>5.3) Fit the Nielson-Siegel yield curve each day using the 6 benchmark yields for the November data</b>"
   ]
  },
  {
   "cell_type": "code",
   "execution_count": 5,
   "id": "177c7189",
   "metadata": {
    "scrolled": true
   },
   "outputs": [
    {
     "data": {
      "text/html": [
       "<div>\n",
       "<style scoped>\n",
       "    .dataframe tbody tr th:only-of-type {\n",
       "        vertical-align: middle;\n",
       "    }\n",
       "\n",
       "    .dataframe tbody tr th {\n",
       "        vertical-align: top;\n",
       "    }\n",
       "\n",
       "    .dataframe thead th {\n",
       "        text-align: right;\n",
       "    }\n",
       "</style>\n",
       "<table border=\"1\" class=\"dataframe\">\n",
       "  <thead>\n",
       "    <tr style=\"text-align: right;\">\n",
       "      <th></th>\n",
       "      <th>Nov 2019 Avg Yield</th>\n",
       "    </tr>\n",
       "    <tr>\n",
       "      <th>index</th>\n",
       "      <th></th>\n",
       "    </tr>\n",
       "  </thead>\n",
       "  <tbody>\n",
       "    <tr>\n",
       "      <th>2 YR US T-Note</th>\n",
       "      <td>1.612632</td>\n",
       "    </tr>\n",
       "    <tr>\n",
       "      <th>3 YR US T-Note</th>\n",
       "      <td>1.612105</td>\n",
       "    </tr>\n",
       "    <tr>\n",
       "      <th>5 YR US T-Note</th>\n",
       "      <td>1.639474</td>\n",
       "    </tr>\n",
       "    <tr>\n",
       "      <th>7 YR US T-Note</th>\n",
       "      <td>1.735789</td>\n",
       "    </tr>\n",
       "    <tr>\n",
       "      <th>10 YR US T-Note</th>\n",
       "      <td>1.812105</td>\n",
       "    </tr>\n",
       "    <tr>\n",
       "      <th>30 YR US T-Note</th>\n",
       "      <td>2.280526</td>\n",
       "    </tr>\n",
       "  </tbody>\n",
       "</table>\n",
       "</div>"
      ],
      "text/plain": [
       "                 Nov 2019 Avg Yield\n",
       "index                              \n",
       "2 YR US T-Note             1.612632\n",
       "3 YR US T-Note             1.612105\n",
       "5 YR US T-Note             1.639474\n",
       "7 YR US T-Note             1.735789\n",
       "10 YR US T-Note            1.812105\n",
       "30 YR US T-Note            2.280526"
      ]
     },
     "execution_count": 5,
     "metadata": {},
     "output_type": "execute_result"
    }
   ],
   "source": [
    "tnote_avg_yields_df[['Nov 2019 Avg Yield']]"
   ]
  },
  {
   "cell_type": "code",
   "execution_count": 6,
   "id": "ea460ba0",
   "metadata": {},
   "outputs": [
    {
     "data": {
      "text/plain": [
       "NelsonSiegelCurve(beta0=2.654784412530737, beta1=-0.9992545760615046, beta2=-1.4350000104589598, tau=4.65424730553271)"
      ]
     },
     "execution_count": 6,
     "metadata": {},
     "output_type": "execute_result"
    }
   ],
   "source": [
    "ns_curve_nov, _ = calibrate_ns_ols(maturities, tnote_avg_yields_df['Nov 2019 Avg Yield'])\n",
    "ns_curve_nov"
   ]
  },
  {
   "cell_type": "code",
   "execution_count": 7,
   "id": "712dc197",
   "metadata": {},
   "outputs": [
    {
     "data": {
      "image/png": "[encoded data removed]",
      "text/plain": [
       "<Figure size 432x288 with 1 Axes>"
      ]
     },
     "metadata": {
      "needs_background": "light"
     },
     "output_type": "display_data"
    }
   ],
   "source": [
    "plt.plot(maturities, ns_curve_oct(maturities), linestyle='--', label='Oct 2019')\n",
    "plt.plot(maturities, ns_curve_nov(maturities), label='Nov 2019')\n",
    "plt.title('Fitted Nelson-Siegel curves from Oct & Nov 2019 US Treasury yields')\n",
    "plt.ylabel('Yield')\n",
    "plt.xlabel('Time to Maturity (Years)')\n",
    "plt.legend()\n",
    "plt.show()"
   ]
  },
  {
   "cell_type": "markdown",
   "id": "d2feda86",
   "metadata": {},
   "source": [
    "<div class=\"alert alert-block alert-success\">\n",
    "<b>5.4) What are the significant changes, if any?  Be specific with regards to the values of the parameters:</b> \n",
    "\n",
    "Comparing the two fitted curves, we see very similar patterns in beta1, beta2 and tau fitted values, which contribute to the very similar shape of both curves in terms of slope and curvature loadings. There is no significant change for this part, and understandably so because the Fed's decision came in a series of similar interest rate cuts, which has already been factored into the yield curve.\n",
    "    \n",
    "However, we can clearly see that the fitted Nov 2019 curve (in orange) has higher beta0 value, which leads to higher yields across all maturity periods compared to the fitted October 2019 curve (in blue). \n",
    "</div>"
   ]
  }
 ],
 "metadata": {
  "kernelspec": {
   "display_name": "Python 3",
   "language": "python",
   "name": "python3"
  },
  "language_info": {
   "codemirror_mode": {
    "name": "ipython",
    "version": 3
   },
   "file_extension": ".py",
   "mimetype": "text/x-python",
   "name": "python",
   "nbconvert_exporter": "python",
   "pygments_lexer": "ipython3",
   "version": "3.8.3"
  }
 },
 "nbformat": 4,
 "nbformat_minor": 5
}
