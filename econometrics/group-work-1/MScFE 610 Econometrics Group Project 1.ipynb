{
 "cells": [
  {
   "cell_type": "markdown",
   "id": "661c9334",
   "metadata": {},
   "source": [
    "***\n",
    "# WorldQuant University\n",
    "<b>MScFE 610 Econometrics: Group Project 1 Submission</b><br>\n",
    "***\n",
    "\n",
    "<b>Group 11 Team Members:</b>\n",
    "\n",
    "- Beh Min Yan\n",
    "- Mohammadkian Maghsoodi\n",
    "- Rahul Patil\n",
    "\n",
    "***"
   ]
  },
  {
   "cell_type": "markdown",
   "id": "568f0919",
   "metadata": {},
   "source": [
    "# 0 Selecting a data set\n",
    "\n",
    "<br/>\n",
    "\n",
    "**We have chosen the below Gold & Equity ETFs:**\n",
    "\n",
    "- **Gold ETF:** SPDR Gold Shares (GLD). \n",
    "    - Source: https://finance.yahoo.com/quote/GLD/\n",
    "\n",
    "\n",
    "- **Equity ETF:** Vanguard FTSE Europe Index Fund ETF Shares (VGK).\n",
    "    - Source: https://finance.yahoo.com/quote/vgk/"
   ]
  },
  {
   "cell_type": "code",
   "execution_count": 1,
   "id": "60dc506c",
   "metadata": {},
   "outputs": [],
   "source": [
    "GOLD_ETF = 'GLD'     # SPDR Gold Shares (GLD)\n",
    "EQUITY_ETF = 'VGK'   # Vanguard FTSE Europe Index Fund ETF Shares (VGK)\n",
    "\n",
    "START_DATE = '2019-10-01'\n",
    "END_DATE = '2019-11-30'"
   ]
  },
  {
   "cell_type": "markdown",
   "id": "11f9996f",
   "metadata": {},
   "source": [
    "***\n",
    "# 1. Data Importing"
   ]
  },
  {
   "cell_type": "markdown",
   "id": "6ac2e721",
   "metadata": {},
   "source": [
    "### Import Libraries"
   ]
  },
  {
   "cell_type": "code",
   "execution_count": 2,
   "id": "f40b1b53",
   "metadata": {},
   "outputs": [],
   "source": [
    "# !pip install nelson_siegel_svensson\n",
    "\n",
    "from arch import arch_model\n",
    "import matplotlib.pyplot as plt\n",
    "from nelson_siegel_svensson.calibrate import calibrate_ns_ols\n",
    "import numpy as np\n",
    "import pandas as pd\n",
    "import scipy\n",
    "import warnings\n",
    "import yfinance as yf\n",
    "\n",
    "\n",
    "warnings.filterwarnings(\"ignore\")\n",
    "pd.options.display.max_rows = 15"
   ]
  },
  {
   "cell_type": "markdown",
   "id": "71371170",
   "metadata": {},
   "source": [
    "<b>1.1) Import closing daily interest rates of the 6 active benchmarks of US Treasury yields, for the months of October 2019 and November 2019 (approximately 40 - 45 data points).  You will likely use 2-year, 3-year, 5-year, 7-year, 10-year, and 30-year maturities.</b>"
   ]
  },
  {
   "cell_type": "code",
   "execution_count": 3,
   "id": "f9f96319",
   "metadata": {},
   "outputs": [
    {
     "data": {
      "text/html": [
       "<div>\n",
       "<style scoped>\n",
       "    .dataframe tbody tr th:only-of-type {\n",
       "        vertical-align: middle;\n",
       "    }\n",
       "\n",
       "    .dataframe tbody tr th {\n",
       "        vertical-align: top;\n",
       "    }\n",
       "\n",
       "    .dataframe thead th {\n",
       "        text-align: right;\n",
       "    }\n",
       "</style>\n",
       "<table border=\"1\" class=\"dataframe\">\n",
       "  <thead>\n",
       "    <tr style=\"text-align: right;\">\n",
       "      <th></th>\n",
       "      <th>2 YR</th>\n",
       "      <th>3 YR</th>\n",
       "      <th>5 YR</th>\n",
       "      <th>7 YR</th>\n",
       "      <th>10 YR</th>\n",
       "      <th>30 YR</th>\n",
       "    </tr>\n",
       "    <tr>\n",
       "      <th>Date</th>\n",
       "      <th></th>\n",
       "      <th></th>\n",
       "      <th></th>\n",
       "      <th></th>\n",
       "      <th></th>\n",
       "      <th></th>\n",
       "    </tr>\n",
       "  </thead>\n",
       "  <tbody>\n",
       "    <tr>\n",
       "      <th>2019-09-30</th>\n",
       "      <td>1.63</td>\n",
       "      <td>1.56</td>\n",
       "      <td>1.55</td>\n",
       "      <td>1.62</td>\n",
       "      <td>1.68</td>\n",
       "      <td>2.12</td>\n",
       "    </tr>\n",
       "    <tr>\n",
       "      <th>2019-10-01</th>\n",
       "      <td>1.56</td>\n",
       "      <td>1.51</td>\n",
       "      <td>1.51</td>\n",
       "      <td>1.59</td>\n",
       "      <td>1.65</td>\n",
       "      <td>2.11</td>\n",
       "    </tr>\n",
       "    <tr>\n",
       "      <th>2019-10-02</th>\n",
       "      <td>1.48</td>\n",
       "      <td>1.43</td>\n",
       "      <td>1.43</td>\n",
       "      <td>1.53</td>\n",
       "      <td>1.60</td>\n",
       "      <td>2.09</td>\n",
       "    </tr>\n",
       "    <tr>\n",
       "      <th>2019-10-03</th>\n",
       "      <td>1.39</td>\n",
       "      <td>1.34</td>\n",
       "      <td>1.34</td>\n",
       "      <td>1.45</td>\n",
       "      <td>1.54</td>\n",
       "      <td>2.04</td>\n",
       "    </tr>\n",
       "    <tr>\n",
       "      <th>2019-10-04</th>\n",
       "      <td>1.40</td>\n",
       "      <td>1.35</td>\n",
       "      <td>1.34</td>\n",
       "      <td>1.43</td>\n",
       "      <td>1.52</td>\n",
       "      <td>2.01</td>\n",
       "    </tr>\n",
       "    <tr>\n",
       "      <th>...</th>\n",
       "      <td>...</td>\n",
       "      <td>...</td>\n",
       "      <td>...</td>\n",
       "      <td>...</td>\n",
       "      <td>...</td>\n",
       "      <td>...</td>\n",
       "    </tr>\n",
       "    <tr>\n",
       "      <th>2019-11-22</th>\n",
       "      <td>1.61</td>\n",
       "      <td>1.60</td>\n",
       "      <td>1.62</td>\n",
       "      <td>1.71</td>\n",
       "      <td>1.77</td>\n",
       "      <td>2.22</td>\n",
       "    </tr>\n",
       "    <tr>\n",
       "      <th>2019-11-25</th>\n",
       "      <td>1.61</td>\n",
       "      <td>1.60</td>\n",
       "      <td>1.62</td>\n",
       "      <td>1.71</td>\n",
       "      <td>1.76</td>\n",
       "      <td>2.21</td>\n",
       "    </tr>\n",
       "    <tr>\n",
       "      <th>2019-11-26</th>\n",
       "      <td>1.58</td>\n",
       "      <td>1.58</td>\n",
       "      <td>1.58</td>\n",
       "      <td>1.68</td>\n",
       "      <td>1.74</td>\n",
       "      <td>2.18</td>\n",
       "    </tr>\n",
       "    <tr>\n",
       "      <th>2019-11-27</th>\n",
       "      <td>1.63</td>\n",
       "      <td>1.61</td>\n",
       "      <td>1.63</td>\n",
       "      <td>1.71</td>\n",
       "      <td>1.77</td>\n",
       "      <td>2.19</td>\n",
       "    </tr>\n",
       "    <tr>\n",
       "      <th>2019-11-29</th>\n",
       "      <td>1.61</td>\n",
       "      <td>1.61</td>\n",
       "      <td>1.62</td>\n",
       "      <td>1.73</td>\n",
       "      <td>1.78</td>\n",
       "      <td>2.21</td>\n",
       "    </tr>\n",
       "  </tbody>\n",
       "</table>\n",
       "<p>42 rows × 6 columns</p>\n",
       "</div>"
      ],
      "text/plain": [
       "            2 YR  3 YR  5 YR  7 YR  10 YR  30 YR\n",
       "Date                                            \n",
       "2019-09-30  1.63  1.56  1.55  1.62   1.68   2.12\n",
       "2019-10-01  1.56  1.51  1.51  1.59   1.65   2.11\n",
       "2019-10-02  1.48  1.43  1.43  1.53   1.60   2.09\n",
       "2019-10-03  1.39  1.34  1.34  1.45   1.54   2.04\n",
       "2019-10-04  1.40  1.35  1.34  1.43   1.52   2.01\n",
       "...          ...   ...   ...   ...    ...    ...\n",
       "2019-11-22  1.61  1.60  1.62  1.71   1.77   2.22\n",
       "2019-11-25  1.61  1.60  1.62  1.71   1.76   2.21\n",
       "2019-11-26  1.58  1.58  1.58  1.68   1.74   2.18\n",
       "2019-11-27  1.63  1.61  1.63  1.71   1.77   2.19\n",
       "2019-11-29  1.61  1.61  1.62  1.73   1.78   2.21\n",
       "\n",
       "[42 rows x 6 columns]"
      ]
     },
     "execution_count": 3,
     "metadata": {},
     "output_type": "execute_result"
    }
   ],
   "source": [
    "NASDAQ_TREASURY_DATA_CSV_URL = \"https://data.nasdaq.com/api/v3/datasets/USTREASURY/YIELD.csv?api_key=x6ZcYtB4RzvAVop7E-U6\"\n",
    "treasury_df = pd.read_csv(NASDAQ_TREASURY_DATA_CSV_URL, header=0, parse_dates=[0], infer_datetime_format=True)\n",
    "\n",
    "labels_to_drop = ['1 MO', '2 MO', '3 MO', '6 MO', '1 YR', '20 YR']\n",
    "treasury_df = treasury_df.set_index('Date').sort_index().drop(columns=labels_to_drop)\n",
    "treasury_df = treasury_df['2019-09-30':END_DATE]\n",
    "treasury_df"
   ]
  },
  {
   "cell_type": "markdown",
   "id": "f2116377",
   "metadata": {},
   "source": [
    "<b>1.2) Import your gold ETF prices for the months of October 2019 and November 2019</b>\n",
    "\n",
    "<br/>\n",
    "\n",
    "**Selected Gold ETF:** SPDR Gold Shares (GLD). [[Source](https://finance.yahoo.com/quote/GLD/)]"
   ]
  },
  {
   "cell_type": "code",
   "execution_count": 4,
   "id": "1ddac226",
   "metadata": {},
   "outputs": [
    {
     "name": "stdout",
     "output_type": "stream",
     "text": [
      "[*********************100%***********************]  1 of 1 completed\n"
     ]
    },
    {
     "data": {
      "text/html": [
       "<div>\n",
       "<style scoped>\n",
       "    .dataframe tbody tr th:only-of-type {\n",
       "        vertical-align: middle;\n",
       "    }\n",
       "\n",
       "    .dataframe tbody tr th {\n",
       "        vertical-align: top;\n",
       "    }\n",
       "\n",
       "    .dataframe thead th {\n",
       "        text-align: right;\n",
       "    }\n",
       "</style>\n",
       "<table border=\"1\" class=\"dataframe\">\n",
       "  <thead>\n",
       "    <tr style=\"text-align: right;\">\n",
       "      <th></th>\n",
       "      <th>Open</th>\n",
       "      <th>High</th>\n",
       "      <th>Low</th>\n",
       "      <th>Close</th>\n",
       "      <th>Adj Close</th>\n",
       "      <th>Volume</th>\n",
       "    </tr>\n",
       "    <tr>\n",
       "      <th>Date</th>\n",
       "      <th></th>\n",
       "      <th></th>\n",
       "      <th></th>\n",
       "      <th></th>\n",
       "      <th></th>\n",
       "      <th></th>\n",
       "    </tr>\n",
       "  </thead>\n",
       "  <tbody>\n",
       "    <tr>\n",
       "      <th>2019-09-30</th>\n",
       "      <td>139.770004</td>\n",
       "      <td>140.210007</td>\n",
       "      <td>138.029999</td>\n",
       "      <td>138.869995</td>\n",
       "      <td>138.869995</td>\n",
       "      <td>15459100</td>\n",
       "    </tr>\n",
       "    <tr>\n",
       "      <th>2019-10-01</th>\n",
       "      <td>138.070007</td>\n",
       "      <td>140.190002</td>\n",
       "      <td>137.800003</td>\n",
       "      <td>139.630005</td>\n",
       "      <td>139.630005</td>\n",
       "      <td>12476200</td>\n",
       "    </tr>\n",
       "    <tr>\n",
       "      <th>2019-10-02</th>\n",
       "      <td>140.789993</td>\n",
       "      <td>141.880005</td>\n",
       "      <td>140.460007</td>\n",
       "      <td>141.259995</td>\n",
       "      <td>141.259995</td>\n",
       "      <td>11914300</td>\n",
       "    </tr>\n",
       "    <tr>\n",
       "      <th>2019-10-03</th>\n",
       "      <td>141.360001</td>\n",
       "      <td>143.250000</td>\n",
       "      <td>141.289993</td>\n",
       "      <td>141.899994</td>\n",
       "      <td>141.899994</td>\n",
       "      <td>12396100</td>\n",
       "    </tr>\n",
       "    <tr>\n",
       "      <th>2019-10-04</th>\n",
       "      <td>141.479996</td>\n",
       "      <td>142.309998</td>\n",
       "      <td>141.139999</td>\n",
       "      <td>141.899994</td>\n",
       "      <td>141.899994</td>\n",
       "      <td>9651000</td>\n",
       "    </tr>\n",
       "    <tr>\n",
       "      <th>...</th>\n",
       "      <td>...</td>\n",
       "      <td>...</td>\n",
       "      <td>...</td>\n",
       "      <td>...</td>\n",
       "      <td>...</td>\n",
       "      <td>...</td>\n",
       "    </tr>\n",
       "    <tr>\n",
       "      <th>2019-11-22</th>\n",
       "      <td>138.369995</td>\n",
       "      <td>138.460007</td>\n",
       "      <td>137.660004</td>\n",
       "      <td>137.740005</td>\n",
       "      <td>137.740005</td>\n",
       "      <td>3620300</td>\n",
       "    </tr>\n",
       "    <tr>\n",
       "      <th>2019-11-25</th>\n",
       "      <td>137.320007</td>\n",
       "      <td>137.619995</td>\n",
       "      <td>136.990005</td>\n",
       "      <td>137.080002</td>\n",
       "      <td>137.080002</td>\n",
       "      <td>6415800</td>\n",
       "    </tr>\n",
       "    <tr>\n",
       "      <th>2019-11-26</th>\n",
       "      <td>136.979996</td>\n",
       "      <td>137.800003</td>\n",
       "      <td>136.580002</td>\n",
       "      <td>137.740005</td>\n",
       "      <td>137.740005</td>\n",
       "      <td>4724400</td>\n",
       "    </tr>\n",
       "    <tr>\n",
       "      <th>2019-11-27</th>\n",
       "      <td>137.029999</td>\n",
       "      <td>137.210007</td>\n",
       "      <td>136.830002</td>\n",
       "      <td>137.009995</td>\n",
       "      <td>137.009995</td>\n",
       "      <td>4111000</td>\n",
       "    </tr>\n",
       "    <tr>\n",
       "      <th>2019-11-29</th>\n",
       "      <td>137.100006</td>\n",
       "      <td>138.130005</td>\n",
       "      <td>137.080002</td>\n",
       "      <td>137.860001</td>\n",
       "      <td>137.860001</td>\n",
       "      <td>4516400</td>\n",
       "    </tr>\n",
       "  </tbody>\n",
       "</table>\n",
       "<p>44 rows × 6 columns</p>\n",
       "</div>"
      ],
      "text/plain": [
       "                  Open        High         Low       Close   Adj Close  \\\n",
       "Date                                                                     \n",
       "2019-09-30  139.770004  140.210007  138.029999  138.869995  138.869995   \n",
       "2019-10-01  138.070007  140.190002  137.800003  139.630005  139.630005   \n",
       "2019-10-02  140.789993  141.880005  140.460007  141.259995  141.259995   \n",
       "2019-10-03  141.360001  143.250000  141.289993  141.899994  141.899994   \n",
       "2019-10-04  141.479996  142.309998  141.139999  141.899994  141.899994   \n",
       "...                ...         ...         ...         ...         ...   \n",
       "2019-11-22  138.369995  138.460007  137.660004  137.740005  137.740005   \n",
       "2019-11-25  137.320007  137.619995  136.990005  137.080002  137.080002   \n",
       "2019-11-26  136.979996  137.800003  136.580002  137.740005  137.740005   \n",
       "2019-11-27  137.029999  137.210007  136.830002  137.009995  137.009995   \n",
       "2019-11-29  137.100006  138.130005  137.080002  137.860001  137.860001   \n",
       "\n",
       "              Volume  \n",
       "Date                  \n",
       "2019-09-30  15459100  \n",
       "2019-10-01  12476200  \n",
       "2019-10-02  11914300  \n",
       "2019-10-03  12396100  \n",
       "2019-10-04   9651000  \n",
       "...              ...  \n",
       "2019-11-22   3620300  \n",
       "2019-11-25   6415800  \n",
       "2019-11-26   4724400  \n",
       "2019-11-27   4111000  \n",
       "2019-11-29   4516400  \n",
       "\n",
       "[44 rows x 6 columns]"
      ]
     },
     "execution_count": 4,
     "metadata": {},
     "output_type": "execute_result"
    }
   ],
   "source": [
    "gold_etf_df = yf.download([GOLD_ETF], start=START_DATE, end=END_DATE)\n",
    "gold_etf_df"
   ]
  },
  {
   "cell_type": "markdown",
   "id": "14ca3501",
   "metadata": {},
   "source": [
    "<b>1.3) Import your equity ETF prices for the months of October 2019 and November 2019</b>\n",
    "\n",
    "<br/>\n",
    "\n",
    "**Selected Equity ETF:** Vanguard FTSE Europe Index Fund ETF Shares (VGK). [[Source](https://finance.yahoo.com/quote/vgk/)]"
   ]
  },
  {
   "cell_type": "code",
   "execution_count": 5,
   "id": "347c5ff8",
   "metadata": {},
   "outputs": [
    {
     "name": "stdout",
     "output_type": "stream",
     "text": [
      "[*********************100%***********************]  1 of 1 completed\n"
     ]
    },
    {
     "data": {
      "text/html": [
       "<div>\n",
       "<style scoped>\n",
       "    .dataframe tbody tr th:only-of-type {\n",
       "        vertical-align: middle;\n",
       "    }\n",
       "\n",
       "    .dataframe tbody tr th {\n",
       "        vertical-align: top;\n",
       "    }\n",
       "\n",
       "    .dataframe thead th {\n",
       "        text-align: right;\n",
       "    }\n",
       "</style>\n",
       "<table border=\"1\" class=\"dataframe\">\n",
       "  <thead>\n",
       "    <tr style=\"text-align: right;\">\n",
       "      <th></th>\n",
       "      <th>Open</th>\n",
       "      <th>High</th>\n",
       "      <th>Low</th>\n",
       "      <th>Close</th>\n",
       "      <th>Adj Close</th>\n",
       "      <th>Volume</th>\n",
       "    </tr>\n",
       "    <tr>\n",
       "      <th>Date</th>\n",
       "      <th></th>\n",
       "      <th></th>\n",
       "      <th></th>\n",
       "      <th></th>\n",
       "      <th></th>\n",
       "      <th></th>\n",
       "    </tr>\n",
       "  </thead>\n",
       "  <tbody>\n",
       "    <tr>\n",
       "      <th>2019-09-30</th>\n",
       "      <td>53.470001</td>\n",
       "      <td>53.709999</td>\n",
       "      <td>53.470001</td>\n",
       "      <td>53.610001</td>\n",
       "      <td>50.573910</td>\n",
       "      <td>2849300</td>\n",
       "    </tr>\n",
       "    <tr>\n",
       "      <th>2019-10-01</th>\n",
       "      <td>53.430000</td>\n",
       "      <td>53.450001</td>\n",
       "      <td>52.930000</td>\n",
       "      <td>53.020000</td>\n",
       "      <td>50.017326</td>\n",
       "      <td>6793900</td>\n",
       "    </tr>\n",
       "    <tr>\n",
       "      <th>2019-10-02</th>\n",
       "      <td>52.169998</td>\n",
       "      <td>52.189999</td>\n",
       "      <td>51.619999</td>\n",
       "      <td>51.700001</td>\n",
       "      <td>48.772083</td>\n",
       "      <td>5786200</td>\n",
       "    </tr>\n",
       "    <tr>\n",
       "      <th>2019-10-03</th>\n",
       "      <td>51.759998</td>\n",
       "      <td>52.080002</td>\n",
       "      <td>51.509998</td>\n",
       "      <td>52.080002</td>\n",
       "      <td>49.130562</td>\n",
       "      <td>3537800</td>\n",
       "    </tr>\n",
       "    <tr>\n",
       "      <th>2019-10-04</th>\n",
       "      <td>52.150002</td>\n",
       "      <td>52.520000</td>\n",
       "      <td>52.090000</td>\n",
       "      <td>52.500000</td>\n",
       "      <td>49.526772</td>\n",
       "      <td>2642200</td>\n",
       "    </tr>\n",
       "    <tr>\n",
       "      <th>...</th>\n",
       "      <td>...</td>\n",
       "      <td>...</td>\n",
       "      <td>...</td>\n",
       "      <td>...</td>\n",
       "      <td>...</td>\n",
       "      <td>...</td>\n",
       "    </tr>\n",
       "    <tr>\n",
       "      <th>2019-11-22</th>\n",
       "      <td>56.250000</td>\n",
       "      <td>56.259998</td>\n",
       "      <td>55.990002</td>\n",
       "      <td>56.099998</td>\n",
       "      <td>52.922894</td>\n",
       "      <td>4281900</td>\n",
       "    </tr>\n",
       "    <tr>\n",
       "      <th>2019-11-25</th>\n",
       "      <td>56.349998</td>\n",
       "      <td>56.560001</td>\n",
       "      <td>56.349998</td>\n",
       "      <td>56.560001</td>\n",
       "      <td>53.356850</td>\n",
       "      <td>3225500</td>\n",
       "    </tr>\n",
       "    <tr>\n",
       "      <th>2019-11-26</th>\n",
       "      <td>56.540001</td>\n",
       "      <td>56.660000</td>\n",
       "      <td>56.520000</td>\n",
       "      <td>56.630001</td>\n",
       "      <td>53.422886</td>\n",
       "      <td>1917900</td>\n",
       "    </tr>\n",
       "    <tr>\n",
       "      <th>2019-11-27</th>\n",
       "      <td>56.639999</td>\n",
       "      <td>56.770000</td>\n",
       "      <td>56.610001</td>\n",
       "      <td>56.730000</td>\n",
       "      <td>53.517216</td>\n",
       "      <td>1690700</td>\n",
       "    </tr>\n",
       "    <tr>\n",
       "      <th>2019-11-29</th>\n",
       "      <td>56.490002</td>\n",
       "      <td>56.580002</td>\n",
       "      <td>56.380001</td>\n",
       "      <td>56.389999</td>\n",
       "      <td>53.196472</td>\n",
       "      <td>1242500</td>\n",
       "    </tr>\n",
       "  </tbody>\n",
       "</table>\n",
       "<p>44 rows × 6 columns</p>\n",
       "</div>"
      ],
      "text/plain": [
       "                 Open       High        Low      Close  Adj Close   Volume\n",
       "Date                                                                      \n",
       "2019-09-30  53.470001  53.709999  53.470001  53.610001  50.573910  2849300\n",
       "2019-10-01  53.430000  53.450001  52.930000  53.020000  50.017326  6793900\n",
       "2019-10-02  52.169998  52.189999  51.619999  51.700001  48.772083  5786200\n",
       "2019-10-03  51.759998  52.080002  51.509998  52.080002  49.130562  3537800\n",
       "2019-10-04  52.150002  52.520000  52.090000  52.500000  49.526772  2642200\n",
       "...               ...        ...        ...        ...        ...      ...\n",
       "2019-11-22  56.250000  56.259998  55.990002  56.099998  52.922894  4281900\n",
       "2019-11-25  56.349998  56.560001  56.349998  56.560001  53.356850  3225500\n",
       "2019-11-26  56.540001  56.660000  56.520000  56.630001  53.422886  1917900\n",
       "2019-11-27  56.639999  56.770000  56.610001  56.730000  53.517216  1690700\n",
       "2019-11-29  56.490002  56.580002  56.380001  56.389999  53.196472  1242500\n",
       "\n",
       "[44 rows x 6 columns]"
      ]
     },
     "execution_count": 5,
     "metadata": {},
     "output_type": "execute_result"
    }
   ],
   "source": [
    "equity_etf_df = yf.download([EQUITY_ETF], start=START_DATE, end=END_DATE)\n",
    "equity_etf_df"
   ]
  },
  {
   "cell_type": "markdown",
   "id": "faa2df6e",
   "metadata": {},
   "source": [
    "## 2. Data Processing"
   ]
  },
  {
   "cell_type": "code",
   "execution_count": 6,
   "id": "233cc919",
   "metadata": {},
   "outputs": [],
   "source": [
    "def compute_returns(df, col='Adj Close'):\n",
    "    df['Daily Returns'] = df[col].pct_change()\n",
    "    return df[~df['Daily Returns'].isnull()]"
   ]
  },
  {
   "cell_type": "markdown",
   "id": "b8b8a97b",
   "metadata": {},
   "source": [
    "<b>2.1) Compute the daily returns of your Gold ETF</b>"
   ]
  },
  {
   "cell_type": "code",
   "execution_count": 7,
   "id": "8c783825",
   "metadata": {},
   "outputs": [
    {
     "data": {
      "text/html": [
       "<div>\n",
       "<style scoped>\n",
       "    .dataframe tbody tr th:only-of-type {\n",
       "        vertical-align: middle;\n",
       "    }\n",
       "\n",
       "    .dataframe tbody tr th {\n",
       "        vertical-align: top;\n",
       "    }\n",
       "\n",
       "    .dataframe thead th {\n",
       "        text-align: right;\n",
       "    }\n",
       "</style>\n",
       "<table border=\"1\" class=\"dataframe\">\n",
       "  <thead>\n",
       "    <tr style=\"text-align: right;\">\n",
       "      <th></th>\n",
       "      <th>Open</th>\n",
       "      <th>High</th>\n",
       "      <th>Low</th>\n",
       "      <th>Close</th>\n",
       "      <th>Adj Close</th>\n",
       "      <th>Volume</th>\n",
       "      <th>Daily Returns</th>\n",
       "    </tr>\n",
       "    <tr>\n",
       "      <th>Date</th>\n",
       "      <th></th>\n",
       "      <th></th>\n",
       "      <th></th>\n",
       "      <th></th>\n",
       "      <th></th>\n",
       "      <th></th>\n",
       "      <th></th>\n",
       "    </tr>\n",
       "  </thead>\n",
       "  <tbody>\n",
       "    <tr>\n",
       "      <th>2019-10-01</th>\n",
       "      <td>138.070007</td>\n",
       "      <td>140.190002</td>\n",
       "      <td>137.800003</td>\n",
       "      <td>139.630005</td>\n",
       "      <td>139.630005</td>\n",
       "      <td>12476200</td>\n",
       "      <td>0.005473</td>\n",
       "    </tr>\n",
       "    <tr>\n",
       "      <th>2019-10-02</th>\n",
       "      <td>140.789993</td>\n",
       "      <td>141.880005</td>\n",
       "      <td>140.460007</td>\n",
       "      <td>141.259995</td>\n",
       "      <td>141.259995</td>\n",
       "      <td>11914300</td>\n",
       "      <td>0.011674</td>\n",
       "    </tr>\n",
       "    <tr>\n",
       "      <th>2019-10-03</th>\n",
       "      <td>141.360001</td>\n",
       "      <td>143.250000</td>\n",
       "      <td>141.289993</td>\n",
       "      <td>141.899994</td>\n",
       "      <td>141.899994</td>\n",
       "      <td>12396100</td>\n",
       "      <td>0.004531</td>\n",
       "    </tr>\n",
       "    <tr>\n",
       "      <th>2019-10-04</th>\n",
       "      <td>141.479996</td>\n",
       "      <td>142.309998</td>\n",
       "      <td>141.139999</td>\n",
       "      <td>141.899994</td>\n",
       "      <td>141.899994</td>\n",
       "      <td>9651000</td>\n",
       "      <td>0.000000</td>\n",
       "    </tr>\n",
       "    <tr>\n",
       "      <th>2019-10-07</th>\n",
       "      <td>141.160004</td>\n",
       "      <td>141.770004</td>\n",
       "      <td>140.240005</td>\n",
       "      <td>140.690002</td>\n",
       "      <td>140.690002</td>\n",
       "      <td>6127200</td>\n",
       "      <td>-0.008527</td>\n",
       "    </tr>\n",
       "    <tr>\n",
       "      <th>...</th>\n",
       "      <td>...</td>\n",
       "      <td>...</td>\n",
       "      <td>...</td>\n",
       "      <td>...</td>\n",
       "      <td>...</td>\n",
       "      <td>...</td>\n",
       "      <td>...</td>\n",
       "    </tr>\n",
       "    <tr>\n",
       "      <th>2019-11-22</th>\n",
       "      <td>138.369995</td>\n",
       "      <td>138.460007</td>\n",
       "      <td>137.660004</td>\n",
       "      <td>137.740005</td>\n",
       "      <td>137.740005</td>\n",
       "      <td>3620300</td>\n",
       "      <td>-0.001884</td>\n",
       "    </tr>\n",
       "    <tr>\n",
       "      <th>2019-11-25</th>\n",
       "      <td>137.320007</td>\n",
       "      <td>137.619995</td>\n",
       "      <td>136.990005</td>\n",
       "      <td>137.080002</td>\n",
       "      <td>137.080002</td>\n",
       "      <td>6415800</td>\n",
       "      <td>-0.004792</td>\n",
       "    </tr>\n",
       "    <tr>\n",
       "      <th>2019-11-26</th>\n",
       "      <td>136.979996</td>\n",
       "      <td>137.800003</td>\n",
       "      <td>136.580002</td>\n",
       "      <td>137.740005</td>\n",
       "      <td>137.740005</td>\n",
       "      <td>4724400</td>\n",
       "      <td>0.004815</td>\n",
       "    </tr>\n",
       "    <tr>\n",
       "      <th>2019-11-27</th>\n",
       "      <td>137.029999</td>\n",
       "      <td>137.210007</td>\n",
       "      <td>136.830002</td>\n",
       "      <td>137.009995</td>\n",
       "      <td>137.009995</td>\n",
       "      <td>4111000</td>\n",
       "      <td>-0.005300</td>\n",
       "    </tr>\n",
       "    <tr>\n",
       "      <th>2019-11-29</th>\n",
       "      <td>137.100006</td>\n",
       "      <td>138.130005</td>\n",
       "      <td>137.080002</td>\n",
       "      <td>137.860001</td>\n",
       "      <td>137.860001</td>\n",
       "      <td>4516400</td>\n",
       "      <td>0.006204</td>\n",
       "    </tr>\n",
       "  </tbody>\n",
       "</table>\n",
       "<p>43 rows × 7 columns</p>\n",
       "</div>"
      ],
      "text/plain": [
       "                  Open        High         Low       Close   Adj Close  \\\n",
       "Date                                                                     \n",
       "2019-10-01  138.070007  140.190002  137.800003  139.630005  139.630005   \n",
       "2019-10-02  140.789993  141.880005  140.460007  141.259995  141.259995   \n",
       "2019-10-03  141.360001  143.250000  141.289993  141.899994  141.899994   \n",
       "2019-10-04  141.479996  142.309998  141.139999  141.899994  141.899994   \n",
       "2019-10-07  141.160004  141.770004  140.240005  140.690002  140.690002   \n",
       "...                ...         ...         ...         ...         ...   \n",
       "2019-11-22  138.369995  138.460007  137.660004  137.740005  137.740005   \n",
       "2019-11-25  137.320007  137.619995  136.990005  137.080002  137.080002   \n",
       "2019-11-26  136.979996  137.800003  136.580002  137.740005  137.740005   \n",
       "2019-11-27  137.029999  137.210007  136.830002  137.009995  137.009995   \n",
       "2019-11-29  137.100006  138.130005  137.080002  137.860001  137.860001   \n",
       "\n",
       "              Volume  Daily Returns  \n",
       "Date                                 \n",
       "2019-10-01  12476200       0.005473  \n",
       "2019-10-02  11914300       0.011674  \n",
       "2019-10-03  12396100       0.004531  \n",
       "2019-10-04   9651000       0.000000  \n",
       "2019-10-07   6127200      -0.008527  \n",
       "...              ...            ...  \n",
       "2019-11-22   3620300      -0.001884  \n",
       "2019-11-25   6415800      -0.004792  \n",
       "2019-11-26   4724400       0.004815  \n",
       "2019-11-27   4111000      -0.005300  \n",
       "2019-11-29   4516400       0.006204  \n",
       "\n",
       "[43 rows x 7 columns]"
      ]
     },
     "execution_count": 7,
     "metadata": {},
     "output_type": "execute_result"
    }
   ],
   "source": [
    "gold_etf_df = compute_returns(gold_etf_df)\n",
    "gold_etf_df"
   ]
  },
  {
   "cell_type": "markdown",
   "id": "e22c9be4",
   "metadata": {},
   "source": [
    "<b>2.2) Compute the daily returns your Equity ETF</b>"
   ]
  },
  {
   "cell_type": "code",
   "execution_count": 8,
   "id": "5390ba08",
   "metadata": {},
   "outputs": [
    {
     "data": {
      "text/html": [
       "<div>\n",
       "<style scoped>\n",
       "    .dataframe tbody tr th:only-of-type {\n",
       "        vertical-align: middle;\n",
       "    }\n",
       "\n",
       "    .dataframe tbody tr th {\n",
       "        vertical-align: top;\n",
       "    }\n",
       "\n",
       "    .dataframe thead th {\n",
       "        text-align: right;\n",
       "    }\n",
       "</style>\n",
       "<table border=\"1\" class=\"dataframe\">\n",
       "  <thead>\n",
       "    <tr style=\"text-align: right;\">\n",
       "      <th></th>\n",
       "      <th>Open</th>\n",
       "      <th>High</th>\n",
       "      <th>Low</th>\n",
       "      <th>Close</th>\n",
       "      <th>Adj Close</th>\n",
       "      <th>Volume</th>\n",
       "      <th>Daily Returns</th>\n",
       "    </tr>\n",
       "    <tr>\n",
       "      <th>Date</th>\n",
       "      <th></th>\n",
       "      <th></th>\n",
       "      <th></th>\n",
       "      <th></th>\n",
       "      <th></th>\n",
       "      <th></th>\n",
       "      <th></th>\n",
       "    </tr>\n",
       "  </thead>\n",
       "  <tbody>\n",
       "    <tr>\n",
       "      <th>2019-10-01</th>\n",
       "      <td>53.430000</td>\n",
       "      <td>53.450001</td>\n",
       "      <td>52.930000</td>\n",
       "      <td>53.020000</td>\n",
       "      <td>50.017326</td>\n",
       "      <td>6793900</td>\n",
       "      <td>-0.011005</td>\n",
       "    </tr>\n",
       "    <tr>\n",
       "      <th>2019-10-02</th>\n",
       "      <td>52.169998</td>\n",
       "      <td>52.189999</td>\n",
       "      <td>51.619999</td>\n",
       "      <td>51.700001</td>\n",
       "      <td>48.772083</td>\n",
       "      <td>5786200</td>\n",
       "      <td>-0.024896</td>\n",
       "    </tr>\n",
       "    <tr>\n",
       "      <th>2019-10-03</th>\n",
       "      <td>51.759998</td>\n",
       "      <td>52.080002</td>\n",
       "      <td>51.509998</td>\n",
       "      <td>52.080002</td>\n",
       "      <td>49.130562</td>\n",
       "      <td>3537800</td>\n",
       "      <td>0.007350</td>\n",
       "    </tr>\n",
       "    <tr>\n",
       "      <th>2019-10-04</th>\n",
       "      <td>52.150002</td>\n",
       "      <td>52.520000</td>\n",
       "      <td>52.090000</td>\n",
       "      <td>52.500000</td>\n",
       "      <td>49.526772</td>\n",
       "      <td>2642200</td>\n",
       "      <td>0.008064</td>\n",
       "    </tr>\n",
       "    <tr>\n",
       "      <th>2019-10-07</th>\n",
       "      <td>52.490002</td>\n",
       "      <td>52.770000</td>\n",
       "      <td>52.490002</td>\n",
       "      <td>52.500000</td>\n",
       "      <td>49.526772</td>\n",
       "      <td>3675100</td>\n",
       "      <td>0.000000</td>\n",
       "    </tr>\n",
       "    <tr>\n",
       "      <th>...</th>\n",
       "      <td>...</td>\n",
       "      <td>...</td>\n",
       "      <td>...</td>\n",
       "      <td>...</td>\n",
       "      <td>...</td>\n",
       "      <td>...</td>\n",
       "      <td>...</td>\n",
       "    </tr>\n",
       "    <tr>\n",
       "      <th>2019-11-22</th>\n",
       "      <td>56.250000</td>\n",
       "      <td>56.259998</td>\n",
       "      <td>55.990002</td>\n",
       "      <td>56.099998</td>\n",
       "      <td>52.922894</td>\n",
       "      <td>4281900</td>\n",
       "      <td>0.001607</td>\n",
       "    </tr>\n",
       "    <tr>\n",
       "      <th>2019-11-25</th>\n",
       "      <td>56.349998</td>\n",
       "      <td>56.560001</td>\n",
       "      <td>56.349998</td>\n",
       "      <td>56.560001</td>\n",
       "      <td>53.356850</td>\n",
       "      <td>3225500</td>\n",
       "      <td>0.008200</td>\n",
       "    </tr>\n",
       "    <tr>\n",
       "      <th>2019-11-26</th>\n",
       "      <td>56.540001</td>\n",
       "      <td>56.660000</td>\n",
       "      <td>56.520000</td>\n",
       "      <td>56.630001</td>\n",
       "      <td>53.422886</td>\n",
       "      <td>1917900</td>\n",
       "      <td>0.001238</td>\n",
       "    </tr>\n",
       "    <tr>\n",
       "      <th>2019-11-27</th>\n",
       "      <td>56.639999</td>\n",
       "      <td>56.770000</td>\n",
       "      <td>56.610001</td>\n",
       "      <td>56.730000</td>\n",
       "      <td>53.517216</td>\n",
       "      <td>1690700</td>\n",
       "      <td>0.001766</td>\n",
       "    </tr>\n",
       "    <tr>\n",
       "      <th>2019-11-29</th>\n",
       "      <td>56.490002</td>\n",
       "      <td>56.580002</td>\n",
       "      <td>56.380001</td>\n",
       "      <td>56.389999</td>\n",
       "      <td>53.196472</td>\n",
       "      <td>1242500</td>\n",
       "      <td>-0.005993</td>\n",
       "    </tr>\n",
       "  </tbody>\n",
       "</table>\n",
       "<p>43 rows × 7 columns</p>\n",
       "</div>"
      ],
      "text/plain": [
       "                 Open       High        Low      Close  Adj Close   Volume  \\\n",
       "Date                                                                         \n",
       "2019-10-01  53.430000  53.450001  52.930000  53.020000  50.017326  6793900   \n",
       "2019-10-02  52.169998  52.189999  51.619999  51.700001  48.772083  5786200   \n",
       "2019-10-03  51.759998  52.080002  51.509998  52.080002  49.130562  3537800   \n",
       "2019-10-04  52.150002  52.520000  52.090000  52.500000  49.526772  2642200   \n",
       "2019-10-07  52.490002  52.770000  52.490002  52.500000  49.526772  3675100   \n",
       "...               ...        ...        ...        ...        ...      ...   \n",
       "2019-11-22  56.250000  56.259998  55.990002  56.099998  52.922894  4281900   \n",
       "2019-11-25  56.349998  56.560001  56.349998  56.560001  53.356850  3225500   \n",
       "2019-11-26  56.540001  56.660000  56.520000  56.630001  53.422886  1917900   \n",
       "2019-11-27  56.639999  56.770000  56.610001  56.730000  53.517216  1690700   \n",
       "2019-11-29  56.490002  56.580002  56.380001  56.389999  53.196472  1242500   \n",
       "\n",
       "            Daily Returns  \n",
       "Date                       \n",
       "2019-10-01      -0.011005  \n",
       "2019-10-02      -0.024896  \n",
       "2019-10-03       0.007350  \n",
       "2019-10-04       0.008064  \n",
       "2019-10-07       0.000000  \n",
       "...                   ...  \n",
       "2019-11-22       0.001607  \n",
       "2019-11-25       0.008200  \n",
       "2019-11-26       0.001238  \n",
       "2019-11-27       0.001766  \n",
       "2019-11-29      -0.005993  \n",
       "\n",
       "[43 rows x 7 columns]"
      ]
     },
     "execution_count": 8,
     "metadata": {},
     "output_type": "execute_result"
    }
   ],
   "source": [
    "equity_etf_df = compute_returns(equity_etf_df)\n",
    "equity_etf_df"
   ]
  },
  {
   "cell_type": "markdown",
   "id": "d6f80a37",
   "metadata": {},
   "source": [
    "# 3 Data Summaries"
   ]
  },
  {
   "cell_type": "code",
   "execution_count": 9,
   "id": "da0a245c",
   "metadata": {},
   "outputs": [],
   "source": [
    "from enum import Enum\n",
    "\n",
    "class Month(Enum):\n",
    "    Oct = 10\n",
    "    Nov = 11\n",
    "\n",
    "def compute_avg(df, month, col_name):\n",
    "    averages = df[col_name].groupby(df.index.map(lambda x: x.month)).mean()\n",
    "    return averages[month.value]\n",
    "\n",
    "def compute_stddev(df, month, col_name):\n",
    "    stddevs = df[col_name].groupby(df.index.map(lambda x: x.month)).std()\n",
    "    return stddevs[month.value]"
   ]
  },
  {
   "cell_type": "markdown",
   "id": "7777bcbf",
   "metadata": {},
   "source": [
    "<b>3.1) For the month of October 2019, compute the average yield for each benchmark security.  Repeat the average calculation for November 2019.</b>"
   ]
  },
  {
   "cell_type": "code",
   "execution_count": 10,
   "id": "ffb12927",
   "metadata": {},
   "outputs": [
    {
     "data": {
      "text/plain": [
       "['2 YR', '3 YR', '5 YR', '7 YR', '10 YR', '30 YR']"
      ]
     },
     "execution_count": 10,
     "metadata": {},
     "output_type": "execute_result"
    }
   ],
   "source": [
    "yield_periods = list(treasury_df.columns)\n",
    "yield_periods"
   ]
  },
  {
   "cell_type": "code",
   "execution_count": 11,
   "id": "c9578be5",
   "metadata": {
    "scrolled": true
   },
   "outputs": [
    {
     "data": {
      "text/html": [
       "<div>\n",
       "<style scoped>\n",
       "    .dataframe tbody tr th:only-of-type {\n",
       "        vertical-align: middle;\n",
       "    }\n",
       "\n",
       "    .dataframe tbody tr th {\n",
       "        vertical-align: top;\n",
       "    }\n",
       "\n",
       "    .dataframe thead th {\n",
       "        text-align: right;\n",
       "    }\n",
       "</style>\n",
       "<table border=\"1\" class=\"dataframe\">\n",
       "  <thead>\n",
       "    <tr style=\"text-align: right;\">\n",
       "      <th></th>\n",
       "      <th>Oct 2019 Avg Yield</th>\n",
       "      <th>Nov 2019 Avg Yield</th>\n",
       "    </tr>\n",
       "  </thead>\n",
       "  <tbody>\n",
       "    <tr>\n",
       "      <th>2 YR US T-Note</th>\n",
       "      <td>1.551364</td>\n",
       "      <td>1.612632</td>\n",
       "    </tr>\n",
       "    <tr>\n",
       "      <th>3 YR US T-Note</th>\n",
       "      <td>1.528182</td>\n",
       "      <td>1.612105</td>\n",
       "    </tr>\n",
       "    <tr>\n",
       "      <th>5 YR US T-Note</th>\n",
       "      <td>1.525000</td>\n",
       "      <td>1.639474</td>\n",
       "    </tr>\n",
       "    <tr>\n",
       "      <th>7 YR US T-Note</th>\n",
       "      <td>1.615000</td>\n",
       "      <td>1.735789</td>\n",
       "    </tr>\n",
       "    <tr>\n",
       "      <th>10 YR US T-Note</th>\n",
       "      <td>1.706818</td>\n",
       "      <td>1.812105</td>\n",
       "    </tr>\n",
       "    <tr>\n",
       "      <th>30 YR US T-Note</th>\n",
       "      <td>2.190455</td>\n",
       "      <td>2.280526</td>\n",
       "    </tr>\n",
       "  </tbody>\n",
       "</table>\n",
       "</div>"
      ],
      "text/plain": [
       "                 Oct 2019 Avg Yield  Nov 2019 Avg Yield\n",
       "2 YR US T-Note             1.551364            1.612632\n",
       "3 YR US T-Note             1.528182            1.612105\n",
       "5 YR US T-Note             1.525000            1.639474\n",
       "7 YR US T-Note             1.615000            1.735789\n",
       "10 YR US T-Note            1.706818            1.812105\n",
       "30 YR US T-Note            2.190455            2.280526"
      ]
     },
     "execution_count": 11,
     "metadata": {},
     "output_type": "execute_result"
    }
   ],
   "source": [
    "tnote_avg_yields_df = pd.DataFrame({\n",
    "    'Oct 2019 Avg Yield': [compute_avg(treasury_df, Month.Oct, col_name=period) for period in yield_periods],\n",
    "    'Nov 2019 Avg Yield': [compute_avg(treasury_df, Month.Nov, col_name=period) for period in yield_periods]\n",
    "}, index=[f'{p} US T-Note' for p in yield_periods])\n",
    "tnote_avg_yields_df"
   ]
  },
  {
   "cell_type": "markdown",
   "id": "3c77a42c",
   "metadata": {},
   "source": [
    "<b>3.2) For the month of October 2019, compute the average price of the Gold ETF.  Repeat the average calculation for November 2019.</b>"
   ]
  },
  {
   "cell_type": "code",
   "execution_count": 12,
   "id": "cf04aeb9",
   "metadata": {},
   "outputs": [
    {
     "data": {
      "text/html": [
       "<div>\n",
       "<style scoped>\n",
       "    .dataframe tbody tr th:only-of-type {\n",
       "        vertical-align: middle;\n",
       "    }\n",
       "\n",
       "    .dataframe tbody tr th {\n",
       "        vertical-align: top;\n",
       "    }\n",
       "\n",
       "    .dataframe thead th {\n",
       "        text-align: right;\n",
       "    }\n",
       "</style>\n",
       "<table border=\"1\" class=\"dataframe\">\n",
       "  <thead>\n",
       "    <tr style=\"text-align: right;\">\n",
       "      <th></th>\n",
       "      <th>Oct 2019 Avg Price</th>\n",
       "      <th>Nov 2019 Avg Price</th>\n",
       "    </tr>\n",
       "  </thead>\n",
       "  <tbody>\n",
       "    <tr>\n",
       "      <th>Gold ETF</th>\n",
       "      <td>140.874782</td>\n",
       "      <td>138.570499</td>\n",
       "    </tr>\n",
       "  </tbody>\n",
       "</table>\n",
       "</div>"
      ],
      "text/plain": [
       "          Oct 2019 Avg Price  Nov 2019 Avg Price\n",
       "Gold ETF          140.874782          138.570499"
      ]
     },
     "execution_count": 12,
     "metadata": {},
     "output_type": "execute_result"
    }
   ],
   "source": [
    "gold_avg_prices_df = pd.DataFrame({\n",
    "    'Oct 2019 Avg Price': [compute_avg(gold_etf_df, Month.Oct, col_name='Adj Close')],\n",
    "    'Nov 2019 Avg Price': [compute_avg(gold_etf_df, Month.Nov, col_name='Adj Close')]\n",
    "}, index=['Gold ETF'])\n",
    "gold_avg_prices_df"
   ]
  },
  {
   "cell_type": "markdown",
   "id": "27183d3f",
   "metadata": {},
   "source": [
    "<b>3.3) For the month of October 2019, compute the average price of the Equity ETF.  Repeat the average calculation for November 2019.</b>"
   ]
  },
  {
   "cell_type": "code",
   "execution_count": 13,
   "id": "50efdfee",
   "metadata": {},
   "outputs": [
    {
     "data": {
      "text/html": [
       "<div>\n",
       "<style scoped>\n",
       "    .dataframe tbody tr th:only-of-type {\n",
       "        vertical-align: middle;\n",
       "    }\n",
       "\n",
       "    .dataframe tbody tr th {\n",
       "        vertical-align: top;\n",
       "    }\n",
       "\n",
       "    .dataframe thead th {\n",
       "        text-align: right;\n",
       "    }\n",
       "</style>\n",
       "<table border=\"1\" class=\"dataframe\">\n",
       "  <thead>\n",
       "    <tr style=\"text-align: right;\">\n",
       "      <th></th>\n",
       "      <th>Oct 2019 Avg Price</th>\n",
       "      <th>Nov 2019 Avg Price</th>\n",
       "    </tr>\n",
       "  </thead>\n",
       "  <tbody>\n",
       "    <tr>\n",
       "      <th>FTSE (Equity ETF)</th>\n",
       "      <td>54.08</td>\n",
       "      <td>56.309</td>\n",
       "    </tr>\n",
       "  </tbody>\n",
       "</table>\n",
       "</div>"
      ],
      "text/plain": [
       "                   Oct 2019 Avg Price  Nov 2019 Avg Price\n",
       "FTSE (Equity ETF)               54.08              56.309"
      ]
     },
     "execution_count": 13,
     "metadata": {},
     "output_type": "execute_result"
    }
   ],
   "source": [
    "equity_avg_prices_df = pd.DataFrame({\n",
    "    'Oct 2019 Avg Price': [compute_avg(equity_etf_df, Month.Oct, col_name='Adj Close')],\n",
    "    'Nov 2019 Avg Price': [compute_avg(equity_etf_df, Month.Nov, col_name='Adj Close')]\n",
    "}, index=['FTSE (Equity ETF)'])\n",
    "equity_avg_prices_df"
   ]
  },
  {
   "cell_type": "markdown",
   "id": "334d69fe",
   "metadata": {},
   "source": [
    "<b>3.4) For the month of October 2019, compute the standard deviation for each benchmark security.  Repeat the average calculation for November 2019.</b>"
   ]
  },
  {
   "cell_type": "code",
   "execution_count": 14,
   "id": "60669c43",
   "metadata": {},
   "outputs": [
    {
     "data": {
      "text/html": [
       "<div>\n",
       "<style scoped>\n",
       "    .dataframe tbody tr th:only-of-type {\n",
       "        vertical-align: middle;\n",
       "    }\n",
       "\n",
       "    .dataframe tbody tr th {\n",
       "        vertical-align: top;\n",
       "    }\n",
       "\n",
       "    .dataframe thead th {\n",
       "        text-align: right;\n",
       "    }\n",
       "</style>\n",
       "<table border=\"1\" class=\"dataframe\">\n",
       "  <thead>\n",
       "    <tr style=\"text-align: right;\">\n",
       "      <th></th>\n",
       "      <th>Oct 2019 Std Dev</th>\n",
       "      <th>Nov 2019 Std Dev</th>\n",
       "    </tr>\n",
       "  </thead>\n",
       "  <tbody>\n",
       "    <tr>\n",
       "      <th>2 YR US T-Note</th>\n",
       "      <td>0.080315</td>\n",
       "      <td>0.033804</td>\n",
       "    </tr>\n",
       "    <tr>\n",
       "      <th>3 YR US T-Note</th>\n",
       "      <td>0.096443</td>\n",
       "      <td>0.044043</td>\n",
       "    </tr>\n",
       "    <tr>\n",
       "      <th>5 YR US T-Note</th>\n",
       "      <td>0.104460</td>\n",
       "      <td>0.052755</td>\n",
       "    </tr>\n",
       "    <tr>\n",
       "      <th>7 YR US T-Note</th>\n",
       "      <td>0.100653</td>\n",
       "      <td>0.061039</td>\n",
       "    </tr>\n",
       "    <tr>\n",
       "      <th>10 YR US T-Note</th>\n",
       "      <td>0.104808</td>\n",
       "      <td>0.065028</td>\n",
       "    </tr>\n",
       "    <tr>\n",
       "      <th>30 YR US T-Note</th>\n",
       "      <td>0.101300</td>\n",
       "      <td>0.076918</td>\n",
       "    </tr>\n",
       "  </tbody>\n",
       "</table>\n",
       "</div>"
      ],
      "text/plain": [
       "                 Oct 2019 Std Dev  Nov 2019 Std Dev\n",
       "2 YR US T-Note           0.080315          0.033804\n",
       "3 YR US T-Note           0.096443          0.044043\n",
       "5 YR US T-Note           0.104460          0.052755\n",
       "7 YR US T-Note           0.100653          0.061039\n",
       "10 YR US T-Note          0.104808          0.065028\n",
       "30 YR US T-Note          0.101300          0.076918"
      ]
     },
     "execution_count": 14,
     "metadata": {},
     "output_type": "execute_result"
    }
   ],
   "source": [
    "stddev_tnote_yields_df = pd.DataFrame({\n",
    "    'Oct 2019 Std Dev': [compute_stddev(treasury_df, Month.Oct, col_name=period) for period in yield_periods],\n",
    "    'Nov 2019 Std Dev': [compute_stddev(treasury_df, Month.Nov, col_name=period) for period in yield_periods]\n",
    "}, index=[f'{p} US T-Note' for p in yield_periods])\n",
    "stddev_tnote_yields_df"
   ]
  },
  {
   "cell_type": "markdown",
   "id": "9574ebf6",
   "metadata": {},
   "source": [
    "<b>3.5) For the month of October 2019, compute the standard deviation of the Gold ETF.  Repeat the average calculation for November 2019.</b>"
   ]
  },
  {
   "cell_type": "code",
   "execution_count": 15,
   "id": "ee904cc2",
   "metadata": {},
   "outputs": [
    {
     "data": {
      "text/html": [
       "<div>\n",
       "<style scoped>\n",
       "    .dataframe tbody tr th:only-of-type {\n",
       "        vertical-align: middle;\n",
       "    }\n",
       "\n",
       "    .dataframe tbody tr th {\n",
       "        vertical-align: top;\n",
       "    }\n",
       "\n",
       "    .dataframe thead th {\n",
       "        text-align: right;\n",
       "    }\n",
       "</style>\n",
       "<table border=\"1\" class=\"dataframe\">\n",
       "  <thead>\n",
       "    <tr style=\"text-align: right;\">\n",
       "      <th></th>\n",
       "      <th>Oct 2019 Std Dev</th>\n",
       "      <th>Nov 2019 Std Dev</th>\n",
       "    </tr>\n",
       "  </thead>\n",
       "  <tbody>\n",
       "    <tr>\n",
       "      <th>Gold ETF</th>\n",
       "      <td>0.831229</td>\n",
       "      <td>1.562095</td>\n",
       "    </tr>\n",
       "  </tbody>\n",
       "</table>\n",
       "</div>"
      ],
      "text/plain": [
       "          Oct 2019 Std Dev  Nov 2019 Std Dev\n",
       "Gold ETF          0.831229          1.562095"
      ]
     },
     "execution_count": 15,
     "metadata": {},
     "output_type": "execute_result"
    }
   ],
   "source": [
    "gold_stddev_df = pd.DataFrame({\n",
    "    'Oct 2019 Std Dev': [compute_stddev(gold_etf_df, Month.Oct, col_name='Adj Close')],\n",
    "    'Nov 2019 Std Dev': [compute_stddev(gold_etf_df, Month.Nov, col_name='Adj Close')]\n",
    "}, index=['Gold ETF'])\n",
    "gold_stddev_df"
   ]
  },
  {
   "cell_type": "markdown",
   "id": "c9f07cc2",
   "metadata": {},
   "source": [
    "<b>3.6) For the month of October 2019, compute the standard deviation of the Equity ETF.  Repeat the average calculation for November 2019.</b>"
   ]
  },
  {
   "cell_type": "code",
   "execution_count": 16,
   "id": "b8b33a7a",
   "metadata": {},
   "outputs": [
    {
     "data": {
      "text/html": [
       "<div>\n",
       "<style scoped>\n",
       "    .dataframe tbody tr th:only-of-type {\n",
       "        vertical-align: middle;\n",
       "    }\n",
       "\n",
       "    .dataframe tbody tr th {\n",
       "        vertical-align: top;\n",
       "    }\n",
       "\n",
       "    .dataframe thead th {\n",
       "        text-align: right;\n",
       "    }\n",
       "</style>\n",
       "<table border=\"1\" class=\"dataframe\">\n",
       "  <thead>\n",
       "    <tr style=\"text-align: right;\">\n",
       "      <th></th>\n",
       "      <th>Oct 2019 Std Dev</th>\n",
       "      <th>Nov 2019 Std Dev</th>\n",
       "    </tr>\n",
       "  </thead>\n",
       "  <tbody>\n",
       "    <tr>\n",
       "      <th>FTSE (Equity ETF)</th>\n",
       "      <td>1.395737</td>\n",
       "      <td>0.201466</td>\n",
       "    </tr>\n",
       "  </tbody>\n",
       "</table>\n",
       "</div>"
      ],
      "text/plain": [
       "                   Oct 2019 Std Dev  Nov 2019 Std Dev\n",
       "FTSE (Equity ETF)          1.395737          0.201466"
      ]
     },
     "execution_count": 16,
     "metadata": {},
     "output_type": "execute_result"
    }
   ],
   "source": [
    "equity_stddev_df = pd.DataFrame({\n",
    "    'Oct 2019 Std Dev': [compute_stddev(equity_etf_df, Month.Oct, col_name='Adj Close')],\n",
    "    'Nov 2019 Std Dev': [compute_stddev(equity_etf_df, Month.Nov, col_name='Adj Close')]\n",
    "}, index=['FTSE (Equity ETF)'])\n",
    "equity_stddev_df"
   ]
  },
  {
   "cell_type": "markdown",
   "id": "6ad423e9",
   "metadata": {},
   "source": [
    "# 4 Graphing"
   ]
  },
  {
   "cell_type": "markdown",
   "id": "aa79f727",
   "metadata": {},
   "source": [
    "<b>4.1) Graph the 6 benchmark securities for the 2 months on 1 plot.  That means the 6 yield series are overlaid on the same area.  Add a legend.</b>"
   ]
  },
  {
   "cell_type": "code",
   "execution_count": 17,
   "id": "faa75ac8",
   "metadata": {
    "scrolled": false
   },
   "outputs": [
    {
     "data": {
      "image/png": "[encoded data removed]",
      "text/plain": [
       "<Figure size 1152x360 with 1 Axes>"
      ]
     },
     "metadata": {
      "needs_background": "light"
     },
     "output_type": "display_data"
    }
   ],
   "source": [
    "treasury_df.plot(ylabel='Yields', grid=True, figsize=(16,5))\n",
    "plt.show()"
   ]
  },
  {
   "cell_type": "markdown",
   "id": "67f3894b",
   "metadata": {},
   "source": [
    "<b>4.2) On a separate graph, plot the gold ETF prices (not returns!) for the 2 months.  Use the left-side axis for the price label.</b>"
   ]
  },
  {
   "cell_type": "code",
   "execution_count": 18,
   "id": "7514fe85",
   "metadata": {
    "scrolled": true
   },
   "outputs": [
    {
     "data": {
      "image/png": "[encoded data removed]",
      "text/plain": [
       "<Figure size 1152x360 with 1 Axes>"
      ]
     },
     "metadata": {
      "needs_background": "light"
     },
     "output_type": "display_data"
    }
   ],
   "source": [
    "y_axis_label = 'Gold ETF Prices'\n",
    "gold_etf_df.rename(columns={'Adj Close': y_axis_label})\\\n",
    "        .plot(y=y_axis_label, ylabel=y_axis_label, grid=True, figsize=(16,5),\n",
    "              title='Gold ETF Prices from Oct 2019 - Nov 2019')\n",
    "plt.show()"
   ]
  },
  {
   "cell_type": "markdown",
   "id": "ecef7b9a",
   "metadata": {},
   "source": [
    "<b>4.3) On the same graph, plot the equity ETF prices (not returns!) for the 2 months.  Be sure to use a separate scale, and the right-side axis for the price label.</b>"
   ]
  },
  {
   "cell_type": "code",
   "execution_count": 19,
   "id": "60bcde83",
   "metadata": {
    "scrolled": true
   },
   "outputs": [
    {
     "data": {
      "image/png": "[encoded data removed]",
      "text/plain": [
       "<Figure size 1152x288 with 2 Axes>"
      ]
     },
     "metadata": {
      "needs_background": "light"
     },
     "output_type": "display_data"
    }
   ],
   "source": [
    "fig, ax1 = plt.subplots(figsize=(16,4))\n",
    "ax2 = ax1.twinx()\n",
    "ax1.plot(gold_etf_df.index, gold_etf_df['Adj Close'], 'g-')\n",
    "ax2.plot(equity_etf_df.index, equity_etf_df['Adj Close'], 'b-')\n",
    "\n",
    "ax1.grid(True)\n",
    "ax1.set_xlabel('Date')\n",
    "ax1.set_ylabel(y_axis_label, color='g')\n",
    "ax1.set_ylim(136,143)\n",
    "ax2.set_ylabel('FTSE Equity ETF Prices', color='b')\n",
    "ax2.set_ylim(48,55)\n",
    "\n",
    "plt.show()"
   ]
  },
  {
   "cell_type": "markdown",
   "id": "2aa2f4a5",
   "metadata": {},
   "source": [
    "# 5 Fitting the Yield Curve"
   ]
  },
  {
   "cell_type": "markdown",
   "id": "9107a718",
   "metadata": {},
   "source": [
    "<b>5.1) Use either Nelson-Siegel, or Nelson-Siegel-Svensson to fit the Yield Curve.  Write out the equation.</b>\n",
    "\n",
    "<u>Equation for Nelson-Siegel Curve:</u>"
   ]
  },
  {
   "cell_type": "markdown",
   "id": "786db09d",
   "metadata": {},
   "source": [
    "<img src='data:image/gif;base64,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'/>"
   ]
  },
  {
   "cell_type": "markdown",
   "id": "31a96685",
   "metadata": {},
   "source": [
    "<b>5.2) Fit the Nielson-Siegel yield curve each day using the 6 benchmark yields for the October data</b>"
   ]
  },
  {
   "cell_type": "code",
   "execution_count": 20,
   "id": "7d22797e",
   "metadata": {
    "scrolled": false
   },
   "outputs": [
    {
     "data": {
      "text/html": [
       "<div>\n",
       "<style scoped>\n",
       "    .dataframe tbody tr th:only-of-type {\n",
       "        vertical-align: middle;\n",
       "    }\n",
       "\n",
       "    .dataframe tbody tr th {\n",
       "        vertical-align: top;\n",
       "    }\n",
       "\n",
       "    .dataframe thead th {\n",
       "        text-align: right;\n",
       "    }\n",
       "</style>\n",
       "<table border=\"1\" class=\"dataframe\">\n",
       "  <thead>\n",
       "    <tr style=\"text-align: right;\">\n",
       "      <th></th>\n",
       "      <th>Oct 2019 Avg Yield</th>\n",
       "    </tr>\n",
       "  </thead>\n",
       "  <tbody>\n",
       "    <tr>\n",
       "      <th>2 YR US T-Note</th>\n",
       "      <td>1.551364</td>\n",
       "    </tr>\n",
       "    <tr>\n",
       "      <th>3 YR US T-Note</th>\n",
       "      <td>1.528182</td>\n",
       "    </tr>\n",
       "    <tr>\n",
       "      <th>5 YR US T-Note</th>\n",
       "      <td>1.525000</td>\n",
       "    </tr>\n",
       "    <tr>\n",
       "      <th>7 YR US T-Note</th>\n",
       "      <td>1.615000</td>\n",
       "    </tr>\n",
       "    <tr>\n",
       "      <th>10 YR US T-Note</th>\n",
       "      <td>1.706818</td>\n",
       "    </tr>\n",
       "    <tr>\n",
       "      <th>30 YR US T-Note</th>\n",
       "      <td>2.190455</td>\n",
       "    </tr>\n",
       "  </tbody>\n",
       "</table>\n",
       "</div>"
      ],
      "text/plain": [
       "                 Oct 2019 Avg Yield\n",
       "2 YR US T-Note             1.551364\n",
       "3 YR US T-Note             1.528182\n",
       "5 YR US T-Note             1.525000\n",
       "7 YR US T-Note             1.615000\n",
       "10 YR US T-Note            1.706818\n",
       "30 YR US T-Note            2.190455"
      ]
     },
     "execution_count": 20,
     "metadata": {},
     "output_type": "execute_result"
    }
   ],
   "source": [
    "tnote_avg_yields_df[['Oct 2019 Avg Yield']]"
   ]
  },
  {
   "cell_type": "code",
   "execution_count": 21,
   "id": "4160d44d",
   "metadata": {},
   "outputs": [
    {
     "data": {
      "text/plain": [
       "NelsonSiegelCurve(beta0=2.5349155574650304, beta1=-0.8131506293836328, beta2=-1.8864997400961871, tau=3.8431243405052506)"
      ]
     },
     "execution_count": 21,
     "metadata": {},
     "output_type": "execute_result"
    }
   ],
   "source": [
    "maturities = np.array([int(colname.split(' ')[0]) for colname in treasury_df.columns])\n",
    "ns_curve_oct, _ = calibrate_ns_ols(maturities, tnote_avg_yields_df['Oct 2019 Avg Yield'])\n",
    "ns_curve_oct"
   ]
  },
  {
   "cell_type": "code",
   "execution_count": 22,
   "id": "fe6b7815",
   "metadata": {},
   "outputs": [
    {
     "data": {
      "image/png": "[encoded data removed]",
      "text/plain": [
       "<Figure size 432x288 with 1 Axes>"
      ]
     },
     "metadata": {
      "needs_background": "light"
     },
     "output_type": "display_data"
    }
   ],
   "source": [
    "plt.plot(maturities, ns_curve_oct(maturities), label='Oct 2019')\n",
    "plt.title('Fitted Nelson-Siegel curve from October 2019 US Treasury yields')\n",
    "plt.ylabel('Yield')\n",
    "plt.xlabel('Time to Maturity (Years)')\n",
    "plt.legend()\n",
    "plt.show()"
   ]
  },
  {
   "cell_type": "markdown",
   "id": "85bc8a34",
   "metadata": {},
   "source": [
    "<b>5.3) Fit the Nielson-Siegel yield curve each day using the 6 benchmark yields for the November data</b>"
   ]
  },
  {
   "cell_type": "code",
   "execution_count": 23,
   "id": "177c7189",
   "metadata": {
    "scrolled": true
   },
   "outputs": [
    {
     "data": {
      "text/html": [
       "<div>\n",
       "<style scoped>\n",
       "    .dataframe tbody tr th:only-of-type {\n",
       "        vertical-align: middle;\n",
       "    }\n",
       "\n",
       "    .dataframe tbody tr th {\n",
       "        vertical-align: top;\n",
       "    }\n",
       "\n",
       "    .dataframe thead th {\n",
       "        text-align: right;\n",
       "    }\n",
       "</style>\n",
       "<table border=\"1\" class=\"dataframe\">\n",
       "  <thead>\n",
       "    <tr style=\"text-align: right;\">\n",
       "      <th></th>\n",
       "      <th>Nov 2019 Avg Yield</th>\n",
       "    </tr>\n",
       "  </thead>\n",
       "  <tbody>\n",
       "    <tr>\n",
       "      <th>2 YR US T-Note</th>\n",
       "      <td>1.612632</td>\n",
       "    </tr>\n",
       "    <tr>\n",
       "      <th>3 YR US T-Note</th>\n",
       "      <td>1.612105</td>\n",
       "    </tr>\n",
       "    <tr>\n",
       "      <th>5 YR US T-Note</th>\n",
       "      <td>1.639474</td>\n",
       "    </tr>\n",
       "    <tr>\n",
       "      <th>7 YR US T-Note</th>\n",
       "      <td>1.735789</td>\n",
       "    </tr>\n",
       "    <tr>\n",
       "      <th>10 YR US T-Note</th>\n",
       "      <td>1.812105</td>\n",
       "    </tr>\n",
       "    <tr>\n",
       "      <th>30 YR US T-Note</th>\n",
       "      <td>2.280526</td>\n",
       "    </tr>\n",
       "  </tbody>\n",
       "</table>\n",
       "</div>"
      ],
      "text/plain": [
       "                 Nov 2019 Avg Yield\n",
       "2 YR US T-Note             1.612632\n",
       "3 YR US T-Note             1.612105\n",
       "5 YR US T-Note             1.639474\n",
       "7 YR US T-Note             1.735789\n",
       "10 YR US T-Note            1.812105\n",
       "30 YR US T-Note            2.280526"
      ]
     },
     "execution_count": 23,
     "metadata": {},
     "output_type": "execute_result"
    }
   ],
   "source": [
    "tnote_avg_yields_df[['Nov 2019 Avg Yield']]"
   ]
  },
  {
   "cell_type": "code",
   "execution_count": 24,
   "id": "ea460ba0",
   "metadata": {},
   "outputs": [
    {
     "data": {
      "text/plain": [
       "NelsonSiegelCurve(beta0=2.6547839814282885, beta1=-0.9992538144858261, beta2=-1.4350009070418794, tau=4.654241619072046)"
      ]
     },
     "execution_count": 24,
     "metadata": {},
     "output_type": "execute_result"
    }
   ],
   "source": [
    "ns_curve_nov, _ = calibrate_ns_ols(maturities, tnote_avg_yields_df['Nov 2019 Avg Yield'])\n",
    "ns_curve_nov"
   ]
  },
  {
   "cell_type": "code",
   "execution_count": 25,
   "id": "712dc197",
   "metadata": {},
   "outputs": [
    {
     "data": {
      "image/png": "[encoded data removed]",
      "text/plain": [
       "<Figure size 432x288 with 1 Axes>"
      ]
     },
     "metadata": {
      "needs_background": "light"
     },
     "output_type": "display_data"
    }
   ],
   "source": [
    "plt.plot(maturities, ns_curve_oct(maturities), linestyle='--', label='Oct 2019')\n",
    "plt.plot(maturities, ns_curve_nov(maturities), label='Nov 2019')\n",
    "plt.title('Fitted Nelson-Siegel curves from Oct & Nov 2019 US Treasury yields')\n",
    "plt.ylabel('Yield')\n",
    "plt.xlabel('Time to Maturity (Years)')\n",
    "plt.legend()\n",
    "plt.show()"
   ]
  },
  {
   "cell_type": "markdown",
   "id": "f7bf19ca",
   "metadata": {},
   "source": [
    "# 6 Modelling Prices"
   ]
  },
  {
   "cell_type": "markdown",
   "id": "716c142c",
   "metadata": {},
   "source": [
    "<b>6.1) Using the October gold ETF prices, run an ARIMA model with your choice of parameters.</b>"
   ]
  },
  {
   "cell_type": "code",
   "execution_count": 26,
   "id": "4c78ca70",
   "metadata": {},
   "outputs": [
    {
     "data": {
      "text/html": [
       "<div>\n",
       "<style scoped>\n",
       "    .dataframe tbody tr th:only-of-type {\n",
       "        vertical-align: middle;\n",
       "    }\n",
       "\n",
       "    .dataframe tbody tr th {\n",
       "        vertical-align: top;\n",
       "    }\n",
       "\n",
       "    .dataframe thead th {\n",
       "        text-align: right;\n",
       "    }\n",
       "</style>\n",
       "<table border=\"1\" class=\"dataframe\">\n",
       "  <thead>\n",
       "    <tr style=\"text-align: right;\">\n",
       "      <th></th>\n",
       "      <th>Open</th>\n",
       "      <th>High</th>\n",
       "      <th>Low</th>\n",
       "      <th>Close</th>\n",
       "      <th>Adj Close</th>\n",
       "      <th>Volume</th>\n",
       "      <th>Daily Returns</th>\n",
       "    </tr>\n",
       "    <tr>\n",
       "      <th>Date</th>\n",
       "      <th></th>\n",
       "      <th></th>\n",
       "      <th></th>\n",
       "      <th></th>\n",
       "      <th></th>\n",
       "      <th></th>\n",
       "      <th></th>\n",
       "    </tr>\n",
       "  </thead>\n",
       "  <tbody>\n",
       "    <tr>\n",
       "      <th>2019-10-01</th>\n",
       "      <td>138.070007</td>\n",
       "      <td>140.190002</td>\n",
       "      <td>137.800003</td>\n",
       "      <td>139.630005</td>\n",
       "      <td>139.630005</td>\n",
       "      <td>12476200</td>\n",
       "      <td>0.005473</td>\n",
       "    </tr>\n",
       "    <tr>\n",
       "      <th>2019-10-02</th>\n",
       "      <td>140.789993</td>\n",
       "      <td>141.880005</td>\n",
       "      <td>140.460007</td>\n",
       "      <td>141.259995</td>\n",
       "      <td>141.259995</td>\n",
       "      <td>11914300</td>\n",
       "      <td>0.011674</td>\n",
       "    </tr>\n",
       "    <tr>\n",
       "      <th>2019-10-03</th>\n",
       "      <td>141.360001</td>\n",
       "      <td>143.250000</td>\n",
       "      <td>141.289993</td>\n",
       "      <td>141.899994</td>\n",
       "      <td>141.899994</td>\n",
       "      <td>12396100</td>\n",
       "      <td>0.004531</td>\n",
       "    </tr>\n",
       "    <tr>\n",
       "      <th>2019-10-04</th>\n",
       "      <td>141.479996</td>\n",
       "      <td>142.309998</td>\n",
       "      <td>141.139999</td>\n",
       "      <td>141.899994</td>\n",
       "      <td>141.899994</td>\n",
       "      <td>9651000</td>\n",
       "      <td>0.000000</td>\n",
       "    </tr>\n",
       "    <tr>\n",
       "      <th>2019-10-07</th>\n",
       "      <td>141.160004</td>\n",
       "      <td>141.770004</td>\n",
       "      <td>140.240005</td>\n",
       "      <td>140.690002</td>\n",
       "      <td>140.690002</td>\n",
       "      <td>6127200</td>\n",
       "      <td>-0.008527</td>\n",
       "    </tr>\n",
       "    <tr>\n",
       "      <th>...</th>\n",
       "      <td>...</td>\n",
       "      <td>...</td>\n",
       "      <td>...</td>\n",
       "      <td>...</td>\n",
       "      <td>...</td>\n",
       "      <td>...</td>\n",
       "      <td>...</td>\n",
       "    </tr>\n",
       "    <tr>\n",
       "      <th>2019-10-25</th>\n",
       "      <td>142.789993</td>\n",
       "      <td>142.830002</td>\n",
       "      <td>141.399994</td>\n",
       "      <td>141.860001</td>\n",
       "      <td>141.860001</td>\n",
       "      <td>6011500</td>\n",
       "      <td>0.002332</td>\n",
       "    </tr>\n",
       "    <tr>\n",
       "      <th>2019-10-28</th>\n",
       "      <td>141.250000</td>\n",
       "      <td>141.250000</td>\n",
       "      <td>140.399994</td>\n",
       "      <td>140.639999</td>\n",
       "      <td>140.639999</td>\n",
       "      <td>5442000</td>\n",
       "      <td>-0.008600</td>\n",
       "    </tr>\n",
       "    <tr>\n",
       "      <th>2019-10-29</th>\n",
       "      <td>140.000000</td>\n",
       "      <td>140.630005</td>\n",
       "      <td>139.779999</td>\n",
       "      <td>140.250000</td>\n",
       "      <td>140.250000</td>\n",
       "      <td>3835400</td>\n",
       "      <td>-0.002773</td>\n",
       "    </tr>\n",
       "    <tr>\n",
       "      <th>2019-10-30</th>\n",
       "      <td>140.539993</td>\n",
       "      <td>141.039993</td>\n",
       "      <td>139.550003</td>\n",
       "      <td>141.020004</td>\n",
       "      <td>141.020004</td>\n",
       "      <td>6992900</td>\n",
       "      <td>0.005490</td>\n",
       "    </tr>\n",
       "    <tr>\n",
       "      <th>2019-10-31</th>\n",
       "      <td>141.979996</td>\n",
       "      <td>142.690002</td>\n",
       "      <td>141.889999</td>\n",
       "      <td>142.429993</td>\n",
       "      <td>142.429993</td>\n",
       "      <td>7050900</td>\n",
       "      <td>0.009998</td>\n",
       "    </tr>\n",
       "  </tbody>\n",
       "</table>\n",
       "<p>23 rows × 7 columns</p>\n",
       "</div>"
      ],
      "text/plain": [
       "                  Open        High         Low       Close   Adj Close  \\\n",
       "Date                                                                     \n",
       "2019-10-01  138.070007  140.190002  137.800003  139.630005  139.630005   \n",
       "2019-10-02  140.789993  141.880005  140.460007  141.259995  141.259995   \n",
       "2019-10-03  141.360001  143.250000  141.289993  141.899994  141.899994   \n",
       "2019-10-04  141.479996  142.309998  141.139999  141.899994  141.899994   \n",
       "2019-10-07  141.160004  141.770004  140.240005  140.690002  140.690002   \n",
       "...                ...         ...         ...         ...         ...   \n",
       "2019-10-25  142.789993  142.830002  141.399994  141.860001  141.860001   \n",
       "2019-10-28  141.250000  141.250000  140.399994  140.639999  140.639999   \n",
       "2019-10-29  140.000000  140.630005  139.779999  140.250000  140.250000   \n",
       "2019-10-30  140.539993  141.039993  139.550003  141.020004  141.020004   \n",
       "2019-10-31  141.979996  142.690002  141.889999  142.429993  142.429993   \n",
       "\n",
       "              Volume  Daily Returns  \n",
       "Date                                 \n",
       "2019-10-01  12476200       0.005473  \n",
       "2019-10-02  11914300       0.011674  \n",
       "2019-10-03  12396100       0.004531  \n",
       "2019-10-04   9651000       0.000000  \n",
       "2019-10-07   6127200      -0.008527  \n",
       "...              ...            ...  \n",
       "2019-10-25   6011500       0.002332  \n",
       "2019-10-28   5442000      -0.008600  \n",
       "2019-10-29   3835400      -0.002773  \n",
       "2019-10-30   6992900       0.005490  \n",
       "2019-10-31   7050900       0.009998  \n",
       "\n",
       "[23 rows x 7 columns]"
      ]
     },
     "execution_count": 26,
     "metadata": {},
     "output_type": "execute_result"
    }
   ],
   "source": [
    "gold_oct_df = gold_etf_df[:'2019-10-31']\n",
    "gold_oct_df"
   ]
  },
  {
   "cell_type": "code",
   "execution_count": 27,
   "id": "354b4aeb",
   "metadata": {},
   "outputs": [
    {
     "name": "stdout",
     "output_type": "stream",
     "text": [
      "                             ARIMA Model Results                              \n",
      "==============================================================================\n",
      "Dep. Variable:            D.Adj Close   No. Observations:                   22\n",
      "Model:                 ARIMA(5, 1, 0)   Log Likelihood                 -24.457\n",
      "Method:                       css-mle   S.D. of innovations              0.716\n",
      "Date:                Mon, 27 Sep 2021   AIC                             62.914\n",
      "Time:                        02:54:15   BIC                             70.551\n",
      "Sample:                    10-02-2019   HQIC                            64.713\n",
      "                         - 10-31-2019                                         \n",
      "=====================================================================================\n",
      "                        coef    std err          z      P>|z|      [0.025      0.975]\n",
      "-------------------------------------------------------------------------------------\n",
      "const                 0.0294      0.077      0.380      0.704      -0.122       0.181\n",
      "ar.L1.D.Adj Close    -0.1830      0.236     -0.776      0.438      -0.645       0.279\n",
      "ar.L2.D.Adj Close    -0.4820      0.233     -2.069      0.039      -0.939      -0.025\n",
      "ar.L3.D.Adj Close    -0.4167      0.251     -1.659      0.097      -0.909       0.076\n",
      "ar.L4.D.Adj Close     0.0951      0.242      0.392      0.695      -0.380       0.570\n",
      "ar.L5.D.Adj Close    -0.2151      0.246     -0.875      0.381      -0.697       0.266\n",
      "                                    Roots                                    \n",
      "=============================================================================\n",
      "                  Real          Imaginary           Modulus         Frequency\n",
      "-----------------------------------------------------------------------------\n",
      "AR.1           -1.2059           -0.0000j            1.2059           -0.5000\n",
      "AR.2           -0.0329           -1.2444j            1.2449           -0.2542\n",
      "AR.3           -0.0329           +1.2444j            1.2449            0.2542\n",
      "AR.4            0.8569           -1.3244j            1.5774           -0.1586\n",
      "AR.5            0.8569           +1.3244j            1.5774            0.1586\n",
      "-----------------------------------------------------------------------------\n"
     ]
    }
   ],
   "source": [
    "from statsmodels.tsa.arima_model import ARIMA\n",
    "\n",
    "model = ARIMA(gold_oct_df['Adj Close'], order=(5,1,0))\n",
    "model_fit = model.fit(disp=0)\n",
    "print(model_fit.summary())"
   ]
  },
  {
   "cell_type": "markdown",
   "id": "c0213ada",
   "metadata": {},
   "source": [
    "<b>6.2) Using the November gold ETF prices, run an ARIMA model with your choice of parameters.</b>"
   ]
  },
  {
   "cell_type": "code",
   "execution_count": 28,
   "id": "c97c6768",
   "metadata": {},
   "outputs": [
    {
     "data": {
      "text/html": [
       "<div>\n",
       "<style scoped>\n",
       "    .dataframe tbody tr th:only-of-type {\n",
       "        vertical-align: middle;\n",
       "    }\n",
       "\n",
       "    .dataframe tbody tr th {\n",
       "        vertical-align: top;\n",
       "    }\n",
       "\n",
       "    .dataframe thead th {\n",
       "        text-align: right;\n",
       "    }\n",
       "</style>\n",
       "<table border=\"1\" class=\"dataframe\">\n",
       "  <thead>\n",
       "    <tr style=\"text-align: right;\">\n",
       "      <th></th>\n",
       "      <th>Open</th>\n",
       "      <th>High</th>\n",
       "      <th>Low</th>\n",
       "      <th>Close</th>\n",
       "      <th>Adj Close</th>\n",
       "      <th>Volume</th>\n",
       "      <th>Daily Returns</th>\n",
       "    </tr>\n",
       "    <tr>\n",
       "      <th>Date</th>\n",
       "      <th></th>\n",
       "      <th></th>\n",
       "      <th></th>\n",
       "      <th></th>\n",
       "      <th></th>\n",
       "      <th></th>\n",
       "      <th></th>\n",
       "    </tr>\n",
       "  </thead>\n",
       "  <tbody>\n",
       "    <tr>\n",
       "      <th>2019-11-01</th>\n",
       "      <td>142.210007</td>\n",
       "      <td>142.899994</td>\n",
       "      <td>142.009995</td>\n",
       "      <td>142.559998</td>\n",
       "      <td>142.559998</td>\n",
       "      <td>8090000</td>\n",
       "      <td>0.000913</td>\n",
       "    </tr>\n",
       "    <tr>\n",
       "      <th>2019-11-04</th>\n",
       "      <td>142.259995</td>\n",
       "      <td>142.449997</td>\n",
       "      <td>141.740005</td>\n",
       "      <td>142.149994</td>\n",
       "      <td>142.149994</td>\n",
       "      <td>4740300</td>\n",
       "      <td>-0.002876</td>\n",
       "    </tr>\n",
       "    <tr>\n",
       "      <th>2019-11-05</th>\n",
       "      <td>140.649994</td>\n",
       "      <td>140.889999</td>\n",
       "      <td>139.380005</td>\n",
       "      <td>139.850006</td>\n",
       "      <td>139.850006</td>\n",
       "      <td>11782300</td>\n",
       "      <td>-0.016180</td>\n",
       "    </tr>\n",
       "    <tr>\n",
       "      <th>2019-11-06</th>\n",
       "      <td>140.119995</td>\n",
       "      <td>140.789993</td>\n",
       "      <td>140.000000</td>\n",
       "      <td>140.449997</td>\n",
       "      <td>140.449997</td>\n",
       "      <td>6416500</td>\n",
       "      <td>0.004290</td>\n",
       "    </tr>\n",
       "    <tr>\n",
       "      <th>2019-11-07</th>\n",
       "      <td>140.110001</td>\n",
       "      <td>140.199997</td>\n",
       "      <td>137.600006</td>\n",
       "      <td>138.270004</td>\n",
       "      <td>138.270004</td>\n",
       "      <td>15214200</td>\n",
       "      <td>-0.015521</td>\n",
       "    </tr>\n",
       "    <tr>\n",
       "      <th>...</th>\n",
       "      <td>...</td>\n",
       "      <td>...</td>\n",
       "      <td>...</td>\n",
       "      <td>...</td>\n",
       "      <td>...</td>\n",
       "      <td>...</td>\n",
       "      <td>...</td>\n",
       "    </tr>\n",
       "    <tr>\n",
       "      <th>2019-11-22</th>\n",
       "      <td>138.369995</td>\n",
       "      <td>138.460007</td>\n",
       "      <td>137.660004</td>\n",
       "      <td>137.740005</td>\n",
       "      <td>137.740005</td>\n",
       "      <td>3620300</td>\n",
       "      <td>-0.001884</td>\n",
       "    </tr>\n",
       "    <tr>\n",
       "      <th>2019-11-25</th>\n",
       "      <td>137.320007</td>\n",
       "      <td>137.619995</td>\n",
       "      <td>136.990005</td>\n",
       "      <td>137.080002</td>\n",
       "      <td>137.080002</td>\n",
       "      <td>6415800</td>\n",
       "      <td>-0.004792</td>\n",
       "    </tr>\n",
       "    <tr>\n",
       "      <th>2019-11-26</th>\n",
       "      <td>136.979996</td>\n",
       "      <td>137.800003</td>\n",
       "      <td>136.580002</td>\n",
       "      <td>137.740005</td>\n",
       "      <td>137.740005</td>\n",
       "      <td>4724400</td>\n",
       "      <td>0.004815</td>\n",
       "    </tr>\n",
       "    <tr>\n",
       "      <th>2019-11-27</th>\n",
       "      <td>137.029999</td>\n",
       "      <td>137.210007</td>\n",
       "      <td>136.830002</td>\n",
       "      <td>137.009995</td>\n",
       "      <td>137.009995</td>\n",
       "      <td>4111000</td>\n",
       "      <td>-0.005300</td>\n",
       "    </tr>\n",
       "    <tr>\n",
       "      <th>2019-11-29</th>\n",
       "      <td>137.100006</td>\n",
       "      <td>138.130005</td>\n",
       "      <td>137.080002</td>\n",
       "      <td>137.860001</td>\n",
       "      <td>137.860001</td>\n",
       "      <td>4516400</td>\n",
       "      <td>0.006204</td>\n",
       "    </tr>\n",
       "  </tbody>\n",
       "</table>\n",
       "<p>20 rows × 7 columns</p>\n",
       "</div>"
      ],
      "text/plain": [
       "                  Open        High         Low       Close   Adj Close  \\\n",
       "Date                                                                     \n",
       "2019-11-01  142.210007  142.899994  142.009995  142.559998  142.559998   \n",
       "2019-11-04  142.259995  142.449997  141.740005  142.149994  142.149994   \n",
       "2019-11-05  140.649994  140.889999  139.380005  139.850006  139.850006   \n",
       "2019-11-06  140.119995  140.789993  140.000000  140.449997  140.449997   \n",
       "2019-11-07  140.110001  140.199997  137.600006  138.270004  138.270004   \n",
       "...                ...         ...         ...         ...         ...   \n",
       "2019-11-22  138.369995  138.460007  137.660004  137.740005  137.740005   \n",
       "2019-11-25  137.320007  137.619995  136.990005  137.080002  137.080002   \n",
       "2019-11-26  136.979996  137.800003  136.580002  137.740005  137.740005   \n",
       "2019-11-27  137.029999  137.210007  136.830002  137.009995  137.009995   \n",
       "2019-11-29  137.100006  138.130005  137.080002  137.860001  137.860001   \n",
       "\n",
       "              Volume  Daily Returns  \n",
       "Date                                 \n",
       "2019-11-01   8090000       0.000913  \n",
       "2019-11-04   4740300      -0.002876  \n",
       "2019-11-05  11782300      -0.016180  \n",
       "2019-11-06   6416500       0.004290  \n",
       "2019-11-07  15214200      -0.015521  \n",
       "...              ...            ...  \n",
       "2019-11-22   3620300      -0.001884  \n",
       "2019-11-25   6415800      -0.004792  \n",
       "2019-11-26   4724400       0.004815  \n",
       "2019-11-27   4111000      -0.005300  \n",
       "2019-11-29   4516400       0.006204  \n",
       "\n",
       "[20 rows x 7 columns]"
      ]
     },
     "execution_count": 28,
     "metadata": {},
     "output_type": "execute_result"
    }
   ],
   "source": [
    "gold_nov_df = gold_etf_df['2019-11-01':]\n",
    "gold_nov_df"
   ]
  },
  {
   "cell_type": "code",
   "execution_count": 29,
   "id": "695125ee",
   "metadata": {},
   "outputs": [
    {
     "name": "stdout",
     "output_type": "stream",
     "text": [
      "                             ARIMA Model Results                              \n",
      "==============================================================================\n",
      "Dep. Variable:            D.Adj Close   No. Observations:                   19\n",
      "Model:                 ARIMA(5, 1, 0)   Log Likelihood                 -21.461\n",
      "Method:                       css-mle   S.D. of innovations              0.730\n",
      "Date:                Mon, 27 Sep 2021   AIC                             56.921\n",
      "Time:                        02:54:15   BIC                             63.532\n",
      "Sample:                             1   HQIC                            58.040\n",
      "                                                                              \n",
      "=====================================================================================\n",
      "                        coef    std err          z      P>|z|      [0.025      0.975]\n",
      "-------------------------------------------------------------------------------------\n",
      "const                -0.2378      0.201     -1.181      0.237      -0.632       0.157\n",
      "ar.L1.D.Adj Close    -0.0839      0.242     -0.346      0.729      -0.559       0.391\n",
      "ar.L2.D.Adj Close     0.4533      0.263      1.726      0.084      -0.061       0.968\n",
      "ar.L3.D.Adj Close     0.0397      0.303      0.131      0.896      -0.554       0.634\n",
      "ar.L4.D.Adj Close    -0.0760      0.302     -0.252      0.801      -0.667       0.515\n",
      "ar.L5.D.Adj Close    -0.2778      0.342     -0.811      0.417      -0.949       0.393\n",
      "                                    Roots                                    \n",
      "=============================================================================\n",
      "                  Real          Imaginary           Modulus         Frequency\n",
      "-----------------------------------------------------------------------------\n",
      "AR.1            1.0769           -0.5975j            1.2316           -0.0806\n",
      "AR.2            1.0769           +0.5975j            1.2316            0.0806\n",
      "AR.3           -1.1285           -0.0000j            1.1285           -0.5000\n",
      "AR.4           -0.6495           -1.2966j            1.4502           -0.3239\n",
      "AR.5           -0.6495           +1.2966j            1.4502            0.3239\n",
      "-----------------------------------------------------------------------------\n"
     ]
    }
   ],
   "source": [
    "from statsmodels.tsa.arima_model import ARIMA\n",
    "\n",
    "# 5,1,0 ARIMA Model\n",
    "model = ARIMA(gold_nov_df['Adj Close'], order=(5,1,0))\n",
    "model_fit = model.fit(disp=0)\n",
    "print(model_fit.summary())"
   ]
  },
  {
   "cell_type": "markdown",
   "id": "6310ac0b",
   "metadata": {},
   "source": [
    "<b>6.3) Using the October equity ETF prices, run an ARMA model with your choice of parameters.</b>"
   ]
  },
  {
   "cell_type": "code",
   "execution_count": 30,
   "id": "059d28cc",
   "metadata": {},
   "outputs": [
    {
     "data": {
      "text/html": [
       "<div>\n",
       "<style scoped>\n",
       "    .dataframe tbody tr th:only-of-type {\n",
       "        vertical-align: middle;\n",
       "    }\n",
       "\n",
       "    .dataframe tbody tr th {\n",
       "        vertical-align: top;\n",
       "    }\n",
       "\n",
       "    .dataframe thead th {\n",
       "        text-align: right;\n",
       "    }\n",
       "</style>\n",
       "<table border=\"1\" class=\"dataframe\">\n",
       "  <thead>\n",
       "    <tr style=\"text-align: right;\">\n",
       "      <th></th>\n",
       "      <th>Open</th>\n",
       "      <th>High</th>\n",
       "      <th>Low</th>\n",
       "      <th>Close</th>\n",
       "      <th>Adj Close</th>\n",
       "      <th>Volume</th>\n",
       "      <th>Daily Returns</th>\n",
       "    </tr>\n",
       "    <tr>\n",
       "      <th>Date</th>\n",
       "      <th></th>\n",
       "      <th></th>\n",
       "      <th></th>\n",
       "      <th></th>\n",
       "      <th></th>\n",
       "      <th></th>\n",
       "      <th></th>\n",
       "    </tr>\n",
       "  </thead>\n",
       "  <tbody>\n",
       "    <tr>\n",
       "      <th>2019-10-01</th>\n",
       "      <td>53.430000</td>\n",
       "      <td>53.450001</td>\n",
       "      <td>52.930000</td>\n",
       "      <td>53.020000</td>\n",
       "      <td>50.017326</td>\n",
       "      <td>6793900</td>\n",
       "      <td>-0.011005</td>\n",
       "    </tr>\n",
       "    <tr>\n",
       "      <th>2019-10-02</th>\n",
       "      <td>52.169998</td>\n",
       "      <td>52.189999</td>\n",
       "      <td>51.619999</td>\n",
       "      <td>51.700001</td>\n",
       "      <td>48.772083</td>\n",
       "      <td>5786200</td>\n",
       "      <td>-0.024896</td>\n",
       "    </tr>\n",
       "    <tr>\n",
       "      <th>2019-10-03</th>\n",
       "      <td>51.759998</td>\n",
       "      <td>52.080002</td>\n",
       "      <td>51.509998</td>\n",
       "      <td>52.080002</td>\n",
       "      <td>49.130562</td>\n",
       "      <td>3537800</td>\n",
       "      <td>0.007350</td>\n",
       "    </tr>\n",
       "    <tr>\n",
       "      <th>2019-10-04</th>\n",
       "      <td>52.150002</td>\n",
       "      <td>52.520000</td>\n",
       "      <td>52.090000</td>\n",
       "      <td>52.500000</td>\n",
       "      <td>49.526772</td>\n",
       "      <td>2642200</td>\n",
       "      <td>0.008064</td>\n",
       "    </tr>\n",
       "    <tr>\n",
       "      <th>2019-10-07</th>\n",
       "      <td>52.490002</td>\n",
       "      <td>52.770000</td>\n",
       "      <td>52.490002</td>\n",
       "      <td>52.500000</td>\n",
       "      <td>49.526772</td>\n",
       "      <td>3675100</td>\n",
       "      <td>0.000000</td>\n",
       "    </tr>\n",
       "    <tr>\n",
       "      <th>...</th>\n",
       "      <td>...</td>\n",
       "      <td>...</td>\n",
       "      <td>...</td>\n",
       "      <td>...</td>\n",
       "      <td>...</td>\n",
       "      <td>...</td>\n",
       "      <td>...</td>\n",
       "    </tr>\n",
       "    <tr>\n",
       "      <th>2019-10-25</th>\n",
       "      <td>55.150002</td>\n",
       "      <td>55.369999</td>\n",
       "      <td>55.110001</td>\n",
       "      <td>55.330002</td>\n",
       "      <td>52.196503</td>\n",
       "      <td>4908100</td>\n",
       "      <td>-0.000181</td>\n",
       "    </tr>\n",
       "    <tr>\n",
       "      <th>2019-10-28</th>\n",
       "      <td>55.490002</td>\n",
       "      <td>55.639999</td>\n",
       "      <td>55.419998</td>\n",
       "      <td>55.610001</td>\n",
       "      <td>52.460648</td>\n",
       "      <td>1604900</td>\n",
       "      <td>0.005061</td>\n",
       "    </tr>\n",
       "    <tr>\n",
       "      <th>2019-10-29</th>\n",
       "      <td>55.330002</td>\n",
       "      <td>55.580002</td>\n",
       "      <td>55.279999</td>\n",
       "      <td>55.540001</td>\n",
       "      <td>52.394611</td>\n",
       "      <td>1895300</td>\n",
       "      <td>-0.001259</td>\n",
       "    </tr>\n",
       "    <tr>\n",
       "      <th>2019-10-30</th>\n",
       "      <td>55.459999</td>\n",
       "      <td>55.849998</td>\n",
       "      <td>55.230000</td>\n",
       "      <td>55.840000</td>\n",
       "      <td>52.677620</td>\n",
       "      <td>3691500</td>\n",
       "      <td>0.005401</td>\n",
       "    </tr>\n",
       "    <tr>\n",
       "      <th>2019-10-31</th>\n",
       "      <td>55.669998</td>\n",
       "      <td>55.669998</td>\n",
       "      <td>55.430000</td>\n",
       "      <td>55.669998</td>\n",
       "      <td>52.517250</td>\n",
       "      <td>3391000</td>\n",
       "      <td>-0.003044</td>\n",
       "    </tr>\n",
       "  </tbody>\n",
       "</table>\n",
       "<p>23 rows × 7 columns</p>\n",
       "</div>"
      ],
      "text/plain": [
       "                 Open       High        Low      Close  Adj Close   Volume  \\\n",
       "Date                                                                         \n",
       "2019-10-01  53.430000  53.450001  52.930000  53.020000  50.017326  6793900   \n",
       "2019-10-02  52.169998  52.189999  51.619999  51.700001  48.772083  5786200   \n",
       "2019-10-03  51.759998  52.080002  51.509998  52.080002  49.130562  3537800   \n",
       "2019-10-04  52.150002  52.520000  52.090000  52.500000  49.526772  2642200   \n",
       "2019-10-07  52.490002  52.770000  52.490002  52.500000  49.526772  3675100   \n",
       "...               ...        ...        ...        ...        ...      ...   \n",
       "2019-10-25  55.150002  55.369999  55.110001  55.330002  52.196503  4908100   \n",
       "2019-10-28  55.490002  55.639999  55.419998  55.610001  52.460648  1604900   \n",
       "2019-10-29  55.330002  55.580002  55.279999  55.540001  52.394611  1895300   \n",
       "2019-10-30  55.459999  55.849998  55.230000  55.840000  52.677620  3691500   \n",
       "2019-10-31  55.669998  55.669998  55.430000  55.669998  52.517250  3391000   \n",
       "\n",
       "            Daily Returns  \n",
       "Date                       \n",
       "2019-10-01      -0.011005  \n",
       "2019-10-02      -0.024896  \n",
       "2019-10-03       0.007350  \n",
       "2019-10-04       0.008064  \n",
       "2019-10-07       0.000000  \n",
       "...                   ...  \n",
       "2019-10-25      -0.000181  \n",
       "2019-10-28       0.005061  \n",
       "2019-10-29      -0.001259  \n",
       "2019-10-30       0.005401  \n",
       "2019-10-31      -0.003044  \n",
       "\n",
       "[23 rows x 7 columns]"
      ]
     },
     "execution_count": 30,
     "metadata": {},
     "output_type": "execute_result"
    }
   ],
   "source": [
    "equity_oct_df = equity_etf_df[:'2019-10-31']\n",
    "equity_oct_df"
   ]
  },
  {
   "cell_type": "code",
   "execution_count": 31,
   "id": "96ea26d4",
   "metadata": {},
   "outputs": [
    {
     "name": "stdout",
     "output_type": "stream",
     "text": [
      "                             ARIMA Model Results                              \n",
      "==============================================================================\n",
      "Dep. Variable:            D.Adj Close   No. Observations:                   22\n",
      "Model:                 ARIMA(5, 1, 0)   Log Likelihood                 -10.628\n",
      "Method:                       css-mle   S.D. of innovations              0.381\n",
      "Date:                Mon, 27 Sep 2021   AIC                             35.255\n",
      "Time:                        02:54:15   BIC                             42.893\n",
      "Sample:                    10-02-2019   HQIC                            37.054\n",
      "                         - 10-31-2019                                         \n",
      "=====================================================================================\n",
      "                        coef    std err          z      P>|z|      [0.025      0.975]\n",
      "-------------------------------------------------------------------------------------\n",
      "const                 0.1164      0.092      1.268      0.205      -0.064       0.296\n",
      "ar.L1.D.Adj Close    -0.0529      0.274     -0.193      0.847      -0.589       0.483\n",
      "ar.L2.D.Adj Close    -0.0999      0.222     -0.451      0.652      -0.534       0.335\n",
      "ar.L3.D.Adj Close    -0.1649      0.233     -0.709      0.478      -0.621       0.291\n",
      "ar.L4.D.Adj Close     0.4633      0.229      2.027      0.043       0.015       0.911\n",
      "ar.L5.D.Adj Close    -0.0903      0.257     -0.351      0.725      -0.594       0.413\n",
      "                                    Roots                                    \n",
      "=============================================================================\n",
      "                  Real          Imaginary           Modulus         Frequency\n",
      "-----------------------------------------------------------------------------\n",
      "AR.1           -1.1055           -0.0000j            1.1055           -0.5000\n",
      "AR.2            0.0015           -1.1686j            1.1686           -0.2498\n",
      "AR.3            0.0015           +1.1686j            1.1686            0.2498\n",
      "AR.4            1.5747           -0.0000j            1.5747           -0.0000\n",
      "AR.5            4.6612           -0.0000j            4.6612           -0.0000\n",
      "-----------------------------------------------------------------------------\n"
     ]
    }
   ],
   "source": [
    "from statsmodels.tsa.arima_model import ARIMA\n",
    "\n",
    "model = ARIMA(equity_oct_df['Adj Close'], order=(5,1,0))\n",
    "model_fit = model.fit(disp=0)\n",
    "print(model_fit.summary())"
   ]
  },
  {
   "cell_type": "markdown",
   "id": "8b265b31",
   "metadata": {},
   "source": [
    "<b>6.4) Using the November equity ETF prices, run an ARMA model with your choice of parameters.</b>"
   ]
  },
  {
   "cell_type": "code",
   "execution_count": 32,
   "id": "daff502e",
   "metadata": {},
   "outputs": [
    {
     "data": {
      "text/html": [
       "<div>\n",
       "<style scoped>\n",
       "    .dataframe tbody tr th:only-of-type {\n",
       "        vertical-align: middle;\n",
       "    }\n",
       "\n",
       "    .dataframe tbody tr th {\n",
       "        vertical-align: top;\n",
       "    }\n",
       "\n",
       "    .dataframe thead th {\n",
       "        text-align: right;\n",
       "    }\n",
       "</style>\n",
       "<table border=\"1\" class=\"dataframe\">\n",
       "  <thead>\n",
       "    <tr style=\"text-align: right;\">\n",
       "      <th></th>\n",
       "      <th>Open</th>\n",
       "      <th>High</th>\n",
       "      <th>Low</th>\n",
       "      <th>Close</th>\n",
       "      <th>Adj Close</th>\n",
       "      <th>Volume</th>\n",
       "      <th>Daily Returns</th>\n",
       "    </tr>\n",
       "    <tr>\n",
       "      <th>Date</th>\n",
       "      <th></th>\n",
       "      <th></th>\n",
       "      <th></th>\n",
       "      <th></th>\n",
       "      <th></th>\n",
       "      <th></th>\n",
       "      <th></th>\n",
       "    </tr>\n",
       "  </thead>\n",
       "  <tbody>\n",
       "    <tr>\n",
       "      <th>2019-11-01</th>\n",
       "      <td>55.880001</td>\n",
       "      <td>56.090000</td>\n",
       "      <td>55.869999</td>\n",
       "      <td>56.090000</td>\n",
       "      <td>52.913464</td>\n",
       "      <td>3905900</td>\n",
       "      <td>0.007544</td>\n",
       "    </tr>\n",
       "    <tr>\n",
       "      <th>2019-11-04</th>\n",
       "      <td>56.480000</td>\n",
       "      <td>56.549999</td>\n",
       "      <td>56.270000</td>\n",
       "      <td>56.369999</td>\n",
       "      <td>53.177605</td>\n",
       "      <td>2093200</td>\n",
       "      <td>0.004992</td>\n",
       "    </tr>\n",
       "    <tr>\n",
       "      <th>2019-11-05</th>\n",
       "      <td>56.240002</td>\n",
       "      <td>56.270000</td>\n",
       "      <td>56.099998</td>\n",
       "      <td>56.250000</td>\n",
       "      <td>53.064407</td>\n",
       "      <td>3398400</td>\n",
       "      <td>-0.002129</td>\n",
       "    </tr>\n",
       "    <tr>\n",
       "      <th>2019-11-06</th>\n",
       "      <td>56.299999</td>\n",
       "      <td>56.360001</td>\n",
       "      <td>56.139999</td>\n",
       "      <td>56.220001</td>\n",
       "      <td>53.036102</td>\n",
       "      <td>2653300</td>\n",
       "      <td>-0.000533</td>\n",
       "    </tr>\n",
       "    <tr>\n",
       "      <th>2019-11-07</th>\n",
       "      <td>56.470001</td>\n",
       "      <td>56.490002</td>\n",
       "      <td>56.279999</td>\n",
       "      <td>56.340000</td>\n",
       "      <td>53.149303</td>\n",
       "      <td>3775500</td>\n",
       "      <td>0.002134</td>\n",
       "    </tr>\n",
       "    <tr>\n",
       "      <th>...</th>\n",
       "      <td>...</td>\n",
       "      <td>...</td>\n",
       "      <td>...</td>\n",
       "      <td>...</td>\n",
       "      <td>...</td>\n",
       "      <td>...</td>\n",
       "      <td>...</td>\n",
       "    </tr>\n",
       "    <tr>\n",
       "      <th>2019-11-22</th>\n",
       "      <td>56.250000</td>\n",
       "      <td>56.259998</td>\n",
       "      <td>55.990002</td>\n",
       "      <td>56.099998</td>\n",
       "      <td>52.922894</td>\n",
       "      <td>4281900</td>\n",
       "      <td>0.001607</td>\n",
       "    </tr>\n",
       "    <tr>\n",
       "      <th>2019-11-25</th>\n",
       "      <td>56.349998</td>\n",
       "      <td>56.560001</td>\n",
       "      <td>56.349998</td>\n",
       "      <td>56.560001</td>\n",
       "      <td>53.356850</td>\n",
       "      <td>3225500</td>\n",
       "      <td>0.008200</td>\n",
       "    </tr>\n",
       "    <tr>\n",
       "      <th>2019-11-26</th>\n",
       "      <td>56.540001</td>\n",
       "      <td>56.660000</td>\n",
       "      <td>56.520000</td>\n",
       "      <td>56.630001</td>\n",
       "      <td>53.422886</td>\n",
       "      <td>1917900</td>\n",
       "      <td>0.001238</td>\n",
       "    </tr>\n",
       "    <tr>\n",
       "      <th>2019-11-27</th>\n",
       "      <td>56.639999</td>\n",
       "      <td>56.770000</td>\n",
       "      <td>56.610001</td>\n",
       "      <td>56.730000</td>\n",
       "      <td>53.517216</td>\n",
       "      <td>1690700</td>\n",
       "      <td>0.001766</td>\n",
       "    </tr>\n",
       "    <tr>\n",
       "      <th>2019-11-29</th>\n",
       "      <td>56.490002</td>\n",
       "      <td>56.580002</td>\n",
       "      <td>56.380001</td>\n",
       "      <td>56.389999</td>\n",
       "      <td>53.196472</td>\n",
       "      <td>1242500</td>\n",
       "      <td>-0.005993</td>\n",
       "    </tr>\n",
       "  </tbody>\n",
       "</table>\n",
       "<p>20 rows × 7 columns</p>\n",
       "</div>"
      ],
      "text/plain": [
       "                 Open       High        Low      Close  Adj Close   Volume  \\\n",
       "Date                                                                         \n",
       "2019-11-01  55.880001  56.090000  55.869999  56.090000  52.913464  3905900   \n",
       "2019-11-04  56.480000  56.549999  56.270000  56.369999  53.177605  2093200   \n",
       "2019-11-05  56.240002  56.270000  56.099998  56.250000  53.064407  3398400   \n",
       "2019-11-06  56.299999  56.360001  56.139999  56.220001  53.036102  2653300   \n",
       "2019-11-07  56.470001  56.490002  56.279999  56.340000  53.149303  3775500   \n",
       "...               ...        ...        ...        ...        ...      ...   \n",
       "2019-11-22  56.250000  56.259998  55.990002  56.099998  52.922894  4281900   \n",
       "2019-11-25  56.349998  56.560001  56.349998  56.560001  53.356850  3225500   \n",
       "2019-11-26  56.540001  56.660000  56.520000  56.630001  53.422886  1917900   \n",
       "2019-11-27  56.639999  56.770000  56.610001  56.730000  53.517216  1690700   \n",
       "2019-11-29  56.490002  56.580002  56.380001  56.389999  53.196472  1242500   \n",
       "\n",
       "            Daily Returns  \n",
       "Date                       \n",
       "2019-11-01       0.007544  \n",
       "2019-11-04       0.004992  \n",
       "2019-11-05      -0.002129  \n",
       "2019-11-06      -0.000533  \n",
       "2019-11-07       0.002134  \n",
       "...                   ...  \n",
       "2019-11-22       0.001607  \n",
       "2019-11-25       0.008200  \n",
       "2019-11-26       0.001238  \n",
       "2019-11-27       0.001766  \n",
       "2019-11-29      -0.005993  \n",
       "\n",
       "[20 rows x 7 columns]"
      ]
     },
     "execution_count": 32,
     "metadata": {},
     "output_type": "execute_result"
    }
   ],
   "source": [
    "equity_nov_df = equity_etf_df['2019-11-01':]\n",
    "equity_nov_df"
   ]
  },
  {
   "cell_type": "code",
   "execution_count": 33,
   "id": "96119dbf",
   "metadata": {},
   "outputs": [
    {
     "name": "stdout",
     "output_type": "stream",
     "text": [
      "                             ARIMA Model Results                              \n",
      "==============================================================================\n",
      "Dep. Variable:            D.Adj Close   No. Observations:                   19\n",
      "Model:                 ARIMA(1, 1, 0)   Log Likelihood                   5.040\n",
      "Method:                       css-mle   S.D. of innovations              0.186\n",
      "Date:                Mon, 27 Sep 2021   AIC                             -4.080\n",
      "Time:                        02:54:15   BIC                             -1.247\n",
      "Sample:                             1   HQIC                            -3.600\n",
      "                                                                              \n",
      "=====================================================================================\n",
      "                        coef    std err          z      P>|z|      [0.025      0.975]\n",
      "-------------------------------------------------------------------------------------\n",
      "const                 0.0143      0.048      0.298      0.766      -0.080       0.108\n",
      "ar.L1.D.Adj Close     0.1187      0.257      0.463      0.644      -0.384       0.622\n",
      "                                    Roots                                    \n",
      "=============================================================================\n",
      "                  Real          Imaginary           Modulus         Frequency\n",
      "-----------------------------------------------------------------------------\n",
      "AR.1            8.4241           +0.0000j            8.4241            0.0000\n",
      "-----------------------------------------------------------------------------\n"
     ]
    }
   ],
   "source": [
    "from statsmodels.tsa.arima_model import ARIMA\n",
    "\n",
    "# 5,1,0 ARIMA Model\n",
    "model = ARIMA(equity_nov_df['Adj Close'], order=(1,1,0))\n",
    "model_fit = model.fit(disp=0)\n",
    "print(model_fit.summary())"
   ]
  },
  {
   "cell_type": "markdown",
   "id": "418b0477",
   "metadata": {},
   "source": [
    "<div class=\"alert alert-block alert-success\">\n",
    "<b>6.4) In each case, justify which model is best:</b> The best model is....<br>\n",
    "<b>6.5) What are the significant changes, if any?  Be specific with regards to the values of the parameters:</b> \n",
    "\n",
    "</div>    "
   ]
  },
  {
   "cell_type": "markdown",
   "id": "93b604ac",
   "metadata": {},
   "source": [
    "# 7 Modelling Volatility"
   ]
  },
  {
   "cell_type": "markdown",
   "id": "09688fdc",
   "metadata": {},
   "source": [
    "<b>7.1) Using gold ETF prices, find the daily high minus low for each month.  Compute the average for October.  Compute the average for November.</b>"
   ]
  },
  {
   "cell_type": "code",
   "execution_count": 34,
   "id": "abe2a7f2",
   "metadata": {},
   "outputs": [
    {
     "name": "stdout",
     "output_type": "stream",
     "text": [
      ":: Average daily high minus low of Gold ETF Returns ::\n",
      "Oct 2019: 1.081305462381114\n",
      "Nov 2019: 0.97249755859375\n"
     ]
    }
   ],
   "source": [
    "print(\":: Average daily high minus low of Gold ETF Returns ::\")\n",
    "print(\"Oct 2019:\", (gold_oct_df['High'] - gold_oct_df['Low']).mean())\n",
    "print(\"Nov 2019:\", (gold_nov_df['High'] - gold_nov_df['Low']).mean())"
   ]
  },
  {
   "cell_type": "markdown",
   "id": "b11566bc",
   "metadata": {},
   "source": [
    "<b>7.2) Using the gold ETF returns, find the standard deviation for October.  Repeat for November.</b>"
   ]
  },
  {
   "cell_type": "code",
   "execution_count": 35,
   "id": "86d11ac1",
   "metadata": {},
   "outputs": [
    {
     "name": "stdout",
     "output_type": "stream",
     "text": [
      ":: Standard Deviation of Gold ETF Returns ::\n",
      "Oct 2019: 0.006105665863245679\n",
      "Nov 2019: 0.006187936827514913\n"
     ]
    }
   ],
   "source": [
    "print(\":: Standard Deviation of Gold ETF Returns ::\")\n",
    "\n",
    "print(\"Oct 2019:\", gold_oct_df['Daily Returns'].std())\n",
    "print(\"Nov 2019:\", gold_nov_df['Daily Returns'].std())"
   ]
  },
  {
   "cell_type": "markdown",
   "id": "ce206156",
   "metadata": {},
   "source": [
    "<b>7.3) Using the October gold ETF returns, find a GARCH(1,1) model.  Repeat for November.</b>"
   ]
  },
  {
   "cell_type": "code",
   "execution_count": 36,
   "id": "c6c8c564",
   "metadata": {},
   "outputs": [],
   "source": [
    "class garchOneOne(object):\n",
    "    \n",
    "    def __init__(self, logReturns):\n",
    "        self.logReturns = logReturns * 100\n",
    "        self.sigma_2 = self.garch_filter(self.garch_optimization())\n",
    "        self.coefficients = self.garch_optimization()\n",
    "        \n",
    "    def garch_filter(self, parameters):\n",
    "        \"Returns the variance expression of a GARCH(1,1) process.\"\n",
    "        \n",
    "        # Slicing the parameters list\n",
    "        omega = parameters[0]\n",
    "        alpha = parameters[1]\n",
    "        beta = parameters[2]\n",
    "        \n",
    "        # Length of logReturns\n",
    "        length = len(self.logReturns)\n",
    "        \n",
    "        # Initializing an empty array\n",
    "        sigma_2 = np.zeros(length)\n",
    "        \n",
    "        # Filling the array, if i == 0 then uses the long term variance.\n",
    "        for i in range(length):\n",
    "            if i == 0:\n",
    "                sigma_2[i] = omega / (1 - alpha - beta)\n",
    "            else:\n",
    "                sigma_2[i] = omega + alpha * self.logReturns[i-1]**2 + beta * sigma_2[i-1]\n",
    "        \n",
    "        return sigma_2 \n",
    "        \n",
    "    def garch_loglikelihood(self, parameters):\n",
    "        \"Defines the log likelihood sum to be optimized given the parameters.\"\n",
    "        length = len(self.logReturns)\n",
    "        \n",
    "        sigma_2 = self.garch_filter(parameters)\n",
    "        \n",
    "        loglikelihood = - np.sum(-np.log(sigma_2) - self.logReturns**2 / sigma_2)\n",
    "        \n",
    "        return loglikelihood\n",
    "    \n",
    "    def garch_optimization(self):\n",
    "        \"Optimizes the log likelihood function and returns estimated coefficients\"\n",
    "        # Parameters initialization\n",
    "        parameters = [.1, .05, .92]\n",
    "        \n",
    "        # Parameters optimization, scipy does not have a maximize function, so we minimize the opposite of the equation described earlier\n",
    "        opt = scipy.optimize.minimize(self.garch_loglikelihood, parameters,\n",
    "                                     bounds = ((.001,1),(.001,1),(.001,1)))\n",
    "        \n",
    "        variance = .01**2 * opt.x[0] / (1 - opt.x[1] - opt.x[2])   # Times .01**2 because it concerns squared returns\n",
    "        \n",
    "        return np.append(opt.x, variance)\n"
   ]
  },
  {
   "cell_type": "markdown",
   "id": "aa2db4e1",
   "metadata": {},
   "source": [
    "Fitting a GARCH(1,1) model for october"
   ]
  },
  {
   "cell_type": "code",
   "execution_count": 37,
   "id": "fc927f6f",
   "metadata": {},
   "outputs": [
    {
     "name": "stdout",
     "output_type": "stream",
     "text": [
      "Iteration:      1,   Func. Count:      5,   Neg. LLF: 10141524.202054914\n",
      "Iteration:      2,   Func. Count:     10,   Neg. LLF: 25.658169386726115\n",
      "Iteration:      3,   Func. Count:     15,   Neg. LLF: 13.366876158180327\n",
      "Iteration:      4,   Func. Count:     20,   Neg. LLF: 11.00002227886684\n",
      "Iteration:      5,   Func. Count:     24,   Neg. LLF: 10.995504705545269\n",
      "Iteration:      6,   Func. Count:     28,   Neg. LLF: 10.995362216462764\n",
      "Iteration:      7,   Func. Count:     32,   Neg. LLF: 10.995338945654773\n",
      "Iteration:      8,   Func. Count:     36,   Neg. LLF: 10.995331588505351\n",
      "Iteration:      9,   Func. Count:     39,   Neg. LLF: 10.995331588503621\n",
      "Optimization terminated successfully    (Exit mode 0)\n",
      "            Current function value: 10.995331588505351\n",
      "            Iterations: 9\n",
      "            Function evaluations: 39\n",
      "            Gradient evaluations: 9\n"
     ]
    }
   ],
   "source": [
    "gold_oct_df['log_returns'] = np.log(gold_oct_df['Adj Close'] / gold_oct_df['Open'])\n",
    "\n",
    "# Estimation using our previously coded classes\n",
    "modelGLDOct = garchOneOne(gold_oct_df['log_returns'])\n",
    "\n",
    "# Fitting using the arch_model package\n",
    "arch_mGLD_Oct = arch_model(gold_oct_df['log_returns'] * 100, mean = 'Zero', vol = 'GARCH')\n",
    "arch_mGLD_Oct = arch_mGLD_Oct.fit()\n",
    "\n",
    "# Extracting confidence intervals\n",
    "conf_int_GLD_Oct = pd.DataFrame(arch_mGLD_Oct.conf_int(alpha = .2))\n",
    "\n",
    "# Creating the test\n",
    "conf_int_GLD_Oct['garchOneOne'] = modelGLDOct.coefficients[:-1]\n",
    "conf_int_GLD_Oct['Test'] = np.where(conf_int_GLD_Oct['garchOneOne'] < conf_int_GLD_Oct['upper'], np.where(conf_int_GLD_Oct['garchOneOne'] > conf_int_GLD_Oct['lower'], \"Ok\", \"Not ok\"), \"Not ok\") "
   ]
  },
  {
   "cell_type": "code",
   "execution_count": 38,
   "id": "456304c8",
   "metadata": {},
   "outputs": [
    {
     "data": {
      "text/plain": [
       "                       Zero Mean - GARCH Model Results                        \n",
       "==============================================================================\n",
       "Dep. Variable:            log_returns   R-squared:                       0.000\n",
       "Mean Model:                 Zero Mean   Adj. R-squared:                  0.043\n",
       "Vol Model:                      GARCH   Log-Likelihood:               -10.9953\n",
       "Distribution:                  Normal   AIC:                           27.9907\n",
       "Method:            Maximum Likelihood   BIC:                           31.3971\n",
       "                                        No. Observations:                   23\n",
       "Date:                Mon, Sep 27 2021   Df Residuals:                       23\n",
       "Time:                        02:54:16   Df Model:                            0\n",
       "                               Volatility Model                              \n",
       "=============================================================================\n",
       "                 coef    std err          t      P>|t|       95.0% Conf. Int.\n",
       "-----------------------------------------------------------------------------\n",
       "omega          0.0269  2.247e-02      1.197      0.231 [-1.713e-02,7.095e-02]\n",
       "alpha[1]       0.0000  9.822e-02      0.000      1.000      [ -0.193,  0.193]\n",
       "beta[1]        0.7693      0.239      3.219  1.286e-03      [  0.301,  1.238]\n",
       "=============================================================================\n",
       "\n",
       "Covariance estimator: robust\n",
       "ARCHModelResult, id: 0x2232e8ab190"
      ]
     },
     "execution_count": 38,
     "metadata": {},
     "output_type": "execute_result"
    }
   ],
   "source": [
    "arch_mGLD_Oct"
   ]
  },
  {
   "cell_type": "markdown",
   "id": "6daa56dc",
   "metadata": {},
   "source": [
    "Fitting a GARCH(1,1) model for november"
   ]
  },
  {
   "cell_type": "code",
   "execution_count": 39,
   "id": "a3b2ae4d",
   "metadata": {},
   "outputs": [
    {
     "name": "stdout",
     "output_type": "stream",
     "text": [
      "Iteration:      1,   Func. Count:      5,   Neg. LLF: 3313997.910712011\n",
      "Iteration:      2,   Func. Count:     11,   Neg. LLF: 11.56289238642469\n",
      "Iteration:      3,   Func. Count:     16,   Neg. LLF: 11.43706916324593\n",
      "Iteration:      4,   Func. Count:     21,   Neg. LLF: 11.32246996254941\n",
      "Iteration:      5,   Func. Count:     26,   Neg. LLF: 11.433855079980832\n",
      "Iteration:      6,   Func. Count:     31,   Neg. LLF: 11.205644389622744\n",
      "Iteration:      7,   Func. Count:     35,   Neg. LLF: 11.206196047655101\n",
      "Iteration:      8,   Func. Count:     39,   Neg. LLF: 11.205619639297105\n",
      "Optimization terminated successfully    (Exit mode 0)\n",
      "            Current function value: 11.205619639276193\n",
      "            Iterations: 8\n",
      "            Function evaluations: 39\n",
      "            Gradient evaluations: 8\n"
     ]
    }
   ],
   "source": [
    "gold_nov_df['log_returns'] = np.log(gold_nov_df['Adj Close'] / gold_nov_df['Open'])\n",
    "\n",
    "# Estimation using our previously coded classes\n",
    "modelGLDNov = garchOneOne(gold_nov_df['log_returns'])\n",
    "\n",
    "# Fitting using the arch_model package\n",
    "arch_mGLD_Nov = arch_model(gold_nov_df['log_returns'] * 100, mean = 'Zero', vol = 'GARCH')\n",
    "arch_mGLD_Nov = arch_mGLD_Nov.fit()\n",
    "\n",
    "# Extracting confidence intervals\n",
    "conf_int_GLD_Nov = pd.DataFrame(arch_mGLD_Nov.conf_int(alpha = .2))\n",
    "\n",
    "# Creating the test\n",
    "conf_int_GLD_Nov['garchOneOne'] = modelGLDNov.coefficients[:-1]\n",
    "conf_int_GLD_Nov['Test'] = np.where(conf_int_GLD_Nov['garchOneOne'] < conf_int_GLD_Nov['upper'], np.where(conf_int_GLD_Nov['garchOneOne'] > conf_int_GLD_Nov['lower'], \"Ok\", \"Not ok\"), \"Not ok\") "
   ]
  },
  {
   "cell_type": "code",
   "execution_count": 40,
   "id": "894cbd63",
   "metadata": {
    "scrolled": true
   },
   "outputs": [
    {
     "data": {
      "text/plain": [
       "                       Zero Mean - GARCH Model Results                        \n",
       "==============================================================================\n",
       "Dep. Variable:            log_returns   R-squared:                       0.000\n",
       "Mean Model:                 Zero Mean   Adj. R-squared:                  0.050\n",
       "Vol Model:                      GARCH   Log-Likelihood:               -11.2056\n",
       "Distribution:                  Normal   AIC:                           28.4112\n",
       "Method:            Maximum Likelihood   BIC:                           31.3984\n",
       "                                        No. Observations:                   20\n",
       "Date:                Mon, Sep 27 2021   Df Residuals:                       20\n",
       "Time:                        02:54:16   Df Model:                            0\n",
       "                               Volatility Model                              \n",
       "=============================================================================\n",
       "                 coef    std err          t      P>|t|       95.0% Conf. Int.\n",
       "-----------------------------------------------------------------------------\n",
       "omega      1.8446e-09  1.504e-02  1.226e-07      1.000 [-2.949e-02,2.949e-02]\n",
       "alpha[1]   1.8099e-13  8.117e-02  2.230e-12      1.000      [ -0.159,  0.159]\n",
       "beta[1]        0.9776      0.110      8.873  7.099e-19      [  0.762,  1.193]\n",
       "=============================================================================\n",
       "\n",
       "Covariance estimator: robust\n",
       "ARCHModelResult, id: 0x223308e2b80"
      ]
     },
     "execution_count": 40,
     "metadata": {},
     "output_type": "execute_result"
    }
   ],
   "source": [
    "arch_mGLD_Nov"
   ]
  },
  {
   "cell_type": "markdown",
   "id": "d2feda86",
   "metadata": {},
   "source": [
    "<div class=\"alert alert-block alert-success\">\n",
    "<b>7.4) What are the significant changes, if any?  Be specific with regards to the values of the parameters:</b> \n",
    "\n",
    "</div>"
   ]
  },
  {
   "cell_type": "markdown",
   "id": "fff627a4",
   "metadata": {},
   "source": [
    "<b>7.5) Using equity ETF prices, find the daily high minus low for each month.  Compute the average for October.  Compute the average for November.</b>"
   ]
  },
  {
   "cell_type": "code",
   "execution_count": 41,
   "id": "3fdabf1d",
   "metadata": {},
   "outputs": [
    {
     "name": "stdout",
     "output_type": "stream",
     "text": [
      ":: Average daily high minus low of FTSE Equity ETF Returns ::\n",
      "Oct 2019: 0.371739097263502\n",
      "Nov 2019: 0.23600006103515625\n"
     ]
    }
   ],
   "source": [
    "print(\":: Average daily high minus low of FTSE Equity ETF Returns ::\")\n",
    "print(\"Oct 2019:\", (equity_oct_df['High'] - equity_oct_df['Low']).mean())\n",
    "print(\"Nov 2019:\", (equity_nov_df['High'] - equity_nov_df['Low']).mean())"
   ]
  },
  {
   "cell_type": "markdown",
   "id": "55670bd0",
   "metadata": {},
   "source": [
    "<b>7.6) Using equity ETF returns, find the standard deviation for October.  Repeat for November.</b>"
   ]
  },
  {
   "cell_type": "code",
   "execution_count": 42,
   "id": "05da686f",
   "metadata": {},
   "outputs": [
    {
     "name": "stdout",
     "output_type": "stream",
     "text": [
      ":: Standard Deviation of FTSE Equity ETF Returns ::\n",
      "Oct 2019: 0.009298045053641981\n",
      "Nov 2019: 0.003871252213527367\n"
     ]
    }
   ],
   "source": [
    "print(\":: Standard Deviation of FTSE Equity ETF Returns ::\")\n",
    "\n",
    "print(\"Oct 2019:\", equity_oct_df['Daily Returns'].std())\n",
    "print(\"Nov 2019:\", equity_nov_df['Daily Returns'].std())"
   ]
  },
  {
   "cell_type": "markdown",
   "id": "d016bc04",
   "metadata": {},
   "source": [
    "<b>7.7) Using October equity ETF returns, find a GARCH(1,1) model.  Repeat for November (3 points).</b>\n",
    "\n",
    "Fitting a GARCH(1,1) model for October 2019"
   ]
  },
  {
   "cell_type": "code",
   "execution_count": 43,
   "id": "09597e2d",
   "metadata": {},
   "outputs": [
    {
     "name": "stdout",
     "output_type": "stream",
     "text": [
      "Iteration:      1,   Func. Count:      5,   Neg. LLF: 82.04249808076561\n",
      "Iteration:      2,   Func. Count:     11,   Neg. LLF: 72.76463492431859\n",
      "Iteration:      3,   Func. Count:     15,   Neg. LLF: 72.76463365525647\n",
      "Iteration:      4,   Func. Count:     18,   Neg. LLF: 72.76463365524064\n",
      "Optimization terminated successfully    (Exit mode 0)\n",
      "            Current function value: 72.76463365525647\n",
      "            Iterations: 4\n",
      "            Function evaluations: 18\n",
      "            Gradient evaluations: 4\n"
     ]
    }
   ],
   "source": [
    "equity_oct_df['log_returns'] = np.log(equity_oct_df['Adj Close'] / equity_oct_df['Open'])\n",
    "\n",
    "# Estimation using our previously coded classes\n",
    "modelFTSEOct = garchOneOne(equity_oct_df['log_returns'])\n",
    "\n",
    "# Fitting using the arch_model package\n",
    "arch_mFTSE_Oct = arch_model(equity_oct_df['log_returns'] * 100, mean = 'Zero', vol = 'GARCH')\n",
    "arch_mFTSE_Oct = arch_mFTSE_Oct.fit()\n",
    "\n",
    "# Extracting confidence intervals\n",
    "conf_int_FTSE_Oct = pd.DataFrame(arch_mFTSE_Oct.conf_int(alpha = .2))\n",
    "\n",
    "# Creating the test\n",
    "conf_int_FTSE_Oct['garchOneOne'] = modelFTSEOct.coefficients[:-1]\n",
    "conf_int_FTSE_Oct['Test'] = np.where(conf_int_FTSE_Oct['garchOneOne'] < conf_int_FTSE_Oct['upper'], np.where(conf_int_FTSE_Oct['garchOneOne'] > conf_int_FTSE_Oct['lower'], \"Ok\", \"Not ok\"), \"Not ok\") "
   ]
  },
  {
   "cell_type": "code",
   "execution_count": 44,
   "id": "14cafaeb",
   "metadata": {},
   "outputs": [
    {
     "data": {
      "text/plain": [
       "                       Zero Mean - GARCH Model Results                        \n",
       "==============================================================================\n",
       "Dep. Variable:            log_returns   R-squared:                       0.000\n",
       "Mean Model:                 Zero Mean   Adj. R-squared:                  0.043\n",
       "Vol Model:                      GARCH   Log-Likelihood:               -72.7646\n",
       "Distribution:                  Normal   AIC:                           151.529\n",
       "Method:            Maximum Likelihood   BIC:                           154.936\n",
       "                                        No. Observations:                   23\n",
       "Date:                Mon, Sep 27 2021   Df Residuals:                       23\n",
       "Time:                        02:54:16   Df Model:                            0\n",
       "                               Volatility Model                              \n",
       "=============================================================================\n",
       "                 coef    std err          t      P>|t|       95.0% Conf. Int.\n",
       "-----------------------------------------------------------------------------\n",
       "omega          9.8343     13.672      0.719      0.472      [-16.962, 36.631]\n",
       "alpha[1]   1.2211e-17  4.529e-02  2.696e-16      1.000 [-8.877e-02,8.877e-02]\n",
       "beta[1]        0.6945      0.424      1.639      0.101      [ -0.136,  1.525]\n",
       "=============================================================================\n",
       "\n",
       "Covariance estimator: robust\n",
       "ARCHModelResult, id: 0x2232e8ab310"
      ]
     },
     "execution_count": 44,
     "metadata": {},
     "output_type": "execute_result"
    }
   ],
   "source": [
    "arch_mFTSE_Oct"
   ]
  },
  {
   "cell_type": "markdown",
   "id": "7996a3b0",
   "metadata": {},
   "source": [
    "Fitting a GARCH(1,1) model for november"
   ]
  },
  {
   "cell_type": "code",
   "execution_count": 45,
   "id": "89e4826b",
   "metadata": {
    "scrolled": true
   },
   "outputs": [
    {
     "name": "stdout",
     "output_type": "stream",
     "text": [
      "Iteration:      1,   Func. Count:      5,   Neg. LLF: 63.46854079051175\n",
      "Iteration:      2,   Func. Count:     11,   Neg. LLF: 63.43780601778752\n",
      "Iteration:      3,   Func. Count:     15,   Neg. LLF: 63.43775852752003\n",
      "Iteration:      4,   Func. Count:     18,   Neg. LLF: 63.437758527508386\n",
      "Optimization terminated successfully    (Exit mode 0)\n",
      "            Current function value: 63.43775852752003\n",
      "            Iterations: 4\n",
      "            Function evaluations: 18\n",
      "            Gradient evaluations: 4\n"
     ]
    }
   ],
   "source": [
    "equity_nov_df['log_returns'] = np.log(equity_nov_df['Adj Close'] / equity_nov_df['Open'])\n",
    "\n",
    "# Estimation using our previously coded classes\n",
    "modelFTSENov = garchOneOne(equity_nov_df['log_returns'])\n",
    "\n",
    "# Fitting using the arch_model package\n",
    "arch_mFTSE_Nov = arch_model(equity_nov_df['log_returns'] * 100, mean = 'Zero', vol = 'GARCH')\n",
    "arch_mFTSE_Nov = arch_mFTSE_Nov.fit()\n",
    "\n",
    "# Extracting confidence intervals\n",
    "conf_int_FTSE_Nov = pd.DataFrame(arch_mFTSE_Nov.conf_int(alpha = .2))\n",
    "\n",
    "# Creating the test\n",
    "conf_int_FTSE_Nov['garchOneOne'] = modelFTSENov.coefficients[:-1]\n",
    "conf_int_FTSE_Nov['Test'] = np.where(conf_int_FTSE_Nov['garchOneOne'] < conf_int_FTSE_Nov['upper'], np.where(conf_int_FTSE_Nov['garchOneOne'] > conf_int_FTSE_Nov['lower'], \"Ok\", \"Not ok\"), \"Not ok\") "
   ]
  },
  {
   "cell_type": "code",
   "execution_count": 46,
   "id": "613facea",
   "metadata": {
    "scrolled": true
   },
   "outputs": [
    {
     "data": {
      "text/plain": [
       "                       Zero Mean - GARCH Model Results                        \n",
       "==============================================================================\n",
       "Dep. Variable:            log_returns   R-squared:                       0.000\n",
       "Mean Model:                 Zero Mean   Adj. R-squared:                  0.050\n",
       "Vol Model:                      GARCH   Log-Likelihood:               -63.4378\n",
       "Distribution:                  Normal   AIC:                           132.876\n",
       "Method:            Maximum Likelihood   BIC:                           135.863\n",
       "                                        No. Observations:                   20\n",
       "Date:                Mon, Sep 27 2021   Df Residuals:                       20\n",
       "Time:                        02:54:16   Df Model:                            0\n",
       "                               Volatility Model                              \n",
       "=============================================================================\n",
       "                 coef    std err          t      P>|t|       95.0% Conf. Int.\n",
       "-----------------------------------------------------------------------------\n",
       "omega         16.6561     22.422      0.743      0.458      [-27.291, 60.603]\n",
       "alpha[1]   8.6736e-19  1.261e-02  6.876e-17      1.000 [-2.472e-02,2.472e-02]\n",
       "beta[1]        0.5006      0.677      0.740      0.459      [ -0.826,  1.827]\n",
       "=============================================================================\n",
       "\n",
       "Covariance estimator: robust\n",
       "ARCHModelResult, id: 0x223308f6910"
      ]
     },
     "execution_count": 46,
     "metadata": {},
     "output_type": "execute_result"
    }
   ],
   "source": [
    "arch_mFTSE_Nov"
   ]
  },
  {
   "cell_type": "markdown",
   "id": "792cbaef",
   "metadata": {},
   "source": [
    "<div class=\"alert alert-block alert-success\">\n",
    "<b>7.8) What are the significant changes, if any?  Be specific with regards to the values of the parameters:</b> \n",
    "\n",
    "</div>"
   ]
  },
  {
   "cell_type": "markdown",
   "id": "fbfb4004",
   "metadata": {},
   "source": [
    "# 8 Correlation"
   ]
  },
  {
   "cell_type": "markdown",
   "id": "ca6c97de",
   "metadata": {},
   "source": [
    "<b>8.1) Compute the Pearson correlation between the gold and equity returns in October 2019.  Repeat for November 2019. </b>"
   ]
  },
  {
   "cell_type": "code",
   "execution_count": 47,
   "id": "8892848f",
   "metadata": {
    "scrolled": true
   },
   "outputs": [
    {
     "name": "stdout",
     "output_type": "stream",
     "text": [
      ":: Pearson Correlation between Gold ETF and Equity ETF Returns ::\n",
      "Oct 2019: -0.631526167607064\n",
      "Nov 2019: -0.18335214467838024\n"
     ]
    }
   ],
   "source": [
    "from scipy.stats import pearsonr\n",
    "corr_oct, _ = pearsonr(gold_oct_df['Daily Returns'], equity_oct_df['Daily Returns'])\n",
    "corr_nov, _ = pearsonr(gold_nov_df['Daily Returns'], equity_nov_df['Daily Returns'])\n",
    "\n",
    "print(':: Pearson Correlation between Gold ETF and Equity ETF Returns ::')\n",
    "print('Oct 2019:', corr_oct)\n",
    "print('Nov 2019:', corr_nov)"
   ]
  },
  {
   "cell_type": "markdown",
   "id": "d717447d",
   "metadata": {},
   "source": [
    "<div class=\"alert alert-block alert-success\">\n",
    "<b>Interpret the results as a group and include the answer in the html document for this question.  The interpretation should discuss the degree of correlation, and if it is affected by extreme returns:</b> \n",
    "\n",
    "We see a stronger negative correlation between Gold ETF and FTSE Equity ETF in the month of October 2019. However, in November 2019, the correlation became much weaker.\n",
    "</div>"
   ]
  },
  {
   "cell_type": "markdown",
   "id": "0169bdd1",
   "metadata": {},
   "source": [
    "**Appendix: Correlation between Gold ETF and US 2 YR T-Note yields**"
   ]
  },
  {
   "cell_type": "code",
   "execution_count": 48,
   "id": "8b14420c",
   "metadata": {
    "scrolled": false
   },
   "outputs": [
    {
     "data": {
      "text/html": [
       "<div>\n",
       "<style scoped>\n",
       "    .dataframe tbody tr th:only-of-type {\n",
       "        vertical-align: middle;\n",
       "    }\n",
       "\n",
       "    .dataframe tbody tr th {\n",
       "        vertical-align: top;\n",
       "    }\n",
       "\n",
       "    .dataframe thead th {\n",
       "        text-align: right;\n",
       "    }\n",
       "</style>\n",
       "<table border=\"1\" class=\"dataframe\">\n",
       "  <thead>\n",
       "    <tr style=\"text-align: right;\">\n",
       "      <th></th>\n",
       "      <th>Daily Returns</th>\n",
       "      <th>2 YR</th>\n",
       "    </tr>\n",
       "    <tr>\n",
       "      <th>Date</th>\n",
       "      <th></th>\n",
       "      <th></th>\n",
       "    </tr>\n",
       "  </thead>\n",
       "  <tbody>\n",
       "    <tr>\n",
       "      <th>2019-10-01</th>\n",
       "      <td>0.005473</td>\n",
       "      <td>-0.042945</td>\n",
       "    </tr>\n",
       "    <tr>\n",
       "      <th>2019-10-02</th>\n",
       "      <td>0.011674</td>\n",
       "      <td>-0.051282</td>\n",
       "    </tr>\n",
       "    <tr>\n",
       "      <th>2019-10-03</th>\n",
       "      <td>0.004531</td>\n",
       "      <td>-0.060811</td>\n",
       "    </tr>\n",
       "    <tr>\n",
       "      <th>2019-10-04</th>\n",
       "      <td>0.000000</td>\n",
       "      <td>0.007194</td>\n",
       "    </tr>\n",
       "    <tr>\n",
       "      <th>2019-10-07</th>\n",
       "      <td>-0.008527</td>\n",
       "      <td>0.042857</td>\n",
       "    </tr>\n",
       "    <tr>\n",
       "      <th>...</th>\n",
       "      <td>...</td>\n",
       "      <td>...</td>\n",
       "    </tr>\n",
       "    <tr>\n",
       "      <th>2019-11-22</th>\n",
       "      <td>-0.001884</td>\n",
       "      <td>0.006250</td>\n",
       "    </tr>\n",
       "    <tr>\n",
       "      <th>2019-11-25</th>\n",
       "      <td>-0.004792</td>\n",
       "      <td>0.000000</td>\n",
       "    </tr>\n",
       "    <tr>\n",
       "      <th>2019-11-26</th>\n",
       "      <td>0.004815</td>\n",
       "      <td>-0.018634</td>\n",
       "    </tr>\n",
       "    <tr>\n",
       "      <th>2019-11-27</th>\n",
       "      <td>-0.005300</td>\n",
       "      <td>0.031646</td>\n",
       "    </tr>\n",
       "    <tr>\n",
       "      <th>2019-11-29</th>\n",
       "      <td>0.006204</td>\n",
       "      <td>-0.012270</td>\n",
       "    </tr>\n",
       "  </tbody>\n",
       "</table>\n",
       "<p>41 rows × 2 columns</p>\n",
       "</div>"
      ],
      "text/plain": [
       "            Daily Returns      2 YR\n",
       "Date                               \n",
       "2019-10-01       0.005473 -0.042945\n",
       "2019-10-02       0.011674 -0.051282\n",
       "2019-10-03       0.004531 -0.060811\n",
       "2019-10-04       0.000000  0.007194\n",
       "2019-10-07      -0.008527  0.042857\n",
       "...                   ...       ...\n",
       "2019-11-22      -0.001884  0.006250\n",
       "2019-11-25      -0.004792  0.000000\n",
       "2019-11-26       0.004815 -0.018634\n",
       "2019-11-27      -0.005300  0.031646\n",
       "2019-11-29       0.006204 -0.012270\n",
       "\n",
       "[41 rows x 2 columns]"
      ]
     },
     "execution_count": 48,
     "metadata": {},
     "output_type": "execute_result"
    }
   ],
   "source": [
    "tnote_returns = treasury_df['2 YR'].pct_change()[1:]\n",
    "gold_vs_tnote = gold_etf_df['Daily Returns'].to_frame().join(tnote_returns, how='right')\n",
    "gold_vs_tnote"
   ]
  },
  {
   "cell_type": "code",
   "execution_count": 49,
   "id": "e63b454b",
   "metadata": {
    "scrolled": true
   },
   "outputs": [
    {
     "name": "stdout",
     "output_type": "stream",
     "text": [
      ":: Pearson Correlation between Gold ETF and 2 YR T-Note Returns ::\n",
      "Oct 2019: -0.7140834644204703\n",
      "Nov 2019: -0.73118772030372\n"
     ]
    }
   ],
   "source": [
    "gold_tnote_oct = gold_vs_tnote[:'2019-10-31']\n",
    "gold_tnote_nov = gold_vs_tnote['2019-11-01':]\n",
    "\n",
    "corr_gold_tnote_oct, _ = pearsonr(gold_tnote_oct['Daily Returns'], gold_tnote_oct['2 YR'])\n",
    "corr_gold_tnote_nov, _ = pearsonr(gold_tnote_nov['Daily Returns'], gold_tnote_nov['2 YR'])\n",
    "\n",
    "print(':: Pearson Correlation between Gold ETF and 2 YR T-Note Returns ::')\n",
    "print('Oct 2019:', corr_gold_tnote_oct)\n",
    "print('Nov 2019:', corr_gold_tnote_nov)"
   ]
  },
  {
   "cell_type": "code",
   "execution_count": null,
   "id": "dfa08d35",
   "metadata": {},
   "outputs": [],
   "source": []
  }
 ],
 "metadata": {
  "kernelspec": {
   "display_name": "Python 3",
   "language": "python",
   "name": "python3"
  },
  "language_info": {
   "codemirror_mode": {
    "name": "ipython",
    "version": 3
   },
   "file_extension": ".py",
   "mimetype": "text/x-python",
   "name": "python",
   "nbconvert_exporter": "python",
   "pygments_lexer": "ipython3",
   "version": "3.8.3"
  }
 },
 "nbformat": 4,
 "nbformat_minor": 5
}
