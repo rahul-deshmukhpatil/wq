{
 "cells": [
  {
   "cell_type": "markdown",
   "id": "661c9334",
   "metadata": {},
   "source": [
    "***\n",
    "# WorldQuant University\n",
    "<b>MScFE 610 Econometrics: Group Project 1 Submission</b><br>\n",
    "***\n",
    "\n",
    "<b>Group 11 Team Members:</b>\n",
    "\n",
    "- Beh Min Yan\n",
    "- Mohammadkian Maghsoodi\n",
    "- Rahul Patil\n",
    "\n",
    "# Question 7\n",
    "\n",
    "<b>This notebook contains our worked solutions to Q7, including code, outputs, and short answers as to the interpretation of results.</b>\n",
    "\n",
    "***"
   ]
  },
  {
   "cell_type": "markdown",
   "id": "4b40b37b",
   "metadata": {},
   "source": [
    "**Import Libraries and Relevant Datasets**"
   ]
  },
  {
   "cell_type": "code",
   "execution_count": 1,
   "id": "3a25f14d",
   "metadata": {},
   "outputs": [],
   "source": [
    "from arch import arch_model\n",
    "import numpy as np\n",
    "import pandas as pd\n",
    "\n",
    "# Import datasets calculated in Question 3\n",
    "gold_etf_df = pd.read_csv('gold.csv').set_index('Date')\n",
    "equity_etf_df = pd.read_csv('equity.csv').set_index('Date')"
   ]
  },
  {
   "cell_type": "markdown",
   "id": "b513c8bd",
   "metadata": {},
   "source": [
    "**Calculate log returns**"
   ]
  },
  {
   "cell_type": "code",
   "execution_count": 2,
   "id": "eaf4744e",
   "metadata": {},
   "outputs": [],
   "source": [
    "gold_etf_df['log_returns'] = np.log(gold_etf_df['Adj Close'] / gold_etf_df['Open'])\n",
    "equity_etf_df['log_returns'] = np.log(equity_etf_df['Adj Close'] / equity_etf_df['Open'])"
   ]
  },
  {
   "cell_type": "markdown",
   "id": "74c2359d",
   "metadata": {},
   "source": [
    "**Split all datasets into October and November 2019 datasets**"
   ]
  },
  {
   "cell_type": "code",
   "execution_count": 3,
   "id": "3eda7ed7",
   "metadata": {},
   "outputs": [],
   "source": [
    "gold_oct_df = gold_etf_df[:'2019-10-31']\n",
    "gold_nov_df = gold_etf_df['2019-11-01':]\n",
    "\n",
    "eq_oct_df = equity_etf_df[:'2019-10-31']\n",
    "eq_nov_df = equity_etf_df['2019-11-01':]"
   ]
  },
  {
   "cell_type": "markdown",
   "id": "93b604ac",
   "metadata": {},
   "source": [
    "# 7 Modelling Volatility"
   ]
  },
  {
   "cell_type": "markdown",
   "id": "09688fdc",
   "metadata": {},
   "source": [
    "<b>7.1) Using gold ETF prices, find the daily high minus low for each month.  Compute the average for October.  Compute the average for November.</b>"
   ]
  },
  {
   "cell_type": "code",
   "execution_count": 4,
   "id": "abe2a7f2",
   "metadata": {},
   "outputs": [
    {
     "name": "stdout",
     "output_type": "stream",
     "text": [
      ":: Average daily high minus low of Gold ETF Returns ::\n",
      "Oct 2019: 1.081305462381108\n",
      "Nov 2019: 0.9724975585937514\n"
     ]
    }
   ],
   "source": [
    "print(\":: Average daily high minus low of Gold ETF Returns ::\")\n",
    "print(\"Oct 2019:\", (gold_oct_df['High'] - gold_oct_df['Low']).mean())\n",
    "print(\"Nov 2019:\", (gold_nov_df['High'] - gold_nov_df['Low']).mean())"
   ]
  },
  {
   "cell_type": "markdown",
   "id": "b11566bc",
   "metadata": {},
   "source": [
    "<b>7.2) Using the gold ETF returns, find the standard deviation for October.  Repeat for November.</b>"
   ]
  },
  {
   "cell_type": "code",
   "execution_count": 5,
   "id": "86d11ac1",
   "metadata": {},
   "outputs": [
    {
     "name": "stdout",
     "output_type": "stream",
     "text": [
      ":: Standard Deviation of Gold ETF Returns ::\n",
      "Oct 2019: 0.006105665863245679\n",
      "Nov 2019: 0.006187936827514913\n"
     ]
    }
   ],
   "source": [
    "print(\":: Standard Deviation of Gold ETF Returns ::\")\n",
    "\n",
    "print(\"Oct 2019:\", gold_oct_df['Daily Returns'].std())\n",
    "print(\"Nov 2019:\", gold_nov_df['Daily Returns'].std())"
   ]
  },
  {
   "cell_type": "markdown",
   "id": "ce206156",
   "metadata": {},
   "source": [
    "<b>7.3) Using the October gold ETF returns, find a GARCH(1,1) model.  Repeat for November.</b>\n",
    "\n",
    "Rescaled input series so as not to affect the convergence of the garch optimizer."
   ]
  },
  {
   "cell_type": "code",
   "execution_count": 6,
   "id": "c6c8c564",
   "metadata": {
    "scrolled": true
   },
   "outputs": [
    {
     "name": "stdout",
     "output_type": "stream",
     "text": [
      "Iteration:      1,   Func. Count:      6,   Neg. LLF: 157077658.39340287\n",
      "Iteration:      2,   Func. Count:     13,   Neg. LLF: 15198293.116113331\n",
      "Iteration:      3,   Func. Count:     19,   Neg. LLF: 21.87822762457493\n",
      "Iteration:      4,   Func. Count:     25,   Neg. LLF: 35.47960871307513\n",
      "Iteration:      5,   Func. Count:     32,   Neg. LLF: 11.02993277634719\n",
      "Iteration:      6,   Func. Count:     37,   Neg. LLF: 11.024075402097038\n",
      "Iteration:      7,   Func. Count:     42,   Neg. LLF: 11.023342050301505\n",
      "Iteration:      8,   Func. Count:     47,   Neg. LLF: 11.023104032151133\n",
      "Iteration:      9,   Func. Count:     52,   Neg. LLF: 11.02309425343028\n",
      "Iteration:     10,   Func. Count:     56,   Neg. LLF: 11.023094253353\n",
      "Optimization terminated successfully    (Exit mode 0)\n",
      "            Current function value: 11.02309425343028\n",
      "            Iterations: 10\n",
      "            Function evaluations: 56\n",
      "            Gradient evaluations: 10\n"
     ]
    },
    {
     "data": {
      "text/plain": [
       "                     Constant Mean - GARCH Model Results                      \n",
       "==============================================================================\n",
       "Dep. Variable:            log_returns   R-squared:                       0.000\n",
       "Mean Model:             Constant Mean   Adj. R-squared:                  0.000\n",
       "Vol Model:                      GARCH   Log-Likelihood:               -11.0231\n",
       "Distribution:                  Normal   AIC:                           30.0462\n",
       "Method:            Maximum Likelihood   BIC:                           34.5882\n",
       "                                        No. Observations:                   23\n",
       "Date:                Tue, Sep 28 2021   Df Residuals:                       22\n",
       "Time:                        03:49:51   Df Model:                            1\n",
       "                                Mean Model                               \n",
       "=========================================================================\n",
       "                  coef    std err          t      P>|t|  95.0% Conf. Int.\n",
       "-------------------------------------------------------------------------\n",
       "mu         -1.9803e-03  5.543e-02 -3.573e-02      0.972 [ -0.111,  0.107]\n",
       "                               Volatility Model                              \n",
       "=============================================================================\n",
       "                 coef    std err          t      P>|t|       95.0% Conf. Int.\n",
       "-----------------------------------------------------------------------------\n",
       "omega          0.0264  2.291e-02      1.153      0.249 [-1.848e-02,7.133e-02]\n",
       "alpha[1]   4.6343e-13      0.117  3.948e-12      1.000      [ -0.230,  0.230]\n",
       "beta[1]        0.7731      0.280      2.765  5.698e-03      [  0.225,  1.321]\n",
       "=============================================================================\n",
       "\n",
       "Covariance estimator: robust\n",
       "ARCHModelResult, id: 0x21f4e8f1be0"
      ]
     },
     "execution_count": 6,
     "metadata": {},
     "output_type": "execute_result"
    }
   ],
   "source": [
    "# Fit GARCH(1,1) model for October gold ETF returns\n",
    "\n",
    "gld_garch_oct = arch_model(y = gold_oct_df['log_returns'] * 100, mean = \"Constant\", vol = \"GARCH\",\n",
    "                           p = 1, q = 1, dist = \"normal\")\n",
    "gld_garch_oct.fit()"
   ]
  },
  {
   "cell_type": "code",
   "execution_count": 7,
   "id": "a3b2ae4d",
   "metadata": {},
   "outputs": [
    {
     "name": "stdout",
     "output_type": "stream",
     "text": [
      "Iteration:      1,   Func. Count:      6,   Neg. LLF: 4846440.657456523\n",
      "Iteration:      2,   Func. Count:     17,   Neg. LLF: 78112689.22019531\n",
      "Iteration:      3,   Func. Count:     25,   Neg. LLF: 2319.4741695284283\n",
      "Iteration:      4,   Func. Count:     35,   Neg. LLF: 509452.38569218083\n",
      "Iteration:      5,   Func. Count:     45,   Neg. LLF: -80.62001805375402\n",
      "Optimization terminated successfully    (Exit mode 0)\n",
      "            Current function value: -80.62001805758193\n",
      "            Iterations: 9\n",
      "            Function evaluations: 45\n",
      "            Gradient evaluations: 5\n"
     ]
    },
    {
     "data": {
      "text/plain": [
       "                     Constant Mean - GARCH Model Results                      \n",
       "==============================================================================\n",
       "Dep. Variable:            log_returns   R-squared:                       0.000\n",
       "Mean Model:             Constant Mean   Adj. R-squared:                  0.000\n",
       "Vol Model:                      GARCH   Log-Likelihood:                80.6200\n",
       "Distribution:                  Normal   AIC:                          -153.240\n",
       "Method:            Maximum Likelihood   BIC:                          -149.257\n",
       "                                        No. Observations:                   20\n",
       "Date:                Tue, Sep 28 2021   Df Residuals:                       19\n",
       "Time:                        03:49:51   Df Model:                            1\n",
       "                                   Mean Model                                  \n",
       "===============================================================================\n",
       "                  coef    std err          t      P>|t|        95.0% Conf. Int.\n",
       "-------------------------------------------------------------------------------\n",
       "mu         -2.7675e-04  4.111e-07   -673.148      0.000 [-2.776e-04,-2.759e-04]\n",
       "                              Volatility Model                              \n",
       "============================================================================\n",
       "                 coef    std err          t      P>|t|      95.0% Conf. Int.\n",
       "----------------------------------------------------------------------------\n",
       "omega      5.5022e-06  1.746e-10  3.151e+04      0.000 [5.502e-06,5.502e-06]\n",
       "alpha[1]       0.0100  8.507e-02      0.118      0.906     [ -0.157,  0.177]\n",
       "beta[1]        0.6897      0.148      4.667  3.058e-06     [  0.400,  0.979]\n",
       "============================================================================\n",
       "\n",
       "Covariance estimator: robust\n",
       "ARCHModelResult, id: 0x21f4e8ca760"
      ]
     },
     "execution_count": 7,
     "metadata": {},
     "output_type": "execute_result"
    }
   ],
   "source": [
    "# Fit GARCH(1,1) model for November gold ETF returns\n",
    "\n",
    "gld_garch_nov = arch_model(y = gold_nov_df['log_returns'], mean = \"Constant\", vol = \"GARCH\",\n",
    "                           p = 1, q = 1, dist = \"normal\", rescale=False)\n",
    "gld_garch_nov.fit()"
   ]
  },
  {
   "cell_type": "markdown",
   "id": "d2feda86",
   "metadata": {},
   "source": [
    "<div class=\"alert alert-block alert-success\">\n",
    "<b>7.4) What are the significant changes, if any?  Be specific with regards to the values of the parameters:</b> <br/>\n",
    "As we can see the coeffiecient of \"Constant\" mean for both of these models on Gold ETF's returns are significant. This comes in no surprise, since returns are supposedly stationary in most cases.<br/>\n",
    "\n",
    "For the volatility model, in both months we have an insignificant alpha and a not-so-high beta value. The interesting point about both of these models is that alpha + beta = 0.7 meaning that the pace of decay of high or low volatility clusters is relatively fast for both months.<br/>\n",
    "\n",
    "Alpha values are insignificant so probably GARCH(1, 1) is not a suitable model after all, and the unexplained return shocks are not a good predictor of future volatility. But besides that, considering the higher value of alpha in the November GARCH, we may conclude that November was a more volatile month with higher \"volatility of volatility\" that the high alpha value points out. On the other hand, the very low value of alpha for October shows there was a relatively relaxed market in that month. <br/>\n",
    "</div>"
   ]
  },
  {
   "cell_type": "markdown",
   "id": "fff627a4",
   "metadata": {},
   "source": [
    "<b>7.5) Using equity ETF prices, find the daily high minus low for each month.  Compute the average for October.  Compute the average for November.</b>"
   ]
  },
  {
   "cell_type": "code",
   "execution_count": 8,
   "id": "3fdabf1d",
   "metadata": {},
   "outputs": [
    {
     "name": "stdout",
     "output_type": "stream",
     "text": [
      ":: Average daily high minus low of FTSE Equity ETF Returns ::\n",
      "Oct 2019: 0.37173909726350296\n",
      "Nov 2019: 0.23600006103515553\n"
     ]
    }
   ],
   "source": [
    "print(\":: Average daily high minus low of FTSE Equity ETF Returns ::\")\n",
    "print(\"Oct 2019:\", (eq_oct_df['High'] - eq_oct_df['Low']).mean())\n",
    "print(\"Nov 2019:\", (eq_nov_df['High'] - eq_nov_df['Low']).mean())"
   ]
  },
  {
   "cell_type": "markdown",
   "id": "55670bd0",
   "metadata": {},
   "source": [
    "<b>7.6) Using equity ETF returns, find the standard deviation for October.  Repeat for November.</b>"
   ]
  },
  {
   "cell_type": "code",
   "execution_count": 9,
   "id": "05da686f",
   "metadata": {},
   "outputs": [
    {
     "name": "stdout",
     "output_type": "stream",
     "text": [
      ":: Standard Deviation of FTSE Equity ETF Returns ::\n",
      "Oct 2019: 0.009298045053641981\n",
      "Nov 2019: 0.0038712522135273676\n"
     ]
    }
   ],
   "source": [
    "print(\":: Standard Deviation of FTSE Equity ETF Returns ::\")\n",
    "\n",
    "print(\"Oct 2019:\", eq_oct_df['Daily Returns'].std())\n",
    "print(\"Nov 2019:\", eq_nov_df['Daily Returns'].std())"
   ]
  },
  {
   "cell_type": "markdown",
   "id": "d016bc04",
   "metadata": {},
   "source": [
    "<b>7.7) Using October equity ETF returns, find a GARCH(1,1) model.  Repeat for November (3 points).</b>\n",
    "\n",
    "Fitting a GARCH(1,1) model for October 2019"
   ]
  },
  {
   "cell_type": "code",
   "execution_count": 10,
   "id": "09597e2d",
   "metadata": {},
   "outputs": [
    {
     "name": "stdout",
     "output_type": "stream",
     "text": [
      "Iteration:      1,   Func. Count:      6,   Neg. LLF: 160627656.50865933\n",
      "Iteration:      2,   Func. Count:     17,   Neg. LLF: 69085144100.40823\n",
      "Iteration:      3,   Func. Count:     30,   Neg. LLF: 1.216310347155446e+18\n",
      "Iteration:      4,   Func. Count:     42,   Neg. LLF: -91.46306969585416\n",
      "Optimization terminated successfully    (Exit mode 0)\n",
      "            Current function value: -91.46306990942827\n",
      "            Iterations: 8\n",
      "            Function evaluations: 42\n",
      "            Gradient evaluations: 4\n"
     ]
    },
    {
     "data": {
      "text/plain": [
       "                     Constant Mean - GARCH Model Results                      \n",
       "==============================================================================\n",
       "Dep. Variable:            log_returns   R-squared:                       0.000\n",
       "Mean Model:             Constant Mean   Adj. R-squared:                  0.000\n",
       "Vol Model:                      GARCH   Log-Likelihood:                91.4631\n",
       "Distribution:                  Normal   AIC:                          -174.926\n",
       "Method:            Maximum Likelihood   BIC:                          -170.384\n",
       "                                        No. Observations:                   23\n",
       "Date:                Tue, Sep 28 2021   Df Residuals:                       22\n",
       "Time:                        03:49:51   Df Model:                            1\n",
       "                                  Mean Model                                  \n",
       "==============================================================================\n",
       "                 coef    std err          t      P>|t|        95.0% Conf. Int.\n",
       "------------------------------------------------------------------------------\n",
       "mu            -0.0568  6.226e-08 -9.130e+05      0.000 [-5.684e-02,-5.684e-02]\n",
       "                              Volatility Model                              \n",
       "============================================================================\n",
       "                 coef    std err          t      P>|t|      95.0% Conf. Int.\n",
       "----------------------------------------------------------------------------\n",
       "omega      2.1850e-06  5.533e-11  3.949e+04      0.000 [2.185e-06,2.185e-06]\n",
       "alpha[1]       0.1000      0.244      0.410      0.682     [ -0.378,  0.578]\n",
       "beta[1]        0.8000      0.161      4.984  6.242e-07     [  0.485,  1.115]\n",
       "============================================================================\n",
       "\n",
       "Covariance estimator: robust\n",
       "ARCHModelResult, id: 0x21f0c83cf40"
      ]
     },
     "execution_count": 10,
     "metadata": {},
     "output_type": "execute_result"
    }
   ],
   "source": [
    "# Fit GARCH(1,1) model for October equity ETF returns\n",
    "\n",
    "eq_garch_oct = arch_model(y = eq_oct_df['log_returns'], mean = \"Constant\", vol = \"GARCH\",\n",
    "                          p = 1, q = 1, dist = \"normal\", rescale=False)\n",
    "eq_garch_oct.fit()"
   ]
  },
  {
   "cell_type": "code",
   "execution_count": 11,
   "id": "14cafaeb",
   "metadata": {},
   "outputs": [
    {
     "name": "stdout",
     "output_type": "stream",
     "text": [
      "Iteration:      1,   Func. Count:      6,   Neg. LLF: 168205394.17633623\n",
      "Iteration:      2,   Func. Count:     18,   Neg. LLF: -75.41252424133057\n",
      "Iteration:      3,   Func. Count:     26,   Neg. LLF: -89.9295938534827\n",
      "Iteration:      4,   Func. Count:     33,   Neg. LLF: 7646379.224150306\n",
      "Iteration:      5,   Func. Count:     45,   Neg. LLF: 3322860441.6029463\n",
      "Optimization terminated successfully    (Exit mode 0)\n",
      "            Current function value: -90.68962868018089\n",
      "            Iterations: 7\n",
      "            Function evaluations: 51\n",
      "            Gradient evaluations: 5\n"
     ]
    },
    {
     "data": {
      "text/plain": [
       "                     Constant Mean - GARCH Model Results                      \n",
       "==============================================================================\n",
       "Dep. Variable:            log_returns   R-squared:                       0.000\n",
       "Mean Model:             Constant Mean   Adj. R-squared:                  0.000\n",
       "Vol Model:                      GARCH   Log-Likelihood:                90.6896\n",
       "Distribution:                  Normal   AIC:                          -173.379\n",
       "Method:            Maximum Likelihood   BIC:                          -169.396\n",
       "                                        No. Observations:                   20\n",
       "Date:                Tue, Sep 28 2021   Df Residuals:                       19\n",
       "Time:                        03:49:52   Df Model:                            1\n",
       "                                  Mean Model                                  \n",
       "==============================================================================\n",
       "                 coef    std err          t      P>|t|        95.0% Conf. Int.\n",
       "------------------------------------------------------------------------------\n",
       "mu            -0.0577  2.234e-06 -2.581e+04      0.000 [-5.767e-02,-5.766e-02]\n",
       "                              Volatility Model                              \n",
       "============================================================================\n",
       "                 coef    std err          t      P>|t|      95.0% Conf. Int.\n",
       "----------------------------------------------------------------------------\n",
       "omega      3.3957e-06  4.861e-10   6986.323      0.000 [3.395e-06,3.397e-06]\n",
       "alpha[1]   9.8578e-03      0.266  3.701e-02      0.970     [ -0.512,  0.532]\n",
       "beta[1]        0.4874      0.307      1.589      0.112     [ -0.114,  1.088]\n",
       "============================================================================\n",
       "\n",
       "Covariance estimator: robust\n",
       "ARCHModelResult, id: 0x21f0c847c10"
      ]
     },
     "execution_count": 11,
     "metadata": {},
     "output_type": "execute_result"
    }
   ],
   "source": [
    "# Fit GARCH(1,1) model for November equity ETF returns\n",
    "\n",
    "eq_garch_nov = arch_model(y = eq_nov_df['log_returns'], mean = \"Constant\", vol = \"GARCH\",\n",
    "                          p = 1, q = 1, dist = \"normal\", rescale=False)\n",
    "eq_garch_nov.fit()"
   ]
  },
  {
   "cell_type": "markdown",
   "id": "792cbaef",
   "metadata": {},
   "source": [
    "<div class=\"alert alert-block alert-success\">\n",
    "<b>7.8) What are the significant changes, if any?  Be specific with regards to the values of the parameters:</b> <br/>\n",
    "As we can see the coeffiecient of \"Constant\" mean for both of these models on Equity ETF's returns are significant. This comes in no supprise, since returns are supposedly stationary in most cases.<br/>\n",
    "\n",
    "For October, the model has very high alpha and a relatively high beta, meaning that this month the market was very stressed with high volatility of volatility. Sum of alpha and beta is 0.9 meaning that the volatility is persistent and it dies off at very low pace. <br/>\n",
    "\n",
    "For November, neither alpha nor beta are significant, that might mean that GARCH(1, 1) is not a good model for volatility in this month. Regardless, a very low alpha is a hallmark for a relaxed market in this month and since beta + alpha equals 0.7, the volatility clusters die off faster in this month.<br/>\n",
    "</div>"
   ]
  }
 ],
 "metadata": {
  "kernelspec": {
   "display_name": "Python 3",
   "language": "python",
   "name": "python3"
  },
  "language_info": {
   "codemirror_mode": {
    "name": "ipython",
    "version": 3
   },
   "file_extension": ".py",
   "mimetype": "text/x-python",
   "name": "python",
   "nbconvert_exporter": "python",
   "pygments_lexer": "ipython3",
   "version": "3.8.3"
  }
 },
 "nbformat": 4,
 "nbformat_minor": 5
}
