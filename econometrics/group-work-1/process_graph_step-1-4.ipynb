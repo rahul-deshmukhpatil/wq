{
 "cells": [
  {
   "cell_type": "code",
   "execution_count": null,
   "id": "fd19373e",
   "metadata": {},
   "outputs": [],
   "source": [
    "import yfinance as yf\n",
    "import pandas as pd\n",
    "from matplotlib import pyplot as plt"
   ]
  },
  {
   "cell_type": "code",
   "execution_count": null,
   "id": "23320c71",
   "metadata": {},
   "outputs": [],
   "source": [
    "START_DATE = '2019-10-01'\n",
    "END_DATE = '2019-11-30'\n",
    "NASDAQ_TREASURY_DATA_CSV_URL = \\\n",
    "    \"https://data.nasdaq.com/api/v3/datasets/USTREASURY/YIELD.csv?api_key=x6ZcYtB4RzvAVop7E-U6\""
   ]
  },
  {
   "cell_type": "code",
   "execution_count": null,
   "id": "c9b1815f",
   "metadata": {},
   "outputs": [],
   "source": [
    "# We have chosen below ETFS\n",
    "# Vanguard FTSE Europe Index Fund ETF Shares (VGK)\n",
    "#   https://finance.yahoo.com/quote/vgk/\n",
    "# SPDR Gold Shares (GLD)\n",
    "#   https://finance.yahoo.com/quote/GLD/\n",
    "SPDR_GOLD_ETF = 'GLD'\n",
    "VOODOO_FTSE_ETF = 'VGK'"
   ]
  },
  {
   "cell_type": "code",
   "execution_count": null,
   "id": "0efa9e53",
   "metadata": {},
   "outputs": [],
   "source": [
    "# 10 Years treasury data, so filter using START_DATE and END_DATE\n",
    "treasury_yield_df = pd.read_csv(NASDAQ_TREASURY_DATA_CSV_URL, header=0, parse_dates=[0],\n",
    "                                infer_datetime_format=True) \\\n",
    "                        .set_index('Date') \\\n",
    "                       # .loc[START_DATE:END_DATE]"
   ]
  },
  {
   "cell_type": "code",
   "execution_count": null,
   "id": "b72156c0",
   "metadata": {},
   "outputs": [],
   "source": [
    "labels_to_drop = ['1 MO', '2 MO', '3 MO', '6 MO', '1 YR', '20 YR']\n",
    "treasury_yield_df = treasury_yield_df.drop(columns=labels_to_drop)\n",
    "treasury_yield_df = treasury_yield_df .loc[(treasury_yield_df.index >= START_DATE) & (treasury_yield_df.index <= END_DATE)]"
   ]
  },
  {
   "cell_type": "code",
   "execution_count": null,
   "id": "cce1d8b6",
   "metadata": {},
   "outputs": [],
   "source": [
    "# Yahoo returns last day of Sept as well, so filter using START_DATE and END_DATE\n",
    "gold_etf_df = yf.download(\n",
    "    [SPDR_GOLD_ETF], start=START_DATE, end=END_DATE).loc[START_DATE:END_DATE]\n",
    "ftse_etf_df = yf.download([VOODOO_FTSE_ETF], start=START_DATE, end=END_DATE).loc[\n",
    "              START_DATE:END_DATE]"
   ]
  },
  {
   "cell_type": "code",
   "execution_count": null,
   "id": "ba3c8150",
   "metadata": {},
   "outputs": [],
   "source": [
    "# 2.1\tCompute the daily returns of your Gold ETF\n",
    "gold_etf_df['Daily_returns'] = gold_etf_df['Open'] - gold_etf_df['Close']\n",
    "# 2.1\tCompute the daily returns of your Gold ETF\n",
    "ftse_etf_df['Daily_returns'] = ftse_etf_df['Open'] - ftse_etf_df['Close']"
   ]
  },
  {
   "cell_type": "code",
   "execution_count": null,
   "id": "3beed71c",
   "metadata": {},
   "outputs": [],
   "source": [
    "def calculate_monthly_avg_price_or_yield(df, col_name, month):\n",
    "    monthly_average = df[col_name].groupby(\n",
    "        df.index.map(lambda x: x.month)).mean()\n",
    "    return monthly_average[month]"
   ]
  },
  {
   "cell_type": "code",
   "execution_count": null,
   "id": "891f077c",
   "metadata": {},
   "outputs": [],
   "source": [
    "# 3.1 to 3.3\n",
    "# calculate avg yield/price of bonds and ETFs for Oct19 and Nov19\n",
    "calculate_monthly_avg_price_or_yield(treasury_yield_df, '2 YR', 10)\n",
    "calculate_monthly_avg_price_or_yield(treasury_yield_df, '3 YR', 10)\n",
    "calculate_monthly_avg_price_or_yield(treasury_yield_df, '5 YR', 10)\n",
    "calculate_monthly_avg_price_or_yield(treasury_yield_df, '7 YR', 10)\n",
    "calculate_monthly_avg_price_or_yield(treasury_yield_df, '10 YR', 10)\n",
    "calculate_monthly_avg_price_or_yield(treasury_yield_df, '30 YR', 10)\n",
    "calculate_monthly_avg_price_or_yield(gold_etf_df, 'Close', 10)\n",
    "calculate_monthly_avg_price_or_yield(ftse_etf_df, 'Close', 10)"
   ]
  },
  {
   "cell_type": "code",
   "execution_count": null,
   "id": "f498c9f2",
   "metadata": {},
   "outputs": [],
   "source": [
    "calculate_monthly_avg_price_or_yield(treasury_yield_df, '2 YR', 11)\n",
    "calculate_monthly_avg_price_or_yield(treasury_yield_df, '3 YR', 11)\n",
    "calculate_monthly_avg_price_or_yield(treasury_yield_df, '5 YR', 11)\n",
    "calculate_monthly_avg_price_or_yield(treasury_yield_df, '7 YR', 11)\n",
    "calculate_monthly_avg_price_or_yield(treasury_yield_df, '10 YR', 11)\n",
    "calculate_monthly_avg_price_or_yield(treasury_yield_df, '30 YR', 11)\n",
    "calculate_monthly_avg_price_or_yield(gold_etf_df, 'Close', 11)\n",
    "calculate_monthly_avg_price_or_yield(ftse_etf_df, 'Close', 11)"
   ]
  },
  {
   "cell_type": "code",
   "execution_count": null,
   "id": "3e2a89a8",
   "metadata": {},
   "outputs": [],
   "source": [
    "def calculate_std_deviation_in_price_or_yield(df, col_name, month):\n",
    "    monthly_average = df[col_name].groupby(\n",
    "        df.index.map(lambda x: x.month)).std()\n",
    "    return monthly_average[month]"
   ]
  },
  {
   "cell_type": "code",
   "execution_count": null,
   "id": "e47ba658",
   "metadata": {},
   "outputs": [],
   "source": [
    "# 3.4 to 3.6\n",
    "# calculate  std deviation in yield/price of bonds and ETFs for Oct19 and Nov19\n",
    "calculate_std_deviation_in_price_or_yield(treasury_yield_df, '2 YR', 10)\n",
    "calculate_std_deviation_in_price_or_yield(treasury_yield_df, '3 YR', 10)\n",
    "calculate_std_deviation_in_price_or_yield(treasury_yield_df, '5 YR', 10)\n",
    "calculate_std_deviation_in_price_or_yield(treasury_yield_df, '7 YR', 10)\n",
    "calculate_std_deviation_in_price_or_yield(treasury_yield_df, '10 YR', 10)\n",
    "calculate_std_deviation_in_price_or_yield(treasury_yield_df, '30 YR', 10)\n",
    "calculate_std_deviation_in_price_or_yield(gold_etf_df, 'Close', 10)\n",
    "calculate_std_deviation_in_price_or_yield(ftse_etf_df, 'Close', 10)"
   ]
  },
  {
   "cell_type": "code",
   "execution_count": null,
   "id": "570ffafa",
   "metadata": {
    "lines_to_next_cell": 2
   },
   "outputs": [],
   "source": [
    "calculate_std_deviation_in_price_or_yield(treasury_yield_df, '2 YR', 11)\n",
    "calculate_std_deviation_in_price_or_yield(treasury_yield_df, '3 YR', 11)\n",
    "calculate_std_deviation_in_price_or_yield(treasury_yield_df, '5 YR', 11)\n",
    "calculate_std_deviation_in_price_or_yield(treasury_yield_df, '7 YR', 11)\n",
    "calculate_std_deviation_in_price_or_yield(treasury_yield_df, '10 YR', 11)\n",
    "calculate_std_deviation_in_price_or_yield(treasury_yield_df, '30 YR', 11)\n",
    "calculate_std_deviation_in_price_or_yield(gold_etf_df, 'Close', 11)\n",
    "calculate_std_deviation_in_price_or_yield(ftse_etf_df, 'Close', 11)"
   ]
  },
  {
   "cell_type": "code",
   "execution_count": null,
   "id": "81fd6515",
   "metadata": {},
   "outputs": [],
   "source": [
    "# 4.1 Graph the 6 benchmark securities for the 2 months on 1 plot\n",
    "treasury_yield_df.plot(ylabel='Yields', grid=True)"
   ]
  },
  {
   "cell_type": "code",
   "execution_count": null,
   "id": "e1ef8040",
   "metadata": {},
   "outputs": [],
   "source": [
    "# 4.2 On a separate graph, plot the gold ETF prices\n",
    "# 4.3 On the same graph, plot the equity ETF prices\n",
    "etf_prices = ftse_etf_df\n",
    "etf_prices['fste_etf_price'] = ftse_etf_df['Close']\n",
    "etf_prices['gold_etf_price'] = gold_etf_df['Close']\n",
    "etf_prices.plot(y=['fste_etf_price', 'gold_etf_price'], ylabel='gold_etf_price', secondary_y=['fste_etf_price'], grid=True)"
   ]
  },
  {
   "cell_type": "code",
   "execution_count": null,
   "id": "b46c344e",
   "metadata": {},
   "outputs": [],
   "source": [
    "pass"
   ]
  }
 ],
 "metadata": {
  "jupytext": {
   "cell_metadata_filter": "-all",
   "main_language": "python",
   "notebook_metadata_filter": "-all"
  }
 },
 "nbformat": 4,
 "nbformat_minor": 5
}
