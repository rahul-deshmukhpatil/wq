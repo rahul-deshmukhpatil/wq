{
 "cells": [
  {
   "cell_type": "code",
   "execution_count": 1,
   "id": "0262dfb0",
   "metadata": {},
   "outputs": [],
   "source": [
    "import yfinance as yf\n",
    "import pandas as pd"
   ]
  },
  {
   "cell_type": "code",
   "execution_count": 2,
   "id": "d4c562ca",
   "metadata": {},
   "outputs": [],
   "source": [
    "START_DATE = '2019-10-01'\n",
    "END_DATE = '2019-11-30'\n",
    "OCT_MONTH = 10\n",
    "NOV_MONTH = 11\n",
    "NASDAQ_TREASURY_DATA_CSV_URL = \\\n",
    "    \"https://data.nasdaq.com/api/v3/datasets/USTREASURY/YIELD.csv?api_key=x6ZcYtB4RzvAVop7E-U6\""
   ]
  },
  {
   "cell_type": "code",
   "execution_count": 3,
   "id": "a16cd8c2",
   "metadata": {},
   "outputs": [],
   "source": [
    "# We have chosen below ETFS\n",
    "# Vanguard FTSE Europe Index Fund ETF Shares (VGK)\n",
    "#   https://finance.yahoo.com/quote/vgk/\n",
    "# SPDR Gold Shares (GLD)\n",
    "#   https://finance.yahoo.com/quote/GLD/\n",
    "SPDR_GOLD_ETF = 'GLD'\n",
    "VOODOO_FTSE_ETF = 'VGK'"
   ]
  },
  {
   "cell_type": "code",
   "execution_count": 4,
   "id": "5041cfca",
   "metadata": {},
   "outputs": [],
   "source": [
    "# 10 Years treasury data, so filter using START_DATE and END_DATE\n",
    "treasury_yield_df = pd.read_csv(NASDAQ_TREASURY_DATA_CSV_URL, header=0, parse_dates=[0],\n",
    "                                infer_datetime_format=True) \\\n",
    "    .set_index('Date')\n",
    "labels_to_drop = ['1 MO', '2 MO', '3 MO', '6 MO', '1 YR', '20 YR']\n",
    "treasury_yield_df = treasury_yield_df.drop(columns=labels_to_drop)\n",
    "treasury_yield_df = treasury_yield_df.loc[\n",
    "    (treasury_yield_df.index >= START_DATE) & (treasury_yield_df.index <= END_DATE)]"
   ]
  },
  {
   "cell_type": "code",
   "execution_count": 5,
   "id": "60f58634",
   "metadata": {},
   "outputs": [
    {
     "name": "stdout",
     "output_type": "stream",
     "text": [
      "[*********************100%***********************]  1 of 1 completed\n",
      "[*********************100%***********************]  1 of 1 completed\n"
     ]
    }
   ],
   "source": [
    "# Yahoo returns last day of Sept as well, so filter using START_DATE and END_DATE\n",
    "gold_etf_df = yf.download(\n",
    "    [SPDR_GOLD_ETF], start=START_DATE, end=END_DATE).loc[START_DATE:END_DATE]\n",
    "ftse_etf_df = yf.download([VOODOO_FTSE_ETF], start=START_DATE, end=END_DATE).loc[\n",
    "              START_DATE:END_DATE]"
   ]
  },
  {
   "cell_type": "code",
   "execution_count": 6,
   "id": "ee377040",
   "metadata": {},
   "outputs": [
    {
     "name": "stderr",
     "output_type": "stream",
     "text": [
      "/tmp/ipykernel_34279/615614034.py:4: SettingWithCopyWarning: \n",
      "A value is trying to be set on a copy of a slice from a DataFrame.\n",
      "Try using .loc[row_indexer,col_indexer] = value instead\n",
      "\n",
      "See the caveats in the documentation: https://pandas.pydata.org/pandas-docs/stable/user_guide/indexing.html#returning-a-view-versus-a-copy\n",
      "  ftse_etf_df['Daily_returns'] = ftse_etf_df['Open'] - ftse_etf_df['Close']\n"
     ]
    }
   ],
   "source": [
    "# 2.1\tCompute the daily returns of your Gold ETF\n",
    "gold_etf_df['Daily_returns'] = gold_etf_df['Open'] - gold_etf_df['Close']\n",
    "# 2.1\tCompute the daily returns of your Gold ETF\n",
    "ftse_etf_df['Daily_returns'] = ftse_etf_df['Open'] - ftse_etf_df['Close']"
   ]
  },
  {
   "cell_type": "code",
   "execution_count": 7,
   "id": "f8fd66bf",
   "metadata": {},
   "outputs": [],
   "source": [
    "def calculate_monthly_avg_price_or_yield(df, col_name, month):\n",
    "    monthly_average = df[col_name].groupby(\n",
    "        df.index.map(lambda x: x.month)).mean()\n",
    "    return monthly_average[month]"
   ]
  },
  {
   "cell_type": "code",
   "execution_count": 8,
   "id": "ee019213",
   "metadata": {},
   "outputs": [],
   "source": [
    "def calculate_std_deviation_in_price_or_yield(df, col_name, month):\n",
    "    monthly_average = df[col_name].groupby(\n",
    "        df.index.map(lambda x: x.month)).std()\n",
    "    return monthly_average[month]"
   ]
  },
  {
   "cell_type": "code",
   "execution_count": 9,
   "id": "141714dd",
   "metadata": {},
   "outputs": [
    {
     "data": {
      "text/plain": [
       "1.5513636363636365"
      ]
     },
     "execution_count": 9,
     "metadata": {},
     "output_type": "execute_result"
    }
   ],
   "source": [
    "# 3.1 to 3.3\n",
    "# calculate avg yield/price of bonds and ETFs for Oct19 and Nov19\n",
    "calculate_monthly_avg_price_or_yield(treasury_yield_df, '2 YR', OCT_MONTH)"
   ]
  },
  {
   "cell_type": "code",
   "execution_count": 10,
   "id": "afc81bd8",
   "metadata": {},
   "outputs": [
    {
     "data": {
      "text/plain": [
       "1.528181818181818"
      ]
     },
     "execution_count": 10,
     "metadata": {},
     "output_type": "execute_result"
    }
   ],
   "source": [
    "calculate_monthly_avg_price_or_yield(treasury_yield_df, '3 YR', OCT_MONTH)"
   ]
  },
  {
   "cell_type": "code",
   "execution_count": 11,
   "id": "2e56c761",
   "metadata": {},
   "outputs": [
    {
     "data": {
      "text/plain": [
       "1.525"
      ]
     },
     "execution_count": 11,
     "metadata": {},
     "output_type": "execute_result"
    }
   ],
   "source": [
    "calculate_monthly_avg_price_or_yield(treasury_yield_df, '5 YR', OCT_MONTH)"
   ]
  },
  {
   "cell_type": "code",
   "execution_count": 12,
   "id": "afe941db",
   "metadata": {},
   "outputs": [
    {
     "data": {
      "text/plain": [
       "1.615"
      ]
     },
     "execution_count": 12,
     "metadata": {},
     "output_type": "execute_result"
    }
   ],
   "source": [
    "calculate_monthly_avg_price_or_yield(treasury_yield_df, '7 YR', OCT_MONTH)"
   ]
  },
  {
   "cell_type": "code",
   "execution_count": 13,
   "id": "536bdddd",
   "metadata": {},
   "outputs": [
    {
     "data": {
      "text/plain": [
       "1.7068181818181818"
      ]
     },
     "execution_count": 13,
     "metadata": {},
     "output_type": "execute_result"
    }
   ],
   "source": [
    "calculate_monthly_avg_price_or_yield(treasury_yield_df, '10 YR', OCT_MONTH)"
   ]
  },
  {
   "cell_type": "code",
   "execution_count": 14,
   "id": "6b2349e4",
   "metadata": {},
   "outputs": [
    {
     "data": {
      "text/plain": [
       "2.1904545454545454"
      ]
     },
     "execution_count": 14,
     "metadata": {},
     "output_type": "execute_result"
    }
   ],
   "source": [
    "calculate_monthly_avg_price_or_yield(treasury_yield_df, '30 YR', OCT_MONTH)"
   ]
  },
  {
   "cell_type": "code",
   "execution_count": 15,
   "id": "3b33aecc",
   "metadata": {},
   "outputs": [
    {
     "data": {
      "text/plain": [
       "140.87478173297384"
      ]
     },
     "execution_count": 15,
     "metadata": {},
     "output_type": "execute_result"
    }
   ],
   "source": [
    "calculate_monthly_avg_price_or_yield(gold_etf_df, 'Close', OCT_MONTH)"
   ]
  },
  {
   "cell_type": "code",
   "execution_count": 16,
   "id": "efcb77c0",
   "metadata": {},
   "outputs": [
    {
     "data": {
      "text/plain": [
       "54.08000033834706"
      ]
     },
     "execution_count": 16,
     "metadata": {},
     "output_type": "execute_result"
    }
   ],
   "source": [
    "calculate_monthly_avg_price_or_yield(ftse_etf_df, 'Close', OCT_MONTH)"
   ]
  },
  {
   "cell_type": "code",
   "execution_count": 17,
   "id": "bcc160de",
   "metadata": {},
   "outputs": [
    {
     "data": {
      "text/plain": [
       "1.6126315789473684"
      ]
     },
     "execution_count": 17,
     "metadata": {},
     "output_type": "execute_result"
    }
   ],
   "source": [
    "calculate_monthly_avg_price_or_yield(treasury_yield_df, '2 YR', NOV_MONTH)"
   ]
  },
  {
   "cell_type": "code",
   "execution_count": 18,
   "id": "fb15add3",
   "metadata": {},
   "outputs": [
    {
     "data": {
      "text/plain": [
       "1.612105263157895"
      ]
     },
     "execution_count": 18,
     "metadata": {},
     "output_type": "execute_result"
    }
   ],
   "source": [
    "calculate_monthly_avg_price_or_yield(treasury_yield_df, '3 YR', NOV_MONTH)"
   ]
  },
  {
   "cell_type": "code",
   "execution_count": 19,
   "id": "b6773bd7",
   "metadata": {},
   "outputs": [
    {
     "data": {
      "text/plain": [
       "1.6394736842105262"
      ]
     },
     "execution_count": 19,
     "metadata": {},
     "output_type": "execute_result"
    }
   ],
   "source": [
    "calculate_monthly_avg_price_or_yield(treasury_yield_df, '5 YR', NOV_MONTH)"
   ]
  },
  {
   "cell_type": "code",
   "execution_count": 20,
   "id": "97fea9a9",
   "metadata": {},
   "outputs": [
    {
     "data": {
      "text/plain": [
       "1.7357894736842103"
      ]
     },
     "execution_count": 20,
     "metadata": {},
     "output_type": "execute_result"
    }
   ],
   "source": [
    "calculate_monthly_avg_price_or_yield(treasury_yield_df, '7 YR', NOV_MONTH)"
   ]
  },
  {
   "cell_type": "code",
   "execution_count": 21,
   "id": "b7da5559",
   "metadata": {},
   "outputs": [
    {
     "data": {
      "text/plain": [
       "1.8121052631578947"
      ]
     },
     "execution_count": 21,
     "metadata": {},
     "output_type": "execute_result"
    }
   ],
   "source": [
    "calculate_monthly_avg_price_or_yield(treasury_yield_df, '10 YR', NOV_MONTH)"
   ]
  },
  {
   "cell_type": "code",
   "execution_count": 22,
   "id": "bd80f832",
   "metadata": {},
   "outputs": [
    {
     "data": {
      "text/plain": [
       "2.2805263157894737"
      ]
     },
     "execution_count": 22,
     "metadata": {},
     "output_type": "execute_result"
    }
   ],
   "source": [
    "calculate_monthly_avg_price_or_yield(treasury_yield_df, '30 YR', NOV_MONTH)"
   ]
  },
  {
   "cell_type": "code",
   "execution_count": 23,
   "id": "093d4dfe",
   "metadata": {},
   "outputs": [
    {
     "data": {
      "text/plain": [
       "138.57049942016602"
      ]
     },
     "execution_count": 23,
     "metadata": {},
     "output_type": "execute_result"
    }
   ],
   "source": [
    "calculate_monthly_avg_price_or_yield(gold_etf_df, 'Close', NOV_MONTH)"
   ]
  },
  {
   "cell_type": "code",
   "execution_count": 24,
   "id": "2439a9ba",
   "metadata": {},
   "outputs": [
    {
     "data": {
      "text/plain": [
       "56.30899982452392"
      ]
     },
     "execution_count": 24,
     "metadata": {},
     "output_type": "execute_result"
    }
   ],
   "source": [
    "calculate_monthly_avg_price_or_yield(ftse_etf_df, 'Close', NOV_MONTH)"
   ]
  },
  {
   "cell_type": "code",
   "execution_count": 25,
   "id": "bca836fc",
   "metadata": {},
   "outputs": [
    {
     "data": {
      "text/plain": [
       "0.08031458709619882"
      ]
     },
     "execution_count": 25,
     "metadata": {},
     "output_type": "execute_result"
    }
   ],
   "source": [
    "# 3.4 to 3.6\n",
    "# calculate  std deviation in yield/price of bonds and ETFs for Oct19 and Nov19\n",
    "calculate_std_deviation_in_price_or_yield(treasury_yield_df, '2 YR', OCT_MONTH)"
   ]
  },
  {
   "cell_type": "code",
   "execution_count": 26,
   "id": "ec6b8df0",
   "metadata": {},
   "outputs": [
    {
     "data": {
      "text/plain": [
       "0.09644324082743551"
      ]
     },
     "execution_count": 26,
     "metadata": {},
     "output_type": "execute_result"
    }
   ],
   "source": [
    "calculate_std_deviation_in_price_or_yield(treasury_yield_df, '3 YR', OCT_MONTH)"
   ]
  },
  {
   "cell_type": "code",
   "execution_count": 27,
   "id": "c1e9f7aa",
   "metadata": {},
   "outputs": [
    {
     "data": {
      "text/plain": [
       "0.10446006299971662"
      ]
     },
     "execution_count": 27,
     "metadata": {},
     "output_type": "execute_result"
    }
   ],
   "source": [
    "calculate_std_deviation_in_price_or_yield(treasury_yield_df, '5 YR', OCT_MONTH)"
   ]
  },
  {
   "cell_type": "code",
   "execution_count": 28,
   "id": "67dcf0a3",
   "metadata": {},
   "outputs": [
    {
     "data": {
      "text/plain": [
       "0.10065263226042505"
      ]
     },
     "execution_count": 28,
     "metadata": {},
     "output_type": "execute_result"
    }
   ],
   "source": [
    "calculate_std_deviation_in_price_or_yield(treasury_yield_df, '7 YR', OCT_MONTH)"
   ]
  },
  {
   "cell_type": "code",
   "execution_count": 29,
   "id": "2e4c8873",
   "metadata": {},
   "outputs": [
    {
     "data": {
      "text/plain": [
       "0.10480759530984397"
      ]
     },
     "execution_count": 29,
     "metadata": {},
     "output_type": "execute_result"
    }
   ],
   "source": [
    "calculate_std_deviation_in_price_or_yield(treasury_yield_df, '10 YR', OCT_MONTH)"
   ]
  },
  {
   "cell_type": "code",
   "execution_count": 30,
   "id": "353e63a3",
   "metadata": {},
   "outputs": [
    {
     "data": {
      "text/plain": [
       "0.10129999166677325"
      ]
     },
     "execution_count": 30,
     "metadata": {},
     "output_type": "execute_result"
    }
   ],
   "source": [
    "calculate_std_deviation_in_price_or_yield(treasury_yield_df, '30 YR', OCT_MONTH)"
   ]
  },
  {
   "cell_type": "code",
   "execution_count": 31,
   "id": "20146c1d",
   "metadata": {},
   "outputs": [
    {
     "data": {
      "text/plain": [
       "0.8312292769141982"
      ]
     },
     "execution_count": 31,
     "metadata": {},
     "output_type": "execute_result"
    }
   ],
   "source": [
    "calculate_std_deviation_in_price_or_yield(gold_etf_df, 'Close', OCT_MONTH)"
   ]
  },
  {
   "cell_type": "code",
   "execution_count": 32,
   "id": "ce1de998",
   "metadata": {
    "lines_to_next_cell": 2
   },
   "outputs": [
    {
     "data": {
      "text/plain": [
       "1.3957369784582774"
      ]
     },
     "execution_count": 32,
     "metadata": {},
     "output_type": "execute_result"
    }
   ],
   "source": [
    "calculate_std_deviation_in_price_or_yield(ftse_etf_df, 'Close', OCT_MONTH)"
   ]
  },
  {
   "cell_type": "code",
   "execution_count": 33,
   "id": "e36e68c2",
   "metadata": {},
   "outputs": [
    {
     "data": {
      "text/plain": [
       "0.033803698887540846"
      ]
     },
     "execution_count": 33,
     "metadata": {},
     "output_type": "execute_result"
    }
   ],
   "source": [
    "calculate_std_deviation_in_price_or_yield(treasury_yield_df, '2 YR', NOV_MONTH)"
   ]
  },
  {
   "cell_type": "code",
   "execution_count": 34,
   "id": "edbc2a1d",
   "metadata": {},
   "outputs": [
    {
     "data": {
      "text/plain": [
       "0.044042775592273216"
      ]
     },
     "execution_count": 34,
     "metadata": {},
     "output_type": "execute_result"
    }
   ],
   "source": [
    "calculate_std_deviation_in_price_or_yield(treasury_yield_df, '3 YR', NOV_MONTH)"
   ]
  },
  {
   "cell_type": "code",
   "execution_count": 35,
   "id": "cce461bb",
   "metadata": {},
   "outputs": [
    {
     "data": {
      "text/plain": [
       "0.052754534740366246"
      ]
     },
     "execution_count": 35,
     "metadata": {},
     "output_type": "execute_result"
    }
   ],
   "source": [
    "calculate_std_deviation_in_price_or_yield(treasury_yield_df, '5 YR', NOV_MONTH)"
   ]
  },
  {
   "cell_type": "code",
   "execution_count": 36,
   "id": "69dbe1f7",
   "metadata": {},
   "outputs": [
    {
     "data": {
      "text/plain": [
       "0.0610387663223304"
      ]
     },
     "execution_count": 36,
     "metadata": {},
     "output_type": "execute_result"
    }
   ],
   "source": [
    "calculate_std_deviation_in_price_or_yield(treasury_yield_df, '7 YR', NOV_MONTH)"
   ]
  },
  {
   "cell_type": "code",
   "execution_count": 37,
   "id": "0b61b07f",
   "metadata": {},
   "outputs": [
    {
     "data": {
      "text/plain": [
       "0.06502810908184431"
      ]
     },
     "execution_count": 37,
     "metadata": {},
     "output_type": "execute_result"
    }
   ],
   "source": [
    "calculate_std_deviation_in_price_or_yield(treasury_yield_df, '10 YR', NOV_MONTH)"
   ]
  },
  {
   "cell_type": "code",
   "execution_count": 38,
   "id": "0e1018d0",
   "metadata": {},
   "outputs": [
    {
     "data": {
      "text/plain": [
       "0.07691797104062115"
      ]
     },
     "execution_count": 38,
     "metadata": {},
     "output_type": "execute_result"
    }
   ],
   "source": [
    "calculate_std_deviation_in_price_or_yield(treasury_yield_df, '30 YR', NOV_MONTH)"
   ]
  },
  {
   "cell_type": "code",
   "execution_count": 39,
   "id": "d0243efa",
   "metadata": {},
   "outputs": [
    {
     "data": {
      "text/plain": [
       "1.562094575152957"
      ]
     },
     "execution_count": 39,
     "metadata": {},
     "output_type": "execute_result"
    }
   ],
   "source": [
    "calculate_std_deviation_in_price_or_yield(gold_etf_df, 'Close', NOV_MONTH)"
   ]
  },
  {
   "cell_type": "code",
   "execution_count": 40,
   "id": "421b3f36",
   "metadata": {},
   "outputs": [
    {
     "data": {
      "text/plain": [
       "0.2014656412952567"
      ]
     },
     "execution_count": 40,
     "metadata": {},
     "output_type": "execute_result"
    }
   ],
   "source": [
    "calculate_std_deviation_in_price_or_yield(ftse_etf_df, 'Close', NOV_MONTH)"
   ]
  },
  {
   "cell_type": "code",
   "execution_count": 41,
   "id": "bd455694",
   "metadata": {},
   "outputs": [
    {
     "data": {
      "text/plain": [
       "<AxesSubplot:xlabel='Date', ylabel='Yields'>"
      ]
     },
     "execution_count": 41,
     "metadata": {},
     "output_type": "execute_result"
    },
    {
     "data": {
      "image/png": "[encoded data removed]",
      "text/plain": [
       "<Figure size 432x288 with 1 Axes>"
      ]
     },
     "metadata": {
      "needs_background": "light"
     },
     "output_type": "display_data"
    }
   ],
   "source": [
    "# 4.1 Graph the 6 benchmark securities for the 2 months on 1 plot\n",
    "treasury_yield_df.plot(ylabel='Yields', grid=True)"
   ]
  },
  {
   "cell_type": "code",
   "execution_count": 42,
   "id": "2486b5f0",
   "metadata": {},
   "outputs": [
    {
     "name": "stderr",
     "output_type": "stream",
     "text": [
      "/tmp/ipykernel_34279/3542356425.py:4: SettingWithCopyWarning: \n",
      "A value is trying to be set on a copy of a slice from a DataFrame.\n",
      "Try using .loc[row_indexer,col_indexer] = value instead\n",
      "\n",
      "See the caveats in the documentation: https://pandas.pydata.org/pandas-docs/stable/user_guide/indexing.html#returning-a-view-versus-a-copy\n",
      "  etf_prices['fste_etf_price'] = ftse_etf_df['Close']\n",
      "/tmp/ipykernel_34279/3542356425.py:5: SettingWithCopyWarning: \n",
      "A value is trying to be set on a copy of a slice from a DataFrame.\n",
      "Try using .loc[row_indexer,col_indexer] = value instead\n",
      "\n",
      "See the caveats in the documentation: https://pandas.pydata.org/pandas-docs/stable/user_guide/indexing.html#returning-a-view-versus-a-copy\n",
      "  etf_prices['gold_etf_price'] = gold_etf_df['Close']\n"
     ]
    },
    {
     "data": {
      "text/plain": [
       "<AxesSubplot:xlabel='Date', ylabel='gold_etf_price'>"
      ]
     },
     "execution_count": 42,
     "metadata": {},
     "output_type": "execute_result"
    },
    {
     "data": {
      "image/png": "[encoded data removed]",
      "text/plain": [
       "<Figure size 432x288 with 2 Axes>"
      ]
     },
     "metadata": {
      "needs_background": "light"
     },
     "output_type": "display_data"
    }
   ],
   "source": [
    "# 4.2 On a separate graph, plot the gold ETF prices\n",
    "# 4.3 On the same graph, plot the equity ETF prices\n",
    "etf_prices = ftse_etf_df\n",
    "etf_prices['fste_etf_price'] = ftse_etf_df['Close']\n",
    "etf_prices['gold_etf_price'] = gold_etf_df['Close']\n",
    "etf_prices.plot(y=['fste_etf_price', 'gold_etf_price'], ylabel='gold_etf_price', secondary_y=['fste_etf_price'],\n",
    "                grid=True)"
   ]
  },
  {
   "cell_type": "code",
   "execution_count": 43,
   "id": "aab334f5",
   "metadata": {},
   "outputs": [],
   "source": [
    "pass"
   ]
  },
  {
   "cell_type": "code",
   "execution_count": null,
   "id": "da4b7a19",
   "metadata": {},
   "outputs": [],
   "source": []
  }
 ],
 "metadata": {
  "jupytext": {
   "cell_metadata_filter": "-all",
   "main_language": "python",
   "notebook_metadata_filter": "-all"
  },
  "kernelspec": {
   "display_name": "Python 3 (ipykernel)",
   "language": "python",
   "name": "python3"
  },
  "language_info": {
   "codemirror_mode": {
    "name": "ipython",
    "version": 3
   },
   "file_extension": ".py",
   "mimetype": "text/x-python",
   "name": "python",
   "nbconvert_exporter": "python",
   "pygments_lexer": "ipython3",
   "version": "3.8.10"
  }
 },
 "nbformat": 4,
 "nbformat_minor": 5
}
