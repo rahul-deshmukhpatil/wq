{
 "cells": [
  {
   "cell_type": "markdown",
   "id": "661c9334",
   "metadata": {},
   "source": [
    "***\n",
    "# WorldQuant University\n",
    "<b>MScFE 610 Econometrics: Group Project 1 Submission</b><br>\n",
    "***\n",
    "\n",
    "<b>Group 11 Team Members:</b>\n",
    "\n",
    "- Beh Min Yan\n",
    "- Mohammadkian Maghsoodi\n",
    "- Rahul Patil\n",
    "\n",
    "# Question 6\n",
    "\n",
    "<b>This notebook contains our worked solutions to Q6, including code, outputs, and short answers as to the interpretation of results.</b>\n",
    "\n",
    "***"
   ]
  },
  {
   "cell_type": "markdown",
   "id": "568f0919",
   "metadata": {},
   "source": [
    "**Import Libraries and Relevant Datasets**"
   ]
  },
  {
   "cell_type": "code",
   "execution_count": 1,
   "id": "60dc506c",
   "metadata": {},
   "outputs": [],
   "source": [
    "import numpy as np\n",
    "import pandas as pd\n",
    "from pmdarima import auto_arima\n",
    "from statsmodels.tsa.arima_model import ARMA\n",
    "from statsmodels.tsa.stattools import adfuller\n",
    "from statsmodels.graphics.tsaplots import plot_acf, plot_pacf\n",
    "import warnings\n",
    "\n",
    "warnings.filterwarnings('ignore')\n",
    "\n",
    "# Import datasets calculated in Question 3\n",
    "gold_etf_df = pd.read_csv('gold.csv').set_index('Date')\n",
    "equity_etf_df = pd.read_csv('equity.csv').set_index('Date')"
   ]
  },
  {
   "cell_type": "markdown",
   "id": "3fcc6c8d",
   "metadata": {},
   "source": [
    "**Calculate log returns**"
   ]
  },
  {
   "cell_type": "code",
   "execution_count": 2,
   "id": "acec0b52",
   "metadata": {},
   "outputs": [],
   "source": [
    "gold_etf_df['log_returns'] = np.log(gold_etf_df['Adj Close'] / gold_etf_df['Open'])\n",
    "equity_etf_df['log_returns'] = np.log(equity_etf_df['Adj Close'] / equity_etf_df['Open'])"
   ]
  },
  {
   "cell_type": "markdown",
   "id": "7264aa1e",
   "metadata": {},
   "source": [
    "**Split all datasets into October and November 2019 datasets**"
   ]
  },
  {
   "cell_type": "code",
   "execution_count": 3,
   "id": "39c55e10",
   "metadata": {},
   "outputs": [],
   "source": [
    "gold_oct_df = gold_etf_df[:'2019-10-31']\n",
    "gold_nov_df = gold_etf_df['2019-11-01':]\n",
    "\n",
    "eq_oct_df = equity_etf_df[:'2019-10-31']\n",
    "eq_nov_df = equity_etf_df['2019-11-01':]"
   ]
  },
  {
   "cell_type": "markdown",
   "id": "f7bf19ca",
   "metadata": {},
   "source": [
    "# 6 Modelling Prices"
   ]
  },
  {
   "cell_type": "markdown",
   "id": "da4fdcf6",
   "metadata": {},
   "source": [
    "<div class=\"alert alert-block alert-info\">\n",
    "\n",
    "For finding appropriate \"p\" and \"q\" values for the ARMA model we have two main ways:<br/>\n",
    "    \n",
    "(1) Use PACF chart of the series for finding the \"p\" parameter of the AR chunk of our ARMA, and utilise ACF for finding the \"q\" value for the MA part. This method, despite its dependence on analyst's judgment and subsequent subjectivity, had been the industry's first-go-to method for many years. <br/>\n",
    "    \n",
    "(2) The second method, and more robust one, is using Python's <code>pmdarima</code> library to carry out a systematic grid search of ARMA's parameters based on Akaike Information Criteria. For sake of demonstration we find \"p\" and \"q\" parameters for Gold ETF's October data using both of these methods, but for the rest we will stick to <code>pmdarima</code>'s grid search. <br/><br/>\n",
    "\n",
    "\n",
    "For each piece of price data, before running any analysis, an ADF (Augmented Dickey-Fuller test) is carried out to confirm that our data is stationary for fitting an ARMA model, if its not stationary, then we continue taking the difference of price with its lag, until the series is stationary. <br/><br/>\n",
    "\n",
    "The significance interval for the ADF test is 5%.\n",
    "</div>    \n"
   ]
  },
  {
   "cell_type": "markdown",
   "id": "716c142c",
   "metadata": {},
   "source": [
    "<b>6.1) Using the October gold ETF prices, run an ARIMA model with your choice of parameters.</b>"
   ]
  },
  {
   "cell_type": "code",
   "execution_count": 4,
   "id": "cbca70a0",
   "metadata": {},
   "outputs": [],
   "source": [
    "# We first perform the Augmented Dickey-Fuller test to confirm that our data is stationary for fitting the ARMA model.\n",
    "\n",
    "def get_stationary_series(df, col='Adj Close'):\n",
    "    p_value_adf = adfuller(df[col])[1]\n",
    "    stationarity = p_value_adf < 0.05\n",
    "    print(f\"The series is {'' if stationarity else 'not '}stationary.\")\n",
    "    series = df[col]\n",
    "    differentiation_factor = 0\n",
    "\n",
    "    while not stationarity:\n",
    "        series = (series - series.shift(1)).dropna()\n",
    "        differentiation_factor += 1\n",
    "        p_value_adf = adfuller(series)[1]\n",
    "        if p_value_adf < 0.05:\n",
    "            stationarity = True\n",
    "    print(\"We have done {} iterations of differentiations.\".format(differentiation_factor))\n",
    "    return series"
   ]
  },
  {
   "cell_type": "code",
   "execution_count": 5,
   "id": "4c78ca70",
   "metadata": {
    "scrolled": false
   },
   "outputs": [
    {
     "name": "stdout",
     "output_type": "stream",
     "text": [
      "The series is not stationary.\n",
      "We have done 2 iterations of differentiations.\n"
     ]
    },
    {
     "data": {
      "text/plain": [
       "Date\n",
       "2019-10-03   -0.989990\n",
       "2019-10-04   -0.639999\n",
       "2019-10-07   -1.209991\n",
       "2019-10-08    2.439987\n",
       "2019-10-09   -1.099991\n",
       "2019-10-10   -1.370010\n",
       "2019-10-11    0.460007\n",
       "2019-10-14    1.339996\n",
       "2019-10-15   -1.539993\n",
       "2019-10-16    1.779999\n",
       "2019-10-17   -0.600006\n",
       "2019-10-18   -0.349991\n",
       "2019-10-21   -0.520020\n",
       "2019-10-22    1.080017\n",
       "2019-10-23   -0.080002\n",
       "2019-10-24    0.669998\n",
       "2019-10-25   -0.669998\n",
       "2019-10-28   -1.550003\n",
       "2019-10-29    0.830002\n",
       "2019-10-30    1.160004\n",
       "2019-10-31    0.639984\n",
       "Name: Adj Close, dtype: float64"
      ]
     },
     "execution_count": 5,
     "metadata": {},
     "output_type": "execute_result"
    },
    {
     "data": {
      "image/png": "[encoded data removed]",
      "text/plain": [
       "<Figure size 432x288 with 1 Axes>"
      ]
     },
     "metadata": {
      "needs_background": "light"
     },
     "output_type": "display_data"
    },
    {
     "data": {
      "image/png": "[encoded data removed]",
      "text/plain": [
       "<Figure size 432x288 with 1 Axes>"
      ]
     },
     "metadata": {
      "needs_background": "light"
     },
     "output_type": "display_data"
    }
   ],
   "source": [
    "# Calculate stationary series from dataset\n",
    "gold_oct_stationary_series = get_stationary_series(gold_oct_df)\n",
    "\n",
    "# Plot the charts\n",
    "plot_acf(gold_oct_stationary_series, lags = 10)\n",
    "plot_pacf(gold_oct_stationary_series, lags = 10)\n",
    "gold_oct_stationary_series"
   ]
  },
  {
   "cell_type": "markdown",
   "id": "49ce684c",
   "metadata": {},
   "source": [
    "<div class=\"alert alert-block alert-info\">\n",
    "\n",
    "<b>Interpretation of the charts:</b><br/>\n",
    "As we can see there is a gradual decline in the ACF chart after the \"first\" lag, therefore, the appropriate value for MA part of our ARMA, namely the \"q\" value would be 1.<br/>\n",
    "\n",
    "But there is no clear pattern of decline in the PACF chart, therefore, this diagnostic measure is inconclusive and we may want to find the value of p for the AR part of our ARMA model by employing a grid search scheme.<br/>\n",
    "</div>"
   ]
  },
  {
   "cell_type": "code",
   "execution_count": 6,
   "id": "c448923a",
   "metadata": {
    "scrolled": true
   },
   "outputs": [
    {
     "name": "stdout",
     "output_type": "stream",
     "text": [
      "Performing stepwise search to minimize aic\n",
      " ARIMA(1,0,1)(0,0,0)[0] intercept   : AIC=inf, Time=0.14 sec\n",
      " ARIMA(0,0,0)(0,0,0)[0] intercept   : AIC=68.958, Time=0.00 sec\n",
      " ARIMA(1,0,0)(0,0,0)[0] intercept   : AIC=69.079, Time=0.01 sec\n",
      " ARIMA(0,0,1)(0,0,0)[0] intercept   : AIC=inf, Time=0.06 sec\n",
      " ARIMA(0,0,0)(0,0,0)[0]             : AIC=66.960, Time=0.00 sec\n",
      "\n",
      "Best model:  ARIMA(0,0,0)(0,0,0)[0]          \n",
      "Total fit time: 0.214 seconds\n"
     ]
    },
    {
     "data": {
      "text/plain": [
       "ARIMA(order=(0, 0, 0), scoring_args={}, suppress_warnings=True,\n",
       "      with_intercept=False)"
      ]
     },
     "execution_count": 6,
     "metadata": {},
     "output_type": "execute_result"
    }
   ],
   "source": [
    "auto_arima(gold_oct_stationary_series, stationary=True, start_p=1, max_p = 10, \n",
    "           start_q = 1, max_q = 10, seasonal = False, trace= True)"
   ]
  },
  {
   "cell_type": "markdown",
   "id": "9f33efd1",
   "metadata": {},
   "source": [
    "<div class=\"alert alert-block alert-success\">\n",
    "\n",
    "<b>Interpretation of results / ARMA Model Justification:</b><br/>\n",
    "We specified a range from 1 to 10 for each of the \"p\" and \"q\" variables of our ARMA model n the grid search above. We have set the seasonality to \"False,\" since we are using less than a month of price data for model fitting, also since we made the data stationary, the parameter \"stationary\" is set to \"True.\" The best fitting model, without overfitting the data\" was ARMA(0, 0) according to AIC.\n",
    "\n",
    "Since the best order is (0, 0), we identify that the choice of ARMA model might not be appropriate. Nonetheless, for demonstration purposes we chose to nonetheless fit an ARMA model for this part.\n",
    "<br/>\n",
    "</div>"
   ]
  },
  {
   "cell_type": "code",
   "execution_count": 7,
   "id": "027aee2f",
   "metadata": {},
   "outputs": [
    {
     "data": {
      "text/html": [
       "<table class=\"simpletable\">\n",
       "<caption>ARMA Model Results</caption>\n",
       "<tr>\n",
       "  <th>Dep. Variable:</th>     <td>Adj Close</td>    <th>  No. Observations:  </th>   <td>21</td>   \n",
       "</tr>\n",
       "<tr>\n",
       "  <th>Model:</th>            <td>ARMA(0, 0)</td>    <th>  Log Likelihood     </th> <td>-32.479</td>\n",
       "</tr>\n",
       "<tr>\n",
       "  <th>Method:</th>               <td>css</td>       <th>  S.D. of innovations</th>  <td>1.136</td> \n",
       "</tr>\n",
       "<tr>\n",
       "  <th>Date:</th>          <td>Tue, 28 Sep 2021</td> <th>  AIC                </th> <td>68.958</td> \n",
       "</tr>\n",
       "<tr>\n",
       "  <th>Time:</th>              <td>03:30:37</td>     <th>  BIC                </th> <td>71.047</td> \n",
       "</tr>\n",
       "<tr>\n",
       "  <th>Sample:</th>           <td>10-03-2019</td>    <th>  HQIC               </th> <td>69.411</td> \n",
       "</tr>\n",
       "<tr>\n",
       "  <th></th>                 <td>- 10-31-2019</td>   <th>                     </th>    <td> </td>   \n",
       "</tr>\n",
       "</table>\n",
       "<table class=\"simpletable\">\n",
       "<tr>\n",
       "    <td></td>       <th>coef</th>     <th>std err</th>      <th>z</th>      <th>P>|z|</th>  <th>[0.025</th>    <th>0.975]</th>  \n",
       "</tr>\n",
       "<tr>\n",
       "  <th>const</th> <td>   -0.0105</td> <td>    0.248</td> <td>   -0.042</td> <td> 0.966</td> <td>   -0.496</td> <td>    0.475</td>\n",
       "</tr>\n",
       "</table>"
      ],
      "text/plain": [
       "<class 'statsmodels.iolib.summary.Summary'>\n",
       "\"\"\"\n",
       "                              ARMA Model Results                              \n",
       "==============================================================================\n",
       "Dep. Variable:              Adj Close   No. Observations:                   21\n",
       "Model:                     ARMA(0, 0)   Log Likelihood                 -32.479\n",
       "Method:                           css   S.D. of innovations              1.136\n",
       "Date:                Tue, 28 Sep 2021   AIC                             68.958\n",
       "Time:                        03:30:37   BIC                             71.047\n",
       "Sample:                    10-03-2019   HQIC                            69.411\n",
       "                         - 10-31-2019                                         \n",
       "==============================================================================\n",
       "                 coef    std err          z      P>|z|      [0.025      0.975]\n",
       "------------------------------------------------------------------------------\n",
       "const         -0.0105      0.248     -0.042      0.966      -0.496       0.475\n",
       "==============================================================================\n",
       "\"\"\""
      ]
     },
     "execution_count": 7,
     "metadata": {},
     "output_type": "execute_result"
    }
   ],
   "source": [
    "ARMA_gld_oct = ARMA(gold_oct_stationary_series, order = (0, 0)).fit()\n",
    "ARMA_gld_oct.summary()"
   ]
  },
  {
   "cell_type": "markdown",
   "id": "c0213ada",
   "metadata": {},
   "source": [
    "<b>6.2) Using the November gold ETF prices, run an ARIMA model with your choice of parameters.</b>\n",
    "\n",
    "We repeat the process described in 6.1 for sections 6.2 - 6.4 ."
   ]
  },
  {
   "cell_type": "code",
   "execution_count": 8,
   "id": "c97c6768",
   "metadata": {
    "scrolled": true
   },
   "outputs": [
    {
     "name": "stdout",
     "output_type": "stream",
     "text": [
      "The series is stationary.\n",
      "We have done 0 iterations of differentiations.\n"
     ]
    },
    {
     "data": {
      "text/plain": [
       "Date\n",
       "2019-11-01    142.559998\n",
       "2019-11-04    142.149994\n",
       "2019-11-05    139.850006\n",
       "2019-11-06    140.449997\n",
       "2019-11-07    138.270004\n",
       "2019-11-08    137.389999\n",
       "2019-11-11    137.059998\n",
       "2019-11-12    137.429993\n",
       "2019-11-13    137.979996\n",
       "2019-11-14    138.559998\n",
       "2019-11-15    138.210007\n",
       "2019-11-18    138.619995\n",
       "2019-11-19    138.690002\n",
       "2019-11-20    138.759995\n",
       "2019-11-21    138.000000\n",
       "2019-11-22    137.740005\n",
       "2019-11-25    137.080002\n",
       "2019-11-26    137.740005\n",
       "2019-11-27    137.009995\n",
       "2019-11-29    137.860001\n",
       "Name: Adj Close, dtype: float64"
      ]
     },
     "execution_count": 8,
     "metadata": {},
     "output_type": "execute_result"
    },
    {
     "data": {
      "image/png": "[encoded data removed]",
      "text/plain": [
       "<Figure size 432x288 with 1 Axes>"
      ]
     },
     "metadata": {
      "needs_background": "light"
     },
     "output_type": "display_data"
    },
    {
     "data": {
      "image/png": "[encoded data removed]",
      "text/plain": [
       "<Figure size 432x288 with 1 Axes>"
      ]
     },
     "metadata": {
      "needs_background": "light"
     },
     "output_type": "display_data"
    }
   ],
   "source": [
    "# Calculate stationary series from dataset\n",
    "gold_nov_stationary_series = get_stationary_series(gold_nov_df)\n",
    "\n",
    "# Plot the charts\n",
    "plot_acf(gold_nov_stationary_series, lags = 10)\n",
    "plot_pacf(gold_nov_stationary_series, lags = 10)\n",
    "gold_nov_stationary_series"
   ]
  },
  {
   "cell_type": "code",
   "execution_count": 9,
   "id": "62b9e586",
   "metadata": {
    "scrolled": false
   },
   "outputs": [
    {
     "name": "stdout",
     "output_type": "stream",
     "text": [
      "Performing stepwise search to minimize aic\n",
      " ARIMA(1,0,1)(0,0,0)[0] intercept   : AIC=62.873, Time=0.08 sec\n",
      " ARIMA(0,0,0)(0,0,0)[0] intercept   : AIC=77.573, Time=0.00 sec\n",
      " ARIMA(1,0,0)(0,0,0)[0] intercept   : AIC=59.711, Time=0.04 sec\n",
      " ARIMA(0,0,1)(0,0,0)[0] intercept   : AIC=68.747, Time=0.01 sec\n",
      " ARIMA(0,0,0)(0,0,0)[0]             : AIC=256.015, Time=0.00 sec\n",
      " ARIMA(2,0,0)(0,0,0)[0] intercept   : AIC=65.749, Time=0.10 sec\n",
      " ARIMA(2,0,1)(0,0,0)[0] intercept   : AIC=63.467, Time=0.10 sec\n",
      " ARIMA(1,0,0)(0,0,0)[0]             : AIC=inf, Time=0.02 sec\n",
      "\n",
      "Best model:  ARIMA(1,0,0)(0,0,0)[0] intercept\n",
      "Total fit time: 0.365 seconds\n"
     ]
    },
    {
     "data": {
      "text/plain": [
       "ARIMA(order=(1, 0, 0), scoring_args={}, suppress_warnings=True)"
      ]
     },
     "execution_count": 9,
     "metadata": {},
     "output_type": "execute_result"
    }
   ],
   "source": [
    "auto_arima(gold_nov_stationary_series, stationary=True, start_p=1, max_p = 10, \n",
    "           start_q = 1, max_q = 10, seasonal = False, trace= True)"
   ]
  },
  {
   "cell_type": "markdown",
   "id": "ab504c7c",
   "metadata": {},
   "source": [
    "<div class=\"alert alert-block alert-success\">\n",
    "\n",
    "<b>Interpretation of results / ARMA Model Justification:</b><br/>\n",
    "We specified a range from 1 to 10 for each of the \"p\" and \"q\" variables of our ARMA model n the grid search above. We have set the seasonality to \"False,\" since we are using less than a month of price data for model fitting, also since we made the data stationary, the parameter \"stationary\" is set to \"True.\" The best fitting model, without overfitting the data\" was ARMA(1, 0) according to AIC.\n",
    "<br/>\n",
    "</div>"
   ]
  },
  {
   "cell_type": "code",
   "execution_count": 10,
   "id": "2ceeeba8",
   "metadata": {
    "scrolled": true
   },
   "outputs": [
    {
     "data": {
      "text/html": [
       "<table class=\"simpletable\">\n",
       "<caption>ARMA Model Results</caption>\n",
       "<tr>\n",
       "  <th>Dep. Variable:</th>     <td>Adj Close</td>    <th>  No. Observations:  </th>   <td>20</td>   \n",
       "</tr>\n",
       "<tr>\n",
       "  <th>Model:</th>            <td>ARMA(1, 0)</td>    <th>  Log Likelihood     </th> <td>-26.648</td>\n",
       "</tr>\n",
       "<tr>\n",
       "  <th>Method:</th>             <td>css-mle</td>     <th>  S.D. of innovations</th>  <td>0.881</td> \n",
       "</tr>\n",
       "<tr>\n",
       "  <th>Date:</th>          <td>Tue, 28 Sep 2021</td> <th>  AIC                </th> <td>59.296</td> \n",
       "</tr>\n",
       "<tr>\n",
       "  <th>Time:</th>              <td>03:30:38</td>     <th>  BIC                </th> <td>62.283</td> \n",
       "</tr>\n",
       "<tr>\n",
       "  <th>Sample:</th>                <td>0</td>        <th>  HQIC               </th> <td>59.879</td> \n",
       "</tr>\n",
       "<tr>\n",
       "  <th></th>                       <td> </td>        <th>                     </th>    <td> </td>   \n",
       "</tr>\n",
       "</table>\n",
       "<table class=\"simpletable\">\n",
       "<tr>\n",
       "         <td></td>            <th>coef</th>     <th>std err</th>      <th>z</th>      <th>P>|z|</th>  <th>[0.025</th>    <th>0.975]</th>  \n",
       "</tr>\n",
       "<tr>\n",
       "  <th>const</th>           <td>  139.3191</td> <td>    1.438</td> <td>   96.897</td> <td> 0.000</td> <td>  136.501</td> <td>  142.137</td>\n",
       "</tr>\n",
       "<tr>\n",
       "  <th>ar.L1.Adj Close</th> <td>    0.8936</td> <td>    0.105</td> <td>    8.498</td> <td> 0.000</td> <td>    0.688</td> <td>    1.100</td>\n",
       "</tr>\n",
       "</table>\n",
       "<table class=\"simpletable\">\n",
       "<caption>Roots</caption>\n",
       "<tr>\n",
       "    <td></td>   <th>            Real</th>  <th>         Imaginary</th> <th>         Modulus</th>  <th>        Frequency</th>\n",
       "</tr>\n",
       "<tr>\n",
       "  <th>AR.1</th> <td>           1.1190</td> <td>          +0.0000j</td> <td>           1.1190</td> <td>           0.0000</td>\n",
       "</tr>\n",
       "</table>"
      ],
      "text/plain": [
       "<class 'statsmodels.iolib.summary.Summary'>\n",
       "\"\"\"\n",
       "                              ARMA Model Results                              \n",
       "==============================================================================\n",
       "Dep. Variable:              Adj Close   No. Observations:                   20\n",
       "Model:                     ARMA(1, 0)   Log Likelihood                 -26.648\n",
       "Method:                       css-mle   S.D. of innovations              0.881\n",
       "Date:                Tue, 28 Sep 2021   AIC                             59.296\n",
       "Time:                        03:30:38   BIC                             62.283\n",
       "Sample:                             0   HQIC                            59.879\n",
       "                                                                              \n",
       "===================================================================================\n",
       "                      coef    std err          z      P>|z|      [0.025      0.975]\n",
       "-----------------------------------------------------------------------------------\n",
       "const             139.3191      1.438     96.897      0.000     136.501     142.137\n",
       "ar.L1.Adj Close     0.8936      0.105      8.498      0.000       0.688       1.100\n",
       "                                    Roots                                    \n",
       "=============================================================================\n",
       "                  Real          Imaginary           Modulus         Frequency\n",
       "-----------------------------------------------------------------------------\n",
       "AR.1            1.1190           +0.0000j            1.1190            0.0000\n",
       "-----------------------------------------------------------------------------\n",
       "\"\"\""
      ]
     },
     "execution_count": 10,
     "metadata": {},
     "output_type": "execute_result"
    }
   ],
   "source": [
    "ARMA_gld_nov = ARMA(gold_nov_stationary_series, order = (1, 0)).fit()\n",
    "ARMA_gld_nov.summary()"
   ]
  },
  {
   "cell_type": "markdown",
   "id": "6310ac0b",
   "metadata": {},
   "source": [
    "<b>6.3) Using the October equity ETF prices, run an ARMA model with your choice of parameters.</b>"
   ]
  },
  {
   "cell_type": "code",
   "execution_count": 11,
   "id": "059d28cc",
   "metadata": {},
   "outputs": [
    {
     "name": "stdout",
     "output_type": "stream",
     "text": [
      "The series is not stationary.\n",
      "We have done 4 iterations of differentiations.\n"
     ]
    },
    {
     "data": {
      "text/plain": [
       "Date\n",
       "2019-10-07    1.132050\n",
       "2019-10-08    0.264130\n",
       "2019-10-09    1.726368\n",
       "2019-10-10   -2.509354\n",
       "2019-10-11    1.528244\n",
       "2019-10-14   -2.452747\n",
       "2019-10-15    3.981014\n",
       "2019-10-16   -3.528206\n",
       "2019-10-17    2.188633\n",
       "2019-10-18   -1.132072\n",
       "2019-10-21    0.735855\n",
       "2019-10-22   -0.999977\n",
       "2019-10-23    1.603710\n",
       "2019-10-24   -1.660297\n",
       "2019-10-25    0.716927\n",
       "2019-10-28    0.386803\n",
       "2019-10-29   -1.018848\n",
       "2019-10-30    1.282986\n",
       "2019-10-31   -1.471649\n",
       "Name: Adj Close, dtype: float64"
      ]
     },
     "execution_count": 11,
     "metadata": {},
     "output_type": "execute_result"
    },
    {
     "data": {
      "image/png": "[encoded data removed]",
      "text/plain": [
       "<Figure size 432x288 with 1 Axes>"
      ]
     },
     "metadata": {
      "needs_background": "light"
     },
     "output_type": "display_data"
    },
    {
     "data": {
      "image/png": "[encoded data removed]",
      "text/plain": [
       "<Figure size 432x288 with 1 Axes>"
      ]
     },
     "metadata": {
      "needs_background": "light"
     },
     "output_type": "display_data"
    }
   ],
   "source": [
    "# Calculate stationary series from dataset\n",
    "eq_oct_stationary_series = get_stationary_series(eq_oct_df)\n",
    "\n",
    "# Plot the charts\n",
    "plot_acf(eq_oct_stationary_series, lags = 10)\n",
    "plot_pacf(eq_oct_stationary_series, lags = 10)\n",
    "eq_oct_stationary_series"
   ]
  },
  {
   "cell_type": "code",
   "execution_count": 12,
   "id": "553e7dbc",
   "metadata": {
    "scrolled": true
   },
   "outputs": [
    {
     "name": "stdout",
     "output_type": "stream",
     "text": [
      "Performing stepwise search to minimize aic\n",
      " ARIMA(1,0,1)(0,0,0)[0] intercept   : AIC=inf, Time=0.07 sec\n",
      " ARIMA(0,0,0)(0,0,0)[0] intercept   : AIC=81.492, Time=0.00 sec\n",
      " ARIMA(1,0,0)(0,0,0)[0] intercept   : AIC=58.179, Time=0.01 sec\n",
      " ARIMA(0,0,1)(0,0,0)[0] intercept   : AIC=inf, Time=0.05 sec\n",
      " ARIMA(0,0,0)(0,0,0)[0]             : AIC=79.501, Time=0.00 sec\n",
      " ARIMA(2,0,0)(0,0,0)[0] intercept   : AIC=59.388, Time=0.02 sec\n",
      " ARIMA(2,0,1)(0,0,0)[0] intercept   : AIC=inf, Time=0.09 sec\n",
      " ARIMA(1,0,0)(0,0,0)[0]             : AIC=56.370, Time=0.01 sec\n",
      " ARIMA(2,0,0)(0,0,0)[0]             : AIC=57.621, Time=0.01 sec\n",
      " ARIMA(1,0,1)(0,0,0)[0]             : AIC=inf, Time=0.04 sec\n",
      " ARIMA(0,0,1)(0,0,0)[0]             : AIC=inf, Time=0.03 sec\n",
      " ARIMA(2,0,1)(0,0,0)[0]             : AIC=inf, Time=0.06 sec\n",
      "\n",
      "Best model:  ARIMA(1,0,0)(0,0,0)[0]          \n",
      "Total fit time: 0.402 seconds\n"
     ]
    },
    {
     "data": {
      "text/plain": [
       "ARIMA(order=(1, 0, 0), scoring_args={}, suppress_warnings=True,\n",
       "      with_intercept=False)"
      ]
     },
     "execution_count": 12,
     "metadata": {},
     "output_type": "execute_result"
    }
   ],
   "source": [
    "auto_arima(eq_oct_stationary_series, stationary=True, start_p=1, max_p = 10, \n",
    "           start_q = 1, max_q = 10, seasonal = False, trace= True)"
   ]
  },
  {
   "cell_type": "markdown",
   "id": "5a165462",
   "metadata": {},
   "source": [
    "<div class=\"alert alert-block alert-success\">\n",
    "\n",
    "<b>Interpretation of results / ARMA Model Justification:</b><br/>\n",
    "We specified a range from 1 to 10 for each of the \"p\" and \"q\" variables of our ARMA model n the grid search above. We have set the seasonality to \"False,\" since we are using less than a month of price data for model fitting, also since we made the data stationary, the parameter \"stationary\" is set to \"True.\" The best fitting model, without overfitting the data\" was ARMA(1, 0) according to AIC.\n",
    "<br/>\n",
    "</div>"
   ]
  },
  {
   "cell_type": "code",
   "execution_count": 13,
   "id": "7ceedde8",
   "metadata": {
    "scrolled": true
   },
   "outputs": [
    {
     "data": {
      "text/html": [
       "<table class=\"simpletable\">\n",
       "<caption>ARMA Model Results</caption>\n",
       "<tr>\n",
       "  <th>Dep. Variable:</th>     <td>Adj Close</td>    <th>  No. Observations:  </th>   <td>19</td>   \n",
       "</tr>\n",
       "<tr>\n",
       "  <th>Model:</th>            <td>ARMA(1, 0)</td>    <th>  Log Likelihood     </th> <td>-26.089</td>\n",
       "</tr>\n",
       "<tr>\n",
       "  <th>Method:</th>             <td>css-mle</td>     <th>  S.D. of innovations</th>  <td>0.923</td> \n",
       "</tr>\n",
       "<tr>\n",
       "  <th>Date:</th>          <td>Tue, 28 Sep 2021</td> <th>  AIC                </th> <td>58.179</td> \n",
       "</tr>\n",
       "<tr>\n",
       "  <th>Time:</th>              <td>03:30:38</td>     <th>  BIC                </th> <td>61.012</td> \n",
       "</tr>\n",
       "<tr>\n",
       "  <th>Sample:</th>           <td>10-07-2019</td>    <th>  HQIC               </th> <td>58.658</td> \n",
       "</tr>\n",
       "<tr>\n",
       "  <th></th>                 <td>- 10-31-2019</td>   <th>                     </th>    <td> </td>   \n",
       "</tr>\n",
       "</table>\n",
       "<table class=\"simpletable\">\n",
       "<tr>\n",
       "         <td></td>            <th>coef</th>     <th>std err</th>      <th>z</th>      <th>P>|z|</th>  <th>[0.025</th>    <th>0.975]</th>  \n",
       "</tr>\n",
       "<tr>\n",
       "  <th>const</th>           <td>    0.0514</td> <td>    0.117</td> <td>    0.438</td> <td> 0.661</td> <td>   -0.179</td> <td>    0.281</td>\n",
       "</tr>\n",
       "<tr>\n",
       "  <th>ar.L1.Adj Close</th> <td>   -0.8508</td> <td>    0.103</td> <td>   -8.273</td> <td> 0.000</td> <td>   -1.052</td> <td>   -0.649</td>\n",
       "</tr>\n",
       "</table>\n",
       "<table class=\"simpletable\">\n",
       "<caption>Roots</caption>\n",
       "<tr>\n",
       "    <td></td>   <th>            Real</th>  <th>         Imaginary</th> <th>         Modulus</th>  <th>        Frequency</th>\n",
       "</tr>\n",
       "<tr>\n",
       "  <th>AR.1</th> <td>          -1.1754</td> <td>          +0.0000j</td> <td>           1.1754</td> <td>           0.5000</td>\n",
       "</tr>\n",
       "</table>"
      ],
      "text/plain": [
       "<class 'statsmodels.iolib.summary.Summary'>\n",
       "\"\"\"\n",
       "                              ARMA Model Results                              \n",
       "==============================================================================\n",
       "Dep. Variable:              Adj Close   No. Observations:                   19\n",
       "Model:                     ARMA(1, 0)   Log Likelihood                 -26.089\n",
       "Method:                       css-mle   S.D. of innovations              0.923\n",
       "Date:                Tue, 28 Sep 2021   AIC                             58.179\n",
       "Time:                        03:30:38   BIC                             61.012\n",
       "Sample:                    10-07-2019   HQIC                            58.658\n",
       "                         - 10-31-2019                                         \n",
       "===================================================================================\n",
       "                      coef    std err          z      P>|z|      [0.025      0.975]\n",
       "-----------------------------------------------------------------------------------\n",
       "const               0.0514      0.117      0.438      0.661      -0.179       0.281\n",
       "ar.L1.Adj Close    -0.8508      0.103     -8.273      0.000      -1.052      -0.649\n",
       "                                    Roots                                    \n",
       "=============================================================================\n",
       "                  Real          Imaginary           Modulus         Frequency\n",
       "-----------------------------------------------------------------------------\n",
       "AR.1           -1.1754           +0.0000j            1.1754            0.5000\n",
       "-----------------------------------------------------------------------------\n",
       "\"\"\""
      ]
     },
     "execution_count": 13,
     "metadata": {},
     "output_type": "execute_result"
    }
   ],
   "source": [
    "ARMA_eq_oct = ARMA(eq_oct_stationary_series, order = (1, 0)).fit()\n",
    "ARMA_eq_oct.summary()"
   ]
  },
  {
   "cell_type": "markdown",
   "id": "8b265b31",
   "metadata": {},
   "source": [
    "<b>6.4) Using the November equity ETF prices, run an ARMA model with your choice of parameters.</b>"
   ]
  },
  {
   "cell_type": "code",
   "execution_count": 14,
   "id": "21bf36cd",
   "metadata": {},
   "outputs": [
    {
     "name": "stdout",
     "output_type": "stream",
     "text": [
      "The series is not stationary.\n",
      "We have done 2 iterations of differentiations.\n"
     ]
    },
    {
     "data": {
      "text/plain": [
       "Date\n",
       "2019-11-05   -0.377338\n",
       "2019-11-06    0.084892\n",
       "2019-11-07    0.141506\n",
       "2019-11-08   -0.169804\n",
       "2019-11-11    0.047165\n",
       "2019-11-12   -0.028290\n",
       "2019-11-13   -0.056610\n",
       "2019-11-14    0.056602\n",
       "2019-11-15    0.367905\n",
       "2019-11-18   -0.245262\n",
       "2019-11-19   -0.169815\n",
       "2019-11-20   -0.254692\n",
       "2019-11-21    0.273563\n",
       "2019-11-22    0.150932\n",
       "2019-11-25    0.349060\n",
       "2019-11-26   -0.367920\n",
       "2019-11-27    0.028294\n",
       "2019-11-29   -0.415073\n",
       "Name: Adj Close, dtype: float64"
      ]
     },
     "execution_count": 14,
     "metadata": {},
     "output_type": "execute_result"
    },
    {
     "data": {
      "image/png": "[encoded data removed]",
      "text/plain": [
       "<Figure size 432x288 with 1 Axes>"
      ]
     },
     "metadata": {
      "needs_background": "light"
     },
     "output_type": "display_data"
    },
    {
     "data": {
      "image/png": "[encoded data removed]",
      "text/plain": [
       "<Figure size 432x288 with 1 Axes>"
      ]
     },
     "metadata": {
      "needs_background": "light"
     },
     "output_type": "display_data"
    }
   ],
   "source": [
    "# Calculate stationary series from dataset\n",
    "eq_nov_stationary_series = get_stationary_series(eq_nov_df)\n",
    "\n",
    "# Plot the charts\n",
    "plot_acf(eq_nov_stationary_series, lags = 10)\n",
    "plot_pacf(eq_nov_stationary_series, lags = 10)\n",
    "eq_nov_stationary_series"
   ]
  },
  {
   "cell_type": "code",
   "execution_count": 15,
   "id": "b2eece90",
   "metadata": {
    "scrolled": true
   },
   "outputs": [
    {
     "name": "stdout",
     "output_type": "stream",
     "text": [
      "Performing stepwise search to minimize aic\n",
      " ARIMA(1,0,1)(0,0,0)[0] intercept   : AIC=5.042, Time=0.04 sec\n",
      " ARIMA(0,0,0)(0,0,0)[0] intercept   : AIC=3.163, Time=0.01 sec\n",
      " ARIMA(1,0,0)(0,0,0)[0] intercept   : AIC=4.554, Time=0.02 sec\n",
      " ARIMA(0,0,1)(0,0,0)[0] intercept   : AIC=inf, Time=0.04 sec\n",
      " ARIMA(0,0,0)(0,0,0)[0]             : AIC=1.500, Time=0.01 sec\n",
      "\n",
      "Best model:  ARIMA(0,0,0)(0,0,0)[0]          \n",
      "Total fit time: 0.123 seconds\n"
     ]
    },
    {
     "data": {
      "text/plain": [
       "ARIMA(order=(0, 0, 0), scoring_args={}, suppress_warnings=True,\n",
       "      with_intercept=False)"
      ]
     },
     "execution_count": 15,
     "metadata": {},
     "output_type": "execute_result"
    }
   ],
   "source": [
    "auto_arima(eq_nov_stationary_series, stationary=True, start_p=1, max_p = 10, \n",
    "           start_q = 1, max_q = 10, seasonal = False, trace= True)"
   ]
  },
  {
   "cell_type": "markdown",
   "id": "55d57eb9",
   "metadata": {},
   "source": [
    "<div class=\"alert alert-block alert-success\">\n",
    "\n",
    "<b>Interpretation of results / ARMA Model Justification:</b><br/>\n",
    "We specified a range from 1 to 10 for each of the \"p\" and \"q\" variables of our ARMA model n the grid search above. We have set the seasonality to \"False,\" since we are using less than a month of price data for model fitting, also since we made the data stationary, the parameter \"stationary\" is set to \"True.\" The best fitting model, without overfitting the data\" was ARMA(0, 0) according to AIC.\n",
    "\n",
    "Since the best order is (0, 0), we identify that the choice of ARMA model might not be appropriate. Nonetheless, for demonstration purposes we chose to nonetheless fit an ARMA model for this part.\n",
    "<br/>\n",
    "</div>"
   ]
  },
  {
   "cell_type": "code",
   "execution_count": 16,
   "id": "81a7bc97",
   "metadata": {
    "scrolled": true
   },
   "outputs": [
    {
     "data": {
      "text/html": [
       "<table class=\"simpletable\">\n",
       "<caption>ARMA Model Results</caption>\n",
       "<tr>\n",
       "  <th>Dep. Variable:</th>     <td>Adj Close</td>    <th>  No. Observations:  </th>  <td>18</td>  \n",
       "</tr>\n",
       "<tr>\n",
       "  <th>Model:</th>            <td>ARMA(0, 0)</td>    <th>  Log Likelihood     </th> <td>0.419</td>\n",
       "</tr>\n",
       "<tr>\n",
       "  <th>Method:</th>               <td>css</td>       <th>  S.D. of innovations</th> <td>0.236</td>\n",
       "</tr>\n",
       "<tr>\n",
       "  <th>Date:</th>          <td>Tue, 28 Sep 2021</td> <th>  AIC                </th> <td>3.163</td>\n",
       "</tr>\n",
       "<tr>\n",
       "  <th>Time:</th>              <td>03:30:39</td>     <th>  BIC                </th> <td>4.944</td>\n",
       "</tr>\n",
       "<tr>\n",
       "  <th>Sample:</th>                <td>0</td>        <th>  HQIC               </th> <td>3.408</td>\n",
       "</tr>\n",
       "<tr>\n",
       "  <th></th>                       <td> </td>        <th>                     </th>   <td> </td>  \n",
       "</tr>\n",
       "</table>\n",
       "<table class=\"simpletable\">\n",
       "<tr>\n",
       "    <td></td>       <th>coef</th>     <th>std err</th>      <th>z</th>      <th>P>|z|</th>  <th>[0.025</th>    <th>0.975]</th>  \n",
       "</tr>\n",
       "<tr>\n",
       "  <th>const</th> <td>   -0.0325</td> <td>    0.056</td> <td>   -0.583</td> <td> 0.560</td> <td>   -0.142</td> <td>    0.077</td>\n",
       "</tr>\n",
       "</table>"
      ],
      "text/plain": [
       "<class 'statsmodels.iolib.summary.Summary'>\n",
       "\"\"\"\n",
       "                              ARMA Model Results                              \n",
       "==============================================================================\n",
       "Dep. Variable:              Adj Close   No. Observations:                   18\n",
       "Model:                     ARMA(0, 0)   Log Likelihood                   0.419\n",
       "Method:                           css   S.D. of innovations              0.236\n",
       "Date:                Tue, 28 Sep 2021   AIC                              3.163\n",
       "Time:                        03:30:39   BIC                              4.944\n",
       "Sample:                             0   HQIC                             3.408\n",
       "                                                                              \n",
       "==============================================================================\n",
       "                 coef    std err          z      P>|z|      [0.025      0.975]\n",
       "------------------------------------------------------------------------------\n",
       "const         -0.0325      0.056     -0.583      0.560      -0.142       0.077\n",
       "==============================================================================\n",
       "\"\"\""
      ]
     },
     "execution_count": 16,
     "metadata": {},
     "output_type": "execute_result"
    }
   ],
   "source": [
    "ARMA_eq_nov = ARMA(eq_nov_stationary_series, order = (0, 0)).fit()\n",
    "ARMA_eq_nov.summary()"
   ]
  },
  {
   "cell_type": "markdown",
   "id": "418b0477",
   "metadata": {},
   "source": [
    "<div class=\"alert alert-block alert-success\">\n",
    "<b>6.5) What are the significant changes, if any?  Be specific with regards to the values of the parameters:</b> \n",
    "\n",
    "To summarise, the ARMA model results corroborates with the standard deviation values seen in earlier sections. Because the Gold prices in October and Equity prices in November were highly volatile and non-stationary, the best parameters found for the ARMA model were (0, 0). While for gold prices in November and equity prices in October, we were able to find the optimal ARMA parameters of (1,0), which is rather consistent across both models.\n",
    "</div>    "
   ]
  }
 ],
 "metadata": {
  "kernelspec": {
   "display_name": "Python 3",
   "language": "python",
   "name": "python3"
  },
  "language_info": {
   "codemirror_mode": {
    "name": "ipython",
    "version": 3
   },
   "file_extension": ".py",
   "mimetype": "text/x-python",
   "name": "python",
   "nbconvert_exporter": "python",
   "pygments_lexer": "ipython3",
   "version": "3.8.3"
  }
 },
 "nbformat": 4,
 "nbformat_minor": 5
}
