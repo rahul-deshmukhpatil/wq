{
 "cells": [
  {
   "cell_type": "markdown",
   "id": "661c9334",
   "metadata": {},
   "source": [
    "***\n",
    "# WorldQuant University\n",
    "<b>MScFE 610 Econometrics: Group Project 1 Submission</b><br>\n",
    "***\n",
    "\n",
    "<b>Group 11 Team Members:</b>\n",
    "\n",
    "- Beh Min Yan\n",
    "- Mohammadkian Maghsoodi\n",
    "- Rahul Patil\n",
    "\n",
    "# Question 8\n",
    "\n",
    "<b>This notebook contains our worked solutions to Q8, including code, outputs, and short answers as to the interpretation of results.</b>\n",
    "\n",
    "***"
   ]
  },
  {
   "cell_type": "markdown",
   "id": "f4f731fb",
   "metadata": {},
   "source": [
    "**Import Libraries and Relevant Datasets**"
   ]
  },
  {
   "cell_type": "code",
   "execution_count": 1,
   "id": "b522eb28",
   "metadata": {},
   "outputs": [],
   "source": [
    "from scipy.stats import pearsonr, zscore\n",
    "import numpy as np\n",
    "import pandas as pd\n",
    "\n",
    "# Import datasets calculated in Question 3\n",
    "gold_etf_df = pd.read_csv('gold.csv').set_index('Date')\n",
    "equity_etf_df = pd.read_csv('equity.csv').set_index('Date')"
   ]
  },
  {
   "cell_type": "markdown",
   "id": "33f7ccb7",
   "metadata": {},
   "source": [
    "**Split all datasets into October and November 2019 datasets**"
   ]
  },
  {
   "cell_type": "code",
   "execution_count": 2,
   "id": "85fc3811",
   "metadata": {},
   "outputs": [],
   "source": [
    "gold_oct_df = gold_etf_df[:'2019-10-31']\n",
    "gold_nov_df = gold_etf_df['2019-11-01':]\n",
    "\n",
    "eq_oct_df = equity_etf_df[:'2019-10-31']\n",
    "eq_nov_df = equity_etf_df['2019-11-01':]"
   ]
  },
  {
   "cell_type": "markdown",
   "id": "fbfb4004",
   "metadata": {},
   "source": [
    "# 8 Correlation"
   ]
  },
  {
   "cell_type": "markdown",
   "id": "ca6c97de",
   "metadata": {},
   "source": [
    "<b>8.1) Compute the Pearson correlation between the gold and equity returns in October 2019.  Repeat for November 2019. </b>"
   ]
  },
  {
   "cell_type": "code",
   "execution_count": 3,
   "id": "8892848f",
   "metadata": {
    "scrolled": true
   },
   "outputs": [
    {
     "name": "stdout",
     "output_type": "stream",
     "text": [
      ":: Pearson Correlation between Gold ETF and Equity ETF Returns ::\n",
      "Oct 2019: -0.6315261676070638\n",
      "Nov 2019: -0.18335214467838024\n"
     ]
    }
   ],
   "source": [
    "corr_oct, _ = pearsonr(gold_oct_df['Daily Returns'], eq_oct_df['Daily Returns'])\n",
    "corr_nov, _ = pearsonr(gold_nov_df['Daily Returns'], eq_nov_df['Daily Returns'])\n",
    "\n",
    "print(':: Pearson Correlation between Gold ETF and Equity ETF Returns ::')\n",
    "print('Oct 2019:', corr_oct)\n",
    "print('Nov 2019:', corr_nov)"
   ]
  },
  {
   "cell_type": "markdown",
   "id": "e016e867",
   "metadata": {},
   "source": [
    "**To find out if the extreme returns will deviate the calculated correlations:**\n",
    "* We apply an outlier removal procedure by omitting extreme returns more than 2 standard deviations away from mean, i.e. abs(z-score) of > 2."
   ]
  },
  {
   "cell_type": "code",
   "execution_count": 4,
   "id": "6acef98d",
   "metadata": {},
   "outputs": [],
   "source": [
    "def find_outliers(series):\n",
    "    return np.abs(zscore(series)) <= 2\n",
    "\n",
    "def generate_series_excl_outliers(series1, series2):\n",
    "    mask1 = find_outliers(series1)\n",
    "    mask2 = find_outliers(series2)\n",
    "    return series1[mask1 & mask2], series2[mask1 & mask2]"
   ]
  },
  {
   "cell_type": "code",
   "execution_count": 5,
   "id": "444d783c",
   "metadata": {},
   "outputs": [
    {
     "name": "stdout",
     "output_type": "stream",
     "text": [
      ":: (Excluding Outliers) Pearson Correlation between Gold ETF and Equity ETF Returns::\n",
      "Oct 2019: -0.5147298954234476\n",
      "Nov 2019: -0.28974756644747823\n"
     ]
    }
   ],
   "source": [
    "corr_oct, _ = pearsonr(*generate_series_excl_outliers(gold_oct_df['Daily Returns'], eq_oct_df['Daily Returns']))\n",
    "corr_nov, _ = pearsonr(*generate_series_excl_outliers(gold_nov_df['Daily Returns'], eq_nov_df['Daily Returns']))\n",
    "\n",
    "print(':: (Excluding Outliers) Pearson Correlation between Gold ETF and Equity ETF Returns::')\n",
    "print('Oct 2019:', corr_oct)\n",
    "print('Nov 2019:', corr_nov)"
   ]
  },
  {
   "cell_type": "markdown",
   "id": "d717447d",
   "metadata": {},
   "source": [
    "<div class=\"alert alert-block alert-success\">\n",
    "<b>Interpret the results as a group and include the answer in the html document for this question.  The interpretation should discuss the degree of correlation, and if it is affected by extreme returns:</b> \n",
    "\n",
    "We see a stronger negative correlation between Gold ETF and FTSE Equity ETF in the month of October 2019. However, in November 2019, the correlation became much weaker.<br/>\n",
    "    \n",
    "The calcualted results does not change with omitting outlier returns meaning that outliers didn't have much impact on correlations. Although gold and equity ETF returns show a weak correlation in November, this also suggests that a combined portfolio of Gold and Equity ETFs will have much lower risk and volatility in November than in October.\n",
    "</div>"
   ]
  }
 ],
 "metadata": {
  "kernelspec": {
   "display_name": "Python 3",
   "language": "python",
   "name": "python3"
  },
  "language_info": {
   "codemirror_mode": {
    "name": "ipython",
    "version": 3
   },
   "file_extension": ".py",
   "mimetype": "text/x-python",
   "name": "python",
   "nbconvert_exporter": "python",
   "pygments_lexer": "ipython3",
   "version": "3.8.3"
  }
 },
 "nbformat": 4,
 "nbformat_minor": 5
}
