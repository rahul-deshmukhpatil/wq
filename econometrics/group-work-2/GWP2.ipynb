{
 "cells": [
  {
   "cell_type": "markdown",
   "id": "9593ab3a",
   "metadata": {},
   "source": [
    "***\n",
    "# WorldQuant University\n",
    "<b>MScFE 610 Econometrics: Group Project 2 Submission</b><br>\n",
    "***\n",
    "\n",
    "<b>Group 11 Team Members:</b>\n",
    "\n",
    "- Beh Min Yan\n",
    "- Mohammadkian Maghsoodi\n",
    "- Rahul Patil\n",
    "\n",
    "***"
   ]
  },
  {
   "cell_type": "markdown",
   "id": "e5ba719a",
   "metadata": {},
   "source": [
    "# 0 Selecting a data set\n",
    "\n",
    "<br/>\n",
    "\n",
    "**We have chosen the below datasets:**\n",
    "\n",
    "- **Gold ETF:** SPDR Gold Shares (GLD). \n",
    "    - Source: https://finance.yahoo.com/quote/GLD/\n",
    "\n",
    "\n",
    "- **Equity ETF:** Vanguard FTSE Europe Index Fund ETF Shares (VGK).\n",
    "    - Source: https://finance.yahoo.com/quote/vgk/\n",
    "\n",
    "\n",
    "- **Bitcoin:** Denominated in USD (BTC-USD).\n",
    "    - Source: https://finance.yahoo.com/quote/BTC-USD/"
   ]
  },
  {
   "cell_type": "code",
   "execution_count": 1,
   "id": "9b1f7ce0",
   "metadata": {},
   "outputs": [],
   "source": [
    "GOLD_ETF = 'GLD'     # SPDR Gold Shares (GLD)\n",
    "EQUITY_ETF = 'VGK'   # Vanguard FTSE Europe Index Fund ETF Shares (VGK)\n",
    "BITCOIN = 'BTC-USD'\n",
    "\n",
    "START_DATE = '2020-01-01'\n",
    "END_DATE = '2020-12-31'"
   ]
  },
  {
   "cell_type": "markdown",
   "id": "3d141c2b",
   "metadata": {},
   "source": [
    "***\n",
    "# 1. Data Importing"
   ]
  },
  {
   "cell_type": "markdown",
   "id": "c7409d87",
   "metadata": {},
   "source": [
    "#### Import Libraries"
   ]
  },
  {
   "cell_type": "code",
   "execution_count": 2,
   "id": "01846957",
   "metadata": {},
   "outputs": [],
   "source": [
    "# !pip install dataclasses     # uncomment to install package if you haven't"
   ]
  },
  {
   "cell_type": "code",
   "execution_count": 3,
   "id": "ff6bce5c",
   "metadata": {},
   "outputs": [],
   "source": [
    "from dataclasses import dataclass\n",
    "from enum import Enum\n",
    "import matplotlib.pyplot as plt\n",
    "import pandas as pd\n",
    "import yfinance as yf\n",
    "\n",
    "pd.options.display.max_rows = 15"
   ]
  },
  {
   "cell_type": "markdown",
   "id": "251504dc",
   "metadata": {},
   "source": [
    "<b>1.1) Import closing prices for the entire year of 2020 for your gold ETF, your equity ETF, and bitcoin.</b>"
   ]
  },
  {
   "cell_type": "code",
   "execution_count": 4,
   "id": "a7feef33",
   "metadata": {},
   "outputs": [
    {
     "name": "stdout",
     "output_type": "stream",
     "text": [
      "[*********************100%***********************]  1 of 1 completed\n",
      "[*********************100%***********************]  1 of 1 completed\n",
      "[*********************100%***********************]  1 of 1 completed\n"
     ]
    }
   ],
   "source": [
    "def download_datasets(tickers, start=START_DATE, end=END_DATE):\n",
    "    return [yf.download([t], start=start, end=end) for t in tickers]\n",
    "\n",
    "gold_etf_df, equity_etf_df, bitcoin_df = download_datasets([GOLD_ETF, EQUITY_ETF, BITCOIN])"
   ]
  },
  {
   "cell_type": "code",
   "execution_count": 5,
   "id": "e23c3c4a",
   "metadata": {},
   "outputs": [
    {
     "name": "stdout",
     "output_type": "stream",
     "text": [
      "Closing prices for entire year of 2020:\n"
     ]
    },
    {
     "data": {
      "text/html": [
       "<div>\n",
       "<style scoped>\n",
       "    .dataframe tbody tr th:only-of-type {\n",
       "        vertical-align: middle;\n",
       "    }\n",
       "\n",
       "    .dataframe tbody tr th {\n",
       "        vertical-align: top;\n",
       "    }\n",
       "\n",
       "    .dataframe thead th {\n",
       "        text-align: right;\n",
       "    }\n",
       "</style>\n",
       "<table border=\"1\" class=\"dataframe\">\n",
       "  <thead>\n",
       "    <tr style=\"text-align: right;\">\n",
       "      <th></th>\n",
       "      <th>Gold ETF</th>\n",
       "      <th>Equity ETF</th>\n",
       "      <th>Bitcoin</th>\n",
       "    </tr>\n",
       "    <tr>\n",
       "      <th>Date</th>\n",
       "      <th></th>\n",
       "      <th></th>\n",
       "      <th></th>\n",
       "    </tr>\n",
       "  </thead>\n",
       "  <tbody>\n",
       "    <tr>\n",
       "      <th>2020-01-01</th>\n",
       "      <td>NaN</td>\n",
       "      <td>NaN</td>\n",
       "      <td>7200.174316</td>\n",
       "    </tr>\n",
       "    <tr>\n",
       "      <th>2020-01-02</th>\n",
       "      <td>143.949997</td>\n",
       "      <td>56.062183</td>\n",
       "      <td>6985.470215</td>\n",
       "    </tr>\n",
       "    <tr>\n",
       "      <th>2020-01-03</th>\n",
       "      <td>145.860001</td>\n",
       "      <td>55.360096</td>\n",
       "      <td>7344.884277</td>\n",
       "    </tr>\n",
       "    <tr>\n",
       "      <th>2020-01-04</th>\n",
       "      <td>NaN</td>\n",
       "      <td>NaN</td>\n",
       "      <td>7410.656738</td>\n",
       "    </tr>\n",
       "    <tr>\n",
       "      <th>2020-01-05</th>\n",
       "      <td>NaN</td>\n",
       "      <td>NaN</td>\n",
       "      <td>7411.317383</td>\n",
       "    </tr>\n",
       "    <tr>\n",
       "      <th>...</th>\n",
       "      <td>...</td>\n",
       "      <td>...</td>\n",
       "      <td>...</td>\n",
       "    </tr>\n",
       "    <tr>\n",
       "      <th>2020-12-27</th>\n",
       "      <td>NaN</td>\n",
       "      <td>NaN</td>\n",
       "      <td>26272.294922</td>\n",
       "    </tr>\n",
       "    <tr>\n",
       "      <th>2020-12-28</th>\n",
       "      <td>175.710007</td>\n",
       "      <td>59.336601</td>\n",
       "      <td>27084.808594</td>\n",
       "    </tr>\n",
       "    <tr>\n",
       "      <th>2020-12-29</th>\n",
       "      <td>176.350006</td>\n",
       "      <td>59.767429</td>\n",
       "      <td>27362.437500</td>\n",
       "    </tr>\n",
       "    <tr>\n",
       "      <th>2020-12-30</th>\n",
       "      <td>177.699997</td>\n",
       "      <td>59.689095</td>\n",
       "      <td>28840.953125</td>\n",
       "    </tr>\n",
       "    <tr>\n",
       "      <th>2020-12-31</th>\n",
       "      <td>NaN</td>\n",
       "      <td>NaN</td>\n",
       "      <td>29001.720703</td>\n",
       "    </tr>\n",
       "  </tbody>\n",
       "</table>\n",
       "<p>362 rows × 3 columns</p>\n",
       "</div>"
      ],
      "text/plain": [
       "              Gold ETF  Equity ETF       Bitcoin\n",
       "Date                                            \n",
       "2020-01-01         NaN         NaN   7200.174316\n",
       "2020-01-02  143.949997   56.062183   6985.470215\n",
       "2020-01-03  145.860001   55.360096   7344.884277\n",
       "2020-01-04         NaN         NaN   7410.656738\n",
       "2020-01-05         NaN         NaN   7411.317383\n",
       "...                ...         ...           ...\n",
       "2020-12-27         NaN         NaN  26272.294922\n",
       "2020-12-28  175.710007   59.336601  27084.808594\n",
       "2020-12-29  176.350006   59.767429  27362.437500\n",
       "2020-12-30  177.699997   59.689095  28840.953125\n",
       "2020-12-31         NaN         NaN  29001.720703\n",
       "\n",
       "[362 rows x 3 columns]"
      ]
     },
     "execution_count": 5,
     "metadata": {},
     "output_type": "execute_result"
    }
   ],
   "source": [
    "# Consolidate imported close prices of all 3 assets into 1 dataframe\n",
    "\n",
    "closing_prices = pd.DataFrame({\n",
    "    'Gold ETF': gold_etf_df['Adj Close'],\n",
    "    'Equity ETF': equity_etf_df['Adj Close'],\n",
    "    'Bitcoin': bitcoin_df['Adj Close']\n",
    "}, index=bitcoin_df.index)\n",
    "\n",
    "print('Closing prices for entire year of 2020:')\n",
    "closing_prices"
   ]
  },
  {
   "cell_type": "markdown",
   "id": "6df78d0b",
   "metadata": {},
   "source": [
    "<div class=\"alert alert-block alert-info\">\n",
    "Note that BTC trades 24/7, and therefore has daily close prices 7 days a week. For weekends and non-trading days, for a more accurate representation, we have made the decision to leave them as NaN for Gold and Equity ETF columns instead of forward-filling the data.\n",
    "</div>    \n"
   ]
  },
  {
   "cell_type": "markdown",
   "id": "5cfa40d0",
   "metadata": {},
   "source": [
    "<b>1.2) Import your gold ETF prices for the months of April 2020 through Dec 2020.  (Therefore, you do not need the first few months of data you imported)</b>\n",
    "\n",
    "<br/>\n",
    "\n",
    "**Selected Gold ETF:** SPDR Gold Shares (GLD). [[Source](https://finance.yahoo.com/quote/GLD/)]"
   ]
  },
  {
   "cell_type": "code",
   "execution_count": 6,
   "id": "d524991e",
   "metadata": {},
   "outputs": [
    {
     "data": {
      "text/html": [
       "<div>\n",
       "<style scoped>\n",
       "    .dataframe tbody tr th:only-of-type {\n",
       "        vertical-align: middle;\n",
       "    }\n",
       "\n",
       "    .dataframe tbody tr th {\n",
       "        vertical-align: top;\n",
       "    }\n",
       "\n",
       "    .dataframe thead th {\n",
       "        text-align: right;\n",
       "    }\n",
       "</style>\n",
       "<table border=\"1\" class=\"dataframe\">\n",
       "  <thead>\n",
       "    <tr style=\"text-align: right;\">\n",
       "      <th></th>\n",
       "      <th>Open</th>\n",
       "      <th>High</th>\n",
       "      <th>Low</th>\n",
       "      <th>Close</th>\n",
       "      <th>Adj Close</th>\n",
       "      <th>Volume</th>\n",
       "    </tr>\n",
       "    <tr>\n",
       "      <th>Date</th>\n",
       "      <th></th>\n",
       "      <th></th>\n",
       "      <th></th>\n",
       "      <th></th>\n",
       "      <th></th>\n",
       "      <th></th>\n",
       "    </tr>\n",
       "  </thead>\n",
       "  <tbody>\n",
       "    <tr>\n",
       "      <th>2020-04-01</th>\n",
       "      <td>148.199997</td>\n",
       "      <td>150.080002</td>\n",
       "      <td>147.850006</td>\n",
       "      <td>149.449997</td>\n",
       "      <td>149.449997</td>\n",
       "      <td>11827400</td>\n",
       "    </tr>\n",
       "    <tr>\n",
       "      <th>2020-04-02</th>\n",
       "      <td>151.199997</td>\n",
       "      <td>152.500000</td>\n",
       "      <td>150.699997</td>\n",
       "      <td>151.899994</td>\n",
       "      <td>151.899994</td>\n",
       "      <td>9188300</td>\n",
       "    </tr>\n",
       "    <tr>\n",
       "      <th>2020-04-03</th>\n",
       "      <td>152.229996</td>\n",
       "      <td>153.089996</td>\n",
       "      <td>151.660004</td>\n",
       "      <td>152.649994</td>\n",
       "      <td>152.649994</td>\n",
       "      <td>8469100</td>\n",
       "    </tr>\n",
       "    <tr>\n",
       "      <th>2020-04-06</th>\n",
       "      <td>154.160004</td>\n",
       "      <td>157.220001</td>\n",
       "      <td>153.960007</td>\n",
       "      <td>156.880005</td>\n",
       "      <td>156.880005</td>\n",
       "      <td>14739300</td>\n",
       "    </tr>\n",
       "    <tr>\n",
       "      <th>2020-04-07</th>\n",
       "      <td>155.330002</td>\n",
       "      <td>156.139999</td>\n",
       "      <td>154.380005</td>\n",
       "      <td>156.039993</td>\n",
       "      <td>156.039993</td>\n",
       "      <td>9195400</td>\n",
       "    </tr>\n",
       "    <tr>\n",
       "      <th>...</th>\n",
       "      <td>...</td>\n",
       "      <td>...</td>\n",
       "      <td>...</td>\n",
       "      <td>...</td>\n",
       "      <td>...</td>\n",
       "      <td>...</td>\n",
       "    </tr>\n",
       "    <tr>\n",
       "      <th>2020-12-23</th>\n",
       "      <td>175.100006</td>\n",
       "      <td>176.210007</td>\n",
       "      <td>175.059998</td>\n",
       "      <td>175.649994</td>\n",
       "      <td>175.649994</td>\n",
       "      <td>6542800</td>\n",
       "    </tr>\n",
       "    <tr>\n",
       "      <th>2020-12-24</th>\n",
       "      <td>175.550003</td>\n",
       "      <td>176.369995</td>\n",
       "      <td>175.509995</td>\n",
       "      <td>176.350006</td>\n",
       "      <td>176.350006</td>\n",
       "      <td>3695400</td>\n",
       "    </tr>\n",
       "    <tr>\n",
       "      <th>2020-12-28</th>\n",
       "      <td>177.259995</td>\n",
       "      <td>177.910004</td>\n",
       "      <td>175.630005</td>\n",
       "      <td>175.710007</td>\n",
       "      <td>175.710007</td>\n",
       "      <td>7778700</td>\n",
       "    </tr>\n",
       "    <tr>\n",
       "      <th>2020-12-29</th>\n",
       "      <td>176.250000</td>\n",
       "      <td>176.970001</td>\n",
       "      <td>175.570007</td>\n",
       "      <td>176.350006</td>\n",
       "      <td>176.350006</td>\n",
       "      <td>5983700</td>\n",
       "    </tr>\n",
       "    <tr>\n",
       "      <th>2020-12-30</th>\n",
       "      <td>176.440002</td>\n",
       "      <td>177.720001</td>\n",
       "      <td>176.440002</td>\n",
       "      <td>177.699997</td>\n",
       "      <td>177.699997</td>\n",
       "      <td>5914000</td>\n",
       "    </tr>\n",
       "  </tbody>\n",
       "</table>\n",
       "<p>190 rows × 6 columns</p>\n",
       "</div>"
      ],
      "text/plain": [
       "                  Open        High         Low       Close   Adj Close  \\\n",
       "Date                                                                     \n",
       "2020-04-01  148.199997  150.080002  147.850006  149.449997  149.449997   \n",
       "2020-04-02  151.199997  152.500000  150.699997  151.899994  151.899994   \n",
       "2020-04-03  152.229996  153.089996  151.660004  152.649994  152.649994   \n",
       "2020-04-06  154.160004  157.220001  153.960007  156.880005  156.880005   \n",
       "2020-04-07  155.330002  156.139999  154.380005  156.039993  156.039993   \n",
       "...                ...         ...         ...         ...         ...   \n",
       "2020-12-23  175.100006  176.210007  175.059998  175.649994  175.649994   \n",
       "2020-12-24  175.550003  176.369995  175.509995  176.350006  176.350006   \n",
       "2020-12-28  177.259995  177.910004  175.630005  175.710007  175.710007   \n",
       "2020-12-29  176.250000  176.970001  175.570007  176.350006  176.350006   \n",
       "2020-12-30  176.440002  177.720001  176.440002  177.699997  177.699997   \n",
       "\n",
       "              Volume  \n",
       "Date                  \n",
       "2020-04-01  11827400  \n",
       "2020-04-02   9188300  \n",
       "2020-04-03   8469100  \n",
       "2020-04-06  14739300  \n",
       "2020-04-07   9195400  \n",
       "...              ...  \n",
       "2020-12-23   6542800  \n",
       "2020-12-24   3695400  \n",
       "2020-12-28   7778700  \n",
       "2020-12-29   5983700  \n",
       "2020-12-30   5914000  \n",
       "\n",
       "[190 rows x 6 columns]"
      ]
     },
     "execution_count": 6,
     "metadata": {},
     "output_type": "execute_result"
    }
   ],
   "source": [
    "gold_etf_df['2020-04-01':]"
   ]
  },
  {
   "cell_type": "markdown",
   "id": "b9f92f34",
   "metadata": {},
   "source": [
    "<b>1.3) Import your equity ETF prices for the months of April 2020 through Dec 2020.  (Therefore, you do not need the first few months of data you imported)</b>\n",
    "\n",
    "<br/>\n",
    "\n",
    "**Selected Equity ETF:** Vanguard FTSE Europe Index Fund ETF Shares (VGK). [[Source](https://finance.yahoo.com/quote/vgk/)]"
   ]
  },
  {
   "cell_type": "code",
   "execution_count": 7,
   "id": "6aa1088e",
   "metadata": {},
   "outputs": [
    {
     "data": {
      "text/html": [
       "<div>\n",
       "<style scoped>\n",
       "    .dataframe tbody tr th:only-of-type {\n",
       "        vertical-align: middle;\n",
       "    }\n",
       "\n",
       "    .dataframe tbody tr th {\n",
       "        vertical-align: top;\n",
       "    }\n",
       "\n",
       "    .dataframe thead th {\n",
       "        text-align: right;\n",
       "    }\n",
       "</style>\n",
       "<table border=\"1\" class=\"dataframe\">\n",
       "  <thead>\n",
       "    <tr style=\"text-align: right;\">\n",
       "      <th></th>\n",
       "      <th>Open</th>\n",
       "      <th>High</th>\n",
       "      <th>Low</th>\n",
       "      <th>Close</th>\n",
       "      <th>Adj Close</th>\n",
       "      <th>Volume</th>\n",
       "    </tr>\n",
       "    <tr>\n",
       "      <th>Date</th>\n",
       "      <th></th>\n",
       "      <th></th>\n",
       "      <th></th>\n",
       "      <th></th>\n",
       "      <th></th>\n",
       "      <th></th>\n",
       "    </tr>\n",
       "  </thead>\n",
       "  <tbody>\n",
       "    <tr>\n",
       "      <th>2020-04-01</th>\n",
       "      <td>42.020000</td>\n",
       "      <td>42.400002</td>\n",
       "      <td>41.340000</td>\n",
       "      <td>41.380001</td>\n",
       "      <td>39.518627</td>\n",
       "      <td>6718800</td>\n",
       "    </tr>\n",
       "    <tr>\n",
       "      <th>2020-04-02</th>\n",
       "      <td>41.389999</td>\n",
       "      <td>42.459999</td>\n",
       "      <td>41.360001</td>\n",
       "      <td>42.169998</td>\n",
       "      <td>40.273090</td>\n",
       "      <td>7903800</td>\n",
       "    </tr>\n",
       "    <tr>\n",
       "      <th>2020-04-03</th>\n",
       "      <td>41.590000</td>\n",
       "      <td>41.680000</td>\n",
       "      <td>40.959999</td>\n",
       "      <td>41.290001</td>\n",
       "      <td>39.432674</td>\n",
       "      <td>5113100</td>\n",
       "    </tr>\n",
       "    <tr>\n",
       "      <th>2020-04-06</th>\n",
       "      <td>42.689999</td>\n",
       "      <td>43.480000</td>\n",
       "      <td>42.540001</td>\n",
       "      <td>43.330002</td>\n",
       "      <td>41.380913</td>\n",
       "      <td>8061200</td>\n",
       "    </tr>\n",
       "    <tr>\n",
       "      <th>2020-04-07</th>\n",
       "      <td>44.689999</td>\n",
       "      <td>44.759998</td>\n",
       "      <td>43.500000</td>\n",
       "      <td>43.590000</td>\n",
       "      <td>41.629211</td>\n",
       "      <td>7931100</td>\n",
       "    </tr>\n",
       "    <tr>\n",
       "      <th>...</th>\n",
       "      <td>...</td>\n",
       "      <td>...</td>\n",
       "      <td>...</td>\n",
       "      <td>...</td>\n",
       "      <td>...</td>\n",
       "      <td>...</td>\n",
       "    </tr>\n",
       "    <tr>\n",
       "      <th>2020-12-23</th>\n",
       "      <td>59.880001</td>\n",
       "      <td>60.110001</td>\n",
       "      <td>59.790001</td>\n",
       "      <td>60.040001</td>\n",
       "      <td>58.788280</td>\n",
       "      <td>2826000</td>\n",
       "    </tr>\n",
       "    <tr>\n",
       "      <th>2020-12-24</th>\n",
       "      <td>60.160000</td>\n",
       "      <td>60.230000</td>\n",
       "      <td>59.950001</td>\n",
       "      <td>60.189999</td>\n",
       "      <td>58.935146</td>\n",
       "      <td>1453300</td>\n",
       "    </tr>\n",
       "    <tr>\n",
       "      <th>2020-12-28</th>\n",
       "      <td>60.779999</td>\n",
       "      <td>60.869999</td>\n",
       "      <td>60.509998</td>\n",
       "      <td>60.599998</td>\n",
       "      <td>59.336601</td>\n",
       "      <td>1942100</td>\n",
       "    </tr>\n",
       "    <tr>\n",
       "      <th>2020-12-29</th>\n",
       "      <td>61.340000</td>\n",
       "      <td>61.400002</td>\n",
       "      <td>60.869999</td>\n",
       "      <td>61.040001</td>\n",
       "      <td>59.767429</td>\n",
       "      <td>2058400</td>\n",
       "    </tr>\n",
       "    <tr>\n",
       "      <th>2020-12-30</th>\n",
       "      <td>61.250000</td>\n",
       "      <td>61.389999</td>\n",
       "      <td>60.910000</td>\n",
       "      <td>60.959999</td>\n",
       "      <td>59.689095</td>\n",
       "      <td>2492100</td>\n",
       "    </tr>\n",
       "  </tbody>\n",
       "</table>\n",
       "<p>190 rows × 6 columns</p>\n",
       "</div>"
      ],
      "text/plain": [
       "                 Open       High        Low      Close  Adj Close   Volume\n",
       "Date                                                                      \n",
       "2020-04-01  42.020000  42.400002  41.340000  41.380001  39.518627  6718800\n",
       "2020-04-02  41.389999  42.459999  41.360001  42.169998  40.273090  7903800\n",
       "2020-04-03  41.590000  41.680000  40.959999  41.290001  39.432674  5113100\n",
       "2020-04-06  42.689999  43.480000  42.540001  43.330002  41.380913  8061200\n",
       "2020-04-07  44.689999  44.759998  43.500000  43.590000  41.629211  7931100\n",
       "...               ...        ...        ...        ...        ...      ...\n",
       "2020-12-23  59.880001  60.110001  59.790001  60.040001  58.788280  2826000\n",
       "2020-12-24  60.160000  60.230000  59.950001  60.189999  58.935146  1453300\n",
       "2020-12-28  60.779999  60.869999  60.509998  60.599998  59.336601  1942100\n",
       "2020-12-29  61.340000  61.400002  60.869999  61.040001  59.767429  2058400\n",
       "2020-12-30  61.250000  61.389999  60.910000  60.959999  59.689095  2492100\n",
       "\n",
       "[190 rows x 6 columns]"
      ]
     },
     "execution_count": 7,
     "metadata": {},
     "output_type": "execute_result"
    }
   ],
   "source": [
    "equity_etf_df['2020-04-01':]"
   ]
  },
  {
   "cell_type": "markdown",
   "id": "a814dab8",
   "metadata": {},
   "source": [
    "<b>1.4) Import your bitcoin prices for the months of April 2020 through Dec 2020.  (Therefore, you do not need the first few months of data you imported)</b>\n",
    "\n",
    "<br/>\n",
    "\n",
    "**Ticker:** BTC-USD. [[Source](https://finance.yahoo.com/quote/BTC-USD/)]"
   ]
  },
  {
   "cell_type": "code",
   "execution_count": 8,
   "id": "74302694",
   "metadata": {},
   "outputs": [
    {
     "data": {
      "text/html": [
       "<div>\n",
       "<style scoped>\n",
       "    .dataframe tbody tr th:only-of-type {\n",
       "        vertical-align: middle;\n",
       "    }\n",
       "\n",
       "    .dataframe tbody tr th {\n",
       "        vertical-align: top;\n",
       "    }\n",
       "\n",
       "    .dataframe thead th {\n",
       "        text-align: right;\n",
       "    }\n",
       "</style>\n",
       "<table border=\"1\" class=\"dataframe\">\n",
       "  <thead>\n",
       "    <tr style=\"text-align: right;\">\n",
       "      <th></th>\n",
       "      <th>Open</th>\n",
       "      <th>High</th>\n",
       "      <th>Low</th>\n",
       "      <th>Close</th>\n",
       "      <th>Adj Close</th>\n",
       "      <th>Volume</th>\n",
       "    </tr>\n",
       "    <tr>\n",
       "      <th>Date</th>\n",
       "      <th></th>\n",
       "      <th></th>\n",
       "      <th></th>\n",
       "      <th></th>\n",
       "      <th></th>\n",
       "      <th></th>\n",
       "    </tr>\n",
       "  </thead>\n",
       "  <tbody>\n",
       "    <tr>\n",
       "      <th>2020-04-01</th>\n",
       "      <td>6437.319336</td>\n",
       "      <td>6612.573730</td>\n",
       "      <td>6202.373535</td>\n",
       "      <td>6606.776367</td>\n",
       "      <td>6606.776367</td>\n",
       "      <td>40346426266</td>\n",
       "    </tr>\n",
       "    <tr>\n",
       "      <th>2020-04-02</th>\n",
       "      <td>6606.776367</td>\n",
       "      <td>7088.247559</td>\n",
       "      <td>6595.918457</td>\n",
       "      <td>6793.624512</td>\n",
       "      <td>6793.624512</td>\n",
       "      <td>47660646124</td>\n",
       "    </tr>\n",
       "    <tr>\n",
       "      <th>2020-04-03</th>\n",
       "      <td>6797.396484</td>\n",
       "      <td>7003.220703</td>\n",
       "      <td>6673.335938</td>\n",
       "      <td>6733.387207</td>\n",
       "      <td>6733.387207</td>\n",
       "      <td>38976504903</td>\n",
       "    </tr>\n",
       "    <tr>\n",
       "      <th>2020-04-04</th>\n",
       "      <td>6738.382812</td>\n",
       "      <td>6878.953613</td>\n",
       "      <td>6696.484863</td>\n",
       "      <td>6867.527344</td>\n",
       "      <td>6867.527344</td>\n",
       "      <td>33185988584</td>\n",
       "    </tr>\n",
       "    <tr>\n",
       "      <th>2020-04-05</th>\n",
       "      <td>6862.537598</td>\n",
       "      <td>6883.414062</td>\n",
       "      <td>6715.929199</td>\n",
       "      <td>6791.129395</td>\n",
       "      <td>6791.129395</td>\n",
       "      <td>29510409856</td>\n",
       "    </tr>\n",
       "    <tr>\n",
       "      <th>...</th>\n",
       "      <td>...</td>\n",
       "      <td>...</td>\n",
       "      <td>...</td>\n",
       "      <td>...</td>\n",
       "      <td>...</td>\n",
       "      <td>...</td>\n",
       "    </tr>\n",
       "    <tr>\n",
       "      <th>2020-12-27</th>\n",
       "      <td>26439.373047</td>\n",
       "      <td>28288.839844</td>\n",
       "      <td>25922.769531</td>\n",
       "      <td>26272.294922</td>\n",
       "      <td>26272.294922</td>\n",
       "      <td>66479895605</td>\n",
       "    </tr>\n",
       "    <tr>\n",
       "      <th>2020-12-28</th>\n",
       "      <td>26280.822266</td>\n",
       "      <td>27389.111328</td>\n",
       "      <td>26207.640625</td>\n",
       "      <td>27084.808594</td>\n",
       "      <td>27084.808594</td>\n",
       "      <td>49056742893</td>\n",
       "    </tr>\n",
       "    <tr>\n",
       "      <th>2020-12-29</th>\n",
       "      <td>27081.810547</td>\n",
       "      <td>27370.720703</td>\n",
       "      <td>25987.298828</td>\n",
       "      <td>27362.437500</td>\n",
       "      <td>27362.437500</td>\n",
       "      <td>45265946774</td>\n",
       "    </tr>\n",
       "    <tr>\n",
       "      <th>2020-12-30</th>\n",
       "      <td>27360.089844</td>\n",
       "      <td>28937.740234</td>\n",
       "      <td>27360.089844</td>\n",
       "      <td>28840.953125</td>\n",
       "      <td>28840.953125</td>\n",
       "      <td>51287442704</td>\n",
       "    </tr>\n",
       "    <tr>\n",
       "      <th>2020-12-31</th>\n",
       "      <td>28841.574219</td>\n",
       "      <td>29244.876953</td>\n",
       "      <td>28201.992188</td>\n",
       "      <td>29001.720703</td>\n",
       "      <td>29001.720703</td>\n",
       "      <td>46754964848</td>\n",
       "    </tr>\n",
       "  </tbody>\n",
       "</table>\n",
       "<p>271 rows × 6 columns</p>\n",
       "</div>"
      ],
      "text/plain": [
       "                    Open          High           Low         Close  \\\n",
       "Date                                                                 \n",
       "2020-04-01   6437.319336   6612.573730   6202.373535   6606.776367   \n",
       "2020-04-02   6606.776367   7088.247559   6595.918457   6793.624512   \n",
       "2020-04-03   6797.396484   7003.220703   6673.335938   6733.387207   \n",
       "2020-04-04   6738.382812   6878.953613   6696.484863   6867.527344   \n",
       "2020-04-05   6862.537598   6883.414062   6715.929199   6791.129395   \n",
       "...                  ...           ...           ...           ...   \n",
       "2020-12-27  26439.373047  28288.839844  25922.769531  26272.294922   \n",
       "2020-12-28  26280.822266  27389.111328  26207.640625  27084.808594   \n",
       "2020-12-29  27081.810547  27370.720703  25987.298828  27362.437500   \n",
       "2020-12-30  27360.089844  28937.740234  27360.089844  28840.953125   \n",
       "2020-12-31  28841.574219  29244.876953  28201.992188  29001.720703   \n",
       "\n",
       "               Adj Close       Volume  \n",
       "Date                                   \n",
       "2020-04-01   6606.776367  40346426266  \n",
       "2020-04-02   6793.624512  47660646124  \n",
       "2020-04-03   6733.387207  38976504903  \n",
       "2020-04-04   6867.527344  33185988584  \n",
       "2020-04-05   6791.129395  29510409856  \n",
       "...                  ...          ...  \n",
       "2020-12-27  26272.294922  66479895605  \n",
       "2020-12-28  27084.808594  49056742893  \n",
       "2020-12-29  27362.437500  45265946774  \n",
       "2020-12-30  28840.953125  51287442704  \n",
       "2020-12-31  29001.720703  46754964848  \n",
       "\n",
       "[271 rows x 6 columns]"
      ]
     },
     "execution_count": 8,
     "metadata": {},
     "output_type": "execute_result"
    }
   ],
   "source": [
    "bitcoin_df['2020-04-01':]"
   ]
  },
  {
   "cell_type": "markdown",
   "id": "df8346d4",
   "metadata": {},
   "source": [
    "## 2. Data Processing\n",
    "\n",
    "First we wrote a utility method for adding a DataFrame column called `Daily Returns` to each dataset."
   ]
  },
  {
   "cell_type": "code",
   "execution_count": 9,
   "id": "3dab981e",
   "metadata": {},
   "outputs": [],
   "source": [
    "def compute_returns(df, col='Adj Close', start='2020-04-01'):\n",
    "    df['Daily Returns'] = df[col].pct_change()\n",
    "    return df[~df['Daily Returns'].isnull()][start:]"
   ]
  },
  {
   "cell_type": "markdown",
   "id": "7f309391",
   "metadata": {},
   "source": [
    "<b>2.1) Compute the daily returns of your gold ETF, your Equity ETF, and bitcoin of April 2020 through Dec 2020"
   ]
  },
  {
   "cell_type": "code",
   "execution_count": 10,
   "id": "fea798cf",
   "metadata": {},
   "outputs": [
    {
     "name": "stdout",
     "output_type": "stream",
     "text": [
      "Daily returns for Gold ETF:\n"
     ]
    },
    {
     "data": {
      "text/html": [
       "<div>\n",
       "<style scoped>\n",
       "    .dataframe tbody tr th:only-of-type {\n",
       "        vertical-align: middle;\n",
       "    }\n",
       "\n",
       "    .dataframe tbody tr th {\n",
       "        vertical-align: top;\n",
       "    }\n",
       "\n",
       "    .dataframe thead th {\n",
       "        text-align: right;\n",
       "    }\n",
       "</style>\n",
       "<table border=\"1\" class=\"dataframe\">\n",
       "  <thead>\n",
       "    <tr style=\"text-align: right;\">\n",
       "      <th></th>\n",
       "      <th>Adj Close</th>\n",
       "      <th>Daily Returns</th>\n",
       "    </tr>\n",
       "    <tr>\n",
       "      <th>Date</th>\n",
       "      <th></th>\n",
       "      <th></th>\n",
       "    </tr>\n",
       "  </thead>\n",
       "  <tbody>\n",
       "    <tr>\n",
       "      <th>2020-04-01</th>\n",
       "      <td>149.449997</td>\n",
       "      <td>0.009456</td>\n",
       "    </tr>\n",
       "    <tr>\n",
       "      <th>2020-04-02</th>\n",
       "      <td>151.899994</td>\n",
       "      <td>0.016393</td>\n",
       "    </tr>\n",
       "    <tr>\n",
       "      <th>2020-04-03</th>\n",
       "      <td>152.649994</td>\n",
       "      <td>0.004937</td>\n",
       "    </tr>\n",
       "    <tr>\n",
       "      <th>2020-04-06</th>\n",
       "      <td>156.880005</td>\n",
       "      <td>0.027711</td>\n",
       "    </tr>\n",
       "    <tr>\n",
       "      <th>2020-04-07</th>\n",
       "      <td>156.039993</td>\n",
       "      <td>-0.005354</td>\n",
       "    </tr>\n",
       "    <tr>\n",
       "      <th>...</th>\n",
       "      <td>...</td>\n",
       "      <td>...</td>\n",
       "    </tr>\n",
       "    <tr>\n",
       "      <th>2020-12-23</th>\n",
       "      <td>175.649994</td>\n",
       "      <td>0.006648</td>\n",
       "    </tr>\n",
       "    <tr>\n",
       "      <th>2020-12-24</th>\n",
       "      <td>176.350006</td>\n",
       "      <td>0.003985</td>\n",
       "    </tr>\n",
       "    <tr>\n",
       "      <th>2020-12-28</th>\n",
       "      <td>175.710007</td>\n",
       "      <td>-0.003629</td>\n",
       "    </tr>\n",
       "    <tr>\n",
       "      <th>2020-12-29</th>\n",
       "      <td>176.350006</td>\n",
       "      <td>0.003642</td>\n",
       "    </tr>\n",
       "    <tr>\n",
       "      <th>2020-12-30</th>\n",
       "      <td>177.699997</td>\n",
       "      <td>0.007655</td>\n",
       "    </tr>\n",
       "  </tbody>\n",
       "</table>\n",
       "<p>190 rows × 2 columns</p>\n",
       "</div>"
      ],
      "text/plain": [
       "             Adj Close  Daily Returns\n",
       "Date                                 \n",
       "2020-04-01  149.449997       0.009456\n",
       "2020-04-02  151.899994       0.016393\n",
       "2020-04-03  152.649994       0.004937\n",
       "2020-04-06  156.880005       0.027711\n",
       "2020-04-07  156.039993      -0.005354\n",
       "...                ...            ...\n",
       "2020-12-23  175.649994       0.006648\n",
       "2020-12-24  176.350006       0.003985\n",
       "2020-12-28  175.710007      -0.003629\n",
       "2020-12-29  176.350006       0.003642\n",
       "2020-12-30  177.699997       0.007655\n",
       "\n",
       "[190 rows x 2 columns]"
      ]
     },
     "execution_count": 10,
     "metadata": {},
     "output_type": "execute_result"
    }
   ],
   "source": [
    "gold_etf_returns_df = compute_returns(gold_etf_df)\n",
    "\n",
    "print('Daily returns for Gold ETF:')\n",
    "gold_etf_returns_df[['Adj Close', 'Daily Returns']]"
   ]
  },
  {
   "cell_type": "code",
   "execution_count": 11,
   "id": "99190f45",
   "metadata": {},
   "outputs": [
    {
     "name": "stdout",
     "output_type": "stream",
     "text": [
      "Daily returns for Equity ETF:\n"
     ]
    },
    {
     "data": {
      "text/html": [
       "<div>\n",
       "<style scoped>\n",
       "    .dataframe tbody tr th:only-of-type {\n",
       "        vertical-align: middle;\n",
       "    }\n",
       "\n",
       "    .dataframe tbody tr th {\n",
       "        vertical-align: top;\n",
       "    }\n",
       "\n",
       "    .dataframe thead th {\n",
       "        text-align: right;\n",
       "    }\n",
       "</style>\n",
       "<table border=\"1\" class=\"dataframe\">\n",
       "  <thead>\n",
       "    <tr style=\"text-align: right;\">\n",
       "      <th></th>\n",
       "      <th>Adj Close</th>\n",
       "      <th>Daily Returns</th>\n",
       "    </tr>\n",
       "    <tr>\n",
       "      <th>Date</th>\n",
       "      <th></th>\n",
       "      <th></th>\n",
       "    </tr>\n",
       "  </thead>\n",
       "  <tbody>\n",
       "    <tr>\n",
       "      <th>2020-04-01</th>\n",
       "      <td>39.518627</td>\n",
       "      <td>-0.043900</td>\n",
       "    </tr>\n",
       "    <tr>\n",
       "      <th>2020-04-02</th>\n",
       "      <td>40.273090</td>\n",
       "      <td>0.019091</td>\n",
       "    </tr>\n",
       "    <tr>\n",
       "      <th>2020-04-03</th>\n",
       "      <td>39.432674</td>\n",
       "      <td>-0.020868</td>\n",
       "    </tr>\n",
       "    <tr>\n",
       "      <th>2020-04-06</th>\n",
       "      <td>41.380913</td>\n",
       "      <td>0.049407</td>\n",
       "    </tr>\n",
       "    <tr>\n",
       "      <th>2020-04-07</th>\n",
       "      <td>41.629211</td>\n",
       "      <td>0.006000</td>\n",
       "    </tr>\n",
       "    <tr>\n",
       "      <th>...</th>\n",
       "      <td>...</td>\n",
       "      <td>...</td>\n",
       "    </tr>\n",
       "    <tr>\n",
       "      <th>2020-12-23</th>\n",
       "      <td>58.788280</td>\n",
       "      <td>0.013333</td>\n",
       "    </tr>\n",
       "    <tr>\n",
       "      <th>2020-12-24</th>\n",
       "      <td>58.935146</td>\n",
       "      <td>0.002498</td>\n",
       "    </tr>\n",
       "    <tr>\n",
       "      <th>2020-12-28</th>\n",
       "      <td>59.336601</td>\n",
       "      <td>0.006812</td>\n",
       "    </tr>\n",
       "    <tr>\n",
       "      <th>2020-12-29</th>\n",
       "      <td>59.767429</td>\n",
       "      <td>0.007261</td>\n",
       "    </tr>\n",
       "    <tr>\n",
       "      <th>2020-12-30</th>\n",
       "      <td>59.689095</td>\n",
       "      <td>-0.001311</td>\n",
       "    </tr>\n",
       "  </tbody>\n",
       "</table>\n",
       "<p>190 rows × 2 columns</p>\n",
       "</div>"
      ],
      "text/plain": [
       "            Adj Close  Daily Returns\n",
       "Date                                \n",
       "2020-04-01  39.518627      -0.043900\n",
       "2020-04-02  40.273090       0.019091\n",
       "2020-04-03  39.432674      -0.020868\n",
       "2020-04-06  41.380913       0.049407\n",
       "2020-04-07  41.629211       0.006000\n",
       "...               ...            ...\n",
       "2020-12-23  58.788280       0.013333\n",
       "2020-12-24  58.935146       0.002498\n",
       "2020-12-28  59.336601       0.006812\n",
       "2020-12-29  59.767429       0.007261\n",
       "2020-12-30  59.689095      -0.001311\n",
       "\n",
       "[190 rows x 2 columns]"
      ]
     },
     "execution_count": 11,
     "metadata": {},
     "output_type": "execute_result"
    }
   ],
   "source": [
    "equity_etf_returns_df = compute_returns(equity_etf_df)\n",
    "\n",
    "print('Daily returns for Equity ETF:')\n",
    "equity_etf_returns_df[['Adj Close', 'Daily Returns']]"
   ]
  },
  {
   "cell_type": "code",
   "execution_count": 12,
   "id": "fe28e171",
   "metadata": {},
   "outputs": [
    {
     "name": "stdout",
     "output_type": "stream",
     "text": [
      "Daily returns for Bitcoin:\n"
     ]
    },
    {
     "data": {
      "text/html": [
       "<div>\n",
       "<style scoped>\n",
       "    .dataframe tbody tr th:only-of-type {\n",
       "        vertical-align: middle;\n",
       "    }\n",
       "\n",
       "    .dataframe tbody tr th {\n",
       "        vertical-align: top;\n",
       "    }\n",
       "\n",
       "    .dataframe thead th {\n",
       "        text-align: right;\n",
       "    }\n",
       "</style>\n",
       "<table border=\"1\" class=\"dataframe\">\n",
       "  <thead>\n",
       "    <tr style=\"text-align: right;\">\n",
       "      <th></th>\n",
       "      <th>Adj Close</th>\n",
       "      <th>Daily Returns</th>\n",
       "    </tr>\n",
       "    <tr>\n",
       "      <th>Date</th>\n",
       "      <th></th>\n",
       "      <th></th>\n",
       "    </tr>\n",
       "  </thead>\n",
       "  <tbody>\n",
       "    <tr>\n",
       "      <th>2020-04-01</th>\n",
       "      <td>6606.776367</td>\n",
       "      <td>0.026113</td>\n",
       "    </tr>\n",
       "    <tr>\n",
       "      <th>2020-04-02</th>\n",
       "      <td>6793.624512</td>\n",
       "      <td>0.028281</td>\n",
       "    </tr>\n",
       "    <tr>\n",
       "      <th>2020-04-03</th>\n",
       "      <td>6733.387207</td>\n",
       "      <td>-0.008867</td>\n",
       "    </tr>\n",
       "    <tr>\n",
       "      <th>2020-04-04</th>\n",
       "      <td>6867.527344</td>\n",
       "      <td>0.019922</td>\n",
       "    </tr>\n",
       "    <tr>\n",
       "      <th>2020-04-05</th>\n",
       "      <td>6791.129395</td>\n",
       "      <td>-0.011125</td>\n",
       "    </tr>\n",
       "    <tr>\n",
       "      <th>...</th>\n",
       "      <td>...</td>\n",
       "      <td>...</td>\n",
       "    </tr>\n",
       "    <tr>\n",
       "      <th>2020-12-27</th>\n",
       "      <td>26272.294922</td>\n",
       "      <td>-0.006231</td>\n",
       "    </tr>\n",
       "    <tr>\n",
       "      <th>2020-12-28</th>\n",
       "      <td>27084.808594</td>\n",
       "      <td>0.030927</td>\n",
       "    </tr>\n",
       "    <tr>\n",
       "      <th>2020-12-29</th>\n",
       "      <td>27362.437500</td>\n",
       "      <td>0.010250</td>\n",
       "    </tr>\n",
       "    <tr>\n",
       "      <th>2020-12-30</th>\n",
       "      <td>28840.953125</td>\n",
       "      <td>0.054034</td>\n",
       "    </tr>\n",
       "    <tr>\n",
       "      <th>2020-12-31</th>\n",
       "      <td>29001.720703</td>\n",
       "      <td>0.005574</td>\n",
       "    </tr>\n",
       "  </tbody>\n",
       "</table>\n",
       "<p>271 rows × 2 columns</p>\n",
       "</div>"
      ],
      "text/plain": [
       "               Adj Close  Daily Returns\n",
       "Date                                   \n",
       "2020-04-01   6606.776367       0.026113\n",
       "2020-04-02   6793.624512       0.028281\n",
       "2020-04-03   6733.387207      -0.008867\n",
       "2020-04-04   6867.527344       0.019922\n",
       "2020-04-05   6791.129395      -0.011125\n",
       "...                  ...            ...\n",
       "2020-12-27  26272.294922      -0.006231\n",
       "2020-12-28  27084.808594       0.030927\n",
       "2020-12-29  27362.437500       0.010250\n",
       "2020-12-30  28840.953125       0.054034\n",
       "2020-12-31  29001.720703       0.005574\n",
       "\n",
       "[271 rows x 2 columns]"
      ]
     },
     "execution_count": 12,
     "metadata": {},
     "output_type": "execute_result"
    }
   ],
   "source": [
    "bitcoin_returns_df = compute_returns(bitcoin_df)\n",
    "\n",
    "print('Daily returns for Bitcoin:')\n",
    "bitcoin_returns_df[['Adj Close', 'Daily Returns']]"
   ]
  },
  {
   "cell_type": "markdown",
   "id": "2f56e9c8",
   "metadata": {},
   "source": [
    "# 3 Data Summaries\n",
    "\n",
    "Here, we have also provided reusable functions for calculating the moving averages for any DataFrame indexed by date."
   ]
  },
  {
   "cell_type": "code",
   "execution_count": 13,
   "id": "612d1eed",
   "metadata": {},
   "outputs": [],
   "source": [
    "def compute_moving_average(df, days):\n",
    "    df[f'MA{days}'] = df['Adj Close'].rolling(days).mean()\n",
    "    return df"
   ]
  },
  {
   "cell_type": "markdown",
   "id": "c9ff1913",
   "metadata": {},
   "source": [
    "<b>3.1) Compute a 20-day moving average price of your gold ETF.  The moving average price on 1 April 2020 should include data from March.</b> <br/>\n",
    "Be sure to either graph or show a table of these values."
   ]
  },
  {
   "cell_type": "code",
   "execution_count": 14,
   "id": "34d7dc8f",
   "metadata": {},
   "outputs": [
    {
     "data": {
      "text/html": [
       "<div>\n",
       "<style scoped>\n",
       "    .dataframe tbody tr th:only-of-type {\n",
       "        vertical-align: middle;\n",
       "    }\n",
       "\n",
       "    .dataframe tbody tr th {\n",
       "        vertical-align: top;\n",
       "    }\n",
       "\n",
       "    .dataframe thead th {\n",
       "        text-align: right;\n",
       "    }\n",
       "</style>\n",
       "<table border=\"1\" class=\"dataframe\">\n",
       "  <thead>\n",
       "    <tr style=\"text-align: right;\">\n",
       "      <th></th>\n",
       "      <th>Adj Close</th>\n",
       "      <th>MA20</th>\n",
       "    </tr>\n",
       "    <tr>\n",
       "      <th>Date</th>\n",
       "      <th></th>\n",
       "      <th></th>\n",
       "    </tr>\n",
       "  </thead>\n",
       "  <tbody>\n",
       "    <tr>\n",
       "      <th>2020-01-30</th>\n",
       "      <td>148.470001</td>\n",
       "      <td>146.906001</td>\n",
       "    </tr>\n",
       "    <tr>\n",
       "      <th>2020-01-31</th>\n",
       "      <td>149.330002</td>\n",
       "      <td>147.175001</td>\n",
       "    </tr>\n",
       "    <tr>\n",
       "      <th>2020-02-03</th>\n",
       "      <td>148.360001</td>\n",
       "      <td>147.300001</td>\n",
       "    </tr>\n",
       "    <tr>\n",
       "      <th>2020-02-04</th>\n",
       "      <td>146.429993</td>\n",
       "      <td>147.252000</td>\n",
       "    </tr>\n",
       "    <tr>\n",
       "      <th>2020-02-05</th>\n",
       "      <td>146.610001</td>\n",
       "      <td>147.184000</td>\n",
       "    </tr>\n",
       "    <tr>\n",
       "      <th>...</th>\n",
       "      <td>...</td>\n",
       "      <td>...</td>\n",
       "    </tr>\n",
       "    <tr>\n",
       "      <th>2020-12-23</th>\n",
       "      <td>175.649994</td>\n",
       "      <td>172.893500</td>\n",
       "    </tr>\n",
       "    <tr>\n",
       "      <th>2020-12-24</th>\n",
       "      <td>176.350006</td>\n",
       "      <td>173.235500</td>\n",
       "    </tr>\n",
       "    <tr>\n",
       "      <th>2020-12-28</th>\n",
       "      <td>175.710007</td>\n",
       "      <td>173.631501</td>\n",
       "    </tr>\n",
       "    <tr>\n",
       "      <th>2020-12-29</th>\n",
       "      <td>176.350006</td>\n",
       "      <td>174.115501</td>\n",
       "    </tr>\n",
       "    <tr>\n",
       "      <th>2020-12-30</th>\n",
       "      <td>177.699997</td>\n",
       "      <td>174.491502</td>\n",
       "    </tr>\n",
       "  </tbody>\n",
       "</table>\n",
       "<p>233 rows × 2 columns</p>\n",
       "</div>"
      ],
      "text/plain": [
       "             Adj Close        MA20\n",
       "Date                              \n",
       "2020-01-30  148.470001  146.906001\n",
       "2020-01-31  149.330002  147.175001\n",
       "2020-02-03  148.360001  147.300001\n",
       "2020-02-04  146.429993  147.252000\n",
       "2020-02-05  146.610001  147.184000\n",
       "...                ...         ...\n",
       "2020-12-23  175.649994  172.893500\n",
       "2020-12-24  176.350006  173.235500\n",
       "2020-12-28  175.710007  173.631501\n",
       "2020-12-29  176.350006  174.115501\n",
       "2020-12-30  177.699997  174.491502\n",
       "\n",
       "[233 rows x 2 columns]"
      ]
     },
     "execution_count": 14,
     "metadata": {},
     "output_type": "execute_result"
    },
    {
     "data": {
      "image/png": "[encoded data removed]",
      "text/plain": [
       "<Figure size 432x288 with 1 Axes>"
      ]
     },
     "metadata": {
      "needs_background": "light"
     },
     "output_type": "display_data"
    }
   ],
   "source": [
    "gold_ma = compute_moving_average(gold_etf_df, days=20)\n",
    "gold_ma.plot(y='MA20', use_index=True,\n",
    "             label='20-day Moving Average',\n",
    "             title='Gold ETF Prices: 20-day Moving Average')\n",
    "plt.ylabel('Gold ETF Price (USD $)')\n",
    "gold_ma[~gold_ma.MA20.isnull()][['Adj Close', 'MA20']]"
   ]
  },
  {
   "cell_type": "markdown",
   "id": "2c023a88",
   "metadata": {},
   "source": [
    "<b>3.2) Compute a 20-day moving average price of your equity ETF.  The moving average price on 1 April 2020 should include data from March.</b>"
   ]
  },
  {
   "cell_type": "code",
   "execution_count": 15,
   "id": "8828dd83",
   "metadata": {},
   "outputs": [
    {
     "data": {
      "text/html": [
       "<div>\n",
       "<style scoped>\n",
       "    .dataframe tbody tr th:only-of-type {\n",
       "        vertical-align: middle;\n",
       "    }\n",
       "\n",
       "    .dataframe tbody tr th {\n",
       "        vertical-align: top;\n",
       "    }\n",
       "\n",
       "    .dataframe thead th {\n",
       "        text-align: right;\n",
       "    }\n",
       "</style>\n",
       "<table border=\"1\" class=\"dataframe\">\n",
       "  <thead>\n",
       "    <tr style=\"text-align: right;\">\n",
       "      <th></th>\n",
       "      <th>Adj Close</th>\n",
       "      <th>MA20</th>\n",
       "    </tr>\n",
       "    <tr>\n",
       "      <th>Date</th>\n",
       "      <th></th>\n",
       "      <th></th>\n",
       "    </tr>\n",
       "  </thead>\n",
       "  <tbody>\n",
       "    <tr>\n",
       "      <th>2020-01-30</th>\n",
       "      <td>54.724438</td>\n",
       "      <td>55.362950</td>\n",
       "    </tr>\n",
       "    <tr>\n",
       "      <th>2020-01-31</th>\n",
       "      <td>53.880039</td>\n",
       "      <td>55.253843</td>\n",
       "    </tr>\n",
       "    <tr>\n",
       "      <th>2020-02-03</th>\n",
       "      <td>53.899017</td>\n",
       "      <td>55.180789</td>\n",
       "    </tr>\n",
       "    <tr>\n",
       "      <th>2020-02-04</th>\n",
       "      <td>54.800331</td>\n",
       "      <td>55.142364</td>\n",
       "    </tr>\n",
       "    <tr>\n",
       "      <th>2020-02-05</th>\n",
       "      <td>55.341125</td>\n",
       "      <td>55.144736</td>\n",
       "    </tr>\n",
       "    <tr>\n",
       "      <th>...</th>\n",
       "      <td>...</td>\n",
       "      <td>...</td>\n",
       "    </tr>\n",
       "    <tr>\n",
       "      <th>2020-12-23</th>\n",
       "      <td>58.788280</td>\n",
       "      <td>57.656022</td>\n",
       "    </tr>\n",
       "    <tr>\n",
       "      <th>2020-12-24</th>\n",
       "      <td>58.935146</td>\n",
       "      <td>57.777209</td>\n",
       "    </tr>\n",
       "    <tr>\n",
       "      <th>2020-12-28</th>\n",
       "      <td>59.336601</td>\n",
       "      <td>57.905415</td>\n",
       "    </tr>\n",
       "    <tr>\n",
       "      <th>2020-12-29</th>\n",
       "      <td>59.767429</td>\n",
       "      <td>58.103028</td>\n",
       "    </tr>\n",
       "    <tr>\n",
       "      <th>2020-12-30</th>\n",
       "      <td>59.689095</td>\n",
       "      <td>58.226133</td>\n",
       "    </tr>\n",
       "  </tbody>\n",
       "</table>\n",
       "<p>233 rows × 2 columns</p>\n",
       "</div>"
      ],
      "text/plain": [
       "            Adj Close       MA20\n",
       "Date                            \n",
       "2020-01-30  54.724438  55.362950\n",
       "2020-01-31  53.880039  55.253843\n",
       "2020-02-03  53.899017  55.180789\n",
       "2020-02-04  54.800331  55.142364\n",
       "2020-02-05  55.341125  55.144736\n",
       "...               ...        ...\n",
       "2020-12-23  58.788280  57.656022\n",
       "2020-12-24  58.935146  57.777209\n",
       "2020-12-28  59.336601  57.905415\n",
       "2020-12-29  59.767429  58.103028\n",
       "2020-12-30  59.689095  58.226133\n",
       "\n",
       "[233 rows x 2 columns]"
      ]
     },
     "execution_count": 15,
     "metadata": {},
     "output_type": "execute_result"
    },
    {
     "data": {
      "image/png": "[encoded data removed]",
      "text/plain": [
       "<Figure size 432x288 with 1 Axes>"
      ]
     },
     "metadata": {
      "needs_background": "light"
     },
     "output_type": "display_data"
    }
   ],
   "source": [
    "equity_ma = compute_moving_average(equity_etf_df, days=20)\n",
    "equity_ma.plot(y='MA20', use_index=True,\n",
    "               label='20-day MA of Vanguard FTSE ETF',\n",
    "               title='Equity ETF Prices (VGK), 20-day Moving Average')\n",
    "plt.ylabel('Price of VGK (USD $)')\n",
    "equity_ma[~equity_ma.MA20.isnull()][['Adj Close', 'MA20']]"
   ]
  },
  {
   "cell_type": "markdown",
   "id": "f13f78f1",
   "metadata": {},
   "source": [
    "<b>3.3) Compute a 20-day moving average price of bitcoin.  The moving average price on 1 April 2020 should include data from March.</b>"
   ]
  },
  {
   "cell_type": "code",
   "execution_count": 16,
   "id": "3b4e44e4",
   "metadata": {},
   "outputs": [
    {
     "data": {
      "text/html": [
       "<div>\n",
       "<style scoped>\n",
       "    .dataframe tbody tr th:only-of-type {\n",
       "        vertical-align: middle;\n",
       "    }\n",
       "\n",
       "    .dataframe tbody tr th {\n",
       "        vertical-align: top;\n",
       "    }\n",
       "\n",
       "    .dataframe thead th {\n",
       "        text-align: right;\n",
       "    }\n",
       "</style>\n",
       "<table border=\"1\" class=\"dataframe\">\n",
       "  <thead>\n",
       "    <tr style=\"text-align: right;\">\n",
       "      <th></th>\n",
       "      <th>Adj Close</th>\n",
       "      <th>MA20</th>\n",
       "    </tr>\n",
       "    <tr>\n",
       "      <th>Date</th>\n",
       "      <th></th>\n",
       "      <th></th>\n",
       "    </tr>\n",
       "  </thead>\n",
       "  <tbody>\n",
       "    <tr>\n",
       "      <th>2020-01-20</th>\n",
       "      <td>8657.642578</td>\n",
       "      <td>8118.971240</td>\n",
       "    </tr>\n",
       "    <tr>\n",
       "      <th>2020-01-21</th>\n",
       "      <td>8745.894531</td>\n",
       "      <td>8196.257251</td>\n",
       "    </tr>\n",
       "    <tr>\n",
       "      <th>2020-01-22</th>\n",
       "      <td>8680.875977</td>\n",
       "      <td>8281.027539</td>\n",
       "    </tr>\n",
       "    <tr>\n",
       "      <th>2020-01-23</th>\n",
       "      <td>8406.515625</td>\n",
       "      <td>8334.109106</td>\n",
       "    </tr>\n",
       "    <tr>\n",
       "      <th>2020-01-24</th>\n",
       "      <td>8445.434570</td>\n",
       "      <td>8385.847998</td>\n",
       "    </tr>\n",
       "    <tr>\n",
       "      <th>...</th>\n",
       "      <td>...</td>\n",
       "      <td>...</td>\n",
       "    </tr>\n",
       "    <tr>\n",
       "      <th>2020-12-27</th>\n",
       "      <td>26272.294922</td>\n",
       "      <td>21767.354687</td>\n",
       "    </tr>\n",
       "    <tr>\n",
       "      <th>2020-12-28</th>\n",
       "      <td>27084.808594</td>\n",
       "      <td>22205.537891</td>\n",
       "    </tr>\n",
       "    <tr>\n",
       "      <th>2020-12-29</th>\n",
       "      <td>27362.437500</td>\n",
       "      <td>22645.963965</td>\n",
       "    </tr>\n",
       "    <tr>\n",
       "      <th>2020-12-30</th>\n",
       "      <td>28840.953125</td>\n",
       "      <td>23174.762012</td>\n",
       "    </tr>\n",
       "    <tr>\n",
       "      <th>2020-12-31</th>\n",
       "      <td>29001.720703</td>\n",
       "      <td>23721.902832</td>\n",
       "    </tr>\n",
       "  </tbody>\n",
       "</table>\n",
       "<p>343 rows × 2 columns</p>\n",
       "</div>"
      ],
      "text/plain": [
       "               Adj Close          MA20\n",
       "Date                                  \n",
       "2020-01-20   8657.642578   8118.971240\n",
       "2020-01-21   8745.894531   8196.257251\n",
       "2020-01-22   8680.875977   8281.027539\n",
       "2020-01-23   8406.515625   8334.109106\n",
       "2020-01-24   8445.434570   8385.847998\n",
       "...                  ...           ...\n",
       "2020-12-27  26272.294922  21767.354687\n",
       "2020-12-28  27084.808594  22205.537891\n",
       "2020-12-29  27362.437500  22645.963965\n",
       "2020-12-30  28840.953125  23174.762012\n",
       "2020-12-31  29001.720703  23721.902832\n",
       "\n",
       "[343 rows x 2 columns]"
      ]
     },
     "execution_count": 16,
     "metadata": {},
     "output_type": "execute_result"
    },
    {
     "data": {
      "image/png": "[encoded data removed]",
      "text/plain": [
       "<Figure size 432x288 with 1 Axes>"
      ]
     },
     "metadata": {
      "needs_background": "light"
     },
     "output_type": "display_data"
    }
   ],
   "source": [
    "bitcoin_ma = compute_moving_average(bitcoin_df, days=20)\n",
    "bitcoin_ma.plot(y='MA20', use_index=True,\n",
    "                label='20-day Moving Average',\n",
    "                title='Bitcoin prices, 20-day Moving Average')\n",
    "plt.ylabel('Bitcoin Price (USD $)')\n",
    "bitcoin_ma[~bitcoin_ma.MA20.isnull()][['Adj Close', 'MA20']]"
   ]
  },
  {
   "cell_type": "markdown",
   "id": "37ee2e76",
   "metadata": {},
   "source": [
    "# 4 Graphing"
   ]
  },
  {
   "cell_type": "markdown",
   "id": "a5bb8848",
   "metadata": {},
   "source": [
    "<b>4.1) Graph each price series along with its moving average from April 2020 through Dec 2020.</b>"
   ]
  },
  {
   "cell_type": "code",
   "execution_count": 17,
   "id": "bb961139",
   "metadata": {},
   "outputs": [
    {
     "data": {
      "image/png": "[encoded data removed]",
      "text/plain": [
       "<Figure size 432x288 with 1 Axes>"
      ]
     },
     "metadata": {
      "needs_background": "light"
     },
     "output_type": "display_data"
    }
   ],
   "source": [
    "# Graph Gold ETF Prices & 20-day moving averages from 01 Apr'20\n",
    "gold_apr_dec = gold_ma['2020-04-01':]\n",
    "gold_plt = gold_apr_dec.plot(y='Adj Close', use_index=True)\n",
    "gold_apr_dec.plot(y='MA20', use_index=True, ax=gold_plt,\n",
    "                  label='20-day Moving Average')\n",
    "\n",
    "plt.title('Gold ETF Prices (GLD, April 2020 - Dec 2020)')\n",
    "plt.ylabel('Gold ETF Prices (USD $)')\n",
    "plt.show()"
   ]
  },
  {
   "cell_type": "code",
   "execution_count": 18,
   "id": "cb2dc865",
   "metadata": {},
   "outputs": [
    {
     "data": {
      "image/png": "[encoded data removed]",
      "text/plain": [
       "<Figure size 432x288 with 1 Axes>"
      ]
     },
     "metadata": {
      "needs_background": "light"
     },
     "output_type": "display_data"
    }
   ],
   "source": [
    "# Graph Equity ETF Prices & 20-day moving averages from 01 Apr'20\n",
    "equity_apr_dec = equity_ma['2020-04-01':]\n",
    "equity_plt = equity_apr_dec.plot(y='Adj Close', use_index=True)\n",
    "equity_apr_dec.plot(y='MA20', use_index=True, ax=equity_plt,\n",
    "                    label='20-day Moving Average')\n",
    "\n",
    "plt.title('Equity ETF Prices (VGK, April 2020 - Dec 2020)')\n",
    "plt.ylabel('Equity ETF Prices (USD $)')\n",
    "plt.show()"
   ]
  },
  {
   "cell_type": "code",
   "execution_count": 19,
   "id": "eb406940",
   "metadata": {},
   "outputs": [
    {
     "data": {
      "image/png": "[encoded data removed]",
      "text/plain": [
       "<Figure size 432x288 with 1 Axes>"
      ]
     },
     "metadata": {
      "needs_background": "light"
     },
     "output_type": "display_data"
    }
   ],
   "source": [
    "# Graph Bitcoin Prices & 20-day moving averages from 01 Apr'20\n",
    "bitcoin_apr_dec = bitcoin_ma['2020-04-01':]\n",
    "bitcoin_plt = bitcoin_apr_dec.plot(y='Adj Close', use_index=True)\n",
    "bitcoin_apr_dec.plot(y='MA20', use_index=True, ax=bitcoin_plt, \n",
    "                     label='20-day Moving Average')\n",
    "\n",
    "plt.title('Bitcoin Prices (BTC-USD, April 2020 - Dec 2020)')\n",
    "plt.ylabel('Bitcoin Prices (USD $)')\n",
    "plt.show()"
   ]
  },
  {
   "cell_type": "markdown",
   "id": "d775aaac",
   "metadata": {},
   "source": [
    "\n",
    "\n",
    "<div class=\"alert alert-block alert-success\">\n",
    "\n",
    "<b>4.2) Comment on how the price series and average series intersect or not.</b><br/>\n",
    "   \n",
    "For all three assets, the price and moving average series do intersect (multiple times in the year, in fact). This is because of a well-subscribed theory of financial markets known as <b>mean reversion</b> which suggests that, after an extreme upward or downward price movements, asset prices tend to return back to normal or average levels. This is why prices routinely oscillate around the moving average prices and tend to return to that level over and over.\n",
    "\n",
    "</div>    \n"
   ]
  },
  {
   "cell_type": "markdown",
   "id": "d232b2e7",
   "metadata": {},
   "source": [
    "<b>4.3) Graph gold and equity prices on the same plot.</b><br/>\n",
    "Use a separate scale for each series, and be sure to add a label and legend."
   ]
  },
  {
   "cell_type": "code",
   "execution_count": 20,
   "id": "67ac058c",
   "metadata": {},
   "outputs": [],
   "source": [
    "# Utility methods for plotting two price series on the same plot\n",
    "\n",
    "def get_xy_series(asset_df):\n",
    "    return list(asset_df.index), list(asset_df['Adj Close'])\n",
    "\n",
    "def twin_plot(asset1, asset2):\n",
    "    \n",
    "    # Create twin plots with ax1 and ax2\n",
    "    fig, ax1 = plt.subplots(figsize=(16,4))\n",
    "    ax2 = ax1.twinx()\n",
    "    \n",
    "    # Initialise chart attributes\n",
    "    labels = [asset.name.replace('_', ' ') for asset in [asset1, asset2]]\n",
    "    chart1, chart2 = asset1.value, asset2.value\n",
    "    colors = [chart1.color, chart2.color]\n",
    "    ax1.set_ylim(chart1.ylim)\n",
    "    ax2.set_ylim(chart2.ylim)\n",
    "    ax1.set_xlabel('Date')\n",
    "    ax1.grid(True)\n",
    "    \n",
    "    # Plot both series in chart, and configure legend and y labels\n",
    "    series1 = ax1.plot(chart1.x, chart1.y, color=chart1.color, label=labels[0])\n",
    "    series2 = ax2.plot(chart2.x, chart2.y, color=chart2.color, label=labels[1])\n",
    "    ax1.legend(series1 + series2, labels, loc='lower right')\n",
    "    for i, ax in enumerate([ax1, ax2]):\n",
    "        ax.set_ylabel(f'{labels[i]} Prices', color=colors[i])\n",
    "    \n",
    "    plt.title(f'{labels[0]} and {labels[1]} Prices (in USD $)') # configure title\n",
    "    plt.show()"
   ]
  },
  {
   "cell_type": "code",
   "execution_count": 21,
   "id": "43048837",
   "metadata": {},
   "outputs": [],
   "source": [
    "# Modularise Chart config into a dataclass\n",
    "@dataclass\n",
    "class Chart:\n",
    "    x: list\n",
    "    y: list\n",
    "    color: str\n",
    "    ylim: tuple\n",
    "\n",
    "# Create chart config for all 3 assets\n",
    "class Asset(Enum):\n",
    "    Gold_ETF = Chart(*get_xy_series(gold_etf_df), 'orange', (130,200))\n",
    "    Equity_ETF = Chart(*get_xy_series(equity_etf_df), 'blue', (35,70))\n",
    "    Bitcoin = Chart(*get_xy_series(bitcoin_df), 'purple', (5000,30000))"
   ]
  },
  {
   "cell_type": "code",
   "execution_count": 22,
   "id": "1f88cf6d",
   "metadata": {},
   "outputs": [
    {
     "data": {
      "image/png": "[encoded data removed]",
      "text/plain": [
       "<Figure size 1152x288 with 2 Axes>"
      ]
     },
     "metadata": {
      "needs_background": "light"
     },
     "output_type": "display_data"
    }
   ],
   "source": [
    "twin_plot(Asset.Gold_ETF, Asset.Equity_ETF)"
   ]
  },
  {
   "cell_type": "markdown",
   "id": "9c6b63a7",
   "metadata": {},
   "source": [
    "<b>4.4) Graph gold and bitcoin prices on the same plot.</b><br/>\n",
    "Use a separate scale for each series, and be sure to add a label and legend."
   ]
  },
  {
   "cell_type": "code",
   "execution_count": 23,
   "id": "e3ffa98a",
   "metadata": {},
   "outputs": [
    {
     "data": {
      "image/png": "[encoded data removed]",
      "text/plain": [
       "<Figure size 1152x288 with 2 Axes>"
      ]
     },
     "metadata": {
      "needs_background": "light"
     },
     "output_type": "display_data"
    }
   ],
   "source": [
    "twin_plot(Asset.Gold_ETF, Asset.Bitcoin)"
   ]
  },
  {
   "cell_type": "markdown",
   "id": "7ba76ca8",
   "metadata": {},
   "source": [
    "<b>4.5) Graph equity and bitcoin prices on the same plot.</b><br/>\n",
    "Use a separate scale for each series, and be sure to add a label and legend."
   ]
  },
  {
   "cell_type": "code",
   "execution_count": 24,
   "id": "79fbf416",
   "metadata": {},
   "outputs": [
    {
     "data": {
      "image/png": "[encoded data removed]",
      "text/plain": [
       "<Figure size 1152x288 with 2 Axes>"
      ]
     },
     "metadata": {
      "needs_background": "light"
     },
     "output_type": "display_data"
    }
   ],
   "source": [
    "twin_plot(Asset.Equity_ETF, Asset.Bitcoin)"
   ]
  },
  {
   "cell_type": "markdown",
   "id": "41feb499",
   "metadata": {},
   "source": [
    "---\n",
    "# 5 Fitting a GARCH Model"
   ]
  },
  {
   "cell_type": "markdown",
   "id": "59bf935f",
   "metadata": {},
   "source": [
    "<b>5.1) Pick one of the 3 series (gold, equity, or bitcoin).</b>\n",
    "\n",
    "We have selected equity etf series for the GARCH model fitting task.\n",
    "\n",
    "* Fit a GARCH model for quarter 2 (Q2) i.e Apr-Jun\n",
    "* Fit a GARCH model for quarter 3 (Q3) i.e Jul-Sept  \n",
    "* Fit a GARCH model for quarter 4 (Q4) i.e Oct-Dec"
   ]
  },
  {
   "cell_type": "code",
   "execution_count": 25,
   "id": "49d62e2a",
   "metadata": {},
   "outputs": [],
   "source": [
    "from enum import Enum\n",
    "\n",
    "class Quarter:\n",
    "    def __init__(self, start_date, end_date):\n",
    "        self.start_date = start_date\n",
    "        self.end_date = end_date\n",
    "        \n",
    "# Defined the enum for each quarter dates        \n",
    "class Year2020(Enum):\n",
    "    Q1 = Quarter('2020-01-01', '2020-04-01')\n",
    "    Q2 = Quarter('2020-04-01', '2020-07-01')\n",
    "    Q3 = Quarter('2020-07-01', '2020-10-01')\n",
    "    Q4 = Quarter('2020-10-01', '2021-01-01')"
   ]
  },
  {
   "cell_type": "code",
   "execution_count": 26,
   "id": "0dd83e75",
   "metadata": {},
   "outputs": [],
   "source": [
    "import numpy as np\n",
    "from arch import arch_model\n",
    "\n",
    "def fit_garch_model(series_df, quarter, model_type='GARCH', mean_type='Constant'):\n",
    "    '''\n",
    "        Calculates the garch model and fits it\n",
    "        series_df : series data frame\n",
    "        quater : value for Quarter enum\n",
    "    '''\n",
    "    \n",
    "    series_df['log_returns'] = np.log(series_df['Adj Close'] / series_df['Open'])\n",
    "    quarter_df = series_df[quarter.value.start_date:quarter.value.end_date]\n",
    "    quarter_garch = arch_model(y = quarter_df['log_returns'], mean = mean_type, vol = model_type,\n",
    "            p = 1, q = 1, dist = \"normal\", rescale=False)\n",
    "    return quarter_garch.fit()"
   ]
  },
  {
   "cell_type": "markdown",
   "id": "6c972eb8",
   "metadata": {},
   "source": [
    "### GARCH model for Q2"
   ]
  },
  {
   "cell_type": "code",
   "execution_count": 27,
   "id": "3d12b146",
   "metadata": {
    "scrolled": true
   },
   "outputs": [
    {
     "name": "stdout",
     "output_type": "stream",
     "text": [
      "Iteration:      1,   Func. Count:      6,   Neg. LLF: 970948698462461.5\n",
      "Iteration:      2,   Func. Count:     17,   Neg. LLF: 36464742.75321966\n",
      "Iteration:      3,   Func. Count:     24,   Neg. LLF: -195.77617856351466\n",
      "Iteration:      4,   Func. Count:     30,   Neg. LLF: -196.75362332116276\n",
      "Iteration:      5,   Func. Count:     37,   Neg. LLF: -195.954612799258\n",
      "Iteration:      6,   Func. Count:     44,   Neg. LLF: -195.77597744799962\n",
      "Iteration:      7,   Func. Count:     51,   Neg. LLF: -197.27131421210805\n",
      "Iteration:      8,   Func. Count:     57,   Neg. LLF: -197.2752658011418\n",
      "Iteration:      9,   Func. Count:     62,   Neg. LLF: -197.27526669193435\n",
      "Optimization terminated successfully    (Exit mode 0)\n",
      "            Current function value: -197.27526669193435\n",
      "            Iterations: 9\n",
      "            Function evaluations: 62\n",
      "            Gradient evaluations: 9\n"
     ]
    },
    {
     "data": {
      "text/plain": [
       "                     Constant Mean - GARCH Model Results                      \n",
       "==============================================================================\n",
       "Dep. Variable:            log_returns   R-squared:                       0.000\n",
       "Mean Model:             Constant Mean   Adj. R-squared:                  0.000\n",
       "Vol Model:                      GARCH   Log-Likelihood:                197.275\n",
       "Distribution:                  Normal   AIC:                          -386.551\n",
       "Method:            Maximum Likelihood   BIC:                          -377.915\n",
       "                                        No. Observations:                   64\n",
       "Date:                Mon, Oct 11 2021   Df Residuals:                       63\n",
       "Time:                        14:25:03   Df Model:                            1\n",
       "                                  Mean Model                                  \n",
       "==============================================================================\n",
       "                 coef    std err          t      P>|t|        95.0% Conf. Int.\n",
       "------------------------------------------------------------------------------\n",
       "mu            -0.0460  1.254e-03    -36.659 3.273e-294 [-4.843e-02,-4.351e-02]\n",
       "                              Volatility Model                              \n",
       "============================================================================\n",
       "                 coef    std err          t      P>|t|      95.0% Conf. Int.\n",
       "----------------------------------------------------------------------------\n",
       "omega      4.6397e-05  6.717e-06      6.907  4.943e-12 [3.323e-05,5.956e-05]\n",
       "alpha[1]       0.1317      0.199      0.662      0.508     [ -0.258,  0.522]\n",
       "beta[1]        0.4958      0.170      2.914  3.574e-03     [  0.162,  0.829]\n",
       "============================================================================\n",
       "\n",
       "Covariance estimator: robust\n",
       "ARCHModelResult, id: 0x7f6725df6490"
      ]
     },
     "execution_count": 27,
     "metadata": {},
     "output_type": "execute_result"
    }
   ],
   "source": [
    "fit_garch_model(equity_etf_df, Year2020.Q2)"
   ]
  },
  {
   "cell_type": "markdown",
   "id": "3e404017",
   "metadata": {},
   "source": [
    "### GARCH model for Q3"
   ]
  },
  {
   "cell_type": "code",
   "execution_count": 29,
   "id": "f0087fc4",
   "metadata": {},
   "outputs": [
    {
     "name": "stdout",
     "output_type": "stream",
     "text": [
      "Iteration:      1,   Func. Count:      6,   Neg. LLF: 5296920.231266857\n",
      "Iteration:      2,   Func. Count:     17,   Neg. LLF: -72.7338195713763\n",
      "Iteration:      3,   Func. Count:     26,   Neg. LLF: -220.14489345908981\n",
      "Iteration:      4,   Func. Count:     31,   Neg. LLF: -220.15024417307043\n",
      "Iteration:      5,   Func. Count:     36,   Neg. LLF: -218.1189960969745\n",
      "Iteration:      6,   Func. Count:     42,   Neg. LLF: -218.921353968148\n",
      "Iteration:      7,   Func. Count:     48,   Neg. LLF: 62780802.96267493\n",
      "Iteration:      8,   Func. Count:     59,   Neg. LLF: 29977552.9469256\n",
      "Optimization terminated successfully    (Exit mode 0)\n",
      "            Current function value: -220.1568535107402\n",
      "            Iterations: 9\n",
      "            Function evaluations: 69\n",
      "            Gradient evaluations: 8\n"
     ]
    },
    {
     "data": {
      "text/plain": [
       "                     Constant Mean - GARCH Model Results                      \n",
       "==============================================================================\n",
       "Dep. Variable:            log_returns   R-squared:                       0.000\n",
       "Mean Model:             Constant Mean   Adj. R-squared:                  0.000\n",
       "Vol Model:                      GARCH   Log-Likelihood:                220.157\n",
       "Distribution:                  Normal   AIC:                          -432.314\n",
       "Method:            Maximum Likelihood   BIC:                          -423.616\n",
       "                                        No. Observations:                   65\n",
       "Date:                Mon, Oct 11 2021   Df Residuals:                       64\n",
       "Time:                        14:25:03   Df Model:                            1\n",
       "                                  Mean Model                                  \n",
       "==============================================================================\n",
       "                 coef    std err          t      P>|t|        95.0% Conf. Int.\n",
       "------------------------------------------------------------------------------\n",
       "mu            -0.0393  9.772e-04    -40.243      0.000 [-4.124e-02,-3.741e-02]\n",
       "                              Volatility Model                              \n",
       "============================================================================\n",
       "                 coef    std err          t      P>|t|      95.0% Conf. Int.\n",
       "----------------------------------------------------------------------------\n",
       "omega      4.5023e-05  1.885e-06     23.883 4.633e-126 [4.133e-05,4.872e-05]\n",
       "alpha[1]   1.0775e-10      0.158  6.833e-10      1.000     [ -0.309,  0.309]\n",
       "beta[1]        0.3297      0.236      1.395      0.163     [ -0.134,  0.793]\n",
       "============================================================================\n",
       "\n",
       "Covariance estimator: robust\n",
       "ARCHModelResult, id: 0x7f67075abe50"
      ]
     },
     "execution_count": 29,
     "metadata": {},
     "output_type": "execute_result"
    }
   ],
   "source": [
    "fit_garch_model(equity_etf_df, Year2020.Q3)"
   ]
  },
  {
   "cell_type": "markdown",
   "id": "bc3a9691",
   "metadata": {},
   "source": [
    "### GARCH model for Q4"
   ]
  },
  {
   "cell_type": "code",
   "execution_count": 30,
   "id": "a9771e16",
   "metadata": {},
   "outputs": [
    {
     "name": "stdout",
     "output_type": "stream",
     "text": [
      "Iteration:      1,   Func. Count:      6,   Neg. LLF: 110644949.46244745\n",
      "Iteration:      2,   Func. Count:     17,   Neg. LLF: -137.7499858852974\n",
      "Iteration:      3,   Func. Count:     26,   Neg. LLF: -215.37072363715382\n",
      "Iteration:      4,   Func. Count:     32,   Neg. LLF: -215.46757230835365\n",
      "Iteration:      5,   Func. Count:     37,   Neg. LLF: -215.46963360560952\n",
      "Iteration:      6,   Func. Count:     42,   Neg. LLF: -215.46965924682323\n",
      "Iteration:      7,   Func. Count:     47,   Neg. LLF: -215.46956923999986\n",
      "Optimization terminated successfully    (Exit mode 0)\n",
      "            Current function value: -215.46965924635438\n",
      "            Iterations: 7\n",
      "            Function evaluations: 57\n",
      "            Gradient evaluations: 7\n"
     ]
    },
    {
     "data": {
      "text/plain": [
       "                     Constant Mean - GARCH Model Results                      \n",
       "==============================================================================\n",
       "Dep. Variable:            log_returns   R-squared:                       0.000\n",
       "Mean Model:             Constant Mean   Adj. R-squared:                  0.000\n",
       "Vol Model:                      GARCH   Log-Likelihood:                215.470\n",
       "Distribution:                  Normal   AIC:                          -422.939\n",
       "Method:            Maximum Likelihood   BIC:                          -414.367\n",
       "                                        No. Observations:                   63\n",
       "Date:                Mon, Oct 11 2021   Df Residuals:                       62\n",
       "Time:                        14:25:03   Df Model:                            1\n",
       "                                  Mean Model                                  \n",
       "==============================================================================\n",
       "                 coef    std err          t      P>|t|        95.0% Conf. Int.\n",
       "------------------------------------------------------------------------------\n",
       "mu            -0.0322  1.483e-03    -21.705 1.859e-104 [-3.509e-02,-2.928e-02]\n",
       "                              Volatility Model                              \n",
       "============================================================================\n",
       "                 coef    std err          t      P>|t|      95.0% Conf. Int.\n",
       "----------------------------------------------------------------------------\n",
       "omega      3.7849e-05  1.001e-06     37.817      0.000 [3.589e-05,3.981e-05]\n",
       "alpha[1]   5.0683e-15  8.306e-02  6.102e-14      1.000     [ -0.163,  0.163]\n",
       "beta[1]        0.3984      0.217      1.837  6.626e-02  [-2.675e-02,  0.824]\n",
       "============================================================================\n",
       "\n",
       "Covariance estimator: robust\n",
       "ARCHModelResult, id: 0x7f67075d3550"
      ]
     },
     "execution_count": 30,
     "metadata": {},
     "output_type": "execute_result"
    }
   ],
   "source": [
    "fit_garch_model(equity_etf_df, Year2020.Q4)"
   ]
  },
  {
   "cell_type": "markdown",
   "id": "399a6fc8",
   "metadata": {},
   "source": [
    "<b>5.2) Repeat the process, but instead using GARCH-M Model. </b>"
   ]
  },
  {
   "cell_type": "markdown",
   "id": "59f8b6bc",
   "metadata": {},
   "source": [
    "### GARCH-M model for Q2"
   ]
  },
  {
   "cell_type": "code",
   "execution_count": 31,
   "id": "21be6407",
   "metadata": {},
   "outputs": [
    {
     "name": "stdout",
     "output_type": "stream",
     "text": [
      "Iteration:      1,   Func. Count:      6,   Neg. LLF: 970948698462461.5\n",
      "Iteration:      2,   Func. Count:     17,   Neg. LLF: 36464742.75321966\n",
      "Iteration:      3,   Func. Count:     24,   Neg. LLF: -195.77617856351466\n",
      "Iteration:      4,   Func. Count:     30,   Neg. LLF: -196.75362332116276\n",
      "Iteration:      5,   Func. Count:     37,   Neg. LLF: -195.954612799258\n",
      "Iteration:      6,   Func. Count:     44,   Neg. LLF: -195.77597744799962\n",
      "Iteration:      7,   Func. Count:     51,   Neg. LLF: -197.27131421210805\n",
      "Iteration:      8,   Func. Count:     57,   Neg. LLF: -197.2752658011418\n",
      "Iteration:      9,   Func. Count:     62,   Neg. LLF: -197.27526669193435\n",
      "Optimization terminated successfully    (Exit mode 0)\n",
      "            Current function value: -197.27526669193435\n",
      "            Iterations: 9\n",
      "            Function evaluations: 62\n",
      "            Gradient evaluations: 9\n"
     ]
    },
    {
     "data": {
      "text/plain": [
       "                           AR - GARCH Model Results                           \n",
       "==============================================================================\n",
       "Dep. Variable:            log_returns   R-squared:                       0.000\n",
       "Mean Model:                        AR   Adj. R-squared:                  0.000\n",
       "Vol Model:                      GARCH   Log-Likelihood:                197.275\n",
       "Distribution:                  Normal   AIC:                          -386.551\n",
       "Method:            Maximum Likelihood   BIC:                          -377.915\n",
       "                                        No. Observations:                   64\n",
       "Date:                Mon, Oct 11 2021   Df Residuals:                       63\n",
       "Time:                        14:25:03   Df Model:                            1\n",
       "                                  Mean Model                                  \n",
       "==============================================================================\n",
       "                 coef    std err          t      P>|t|        95.0% Conf. Int.\n",
       "------------------------------------------------------------------------------\n",
       "Const         -0.0460  1.254e-03    -36.659 3.273e-294 [-4.843e-02,-4.351e-02]\n",
       "                              Volatility Model                              \n",
       "============================================================================\n",
       "                 coef    std err          t      P>|t|      95.0% Conf. Int.\n",
       "----------------------------------------------------------------------------\n",
       "omega      4.6397e-05  6.717e-06      6.907  4.943e-12 [3.323e-05,5.956e-05]\n",
       "alpha[1]       0.1317      0.199      0.662      0.508     [ -0.258,  0.522]\n",
       "beta[1]        0.4958      0.170      2.914  3.574e-03     [  0.162,  0.829]\n",
       "============================================================================\n",
       "\n",
       "Covariance estimator: robust\n",
       "ARCHModelResult, id: 0x7f67075575e0"
      ]
     },
     "execution_count": 31,
     "metadata": {},
     "output_type": "execute_result"
    }
   ],
   "source": [
    "fit_garch_model(equity_etf_df, Year2020.Q2, model_type='GARCH', mean_type='AR')"
   ]
  },
  {
   "cell_type": "markdown",
   "id": "cac69959",
   "metadata": {},
   "source": [
    "### GARCH-M model for Q3"
   ]
  },
  {
   "cell_type": "code",
   "execution_count": 32,
   "id": "6b84ea31",
   "metadata": {},
   "outputs": [
    {
     "name": "stdout",
     "output_type": "stream",
     "text": [
      "Iteration:      1,   Func. Count:      6,   Neg. LLF: 5296920.231266857\n",
      "Iteration:      2,   Func. Count:     17,   Neg. LLF: -72.7338195713763\n",
      "Iteration:      3,   Func. Count:     26,   Neg. LLF: -220.14489345908981\n",
      "Iteration:      4,   Func. Count:     31,   Neg. LLF: -220.15024417307043\n",
      "Iteration:      5,   Func. Count:     36,   Neg. LLF: -218.1189960969745\n",
      "Iteration:      6,   Func. Count:     42,   Neg. LLF: -218.921353968148\n",
      "Iteration:      7,   Func. Count:     48,   Neg. LLF: 62780802.96267493\n",
      "Iteration:      8,   Func. Count:     59,   Neg. LLF: 29977552.9469256\n",
      "Optimization terminated successfully    (Exit mode 0)\n",
      "            Current function value: -220.1568535107402\n",
      "            Iterations: 9\n",
      "            Function evaluations: 69\n",
      "            Gradient evaluations: 8\n"
     ]
    },
    {
     "data": {
      "text/plain": [
       "                           AR - GARCH Model Results                           \n",
       "==============================================================================\n",
       "Dep. Variable:            log_returns   R-squared:                       0.000\n",
       "Mean Model:                        AR   Adj. R-squared:                  0.000\n",
       "Vol Model:                      GARCH   Log-Likelihood:                220.157\n",
       "Distribution:                  Normal   AIC:                          -432.314\n",
       "Method:            Maximum Likelihood   BIC:                          -423.616\n",
       "                                        No. Observations:                   65\n",
       "Date:                Mon, Oct 11 2021   Df Residuals:                       64\n",
       "Time:                        14:25:03   Df Model:                            1\n",
       "                                  Mean Model                                  \n",
       "==============================================================================\n",
       "                 coef    std err          t      P>|t|        95.0% Conf. Int.\n",
       "------------------------------------------------------------------------------\n",
       "Const         -0.0393  9.772e-04    -40.243      0.000 [-4.124e-02,-3.741e-02]\n",
       "                              Volatility Model                              \n",
       "============================================================================\n",
       "                 coef    std err          t      P>|t|      95.0% Conf. Int.\n",
       "----------------------------------------------------------------------------\n",
       "omega      4.5023e-05  1.885e-06     23.883 4.633e-126 [4.133e-05,4.872e-05]\n",
       "alpha[1]   1.0775e-10      0.158  6.833e-10      1.000     [ -0.309,  0.309]\n",
       "beta[1]        0.3297      0.236      1.395      0.163     [ -0.134,  0.793]\n",
       "============================================================================\n",
       "\n",
       "Covariance estimator: robust\n",
       "ARCHModelResult, id: 0x7f6707557c40"
      ]
     },
     "execution_count": 32,
     "metadata": {},
     "output_type": "execute_result"
    }
   ],
   "source": [
    "fit_garch_model(equity_etf_df, Year2020.Q3, model_type='GARCH', mean_type='AR')"
   ]
  },
  {
   "cell_type": "markdown",
   "id": "bb63cefc",
   "metadata": {},
   "source": [
    "### GARCH-M model for Q4"
   ]
  },
  {
   "cell_type": "code",
   "execution_count": 33,
   "id": "e081254b",
   "metadata": {},
   "outputs": [
    {
     "name": "stdout",
     "output_type": "stream",
     "text": [
      "Iteration:      1,   Func. Count:      6,   Neg. LLF: 110644949.46244745\n",
      "Iteration:      2,   Func. Count:     17,   Neg. LLF: -137.7499858852974\n",
      "Iteration:      3,   Func. Count:     26,   Neg. LLF: -215.37072363715382\n",
      "Iteration:      4,   Func. Count:     32,   Neg. LLF: -215.46757230835365\n",
      "Iteration:      5,   Func. Count:     37,   Neg. LLF: -215.46963360560952\n",
      "Iteration:      6,   Func. Count:     42,   Neg. LLF: -215.46965924682323\n",
      "Iteration:      7,   Func. Count:     47,   Neg. LLF: -215.46956923999986\n",
      "Optimization terminated successfully    (Exit mode 0)\n",
      "            Current function value: -215.46965924635438\n",
      "            Iterations: 7\n",
      "            Function evaluations: 57\n",
      "            Gradient evaluations: 7\n"
     ]
    },
    {
     "data": {
      "text/plain": [
       "                           AR - GARCH Model Results                           \n",
       "==============================================================================\n",
       "Dep. Variable:            log_returns   R-squared:                       0.000\n",
       "Mean Model:                        AR   Adj. R-squared:                  0.000\n",
       "Vol Model:                      GARCH   Log-Likelihood:                215.470\n",
       "Distribution:                  Normal   AIC:                          -422.939\n",
       "Method:            Maximum Likelihood   BIC:                          -414.367\n",
       "                                        No. Observations:                   63\n",
       "Date:                Mon, Oct 11 2021   Df Residuals:                       62\n",
       "Time:                        14:25:03   Df Model:                            1\n",
       "                                  Mean Model                                  \n",
       "==============================================================================\n",
       "                 coef    std err          t      P>|t|        95.0% Conf. Int.\n",
       "------------------------------------------------------------------------------\n",
       "Const         -0.0322  1.483e-03    -21.705 1.859e-104 [-3.509e-02,-2.928e-02]\n",
       "                              Volatility Model                              \n",
       "============================================================================\n",
       "                 coef    std err          t      P>|t|      95.0% Conf. Int.\n",
       "----------------------------------------------------------------------------\n",
       "omega      3.7849e-05  1.001e-06     37.817      0.000 [3.589e-05,3.981e-05]\n",
       "alpha[1]   5.0683e-15  8.306e-02  6.102e-14      1.000     [ -0.163,  0.163]\n",
       "beta[1]        0.3984      0.217      1.837  6.626e-02  [-2.675e-02,  0.824]\n",
       "============================================================================\n",
       "\n",
       "Covariance estimator: robust\n",
       "ARCHModelResult, id: 0x7f670757cc70"
      ]
     },
     "execution_count": 33,
     "metadata": {},
     "output_type": "execute_result"
    }
   ],
   "source": [
    "fit_garch_model(equity_etf_df, Year2020.Q4, model_type='GARCH', mean_type='AR')"
   ]
  },
  {
   "cell_type": "markdown",
   "id": "a6ceed27",
   "metadata": {},
   "source": [
    "<b>5.3) Repeat the process one more time, using another variation of GARCH. </b><br/>\n",
    "(e.g. Threshold GARCH, Exponential GARCH, Integrated GARCH)"
   ]
  },
  {
   "cell_type": "markdown",
   "id": "9b770dc9",
   "metadata": {},
   "source": [
    "EGARCH model for Q2"
   ]
  },
  {
   "cell_type": "code",
   "execution_count": 34,
   "id": "303fe2d9",
   "metadata": {},
   "outputs": [
    {
     "name": "stdout",
     "output_type": "stream",
     "text": [
      "Iteration:      1,   Func. Count:      6,   Neg. LLF: 4001116220.9991755\n",
      "Iteration:      2,   Func. Count:     17,   Neg. LLF: 55817.20741536629\n",
      "Iteration:      3,   Func. Count:     25,   Neg. LLF: 1473.0666679824653\n",
      "Iteration:      4,   Func. Count:     32,   Neg. LLF: -197.4392927426968\n",
      "Iteration:      5,   Func. Count:     37,   Neg. LLF: -197.4415602162259\n",
      "Iteration:      6,   Func. Count:     42,   Neg. LLF: -197.44531439086194\n",
      "Iteration:      7,   Func. Count:     47,   Neg. LLF: -197.44693535892955\n",
      "Iteration:      8,   Func. Count:     52,   Neg. LLF: -197.4471817880306\n",
      "Iteration:      9,   Func. Count:     57,   Neg. LLF: -197.44719603796324\n",
      "Iteration:     10,   Func. Count:     61,   Neg. LLF: -197.44719603799928\n",
      "Optimization terminated successfully    (Exit mode 0)\n",
      "            Current function value: -197.44719603796324\n",
      "            Iterations: 10\n",
      "            Function evaluations: 61\n",
      "            Gradient evaluations: 10\n"
     ]
    },
    {
     "data": {
      "text/plain": [
       "                     Constant Mean - EGARCH Model Results                     \n",
       "==============================================================================\n",
       "Dep. Variable:            log_returns   R-squared:                       0.000\n",
       "Mean Model:             Constant Mean   Adj. R-squared:                  0.000\n",
       "Vol Model:                     EGARCH   Log-Likelihood:                197.447\n",
       "Distribution:                  Normal   AIC:                          -386.894\n",
       "Method:            Maximum Likelihood   BIC:                          -378.259\n",
       "                                        No. Observations:                   64\n",
       "Date:                Mon, Oct 11 2021   Df Residuals:                       63\n",
       "Time:                        14:25:03   Df Model:                            1\n",
       "                                  Mean Model                                  \n",
       "==============================================================================\n",
       "                 coef    std err          t      P>|t|        95.0% Conf. Int.\n",
       "------------------------------------------------------------------------------\n",
       "mu            -0.0460  1.214e-03    -37.908      0.000 [-4.841e-02,-4.365e-02]\n",
       "                            Volatility Model                            \n",
       "========================================================================\n",
       "                 coef    std err          t      P>|t|  95.0% Conf. Int.\n",
       "------------------------------------------------------------------------\n",
       "omega         -3.9946      2.979     -1.341      0.180 [ -9.833,  1.843]\n",
       "alpha[1]       0.3160      0.251      1.258      0.209 [ -0.177,  0.809]\n",
       "beta[1]        0.5571      0.336      1.659  9.719e-02 [ -0.101,  1.215]\n",
       "========================================================================\n",
       "\n",
       "Covariance estimator: robust\n",
       "ARCHModelResult, id: 0x7f6707517f40"
      ]
     },
     "execution_count": 34,
     "metadata": {},
     "output_type": "execute_result"
    }
   ],
   "source": [
    "fit_garch_model(equity_etf_df, Year2020.Q2, model_type=\"EGARCH\")\n"
   ]
  },
  {
   "cell_type": "markdown",
   "id": "c52d716d",
   "metadata": {},
   "source": [
    "### EGARCH model for Q3"
   ]
  },
  {
   "cell_type": "code",
   "execution_count": 35,
   "id": "b22108c2",
   "metadata": {},
   "outputs": [
    {
     "name": "stdout",
     "output_type": "stream",
     "text": [
      "Iteration:      1,   Func. Count:      6,   Neg. LLF: 143674858996791.3\n",
      "Iteration:      2,   Func. Count:     17,   Neg. LLF: -69.81602864735204\n",
      "Iteration:      3,   Func. Count:     25,   Neg. LLF: -220.79369743475254\n",
      "Iteration:      4,   Func. Count:     30,   Neg. LLF: 244508464.88967735\n",
      "Iteration:      5,   Func. Count:     37,   Neg. LLF: 35472336.316922314\n",
      "Iteration:      6,   Func. Count:     43,   Neg. LLF: 217991804.33485135\n",
      "Iteration:      7,   Func. Count:     50,   Neg. LLF: 221335431.689336\n",
      "Iteration:      8,   Func. Count:     58,   Neg. LLF: 215413130.95975628\n",
      "Iteration:      9,   Func. Count:     66,   Neg. LLF: 232957686.42295218\n",
      "Iteration:     10,   Func. Count:     74,   Neg. LLF: -205.87412832429203\n",
      "Iteration:     11,   Func. Count:     82,   Neg. LLF: -221.8521204208598\n",
      "Iteration:     12,   Func. Count:     87,   Neg. LLF: 30643298.88126941\n",
      "Iteration:     13,   Func. Count:     93,   Neg. LLF: -221.8823940333297\n",
      "Iteration:     14,   Func. Count:     99,   Neg. LLF: -222.21100683486202\n",
      "Iteration:     15,   Func. Count:    104,   Neg. LLF: -222.24042225007537\n",
      "Iteration:     16,   Func. Count:    109,   Neg. LLF: -222.03994325517613\n",
      "Iteration:     17,   Func. Count:    116,   Neg. LLF: -222.27619794583777\n",
      "Iteration:     18,   Func. Count:    121,   Neg. LLF: -222.30510999504358\n",
      "Iteration:     19,   Func. Count:    126,   Neg. LLF: -222.371731487667\n",
      "Iteration:     20,   Func. Count:    131,   Neg. LLF: 20981140.785244845\n",
      "Iteration:     21,   Func. Count:    137,   Neg. LLF: -185.71567715443322\n",
      "Iteration:     22,   Func. Count:    144,   Neg. LLF: -149.9015310418756\n",
      "Iteration:     23,   Func. Count:    151,   Neg. LLF: -148.76381530192546\n",
      "Iteration:     24,   Func. Count:    158,   Neg. LLF: -148.40522064075103\n",
      "Iteration:     25,   Func. Count:    166,   Neg. LLF: -167.36886251605617\n",
      "Iteration:     26,   Func. Count:    173,   Neg. LLF: 29704468.27622096\n",
      "Iteration:     27,   Func. Count:    179,   Neg. LLF: -220.93238400150807\n",
      "Iteration:     28,   Func. Count:    185,   Neg. LLF: -51.628999749486034\n",
      "Iteration:     29,   Func. Count:    191,   Neg. LLF: 4352412.042068749\n",
      "Iteration:     30,   Func. Count:    197,   Neg. LLF: -197.96083810409425\n",
      "Iteration:     31,   Func. Count:    204,   Neg. LLF: -225.34947775068392\n",
      "Iteration:     32,   Func. Count:    210,   Neg. LLF: -225.94721638033428\n",
      "Iteration:     33,   Func. Count:    215,   Neg. LLF: 151782.12047972356\n",
      "Iteration:     34,   Func. Count:    221,   Neg. LLF: 32947179.235024776\n",
      "Iteration:     35,   Func. Count:    228,   Neg. LLF: 33727495.19286707\n",
      "Iteration:     36,   Func. Count:    235,   Neg. LLF: 8919092.214771796\n",
      "Iteration:     37,   Func. Count:    241,   Neg. LLF: -225.2980382055724\n",
      "Iteration:     38,   Func. Count:    247,   Neg. LLF: -226.84910998970267\n",
      "Iteration:     39,   Func. Count:    252,   Neg. LLF: -225.42759780535965\n",
      "Iteration:     40,   Func. Count:    258,   Neg. LLF: -222.09294379934474\n",
      "Iteration:     41,   Func. Count:    264,   Neg. LLF: -227.44376289241646\n",
      "Iteration:     42,   Func. Count:    269,   Neg. LLF: 5423920.554427013\n",
      "Iteration:     43,   Func. Count:    275,   Neg. LLF: 30026253.66269351\n",
      "Iteration:     44,   Func. Count:    282,   Neg. LLF: 23958356.636802368\n",
      "Iteration:     45,   Func. Count:    289,   Neg. LLF: -227.94672012378\n",
      "Iteration:     46,   Func. Count:    294,   Neg. LLF: -227.4690974040494\n",
      "Optimization terminated successfully    (Exit mode 0)\n",
      "            Current function value: -227.94671972538518\n",
      "            Iterations: 46\n",
      "            Function evaluations: 304\n",
      "            Gradient evaluations: 46\n"
     ]
    },
    {
     "data": {
      "text/plain": [
       "                     Constant Mean - EGARCH Model Results                     \n",
       "==============================================================================\n",
       "Dep. Variable:            log_returns   R-squared:                       0.000\n",
       "Mean Model:             Constant Mean   Adj. R-squared:                  0.000\n",
       "Vol Model:                     EGARCH   Log-Likelihood:                227.947\n",
       "Distribution:                  Normal   AIC:                          -447.893\n",
       "Method:            Maximum Likelihood   BIC:                          -439.196\n",
       "                                        No. Observations:                   65\n",
       "Date:                Mon, Oct 11 2021   Df Residuals:                       64\n",
       "Time:                        14:25:03   Df Model:                            1\n",
       "                                  Mean Model                                  \n",
       "==============================================================================\n",
       "                 coef    std err          t      P>|t|        95.0% Conf. Int.\n",
       "------------------------------------------------------------------------------\n",
       "mu            -0.0374  2.248e-09 -1.666e+07      0.000 [-3.745e-02,-3.745e-02]\n",
       "                            Volatility Model                            \n",
       "========================================================================\n",
       "                 coef    std err          t      P>|t|  95.0% Conf. Int.\n",
       "------------------------------------------------------------------------\n",
       "omega         -2.9051  5.616e-09 -5.173e+08      0.000 [ -2.905, -2.905]\n",
       "alpha[1]      -0.9759  9.508e-03   -102.641      0.000 [ -0.995, -0.957]\n",
       "beta[1]        0.7016  5.299e-09  1.324e+08      0.000 [  0.702,  0.702]\n",
       "========================================================================\n",
       "\n",
       "Covariance estimator: robust\n",
       "ARCHModelResult, id: 0x7f67075905b0"
      ]
     },
     "execution_count": 35,
     "metadata": {},
     "output_type": "execute_result"
    }
   ],
   "source": [
    "fit_garch_model(equity_etf_df, Year2020.Q3, model_type=\"EGARCH\")\n"
   ]
  },
  {
   "cell_type": "markdown",
   "id": "82c7d071",
   "metadata": {},
   "source": [
    "### EGARCH model for Q4"
   ]
  },
  {
   "cell_type": "code",
   "execution_count": 36,
   "id": "93afa294",
   "metadata": {},
   "outputs": [
    {
     "name": "stdout",
     "output_type": "stream",
     "text": [
      "Iteration:      1,   Func. Count:      6,   Neg. LLF: 495702108795722.0\n",
      "Iteration:      2,   Func. Count:     17,   Neg. LLF: 28.495608180217918\n",
      "Iteration:      3,   Func. Count:     25,   Neg. LLF: 10763158402.152565\n",
      "Iteration:      4,   Func. Count:     33,   Neg. LLF: -216.06834750972703\n",
      "Iteration:      5,   Func. Count:     38,   Neg. LLF: -216.67640362252004\n",
      "Iteration:      6,   Func. Count:     43,   Neg. LLF: 29077192.669670716\n",
      "Iteration:      7,   Func. Count:     49,   Neg. LLF: 29784946.587699942\n",
      "Iteration:      8,   Func. Count:     55,   Neg. LLF: 30153934.941439863\n",
      "Iteration:      9,   Func. Count:     61,   Neg. LLF: 30236880.61853496\n",
      "Iteration:     10,   Func. Count:     67,   Neg. LLF: -219.40805625117596\n",
      "Iteration:     11,   Func. Count:     72,   Neg. LLF: 1.0236426939767558e+18\n",
      "Iteration:     12,   Func. Count:     85,   Neg. LLF: 101929438013.11473\n",
      "Iteration:     13,   Func. Count:     94,   Neg. LLF: 1696938880.1904628\n",
      "Iteration:     14,   Func. Count:    102,   Neg. LLF: 9505722611.99887\n",
      "Iteration:     15,   Func. Count:    111,   Neg. LLF: 21486275026.282818\n",
      "Iteration:     16,   Func. Count:    120,   Neg. LLF: 21317109935.43498\n",
      "Iteration:     17,   Func. Count:    129,   Neg. LLF: 137118876558.4546\n",
      "Iteration:     18,   Func. Count:    140,   Neg. LLF: 5.678041614908824e+18\n",
      "Iteration:     19,   Func. Count:    154,   Neg. LLF: 1629390250.0876427\n",
      "Iteration:     20,   Func. Count:    162,   Neg. LLF: 144785816130.9669\n",
      "Iteration:     21,   Func. Count:    171,   Neg. LLF: 1099765641.3483734\n",
      "Iteration:     22,   Func. Count:    179,   Neg. LLF: 42321560.87436159\n",
      "Iteration:     23,   Func. Count:    186,   Neg. LLF: 42117830.92923209\n",
      "Iteration:     24,   Func. Count:    193,   Neg. LLF: 41488959.39337091\n",
      "Iteration:     25,   Func. Count:    201,   Neg. LLF: 60634681.19270094\n",
      "Iteration:     26,   Func. Count:    216,   Neg. LLF: 60636774.170333825\n",
      "Iteration:     27,   Func. Count:    231,   Neg. LLF: 60635861.469708264\n",
      "Iteration:     28,   Func. Count:    246,   Neg. LLF: 60635308.06311835\n",
      "Iteration:     29,   Func. Count:    261,   Neg. LLF: 60541418.212543115\n",
      "Iteration:     30,   Func. Count:    276,   Neg. LLF: 45168446.51459552\n",
      "Iteration:     31,   Func. Count:    291,   Neg. LLF: 10124065418891.549\n",
      "Iteration:     32,   Func. Count:    304,   Neg. LLF: 4177360936223.9326\n",
      "Iteration:     33,   Func. Count:    316,   Neg. LLF: 3128759144584.364\n",
      "Iteration:     34,   Func. Count:    328,   Neg. LLF: 1254025.3794877082\n",
      "Iteration:     35,   Func. Count:    339,   Neg. LLF: 2927035482022.9453\n",
      "Iteration:     36,   Func. Count:    351,   Neg. LLF: 608807488663.2433\n",
      "Iteration:     37,   Func. Count:    363,   Neg. LLF: 5403351497198.486\n",
      "Iteration:     38,   Func. Count:    375,   Neg. LLF: 1788320704643.858\n",
      "Iteration:     39,   Func. Count:    387,   Neg. LLF: 1188887075891.7102\n",
      "Iteration:     40,   Func. Count:    399,   Neg. LLF: 3704986901466.8906\n",
      "Iteration:     41,   Func. Count:    411,   Neg. LLF: 22217457900771.387\n",
      "Iteration:     42,   Func. Count:    424,   Neg. LLF: 3095123417479.3667\n",
      "Optimization terminated successfully    (Exit mode 0)\n",
      "            Current function value: -223.87822905121826\n",
      "            Iterations: 44\n",
      "            Function evaluations: 433\n",
      "            Gradient evaluations: 42\n"
     ]
    },
    {
     "data": {
      "text/plain": [
       "                     Constant Mean - EGARCH Model Results                     \n",
       "==============================================================================\n",
       "Dep. Variable:            log_returns   R-squared:                       0.000\n",
       "Mean Model:             Constant Mean   Adj. R-squared:                  0.000\n",
       "Vol Model:                     EGARCH   Log-Likelihood:                223.878\n",
       "Distribution:                  Normal   AIC:                          -439.756\n",
       "Method:            Maximum Likelihood   BIC:                          -431.184\n",
       "                                        No. Observations:                   63\n",
       "Date:                Mon, Oct 11 2021   Df Residuals:                       62\n",
       "Time:                        14:25:04   Df Model:                            1\n",
       "                                  Mean Model                                  \n",
       "==============================================================================\n",
       "                 coef    std err          t      P>|t|        95.0% Conf. Int.\n",
       "------------------------------------------------------------------------------\n",
       "mu            -0.0310  2.373e-08 -1.308e+06      0.000 [-3.104e-02,-3.104e-02]\n",
       "                            Volatility Model                            \n",
       "========================================================================\n",
       "                 coef    std err          t      P>|t|  95.0% Conf. Int.\n",
       "------------------------------------------------------------------------\n",
       "omega         -1.9825  1.422e-07 -1.394e+07      0.000 [ -1.982, -1.982]\n",
       "alpha[1]      -0.8344  1.006e-03   -829.874      0.000 [ -0.836, -0.832]\n",
       "beta[1]        0.8035  4.660e-09  1.724e+08      0.000 [  0.803,  0.803]\n",
       "========================================================================\n",
       "\n",
       "Covariance estimator: robust\n",
       "ARCHModelResult, id: 0x7f670756e6d0"
      ]
     },
     "execution_count": 36,
     "metadata": {},
     "output_type": "execute_result"
    }
   ],
   "source": [
    "fit_garch_model(equity_etf_df, Year2020.Q4, model_type=\"EGARCH\")"
   ]
  },
  {
   "cell_type": "markdown",
   "id": "1e883858",
   "metadata": {},
   "source": [
    "<b>5.4) What are the 3 long-term variances indicated by the models?</b>"
   ]
  },
  {
   "cell_type": "code",
   "execution_count": 75,
   "id": "805e1391",
   "metadata": {},
   "outputs": [],
   "source": [
    "# long run variances\n",
    "# https://goldinlocks.github.io/ARCH_GARCH-Volatility-Forecasting/\n",
    "def long_run_variance(arch_model_result):\n",
    "    '''\n",
    "        Calculates the garch(1,1) models's long run variance\n",
    "    '''\n",
    "    return arch_model_result.params.omega/(1-arch_model_result.params['alpha[1]']-arch_model_result.params['beta[1]'])"
   ]
  },
  {
   "cell_type": "code",
   "execution_count": 76,
   "id": "efe9f3c0",
   "metadata": {},
   "outputs": [
    {
     "name": "stdout",
     "output_type": "stream",
     "text": [
      "Iteration:      1,   Func. Count:      6,   Neg. LLF: 970948698462461.5\n",
      "Iteration:      2,   Func. Count:     17,   Neg. LLF: 36464742.75321966\n",
      "Iteration:      3,   Func. Count:     24,   Neg. LLF: -195.77617856351466\n",
      "Iteration:      4,   Func. Count:     30,   Neg. LLF: -196.75362332116276\n",
      "Iteration:      5,   Func. Count:     37,   Neg. LLF: -195.954612799258\n",
      "Iteration:      6,   Func. Count:     44,   Neg. LLF: -195.77597744799962\n",
      "Iteration:      7,   Func. Count:     51,   Neg. LLF: -197.27131421210805\n",
      "Iteration:      8,   Func. Count:     57,   Neg. LLF: -197.2752658011418\n",
      "Iteration:      9,   Func. Count:     62,   Neg. LLF: -197.27526669193435\n",
      "Optimization terminated successfully    (Exit mode 0)\n",
      "            Current function value: -197.27526669193435\n",
      "            Iterations: 9\n",
      "            Function evaluations: 62\n",
      "            Gradient evaluations: 9\n"
     ]
    },
    {
     "data": {
      "text/plain": [
       "0.0001245468962111865"
      ]
     },
     "execution_count": 76,
     "metadata": {},
     "output_type": "execute_result"
    }
   ],
   "source": [
    "long_run_variance(fit_garch_model(equity_etf_df, Year2020.Q2))"
   ]
  },
  {
   "cell_type": "code",
   "execution_count": 77,
   "id": "aade500c",
   "metadata": {},
   "outputs": [
    {
     "name": "stdout",
     "output_type": "stream",
     "text": [
      "Iteration:      1,   Func. Count:      6,   Neg. LLF: 5296920.231266857\n",
      "Iteration:      2,   Func. Count:     17,   Neg. LLF: -72.7338195713763\n",
      "Iteration:      3,   Func. Count:     26,   Neg. LLF: -220.14489345908981\n",
      "Iteration:      4,   Func. Count:     31,   Neg. LLF: -220.15024417307043\n",
      "Iteration:      5,   Func. Count:     36,   Neg. LLF: -218.1189960969745\n",
      "Iteration:      6,   Func. Count:     42,   Neg. LLF: -218.921353968148\n",
      "Iteration:      7,   Func. Count:     48,   Neg. LLF: 62780802.96267493\n",
      "Iteration:      8,   Func. Count:     59,   Neg. LLF: 29977552.9469256\n",
      "Optimization terminated successfully    (Exit mode 0)\n",
      "            Current function value: -220.1568535107402\n",
      "            Iterations: 9\n",
      "            Function evaluations: 69\n",
      "            Gradient evaluations: 8\n"
     ]
    },
    {
     "data": {
      "text/plain": [
       "6.717050958639668e-05"
      ]
     },
     "execution_count": 77,
     "metadata": {},
     "output_type": "execute_result"
    }
   ],
   "source": [
    "long_run_variance(fit_garch_model(equity_etf_df, Year2020.Q3))"
   ]
  },
  {
   "cell_type": "code",
   "execution_count": 78,
   "id": "61b21400",
   "metadata": {},
   "outputs": [
    {
     "name": "stdout",
     "output_type": "stream",
     "text": [
      "Iteration:      1,   Func. Count:      6,   Neg. LLF: 110644949.46244745\n",
      "Iteration:      2,   Func. Count:     17,   Neg. LLF: -137.7499858852974\n",
      "Iteration:      3,   Func. Count:     26,   Neg. LLF: -215.37072363715382\n",
      "Iteration:      4,   Func. Count:     32,   Neg. LLF: -215.46757230835365\n",
      "Iteration:      5,   Func. Count:     37,   Neg. LLF: -215.46963360560952\n",
      "Iteration:      6,   Func. Count:     42,   Neg. LLF: -215.46965924682323\n",
      "Iteration:      7,   Func. Count:     47,   Neg. LLF: -215.46956923999986\n",
      "Optimization terminated successfully    (Exit mode 0)\n",
      "            Current function value: -215.46965924635438\n",
      "            Iterations: 7\n",
      "            Function evaluations: 57\n",
      "            Gradient evaluations: 7\n"
     ]
    },
    {
     "data": {
      "text/plain": [
       "6.291627165766168e-05"
      ]
     },
     "execution_count": 78,
     "metadata": {},
     "output_type": "execute_result"
    }
   ],
   "source": [
    "long_run_variance(fit_garch_model(equity_etf_df, Year2020.Q4))"
   ]
  },
  {
   "cell_type": "code",
   "execution_count": 79,
   "id": "ee6bd850",
   "metadata": {},
   "outputs": [
    {
     "name": "stdout",
     "output_type": "stream",
     "text": [
      "Iteration:      1,   Func. Count:      6,   Neg. LLF: 970948698462461.5\n",
      "Iteration:      2,   Func. Count:     17,   Neg. LLF: 36464742.75321966\n",
      "Iteration:      3,   Func. Count:     24,   Neg. LLF: -195.77617856351466\n",
      "Iteration:      4,   Func. Count:     30,   Neg. LLF: -196.75362332116276\n",
      "Iteration:      5,   Func. Count:     37,   Neg. LLF: -195.954612799258\n",
      "Iteration:      6,   Func. Count:     44,   Neg. LLF: -195.77597744799962\n",
      "Iteration:      7,   Func. Count:     51,   Neg. LLF: -197.27131421210805\n",
      "Iteration:      8,   Func. Count:     57,   Neg. LLF: -197.2752658011418\n",
      "Iteration:      9,   Func. Count:     62,   Neg. LLF: -197.27526669193435\n",
      "Optimization terminated successfully    (Exit mode 0)\n",
      "            Current function value: -197.27526669193435\n",
      "            Iterations: 9\n",
      "            Function evaluations: 62\n",
      "            Gradient evaluations: 9\n"
     ]
    },
    {
     "data": {
      "text/plain": [
       "0.0001245468962111865"
      ]
     },
     "execution_count": 79,
     "metadata": {},
     "output_type": "execute_result"
    }
   ],
   "source": [
    "long_run_variance(fit_garch_model(equity_etf_df, Year2020.Q2, model_type='GARCH', mean_type='AR'))"
   ]
  },
  {
   "cell_type": "code",
   "execution_count": 80,
   "id": "de9974d6",
   "metadata": {},
   "outputs": [
    {
     "name": "stdout",
     "output_type": "stream",
     "text": [
      "Iteration:      1,   Func. Count:      6,   Neg. LLF: 5296920.231266857\n",
      "Iteration:      2,   Func. Count:     17,   Neg. LLF: -72.7338195713763\n",
      "Iteration:      3,   Func. Count:     26,   Neg. LLF: -220.14489345908981\n",
      "Iteration:      4,   Func. Count:     31,   Neg. LLF: -220.15024417307043\n",
      "Iteration:      5,   Func. Count:     36,   Neg. LLF: -218.1189960969745\n",
      "Iteration:      6,   Func. Count:     42,   Neg. LLF: -218.921353968148\n",
      "Iteration:      7,   Func. Count:     48,   Neg. LLF: 62780802.96267493\n",
      "Iteration:      8,   Func. Count:     59,   Neg. LLF: 29977552.9469256\n",
      "Optimization terminated successfully    (Exit mode 0)\n",
      "            Current function value: -220.1568535107402\n",
      "            Iterations: 9\n",
      "            Function evaluations: 69\n",
      "            Gradient evaluations: 8\n"
     ]
    },
    {
     "data": {
      "text/plain": [
       "6.717050958639668e-05"
      ]
     },
     "execution_count": 80,
     "metadata": {},
     "output_type": "execute_result"
    }
   ],
   "source": [
    "long_run_variance(fit_garch_model(equity_etf_df, Year2020.Q3, model_type='GARCH', mean_type='AR'))"
   ]
  },
  {
   "cell_type": "code",
   "execution_count": 81,
   "id": "a739da2c",
   "metadata": {},
   "outputs": [
    {
     "name": "stdout",
     "output_type": "stream",
     "text": [
      "Iteration:      1,   Func. Count:      6,   Neg. LLF: 110644949.46244745\n",
      "Iteration:      2,   Func. Count:     17,   Neg. LLF: -137.7499858852974\n",
      "Iteration:      3,   Func. Count:     26,   Neg. LLF: -215.37072363715382\n",
      "Iteration:      4,   Func. Count:     32,   Neg. LLF: -215.46757230835365\n",
      "Iteration:      5,   Func. Count:     37,   Neg. LLF: -215.46963360560952\n",
      "Iteration:      6,   Func. Count:     42,   Neg. LLF: -215.46965924682323\n",
      "Iteration:      7,   Func. Count:     47,   Neg. LLF: -215.46956923999986\n",
      "Optimization terminated successfully    (Exit mode 0)\n",
      "            Current function value: -215.46965924635438\n",
      "            Iterations: 7\n",
      "            Function evaluations: 57\n",
      "            Gradient evaluations: 7\n"
     ]
    },
    {
     "data": {
      "text/plain": [
       "6.291627165766168e-05"
      ]
     },
     "execution_count": 81,
     "metadata": {},
     "output_type": "execute_result"
    }
   ],
   "source": [
    "long_run_variance(fit_garch_model(equity_etf_df, Year2020.Q4, model_type='GARCH', mean_type='AR'))"
   ]
  },
  {
   "cell_type": "code",
   "execution_count": 82,
   "id": "d7253968",
   "metadata": {},
   "outputs": [
    {
     "name": "stdout",
     "output_type": "stream",
     "text": [
      "Iteration:      1,   Func. Count:      6,   Neg. LLF: 4001116220.9991755\n",
      "Iteration:      2,   Func. Count:     17,   Neg. LLF: 55817.20741536629\n",
      "Iteration:      3,   Func. Count:     25,   Neg. LLF: 1473.0666679824653\n",
      "Iteration:      4,   Func. Count:     32,   Neg. LLF: -197.4392927426968\n",
      "Iteration:      5,   Func. Count:     37,   Neg. LLF: -197.4415602162259\n",
      "Iteration:      6,   Func. Count:     42,   Neg. LLF: -197.44531439086194\n",
      "Iteration:      7,   Func. Count:     47,   Neg. LLF: -197.44693535892955\n",
      "Iteration:      8,   Func. Count:     52,   Neg. LLF: -197.4471817880306\n",
      "Iteration:      9,   Func. Count:     57,   Neg. LLF: -197.44719603796324\n",
      "Iteration:     10,   Func. Count:     61,   Neg. LLF: -197.44719603799928\n",
      "Optimization terminated successfully    (Exit mode 0)\n",
      "            Current function value: -197.44719603796324\n",
      "            Iterations: 10\n",
      "            Function evaluations: 61\n",
      "            Gradient evaluations: 10\n"
     ]
    },
    {
     "data": {
      "text/plain": [
       "-31.485146249130302"
      ]
     },
     "execution_count": 82,
     "metadata": {},
     "output_type": "execute_result"
    }
   ],
   "source": [
    "long_run_variance(fit_garch_model(equity_etf_df, Year2020.Q2, model_type=\"EGARCH\"))"
   ]
  },
  {
   "cell_type": "code",
   "execution_count": 83,
   "id": "a0daed6b",
   "metadata": {},
   "outputs": [
    {
     "name": "stdout",
     "output_type": "stream",
     "text": [
      "Iteration:      1,   Func. Count:      6,   Neg. LLF: 143674858996791.3\n",
      "Iteration:      2,   Func. Count:     17,   Neg. LLF: -69.81602864735204\n",
      "Iteration:      3,   Func. Count:     25,   Neg. LLF: -220.79369743475254\n",
      "Iteration:      4,   Func. Count:     30,   Neg. LLF: 244508464.88967735\n",
      "Iteration:      5,   Func. Count:     37,   Neg. LLF: 35472336.316922314\n",
      "Iteration:      6,   Func. Count:     43,   Neg. LLF: 217991804.33485135\n",
      "Iteration:      7,   Func. Count:     50,   Neg. LLF: 221335431.689336\n",
      "Iteration:      8,   Func. Count:     58,   Neg. LLF: 215413130.95975628\n",
      "Iteration:      9,   Func. Count:     66,   Neg. LLF: 232957686.42295218\n",
      "Iteration:     10,   Func. Count:     74,   Neg. LLF: -205.87412832429203\n",
      "Iteration:     11,   Func. Count:     82,   Neg. LLF: -221.8521204208598\n",
      "Iteration:     12,   Func. Count:     87,   Neg. LLF: 30643298.88126941\n",
      "Iteration:     13,   Func. Count:     93,   Neg. LLF: -221.8823940333297\n",
      "Iteration:     14,   Func. Count:     99,   Neg. LLF: -222.21100683486202\n",
      "Iteration:     15,   Func. Count:    104,   Neg. LLF: -222.24042225007537\n",
      "Iteration:     16,   Func. Count:    109,   Neg. LLF: -222.03994325517613\n",
      "Iteration:     17,   Func. Count:    116,   Neg. LLF: -222.27619794583777\n",
      "Iteration:     18,   Func. Count:    121,   Neg. LLF: -222.30510999504358\n",
      "Iteration:     19,   Func. Count:    126,   Neg. LLF: -222.371731487667\n",
      "Iteration:     20,   Func. Count:    131,   Neg. LLF: 20981140.785244845\n",
      "Iteration:     21,   Func. Count:    137,   Neg. LLF: -185.71567715443322\n",
      "Iteration:     22,   Func. Count:    144,   Neg. LLF: -149.9015310418756\n",
      "Iteration:     23,   Func. Count:    151,   Neg. LLF: -148.76381530192546\n",
      "Iteration:     24,   Func. Count:    158,   Neg. LLF: -148.40522064075103\n",
      "Iteration:     25,   Func. Count:    166,   Neg. LLF: -167.36886251605617\n",
      "Iteration:     26,   Func. Count:    173,   Neg. LLF: 29704468.27622096\n",
      "Iteration:     27,   Func. Count:    179,   Neg. LLF: -220.93238400150807\n",
      "Iteration:     28,   Func. Count:    185,   Neg. LLF: -51.628999749486034\n",
      "Iteration:     29,   Func. Count:    191,   Neg. LLF: 4352412.042068749\n",
      "Iteration:     30,   Func. Count:    197,   Neg. LLF: -197.96083810409425\n",
      "Iteration:     31,   Func. Count:    204,   Neg. LLF: -225.34947775068392\n",
      "Iteration:     32,   Func. Count:    210,   Neg. LLF: -225.94721638033428\n",
      "Iteration:     33,   Func. Count:    215,   Neg. LLF: 151782.12047972356\n",
      "Iteration:     34,   Func. Count:    221,   Neg. LLF: 32947179.235024776\n",
      "Iteration:     35,   Func. Count:    228,   Neg. LLF: 33727495.19286707\n",
      "Iteration:     36,   Func. Count:    235,   Neg. LLF: 8919092.214771796\n",
      "Iteration:     37,   Func. Count:    241,   Neg. LLF: -225.2980382055724\n",
      "Iteration:     38,   Func. Count:    247,   Neg. LLF: -226.84910998970267\n",
      "Iteration:     39,   Func. Count:    252,   Neg. LLF: -225.42759780535965\n",
      "Iteration:     40,   Func. Count:    258,   Neg. LLF: -222.09294379934474\n",
      "Iteration:     41,   Func. Count:    264,   Neg. LLF: -227.44376289241646\n",
      "Iteration:     42,   Func. Count:    269,   Neg. LLF: 5423920.554427013\n",
      "Iteration:     43,   Func. Count:    275,   Neg. LLF: 30026253.66269351\n",
      "Iteration:     44,   Func. Count:    282,   Neg. LLF: 23958356.636802368\n",
      "Iteration:     45,   Func. Count:    289,   Neg. LLF: -227.94672012378\n",
      "Iteration:     46,   Func. Count:    294,   Neg. LLF: -227.4690974040494\n",
      "Optimization terminated successfully    (Exit mode 0)\n",
      "            Current function value: -227.94671972538518\n",
      "            Iterations: 46\n",
      "            Function evaluations: 304\n",
      "            Gradient evaluations: 46\n"
     ]
    },
    {
     "data": {
      "text/plain": [
       "-2.279806750448678"
      ]
     },
     "execution_count": 83,
     "metadata": {},
     "output_type": "execute_result"
    }
   ],
   "source": [
    "long_run_variance(fit_garch_model(equity_etf_df, Year2020.Q3, model_type=\"EGARCH\"))"
   ]
  },
  {
   "cell_type": "code",
   "execution_count": 84,
   "id": "8e3b6030",
   "metadata": {},
   "outputs": [
    {
     "name": "stdout",
     "output_type": "stream",
     "text": [
      "Iteration:      1,   Func. Count:      6,   Neg. LLF: 495702108795722.0\n",
      "Iteration:      2,   Func. Count:     17,   Neg. LLF: 28.495608180217918\n",
      "Iteration:      3,   Func. Count:     25,   Neg. LLF: 10763158402.152565\n",
      "Iteration:      4,   Func. Count:     33,   Neg. LLF: -216.06834750972703\n",
      "Iteration:      5,   Func. Count:     38,   Neg. LLF: -216.67640362252004\n",
      "Iteration:      6,   Func. Count:     43,   Neg. LLF: 29077192.669670716\n",
      "Iteration:      7,   Func. Count:     49,   Neg. LLF: 29784946.587699942\n",
      "Iteration:      8,   Func. Count:     55,   Neg. LLF: 30153934.941439863\n",
      "Iteration:      9,   Func. Count:     61,   Neg. LLF: 30236880.61853496\n",
      "Iteration:     10,   Func. Count:     67,   Neg. LLF: -219.40805625117596\n",
      "Iteration:     11,   Func. Count:     72,   Neg. LLF: 1.0236426939767558e+18\n",
      "Iteration:     12,   Func. Count:     85,   Neg. LLF: 101929438013.11473\n",
      "Iteration:     13,   Func. Count:     94,   Neg. LLF: 1696938880.1904628\n",
      "Iteration:     14,   Func. Count:    102,   Neg. LLF: 9505722611.99887\n",
      "Iteration:     15,   Func. Count:    111,   Neg. LLF: 21486275026.282818\n",
      "Iteration:     16,   Func. Count:    120,   Neg. LLF: 21317109935.43498\n",
      "Iteration:     17,   Func. Count:    129,   Neg. LLF: 137118876558.4546\n",
      "Iteration:     18,   Func. Count:    140,   Neg. LLF: 5.678041614908824e+18\n",
      "Iteration:     19,   Func. Count:    154,   Neg. LLF: 1629390250.0876427\n",
      "Iteration:     20,   Func. Count:    162,   Neg. LLF: 144785816130.9669\n",
      "Iteration:     21,   Func. Count:    171,   Neg. LLF: 1099765641.3483734\n",
      "Iteration:     22,   Func. Count:    179,   Neg. LLF: 42321560.87436159\n",
      "Iteration:     23,   Func. Count:    186,   Neg. LLF: 42117830.92923209\n",
      "Iteration:     24,   Func. Count:    193,   Neg. LLF: 41488959.39337091\n",
      "Iteration:     25,   Func. Count:    201,   Neg. LLF: 60634681.19270094\n",
      "Iteration:     26,   Func. Count:    216,   Neg. LLF: 60636774.170333825\n",
      "Iteration:     27,   Func. Count:    231,   Neg. LLF: 60635861.469708264\n",
      "Iteration:     28,   Func. Count:    246,   Neg. LLF: 60635308.06311835\n",
      "Iteration:     29,   Func. Count:    261,   Neg. LLF: 60541418.212543115\n",
      "Iteration:     30,   Func. Count:    276,   Neg. LLF: 45168446.51459552\n",
      "Iteration:     31,   Func. Count:    291,   Neg. LLF: 10124065418891.549\n",
      "Iteration:     32,   Func. Count:    304,   Neg. LLF: 4177360936223.9326\n",
      "Iteration:     33,   Func. Count:    316,   Neg. LLF: 3128759144584.364\n",
      "Iteration:     34,   Func. Count:    328,   Neg. LLF: 1254025.3794877082\n",
      "Iteration:     35,   Func. Count:    339,   Neg. LLF: 2927035482022.9453\n",
      "Iteration:     36,   Func. Count:    351,   Neg. LLF: 608807488663.2433\n",
      "Iteration:     37,   Func. Count:    363,   Neg. LLF: 5403351497198.486\n",
      "Iteration:     38,   Func. Count:    375,   Neg. LLF: 1788320704643.858\n",
      "Iteration:     39,   Func. Count:    387,   Neg. LLF: 1188887075891.7102\n",
      "Iteration:     40,   Func. Count:    399,   Neg. LLF: 3704986901466.8906\n",
      "Iteration:     41,   Func. Count:    411,   Neg. LLF: 22217457900771.387\n",
      "Iteration:     42,   Func. Count:    424,   Neg. LLF: 3095123417479.3667\n",
      "Optimization terminated successfully    (Exit mode 0)\n",
      "            Current function value: -223.87822905121826\n",
      "            Iterations: 44\n",
      "            Function evaluations: 433\n",
      "            Gradient evaluations: 42\n"
     ]
    },
    {
     "data": {
      "text/plain": [
       "-1.922970171764957"
      ]
     },
     "execution_count": 84,
     "metadata": {},
     "output_type": "execute_result"
    }
   ],
   "source": [
    "long_run_variance(fit_garch_model(equity_etf_df, Year2020.Q4, model_type=\"EGARCH\"))"
   ]
  },
  {
   "cell_type": "markdown",
   "id": "5d0c471e",
   "metadata": {},
   "source": [
    "---\n",
    "# 6 Assessing Stationarity"
   ]
  },
  {
   "cell_type": "markdown",
   "id": "ea594b72",
   "metadata": {},
   "source": [
    "<b>6.1) Pick 1 of the 3 quarters in 2020 (Q2, Q3, or Q4).  Test your gold ETF for stationarity.  Explicitly state which test you used to determine stationarity.</b><br/>\n",
    "\n",
    "Stationarity is check for below conditions in the time series\n",
    "1. Mean : mean of the series is constant through out series\n",
    "2. variance or std_deviation : if standard deviation of the series is constant through out series\n",
    "3. covariance or seasanality : there is not sesionality or periodic behavior seen in the series\n",
    "\n",
    "Stationarity could be tested with one of the below method\n",
    "1. Visually : \n",
    "    For simple series with bold appearances of features discussed above\n",
    "    cant be used for every or complex serieses\n",
    "    less accurate\n",
    "2. Global vs Local tests\n",
    "    Involves some calculations of calculating local means and comparing with global means\n",
    "    Not strong test\n",
    "    Not stastatical method\n",
    "    cant be used for every or complex serieses    \n",
    "3. Augmented Dickey-Fuller or ADF Test\n",
    "4. Phillips–Perron test or PP Test : unitroot test\n",
    "    https://stats.stackexchange.com/questions/14076/phillips-perron-unit-root-test-instead-of-adf-test\n",
    "   \n",
    "\n",
    "\n",
    "`Selected Quarter:  Q3 = ('2020-07-01', '2020-10-01')`<br/>\n",
    "`Test Used: ADF Test for Gold`"
   ]
  },
  {
   "cell_type": "code",
   "execution_count": 37,
   "id": "584d3c0f",
   "metadata": {},
   "outputs": [],
   "source": [
    "from arch.unitroot import ADF\n",
    "from arch.unitroot import PhillipsPerron\n"
   ]
  },
  {
   "cell_type": "code",
   "execution_count": 38,
   "id": "28f9b352",
   "metadata": {},
   "outputs": [
    {
     "data": {
      "text/html": [
       "<table class=\"simpletable\">\n",
       "<caption>Augmented Dickey-Fuller Results</caption>\n",
       "<tr>\n",
       "  <td>Test Statistic</td>    <td>-1.497</td>\n",
       "</tr>\n",
       "<tr>\n",
       "  <td>P-value</td>            <td>0.535</td>\n",
       "</tr>\n",
       "<tr>\n",
       "  <td>Lags</td>                   <td>5</td>\n",
       "</tr>\n",
       "</table><br/><br/>Trend: Constant<br/>Critical Values: -3.46 (1%), -2.87 (5%), -2.57 (10%)<br/>Null Hypothesis: The process contains a unit root.<br/>Alternative Hypothesis: The process is weakly stationary."
      ],
      "text/plain": [
       "<class 'arch.unitroot.unitroot.ADF'>\n",
       "\"\"\"\n",
       "   Augmented Dickey-Fuller Results   \n",
       "=====================================\n",
       "Test Statistic                 -1.497\n",
       "P-value                         0.535\n",
       "Lags                                5\n",
       "-------------------------------------\n",
       "\n",
       "Trend: Constant\n",
       "Critical Values: -3.46 (1%), -2.87 (5%), -2.57 (10%)\n",
       "Null Hypothesis: The process contains a unit root.\n",
       "Alternative Hypothesis: The process is weakly stationary.\n",
       "\"\"\""
      ]
     },
     "execution_count": 38,
     "metadata": {},
     "output_type": "execute_result"
    }
   ],
   "source": [
    "gold_etf_closing_price_df = gold_etf_df.loc[:,['Adj Close']]\n",
    "gold_etf_closing_price_df.shape[1]\n",
    "ADF(gold_etf_closing_price_df)"
   ]
  },
  {
   "cell_type": "markdown",
   "id": "27aface2",
   "metadata": {},
   "source": [
    "<div class=\"alert alert-block alert-success\">\n",
    "\n",
    "<b>Conclusion:</b> Gold ETF adjusted closing price series in Q3 is weakly stationary(or not stationary) as per the ADF test conducted with results showing it is weakly stationary. While trend detected in constant and could be visually verified to some extent<br/>\n",
    "</div>"
   ]
  },
  {
   "cell_type": "markdown",
   "id": "3bd21f6b",
   "metadata": {},
   "source": [
    "<b>6.2) Using the same quarter, test your equity ETF for stationarity. Explicitly state which test you used to determine stationarity.</b><br/>\n",
    "\n",
    "`Selected Quarter: Q3 = ('2020-07-01', '2020-10-01')`<br/>\n",
    "`Test Used: PP or PhillipsPerron Test for Equity`"
   ]
  },
  {
   "cell_type": "code",
   "execution_count": 39,
   "id": "663a6356",
   "metadata": {},
   "outputs": [
    {
     "data": {
      "text/html": [
       "<table class=\"simpletable\">\n",
       "<caption>Phillips-Perron Test (Z-tau)</caption>\n",
       "<tr>\n",
       "  <td>Test Statistic</td>    <td>-1.403</td>\n",
       "</tr>\n",
       "<tr>\n",
       "  <td>P-value</td>            <td>0.581</td>\n",
       "</tr>\n",
       "<tr>\n",
       "  <td>Lags</td>                  <td>16</td>\n",
       "</tr>\n",
       "</table><br/><br/>Trend: Constant<br/>Critical Values: -3.46 (1%), -2.87 (5%), -2.57 (10%)<br/>Null Hypothesis: The process contains a unit root.<br/>Alternative Hypothesis: The process is weakly stationary."
      ],
      "text/plain": [
       "<class 'arch.unitroot.unitroot.PhillipsPerron'>\n",
       "\"\"\"\n",
       "     Phillips-Perron Test (Z-tau)    \n",
       "=====================================\n",
       "Test Statistic                 -1.403\n",
       "P-value                         0.581\n",
       "Lags                               16\n",
       "-------------------------------------\n",
       "\n",
       "Trend: Constant\n",
       "Critical Values: -3.46 (1%), -2.87 (5%), -2.57 (10%)\n",
       "Null Hypothesis: The process contains a unit root.\n",
       "Alternative Hypothesis: The process is weakly stationary.\n",
       "\"\"\""
      ]
     },
     "execution_count": 39,
     "metadata": {},
     "output_type": "execute_result"
    }
   ],
   "source": [
    "equity_etf_closing_price_df = equity_etf_df.loc[:,['Adj Close']]\n",
    "equity_etf_closing_price_df.shape[1]\n",
    "PhillipsPerron(equity_etf_closing_price_df)\n"
   ]
  },
  {
   "cell_type": "markdown",
   "id": "273ad27c",
   "metadata": {},
   "source": [
    "<div class=\"alert alert-block alert-success\">\n",
    "\n",
    "<b>Conclusion:</b> Equity ETF adjusted closing price series in Q3 is weakly stationary(or not stationary) as per the ADF test conducted with results showing it is weakly stationary. While trend detected in constant and could be visually verified to some extent<br/>\n",
    "</div>"
   ]
  },
  {
   "cell_type": "markdown",
   "id": "6cffb520",
   "metadata": {},
   "source": [
    "<b>6.3) Using the same quarter, test Bitcoin for stationarity. Explicitly state which test you used to determine stationarity.</b><br/>\n",
    "\n",
    "`Selected Quarter:  Q3 = ('2020-07-01', '2020-10-01')`<br/>\n",
    "`Test Used: ADF Test for BitCoin`"
   ]
  },
  {
   "cell_type": "code",
   "execution_count": 40,
   "id": "da0682a3",
   "metadata": {},
   "outputs": [
    {
     "data": {
      "text/html": [
       "<table class=\"simpletable\">\n",
       "<caption>Augmented Dickey-Fuller Results</caption>\n",
       "<tr>\n",
       "  <td>Test Statistic</td>     <td>3.786</td>\n",
       "</tr>\n",
       "<tr>\n",
       "  <td>P-value</td>            <td>1.000</td>\n",
       "</tr>\n",
       "<tr>\n",
       "  <td>Lags</td>                   <td>0</td>\n",
       "</tr>\n",
       "</table><br/><br/>Trend: Constant<br/>Critical Values: -3.45 (1%), -2.87 (5%), -2.57 (10%)<br/>Null Hypothesis: The process contains a unit root.<br/>Alternative Hypothesis: The process is weakly stationary."
      ],
      "text/plain": [
       "<class 'arch.unitroot.unitroot.ADF'>\n",
       "\"\"\"\n",
       "   Augmented Dickey-Fuller Results   \n",
       "=====================================\n",
       "Test Statistic                  3.786\n",
       "P-value                         1.000\n",
       "Lags                                0\n",
       "-------------------------------------\n",
       "\n",
       "Trend: Constant\n",
       "Critical Values: -3.45 (1%), -2.87 (5%), -2.57 (10%)\n",
       "Null Hypothesis: The process contains a unit root.\n",
       "Alternative Hypothesis: The process is weakly stationary.\n",
       "\"\"\""
      ]
     },
     "execution_count": 40,
     "metadata": {},
     "output_type": "execute_result"
    }
   ],
   "source": [
    "bitcoin_closing_price_df = bitcoin_df.loc[:,['Adj Close']]\n",
    "bitcoin_closing_price_df.shape[1]\n",
    "ADF(bitcoin_closing_price_df)"
   ]
  },
  {
   "cell_type": "markdown",
   "id": "b1a4271d",
   "metadata": {},
   "source": [
    "<div class=\"alert alert-block alert-success\">\n",
    "\n",
    "<b>Conclusion:</b> Bitcoin adjusted closing price series in Q3 is weakly stationary(or not stationary) as per the ADF test conducted with results showing it is weakly stationary. The trend detected in the series is constant. The stationarity of the series could be visually verified as weak to some extent<br/>\n",
    "</div>"
   ]
  },
  {
   "cell_type": "markdown",
   "id": "da3cce86",
   "metadata": {},
   "source": [
    "---\n",
    "# 7 Modelling Cointegration"
   ]
  },
  {
   "cell_type": "code",
   "execution_count": 41,
   "id": "347e62e7",
   "metadata": {},
   "outputs": [
    {
     "data": {
      "text/html": [
       "<div>\n",
       "<style scoped>\n",
       "    .dataframe tbody tr th:only-of-type {\n",
       "        vertical-align: middle;\n",
       "    }\n",
       "\n",
       "    .dataframe tbody tr th {\n",
       "        vertical-align: top;\n",
       "    }\n",
       "\n",
       "    .dataframe thead th {\n",
       "        text-align: right;\n",
       "    }\n",
       "</style>\n",
       "<table border=\"1\" class=\"dataframe\">\n",
       "  <thead>\n",
       "    <tr style=\"text-align: right;\">\n",
       "      <th></th>\n",
       "      <th>Open</th>\n",
       "      <th>High</th>\n",
       "      <th>Low</th>\n",
       "      <th>Close</th>\n",
       "      <th>Adj Close</th>\n",
       "      <th>Volume</th>\n",
       "      <th>Daily Returns</th>\n",
       "      <th>MA20</th>\n",
       "    </tr>\n",
       "    <tr>\n",
       "      <th>Date</th>\n",
       "      <th></th>\n",
       "      <th></th>\n",
       "      <th></th>\n",
       "      <th></th>\n",
       "      <th></th>\n",
       "      <th></th>\n",
       "      <th></th>\n",
       "      <th></th>\n",
       "    </tr>\n",
       "  </thead>\n",
       "  <tbody>\n",
       "    <tr>\n",
       "      <th>2020-04-01</th>\n",
       "      <td>6437.319336</td>\n",
       "      <td>6612.573730</td>\n",
       "      <td>6202.373535</td>\n",
       "      <td>6606.776367</td>\n",
       "      <td>6606.776367</td>\n",
       "      <td>40346426266</td>\n",
       "      <td>0.026113</td>\n",
       "      <td>6034.907422</td>\n",
       "    </tr>\n",
       "    <tr>\n",
       "      <th>2020-04-02</th>\n",
       "      <td>6606.776367</td>\n",
       "      <td>7088.247559</td>\n",
       "      <td>6595.918457</td>\n",
       "      <td>6793.624512</td>\n",
       "      <td>6793.624512</td>\n",
       "      <td>47660646124</td>\n",
       "      <td>0.028281</td>\n",
       "      <td>6096.403296</td>\n",
       "    </tr>\n",
       "    <tr>\n",
       "      <th>2020-04-03</th>\n",
       "      <td>6797.396484</td>\n",
       "      <td>7003.220703</td>\n",
       "      <td>6673.335938</td>\n",
       "      <td>6733.387207</td>\n",
       "      <td>6733.387207</td>\n",
       "      <td>38976504903</td>\n",
       "      <td>-0.008867</td>\n",
       "      <td>6173.054346</td>\n",
       "    </tr>\n",
       "    <tr>\n",
       "      <th>2020-04-04</th>\n",
       "      <td>6738.382812</td>\n",
       "      <td>6878.953613</td>\n",
       "      <td>6696.484863</td>\n",
       "      <td>6867.527344</td>\n",
       "      <td>6867.527344</td>\n",
       "      <td>33185988584</td>\n",
       "      <td>0.019922</td>\n",
       "      <td>6246.814966</td>\n",
       "    </tr>\n",
       "    <tr>\n",
       "      <th>2020-04-05</th>\n",
       "      <td>6862.537598</td>\n",
       "      <td>6883.414062</td>\n",
       "      <td>6715.929199</td>\n",
       "      <td>6791.129395</td>\n",
       "      <td>6791.129395</td>\n",
       "      <td>29510409856</td>\n",
       "      <td>-0.011125</td>\n",
       "      <td>6335.647437</td>\n",
       "    </tr>\n",
       "    <tr>\n",
       "      <th>...</th>\n",
       "      <td>...</td>\n",
       "      <td>...</td>\n",
       "      <td>...</td>\n",
       "      <td>...</td>\n",
       "      <td>...</td>\n",
       "      <td>...</td>\n",
       "      <td>...</td>\n",
       "      <td>...</td>\n",
       "    </tr>\n",
       "    <tr>\n",
       "      <th>2020-09-26</th>\n",
       "      <td>10702.237305</td>\n",
       "      <td>10778.500000</td>\n",
       "      <td>10682.082031</td>\n",
       "      <td>10754.437500</td>\n",
       "      <td>10754.437500</td>\n",
       "      <td>18105012128</td>\n",
       "      <td>0.004873</td>\n",
       "      <td>10604.057861</td>\n",
       "    </tr>\n",
       "    <tr>\n",
       "      <th>2020-09-27</th>\n",
       "      <td>10752.939453</td>\n",
       "      <td>10804.732422</td>\n",
       "      <td>10643.458008</td>\n",
       "      <td>10774.426758</td>\n",
       "      <td>10774.426758</td>\n",
       "      <td>18016880214</td>\n",
       "      <td>0.001859</td>\n",
       "      <td>10624.301025</td>\n",
       "    </tr>\n",
       "    <tr>\n",
       "      <th>2020-09-28</th>\n",
       "      <td>10771.641602</td>\n",
       "      <td>10949.123047</td>\n",
       "      <td>10716.676758</td>\n",
       "      <td>10721.327148</td>\n",
       "      <td>10721.327148</td>\n",
       "      <td>22720365389</td>\n",
       "      <td>-0.004928</td>\n",
       "      <td>10653.791553</td>\n",
       "    </tr>\n",
       "    <tr>\n",
       "      <th>2020-09-29</th>\n",
       "      <td>10712.462891</td>\n",
       "      <td>10858.939453</td>\n",
       "      <td>10665.344727</td>\n",
       "      <td>10848.830078</td>\n",
       "      <td>10848.830078</td>\n",
       "      <td>20459870042</td>\n",
       "      <td>0.011892</td>\n",
       "      <td>10684.115674</td>\n",
       "    </tr>\n",
       "    <tr>\n",
       "      <th>2020-09-30</th>\n",
       "      <td>10845.411133</td>\n",
       "      <td>10856.528320</td>\n",
       "      <td>10689.670898</td>\n",
       "      <td>10787.618164</td>\n",
       "      <td>10787.618164</td>\n",
       "      <td>20759622010</td>\n",
       "      <td>-0.005642</td>\n",
       "      <td>10705.339648</td>\n",
       "    </tr>\n",
       "  </tbody>\n",
       "</table>\n",
       "<p>182 rows × 8 columns</p>\n",
       "</div>"
      ],
      "text/plain": [
       "                    Open          High           Low         Close  \\\n",
       "Date                                                                 \n",
       "2020-04-01   6437.319336   6612.573730   6202.373535   6606.776367   \n",
       "2020-04-02   6606.776367   7088.247559   6595.918457   6793.624512   \n",
       "2020-04-03   6797.396484   7003.220703   6673.335938   6733.387207   \n",
       "2020-04-04   6738.382812   6878.953613   6696.484863   6867.527344   \n",
       "2020-04-05   6862.537598   6883.414062   6715.929199   6791.129395   \n",
       "...                  ...           ...           ...           ...   \n",
       "2020-09-26  10702.237305  10778.500000  10682.082031  10754.437500   \n",
       "2020-09-27  10752.939453  10804.732422  10643.458008  10774.426758   \n",
       "2020-09-28  10771.641602  10949.123047  10716.676758  10721.327148   \n",
       "2020-09-29  10712.462891  10858.939453  10665.344727  10848.830078   \n",
       "2020-09-30  10845.411133  10856.528320  10689.670898  10787.618164   \n",
       "\n",
       "               Adj Close       Volume  Daily Returns          MA20  \n",
       "Date                                                                \n",
       "2020-04-01   6606.776367  40346426266       0.026113   6034.907422  \n",
       "2020-04-02   6793.624512  47660646124       0.028281   6096.403296  \n",
       "2020-04-03   6733.387207  38976504903      -0.008867   6173.054346  \n",
       "2020-04-04   6867.527344  33185988584       0.019922   6246.814966  \n",
       "2020-04-05   6791.129395  29510409856      -0.011125   6335.647437  \n",
       "...                  ...          ...            ...           ...  \n",
       "2020-09-26  10754.437500  18105012128       0.004873  10604.057861  \n",
       "2020-09-27  10774.426758  18016880214       0.001859  10624.301025  \n",
       "2020-09-28  10721.327148  22720365389      -0.004928  10653.791553  \n",
       "2020-09-29  10848.830078  20459870042       0.011892  10684.115674  \n",
       "2020-09-30  10787.618164  20759622010      -0.005642  10705.339648  \n",
       "\n",
       "[182 rows x 8 columns]"
      ]
     },
     "execution_count": 41,
     "metadata": {},
     "output_type": "execute_result"
    }
   ],
   "source": [
    "q2_start = '2020-04-01'\n",
    "q3_end = '2020-09-30'\n",
    "\n",
    "gold_q2q3 = gold_etf_df[q2_start:q3_end]\n",
    "equity_q2q3 = equity_etf_df[q2_start:q3_end]\n",
    "bitcoin_q2q3 = bitcoin_df[q2_start:q3_end]\n",
    "\n",
    "bitcoin_q2q3"
   ]
  },
  {
   "cell_type": "markdown",
   "id": "8fbd4dfe",
   "metadata": {},
   "source": [
    "<b>7.1) Using Q2 and Q3 data (April - Sept period), test all the 3 combinations of cointegration using Engle-Granger and Johansen test as following: (gold, equity), (equity, bitcoin) and (bitcoin, gold).\n",
    "</b><br/>"
   ]
  },
  {
   "cell_type": "markdown",
   "id": "ec92fd91",
   "metadata": {},
   "source": [
    "### Engle-Granger Test"
   ]
  },
  {
   "cell_type": "code",
   "execution_count": 42,
   "id": "93b8a106",
   "metadata": {},
   "outputs": [],
   "source": [
    "# (gold, equity)\n",
    "\n",
    "\n",
    "# (gold, bitcoin)\n",
    "\n",
    "\n",
    "# (equity, bitcoin)\n",
    "\n"
   ]
  },
  {
   "cell_type": "markdown",
   "id": "093d258f",
   "metadata": {},
   "source": [
    "### Johansen Test"
   ]
  },
  {
   "cell_type": "code",
   "execution_count": 43,
   "id": "be4791a9",
   "metadata": {},
   "outputs": [],
   "source": [
    "# (gold, equity)\n",
    "\n",
    "\n",
    "# (gold, bitcoin)\n",
    "\n",
    "\n",
    "# (equity, bitcoin)\n",
    "\n"
   ]
  },
  {
   "cell_type": "markdown",
   "id": "38f87535",
   "metadata": {},
   "source": [
    "<div class=\"alert alert-block alert-success\">\n",
    "\n",
    "<b>7.2) Explain if Johansen test and Engle-Granger provided different results. </b><br/>\n",
    "</div>"
   ]
  },
  {
   "cell_type": "markdown",
   "id": "5c142bd5",
   "metadata": {},
   "source": [
    "<b>7.3) Implement a VEC model and forecast Q4 evolution. Comment results. (Provide arguments if VEC can not be used).\n",
    "</b><br/>"
   ]
  },
  {
   "cell_type": "code",
   "execution_count": null,
   "id": "37b94aba",
   "metadata": {},
   "outputs": [],
   "source": [
    "\n"
   ]
  },
  {
   "cell_type": "markdown",
   "id": "ee5baf9c",
   "metadata": {},
   "source": [
    "<div class=\"alert alert-block alert-success\">\n",
    "\n",
    "<b> Comment on the results. Can VEC be used? </b><br/>\n",
    "\n",
    "VEC can/cannot be used because ...\n",
    "</div>"
   ]
  },
  {
   "cell_type": "markdown",
   "id": "631544e6",
   "metadata": {},
   "source": [
    "<b>7.4) Implement a VAR model and forecast Q4 evolution.</b><br/>"
   ]
  },
  {
   "cell_type": "code",
   "execution_count": null,
   "id": "e535657d",
   "metadata": {},
   "outputs": [],
   "source": [
    "\n"
   ]
  },
  {
   "cell_type": "markdown",
   "id": "3e7bc658",
   "metadata": {},
   "source": [
    "<div class=\"alert alert-block alert-success\">\n",
    "\n",
    "<b> Comment on the results: </b><br/>\n",
    "\n",
    "</div>"
   ]
  },
  {
   "cell_type": "markdown",
   "id": "7fca112c",
   "metadata": {},
   "source": [
    "<b>7.5) Repeat the entire process using all three variables (equity, gold and bitcoin). Comment forecasts and results.</b><br/> \n"
   ]
  },
  {
   "cell_type": "code",
   "execution_count": null,
   "id": "cd1f0af8",
   "metadata": {},
   "outputs": [],
   "source": [
    "\n"
   ]
  },
  {
   "cell_type": "markdown",
   "id": "a17c45b2",
   "metadata": {},
   "source": [
    "<div class=\"alert alert-block alert-success\">\n",
    "\n",
    "<b> Comment on the forecasts and results: </b><br/>\n",
    "\n",
    "<li>Equity</li>\n",
    "\n",
    "...\n",
    "\n",
    "<li>Gold</li>\n",
    "\n",
    "...\n",
    "\n",
    "<li>Bitcoin</li>\n",
    "...\n",
    "\n",
    "</div>"
   ]
  },
  {
   "cell_type": "markdown",
   "id": "ada677ec",
   "metadata": {},
   "source": [
    "---\n",
    "# 8 Correlation vs Cointegration\n",
    "\n",
    "Discuss as a group and briefly explain your answers with an example from the data set you are using. (Max 300 words.)"
   ]
  },
  {
   "cell_type": "markdown",
   "id": "f007c47c",
   "metadata": {},
   "source": [
    "<div class=\"alert alert-block alert-success\">\n",
    "\n",
    "<b>8.1) Does correlation have a direction?  In other words, is the correlation of x and y equal to correlation of y and x?</b><br/>\n",
    "</div>"
   ]
  },
  {
   "cell_type": "markdown",
   "id": "e441039f",
   "metadata": {},
   "source": [
    "<div class=\"alert alert-block alert-success\">\n",
    "<b>8.2) Does linear regression have a direction?  Are the slope and intercept the same if x is regressed on y, or y is regressed on x?</b><br/>\n",
    "</div>"
   ]
  },
  {
   "cell_type": "markdown",
   "id": "f40cb357",
   "metadata": {},
   "source": [
    "<div class=\"alert alert-block alert-success\">\n",
    "<b>8.3) Does cointegration have a direction?  Will the cointegrating vector be the same if x is regressed on y, or if y is regressed on x?</b><br/>\n",
    "</div>"
   ]
  },
  {
   "cell_type": "markdown",
   "id": "d6c11748",
   "metadata": {},
   "source": [
    "---\n",
    "\n",
    "_(End of Questions 1-8)_"
   ]
  },
  {
   "cell_type": "code",
   "execution_count": null,
   "id": "caab279b",
   "metadata": {},
   "outputs": [],
   "source": []
  }
 ],
 "metadata": {
  "kernelspec": {
   "display_name": "Python 3 (ipykernel)",
   "language": "python",
   "name": "python3"
  },
  "language_info": {
   "codemirror_mode": {
    "name": "ipython",
    "version": 3
   },
   "file_extension": ".py",
   "mimetype": "text/x-python",
   "name": "python",
   "nbconvert_exporter": "python",
   "pygments_lexer": "ipython3",
   "version": "3.8.5"
  }
 },
 "nbformat": 4,
 "nbformat_minor": 5
}
