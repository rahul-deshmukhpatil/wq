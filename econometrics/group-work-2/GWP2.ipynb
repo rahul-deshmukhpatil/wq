{
 "cells": [
  {
   "cell_type": "markdown",
   "metadata": {},
   "source": [
    "***\n",
    "# WorldQuant University\n",
    "<b>MScFE 610 Econometrics: Group Project 2 Submission</b><br>\n",
    "***\n",
    "\n",
    "<b>Group 11 Team Members:</b>\n",
    "\n",
    "- Beh Min Yan\n",
    "- Mohammadkian Maghsoodi\n",
    "- Rahul Patil\n",
    "\n",
    "***"
   ]
  },
  {
   "cell_type": "markdown",
   "metadata": {},
   "source": [
    "# 0 Selecting a data set\n",
    "\n",
    "<br/>\n",
    "\n",
    "**We have chosen the below datasets:**\n",
    "\n",
    "- **Gold ETF:** SPDR Gold Shares (GLD). \n",
    "    - Source: https://finance.yahoo.com/quote/GLD/\n",
    "\n",
    "\n",
    "- **Equity ETF:** Vanguard FTSE Europe Index Fund ETF Shares (VGK).\n",
    "    - Source: https://finance.yahoo.com/quote/vgk/\n",
    "\n",
    "\n",
    "- **Bitcoin:** Denominated in USD (BTC-USD).\n",
    "    - Source: https://finance.yahoo.com/quote/BTC-USD/"
   ]
  },
  {
   "cell_type": "code",
   "execution_count": 1,
   "metadata": {},
   "outputs": [],
   "source": [
    "GOLD_ETF = 'GLD'     # SPDR Gold Shares (GLD)\n",
    "EQUITY_ETF = 'VGK'   # Vanguard FTSE Europe Index Fund ETF Shares (VGK)\n",
    "BITCOIN = 'BTC-USD'\n",
    "\n",
    "START_DATE = '2020-01-01'\n",
    "END_DATE = '2020-12-31'"
   ]
  },
  {
   "cell_type": "markdown",
   "metadata": {},
   "source": [
    "***\n",
    "# 1. Data Importing"
   ]
  },
  {
   "cell_type": "markdown",
   "metadata": {},
   "source": [
    "#### Import Libraries"
   ]
  },
  {
   "cell_type": "code",
   "execution_count": 2,
   "metadata": {},
   "outputs": [],
   "source": [
    "# !pip install dataclasses     # uncomment to install package if you haven't"
   ]
  },
  {
   "cell_type": "code",
   "execution_count": 3,
   "metadata": {},
   "outputs": [],
   "source": [
    "from dataclasses import dataclass\n",
    "from enum import Enum\n",
    "import matplotlib.pyplot as plt\n",
    "import pandas as pd\n",
    "import yfinance as yf\n",
    "\n",
    "pd.options.display.max_rows = 15"
   ]
  },
  {
   "cell_type": "markdown",
   "metadata": {},
   "source": [
    "<b>1.1) Import closing prices for the entire year of 2020 for your gold ETF, your equity ETF, and bitcoin.</b>"
   ]
  },
  {
   "cell_type": "code",
   "execution_count": 4,
   "metadata": {},
   "outputs": [
    {
     "name": "stdout",
     "output_type": "stream",
     "text": [
      "[*********************100%***********************]  1 of 1 completed\n",
      "[*********************100%***********************]  1 of 1 completed\n",
      "[*********************100%***********************]  1 of 1 completed\n"
     ]
    }
   ],
   "source": [
    "def download_datasets(tickers, start=START_DATE, end=END_DATE):\n",
    "    return [yf.download([t], start=start, end=end) for t in tickers]\n",
    "\n",
    "gold_etf_df, equity_etf_df, bitcoin_df = download_datasets([GOLD_ETF, EQUITY_ETF, BITCOIN])"
   ]
  },
  {
   "cell_type": "code",
   "execution_count": 5,
   "metadata": {},
   "outputs": [
    {
     "name": "stdout",
     "output_type": "stream",
     "text": [
      "Closing prices for entire year of 2020:\n"
     ]
    },
    {
     "data": {
      "text/html": [
       "<div>\n",
       "<style scoped>\n",
       "    .dataframe tbody tr th:only-of-type {\n",
       "        vertical-align: middle;\n",
       "    }\n",
       "\n",
       "    .dataframe tbody tr th {\n",
       "        vertical-align: top;\n",
       "    }\n",
       "\n",
       "    .dataframe thead th {\n",
       "        text-align: right;\n",
       "    }\n",
       "</style>\n",
       "<table border=\"1\" class=\"dataframe\">\n",
       "  <thead>\n",
       "    <tr style=\"text-align: right;\">\n",
       "      <th></th>\n",
       "      <th>Gold ETF</th>\n",
       "      <th>Equity ETF</th>\n",
       "      <th>Bitcoin</th>\n",
       "    </tr>\n",
       "    <tr>\n",
       "      <th>Date</th>\n",
       "      <th></th>\n",
       "      <th></th>\n",
       "      <th></th>\n",
       "    </tr>\n",
       "  </thead>\n",
       "  <tbody>\n",
       "    <tr>\n",
       "      <th>2019-12-31</th>\n",
       "      <td>142.899994</td>\n",
       "      <td>55.597294</td>\n",
       "      <td>7193.599121</td>\n",
       "    </tr>\n",
       "    <tr>\n",
       "      <th>2020-01-01</th>\n",
       "      <td>NaN</td>\n",
       "      <td>NaN</td>\n",
       "      <td>7200.174316</td>\n",
       "    </tr>\n",
       "    <tr>\n",
       "      <th>2020-01-02</th>\n",
       "      <td>143.949997</td>\n",
       "      <td>56.062183</td>\n",
       "      <td>6985.470215</td>\n",
       "    </tr>\n",
       "    <tr>\n",
       "      <th>2020-01-03</th>\n",
       "      <td>145.860001</td>\n",
       "      <td>55.360100</td>\n",
       "      <td>7344.884277</td>\n",
       "    </tr>\n",
       "    <tr>\n",
       "      <th>2020-01-04</th>\n",
       "      <td>NaN</td>\n",
       "      <td>NaN</td>\n",
       "      <td>7410.656738</td>\n",
       "    </tr>\n",
       "    <tr>\n",
       "      <th>...</th>\n",
       "      <td>...</td>\n",
       "      <td>...</td>\n",
       "      <td>...</td>\n",
       "    </tr>\n",
       "    <tr>\n",
       "      <th>2020-12-26</th>\n",
       "      <td>NaN</td>\n",
       "      <td>NaN</td>\n",
       "      <td>26437.037109</td>\n",
       "    </tr>\n",
       "    <tr>\n",
       "      <th>2020-12-27</th>\n",
       "      <td>NaN</td>\n",
       "      <td>NaN</td>\n",
       "      <td>26272.294922</td>\n",
       "    </tr>\n",
       "    <tr>\n",
       "      <th>2020-12-28</th>\n",
       "      <td>175.710007</td>\n",
       "      <td>59.336597</td>\n",
       "      <td>27084.808594</td>\n",
       "    </tr>\n",
       "    <tr>\n",
       "      <th>2020-12-29</th>\n",
       "      <td>176.350006</td>\n",
       "      <td>59.767433</td>\n",
       "      <td>27362.437500</td>\n",
       "    </tr>\n",
       "    <tr>\n",
       "      <th>2020-12-30</th>\n",
       "      <td>177.699997</td>\n",
       "      <td>59.689098</td>\n",
       "      <td>28840.953125</td>\n",
       "    </tr>\n",
       "  </tbody>\n",
       "</table>\n",
       "<p>362 rows × 3 columns</p>\n",
       "</div>"
      ],
      "text/plain": [
       "              Gold ETF  Equity ETF       Bitcoin\n",
       "Date                                            \n",
       "2019-12-31  142.899994   55.597294   7193.599121\n",
       "2020-01-01         NaN         NaN   7200.174316\n",
       "2020-01-02  143.949997   56.062183   6985.470215\n",
       "2020-01-03  145.860001   55.360100   7344.884277\n",
       "2020-01-04         NaN         NaN   7410.656738\n",
       "...                ...         ...           ...\n",
       "2020-12-26         NaN         NaN  26437.037109\n",
       "2020-12-27         NaN         NaN  26272.294922\n",
       "2020-12-28  175.710007   59.336597  27084.808594\n",
       "2020-12-29  176.350006   59.767433  27362.437500\n",
       "2020-12-30  177.699997   59.689098  28840.953125\n",
       "\n",
       "[362 rows x 3 columns]"
      ]
     },
     "execution_count": 5,
     "metadata": {},
     "output_type": "execute_result"
    }
   ],
   "source": [
    "# Consolidate imported close prices of all 3 assets into 1 dataframe\n",
    "\n",
    "closing_prices = pd.DataFrame({\n",
    "    'Gold ETF': gold_etf_df['Adj Close'],\n",
    "    'Equity ETF': equity_etf_df['Adj Close'],\n",
    "    'Bitcoin': bitcoin_df['Adj Close']\n",
    "}, index=bitcoin_df.index)\n",
    "\n",
    "print('Closing prices for entire year of 2020:')\n",
    "closing_prices"
   ]
  },
  {
   "cell_type": "markdown",
   "metadata": {},
   "source": [
    "<div class=\"alert alert-block alert-info\">\n",
    "Note that BTC trades 24/7, and therefore has daily close prices 7 days a week. For weekends and non-trading days, for a more accurate representation, we have made the decision to leave them as NaN for Gold and Equity ETF columns instead of forward-filling the data.\n",
    "</div>    \n"
   ]
  },
  {
   "cell_type": "markdown",
   "metadata": {},
   "source": [
    "<b>1.2) Import your gold ETF prices for the months of April 2020 through Dec 2020.  (Therefore, you do not need the first few months of data you imported)</b>\n",
    "\n",
    "<br/>\n",
    "\n",
    "**Selected Gold ETF:** SPDR Gold Shares (GLD). [[Source](https://finance.yahoo.com/quote/GLD/)]"
   ]
  },
  {
   "cell_type": "code",
   "execution_count": 6,
   "metadata": {},
   "outputs": [
    {
     "data": {
      "text/html": [
       "<div>\n",
       "<style scoped>\n",
       "    .dataframe tbody tr th:only-of-type {\n",
       "        vertical-align: middle;\n",
       "    }\n",
       "\n",
       "    .dataframe tbody tr th {\n",
       "        vertical-align: top;\n",
       "    }\n",
       "\n",
       "    .dataframe thead th {\n",
       "        text-align: right;\n",
       "    }\n",
       "</style>\n",
       "<table border=\"1\" class=\"dataframe\">\n",
       "  <thead>\n",
       "    <tr style=\"text-align: right;\">\n",
       "      <th></th>\n",
       "      <th>Open</th>\n",
       "      <th>High</th>\n",
       "      <th>Low</th>\n",
       "      <th>Close</th>\n",
       "      <th>Adj Close</th>\n",
       "      <th>Volume</th>\n",
       "    </tr>\n",
       "    <tr>\n",
       "      <th>Date</th>\n",
       "      <th></th>\n",
       "      <th></th>\n",
       "      <th></th>\n",
       "      <th></th>\n",
       "      <th></th>\n",
       "      <th></th>\n",
       "    </tr>\n",
       "  </thead>\n",
       "  <tbody>\n",
       "    <tr>\n",
       "      <th>2020-04-01</th>\n",
       "      <td>148.199997</td>\n",
       "      <td>150.080002</td>\n",
       "      <td>147.850006</td>\n",
       "      <td>149.449997</td>\n",
       "      <td>149.449997</td>\n",
       "      <td>11827400</td>\n",
       "    </tr>\n",
       "    <tr>\n",
       "      <th>2020-04-02</th>\n",
       "      <td>151.199997</td>\n",
       "      <td>152.500000</td>\n",
       "      <td>150.699997</td>\n",
       "      <td>151.899994</td>\n",
       "      <td>151.899994</td>\n",
       "      <td>9188300</td>\n",
       "    </tr>\n",
       "    <tr>\n",
       "      <th>2020-04-03</th>\n",
       "      <td>152.229996</td>\n",
       "      <td>153.089996</td>\n",
       "      <td>151.660004</td>\n",
       "      <td>152.649994</td>\n",
       "      <td>152.649994</td>\n",
       "      <td>8469100</td>\n",
       "    </tr>\n",
       "    <tr>\n",
       "      <th>2020-04-06</th>\n",
       "      <td>154.160004</td>\n",
       "      <td>157.220001</td>\n",
       "      <td>153.960007</td>\n",
       "      <td>156.880005</td>\n",
       "      <td>156.880005</td>\n",
       "      <td>14739300</td>\n",
       "    </tr>\n",
       "    <tr>\n",
       "      <th>2020-04-07</th>\n",
       "      <td>155.330002</td>\n",
       "      <td>156.139999</td>\n",
       "      <td>154.380005</td>\n",
       "      <td>156.039993</td>\n",
       "      <td>156.039993</td>\n",
       "      <td>9195400</td>\n",
       "    </tr>\n",
       "    <tr>\n",
       "      <th>...</th>\n",
       "      <td>...</td>\n",
       "      <td>...</td>\n",
       "      <td>...</td>\n",
       "      <td>...</td>\n",
       "      <td>...</td>\n",
       "      <td>...</td>\n",
       "    </tr>\n",
       "    <tr>\n",
       "      <th>2020-12-23</th>\n",
       "      <td>175.100006</td>\n",
       "      <td>176.210007</td>\n",
       "      <td>175.059998</td>\n",
       "      <td>175.649994</td>\n",
       "      <td>175.649994</td>\n",
       "      <td>6542800</td>\n",
       "    </tr>\n",
       "    <tr>\n",
       "      <th>2020-12-24</th>\n",
       "      <td>175.550003</td>\n",
       "      <td>176.369995</td>\n",
       "      <td>175.509995</td>\n",
       "      <td>176.350006</td>\n",
       "      <td>176.350006</td>\n",
       "      <td>3695400</td>\n",
       "    </tr>\n",
       "    <tr>\n",
       "      <th>2020-12-28</th>\n",
       "      <td>177.259995</td>\n",
       "      <td>177.910004</td>\n",
       "      <td>175.630005</td>\n",
       "      <td>175.710007</td>\n",
       "      <td>175.710007</td>\n",
       "      <td>7778700</td>\n",
       "    </tr>\n",
       "    <tr>\n",
       "      <th>2020-12-29</th>\n",
       "      <td>176.250000</td>\n",
       "      <td>176.970001</td>\n",
       "      <td>175.570007</td>\n",
       "      <td>176.350006</td>\n",
       "      <td>176.350006</td>\n",
       "      <td>5983700</td>\n",
       "    </tr>\n",
       "    <tr>\n",
       "      <th>2020-12-30</th>\n",
       "      <td>176.440002</td>\n",
       "      <td>177.720001</td>\n",
       "      <td>176.440002</td>\n",
       "      <td>177.699997</td>\n",
       "      <td>177.699997</td>\n",
       "      <td>5914000</td>\n",
       "    </tr>\n",
       "  </tbody>\n",
       "</table>\n",
       "<p>190 rows × 6 columns</p>\n",
       "</div>"
      ],
      "text/plain": [
       "                  Open        High         Low       Close   Adj Close  \\\n",
       "Date                                                                     \n",
       "2020-04-01  148.199997  150.080002  147.850006  149.449997  149.449997   \n",
       "2020-04-02  151.199997  152.500000  150.699997  151.899994  151.899994   \n",
       "2020-04-03  152.229996  153.089996  151.660004  152.649994  152.649994   \n",
       "2020-04-06  154.160004  157.220001  153.960007  156.880005  156.880005   \n",
       "2020-04-07  155.330002  156.139999  154.380005  156.039993  156.039993   \n",
       "...                ...         ...         ...         ...         ...   \n",
       "2020-12-23  175.100006  176.210007  175.059998  175.649994  175.649994   \n",
       "2020-12-24  175.550003  176.369995  175.509995  176.350006  176.350006   \n",
       "2020-12-28  177.259995  177.910004  175.630005  175.710007  175.710007   \n",
       "2020-12-29  176.250000  176.970001  175.570007  176.350006  176.350006   \n",
       "2020-12-30  176.440002  177.720001  176.440002  177.699997  177.699997   \n",
       "\n",
       "              Volume  \n",
       "Date                  \n",
       "2020-04-01  11827400  \n",
       "2020-04-02   9188300  \n",
       "2020-04-03   8469100  \n",
       "2020-04-06  14739300  \n",
       "2020-04-07   9195400  \n",
       "...              ...  \n",
       "2020-12-23   6542800  \n",
       "2020-12-24   3695400  \n",
       "2020-12-28   7778700  \n",
       "2020-12-29   5983700  \n",
       "2020-12-30   5914000  \n",
       "\n",
       "[190 rows x 6 columns]"
      ]
     },
     "execution_count": 6,
     "metadata": {},
     "output_type": "execute_result"
    }
   ],
   "source": [
    "gold_etf_df['2020-04-01':]"
   ]
  },
  {
   "cell_type": "markdown",
   "metadata": {},
   "source": [
    "<b>1.3) Import your equity ETF prices for the months of April 2020 through Dec 2020.  (Therefore, you do not need the first few months of data you imported)</b>\n",
    "\n",
    "<br/>\n",
    "\n",
    "**Selected Equity ETF:** Vanguard FTSE Europe Index Fund ETF Shares (VGK). [[Source](https://finance.yahoo.com/quote/vgk/)]"
   ]
  },
  {
   "cell_type": "code",
   "execution_count": 7,
   "metadata": {},
   "outputs": [
    {
     "data": {
      "text/html": [
       "<div>\n",
       "<style scoped>\n",
       "    .dataframe tbody tr th:only-of-type {\n",
       "        vertical-align: middle;\n",
       "    }\n",
       "\n",
       "    .dataframe tbody tr th {\n",
       "        vertical-align: top;\n",
       "    }\n",
       "\n",
       "    .dataframe thead th {\n",
       "        text-align: right;\n",
       "    }\n",
       "</style>\n",
       "<table border=\"1\" class=\"dataframe\">\n",
       "  <thead>\n",
       "    <tr style=\"text-align: right;\">\n",
       "      <th></th>\n",
       "      <th>Open</th>\n",
       "      <th>High</th>\n",
       "      <th>Low</th>\n",
       "      <th>Close</th>\n",
       "      <th>Adj Close</th>\n",
       "      <th>Volume</th>\n",
       "    </tr>\n",
       "    <tr>\n",
       "      <th>Date</th>\n",
       "      <th></th>\n",
       "      <th></th>\n",
       "      <th></th>\n",
       "      <th></th>\n",
       "      <th></th>\n",
       "      <th></th>\n",
       "    </tr>\n",
       "  </thead>\n",
       "  <tbody>\n",
       "    <tr>\n",
       "      <th>2020-04-01</th>\n",
       "      <td>42.020000</td>\n",
       "      <td>42.400002</td>\n",
       "      <td>41.340000</td>\n",
       "      <td>41.380001</td>\n",
       "      <td>39.518627</td>\n",
       "      <td>6718800</td>\n",
       "    </tr>\n",
       "    <tr>\n",
       "      <th>2020-04-02</th>\n",
       "      <td>41.389999</td>\n",
       "      <td>42.459999</td>\n",
       "      <td>41.360001</td>\n",
       "      <td>42.169998</td>\n",
       "      <td>40.273087</td>\n",
       "      <td>7903800</td>\n",
       "    </tr>\n",
       "    <tr>\n",
       "      <th>2020-04-03</th>\n",
       "      <td>41.590000</td>\n",
       "      <td>41.680000</td>\n",
       "      <td>40.959999</td>\n",
       "      <td>41.290001</td>\n",
       "      <td>39.432674</td>\n",
       "      <td>5113100</td>\n",
       "    </tr>\n",
       "    <tr>\n",
       "      <th>2020-04-06</th>\n",
       "      <td>42.689999</td>\n",
       "      <td>43.480000</td>\n",
       "      <td>42.540001</td>\n",
       "      <td>43.330002</td>\n",
       "      <td>41.380909</td>\n",
       "      <td>8061200</td>\n",
       "    </tr>\n",
       "    <tr>\n",
       "      <th>2020-04-07</th>\n",
       "      <td>44.689999</td>\n",
       "      <td>44.759998</td>\n",
       "      <td>43.500000</td>\n",
       "      <td>43.590000</td>\n",
       "      <td>41.629211</td>\n",
       "      <td>7931100</td>\n",
       "    </tr>\n",
       "    <tr>\n",
       "      <th>...</th>\n",
       "      <td>...</td>\n",
       "      <td>...</td>\n",
       "      <td>...</td>\n",
       "      <td>...</td>\n",
       "      <td>...</td>\n",
       "      <td>...</td>\n",
       "    </tr>\n",
       "    <tr>\n",
       "      <th>2020-12-23</th>\n",
       "      <td>59.880001</td>\n",
       "      <td>60.110001</td>\n",
       "      <td>59.790001</td>\n",
       "      <td>60.040001</td>\n",
       "      <td>58.788280</td>\n",
       "      <td>2826000</td>\n",
       "    </tr>\n",
       "    <tr>\n",
       "      <th>2020-12-24</th>\n",
       "      <td>60.160000</td>\n",
       "      <td>60.230000</td>\n",
       "      <td>59.950001</td>\n",
       "      <td>60.189999</td>\n",
       "      <td>58.935150</td>\n",
       "      <td>1453300</td>\n",
       "    </tr>\n",
       "    <tr>\n",
       "      <th>2020-12-28</th>\n",
       "      <td>60.779999</td>\n",
       "      <td>60.869999</td>\n",
       "      <td>60.509998</td>\n",
       "      <td>60.599998</td>\n",
       "      <td>59.336597</td>\n",
       "      <td>1942100</td>\n",
       "    </tr>\n",
       "    <tr>\n",
       "      <th>2020-12-29</th>\n",
       "      <td>61.340000</td>\n",
       "      <td>61.400002</td>\n",
       "      <td>60.869999</td>\n",
       "      <td>61.040001</td>\n",
       "      <td>59.767433</td>\n",
       "      <td>2058400</td>\n",
       "    </tr>\n",
       "    <tr>\n",
       "      <th>2020-12-30</th>\n",
       "      <td>61.250000</td>\n",
       "      <td>61.389999</td>\n",
       "      <td>60.910000</td>\n",
       "      <td>60.959999</td>\n",
       "      <td>59.689098</td>\n",
       "      <td>2492100</td>\n",
       "    </tr>\n",
       "  </tbody>\n",
       "</table>\n",
       "<p>190 rows × 6 columns</p>\n",
       "</div>"
      ],
      "text/plain": [
       "                 Open       High        Low      Close  Adj Close   Volume\n",
       "Date                                                                      \n",
       "2020-04-01  42.020000  42.400002  41.340000  41.380001  39.518627  6718800\n",
       "2020-04-02  41.389999  42.459999  41.360001  42.169998  40.273087  7903800\n",
       "2020-04-03  41.590000  41.680000  40.959999  41.290001  39.432674  5113100\n",
       "2020-04-06  42.689999  43.480000  42.540001  43.330002  41.380909  8061200\n",
       "2020-04-07  44.689999  44.759998  43.500000  43.590000  41.629211  7931100\n",
       "...               ...        ...        ...        ...        ...      ...\n",
       "2020-12-23  59.880001  60.110001  59.790001  60.040001  58.788280  2826000\n",
       "2020-12-24  60.160000  60.230000  59.950001  60.189999  58.935150  1453300\n",
       "2020-12-28  60.779999  60.869999  60.509998  60.599998  59.336597  1942100\n",
       "2020-12-29  61.340000  61.400002  60.869999  61.040001  59.767433  2058400\n",
       "2020-12-30  61.250000  61.389999  60.910000  60.959999  59.689098  2492100\n",
       "\n",
       "[190 rows x 6 columns]"
      ]
     },
     "execution_count": 7,
     "metadata": {},
     "output_type": "execute_result"
    }
   ],
   "source": [
    "equity_etf_df['2020-04-01':]"
   ]
  },
  {
   "cell_type": "markdown",
   "metadata": {},
   "source": [
    "<b>1.4) Import your bitcoin prices for the months of April 2020 through Dec 2020.  (Therefore, you do not need the first few months of data you imported)</b>\n",
    "\n",
    "<br/>\n",
    "\n",
    "**Ticker:** BTC-USD. [[Source](https://finance.yahoo.com/quote/BTC-USD/)]"
   ]
  },
  {
   "cell_type": "code",
   "execution_count": 8,
   "metadata": {},
   "outputs": [
    {
     "data": {
      "text/html": [
       "<div>\n",
       "<style scoped>\n",
       "    .dataframe tbody tr th:only-of-type {\n",
       "        vertical-align: middle;\n",
       "    }\n",
       "\n",
       "    .dataframe tbody tr th {\n",
       "        vertical-align: top;\n",
       "    }\n",
       "\n",
       "    .dataframe thead th {\n",
       "        text-align: right;\n",
       "    }\n",
       "</style>\n",
       "<table border=\"1\" class=\"dataframe\">\n",
       "  <thead>\n",
       "    <tr style=\"text-align: right;\">\n",
       "      <th></th>\n",
       "      <th>Open</th>\n",
       "      <th>High</th>\n",
       "      <th>Low</th>\n",
       "      <th>Close</th>\n",
       "      <th>Adj Close</th>\n",
       "      <th>Volume</th>\n",
       "    </tr>\n",
       "    <tr>\n",
       "      <th>Date</th>\n",
       "      <th></th>\n",
       "      <th></th>\n",
       "      <th></th>\n",
       "      <th></th>\n",
       "      <th></th>\n",
       "      <th></th>\n",
       "    </tr>\n",
       "  </thead>\n",
       "  <tbody>\n",
       "    <tr>\n",
       "      <th>2020-04-01</th>\n",
       "      <td>6437.319336</td>\n",
       "      <td>6612.573730</td>\n",
       "      <td>6202.373535</td>\n",
       "      <td>6606.776367</td>\n",
       "      <td>6606.776367</td>\n",
       "      <td>40346426266</td>\n",
       "    </tr>\n",
       "    <tr>\n",
       "      <th>2020-04-02</th>\n",
       "      <td>6606.776367</td>\n",
       "      <td>7088.247559</td>\n",
       "      <td>6595.918457</td>\n",
       "      <td>6793.624512</td>\n",
       "      <td>6793.624512</td>\n",
       "      <td>47660646124</td>\n",
       "    </tr>\n",
       "    <tr>\n",
       "      <th>2020-04-03</th>\n",
       "      <td>6797.396484</td>\n",
       "      <td>7003.220703</td>\n",
       "      <td>6673.335938</td>\n",
       "      <td>6733.387207</td>\n",
       "      <td>6733.387207</td>\n",
       "      <td>38976504903</td>\n",
       "    </tr>\n",
       "    <tr>\n",
       "      <th>2020-04-04</th>\n",
       "      <td>6738.382812</td>\n",
       "      <td>6878.953613</td>\n",
       "      <td>6696.484863</td>\n",
       "      <td>6867.527344</td>\n",
       "      <td>6867.527344</td>\n",
       "      <td>33185988584</td>\n",
       "    </tr>\n",
       "    <tr>\n",
       "      <th>2020-04-05</th>\n",
       "      <td>6862.537598</td>\n",
       "      <td>6883.414062</td>\n",
       "      <td>6715.929199</td>\n",
       "      <td>6791.129395</td>\n",
       "      <td>6791.129395</td>\n",
       "      <td>29510409856</td>\n",
       "    </tr>\n",
       "    <tr>\n",
       "      <th>...</th>\n",
       "      <td>...</td>\n",
       "      <td>...</td>\n",
       "      <td>...</td>\n",
       "      <td>...</td>\n",
       "      <td>...</td>\n",
       "      <td>...</td>\n",
       "    </tr>\n",
       "    <tr>\n",
       "      <th>2020-12-26</th>\n",
       "      <td>24677.015625</td>\n",
       "      <td>26718.070312</td>\n",
       "      <td>24522.689453</td>\n",
       "      <td>26437.037109</td>\n",
       "      <td>26437.037109</td>\n",
       "      <td>48332647295</td>\n",
       "    </tr>\n",
       "    <tr>\n",
       "      <th>2020-12-27</th>\n",
       "      <td>26439.373047</td>\n",
       "      <td>28288.839844</td>\n",
       "      <td>25922.769531</td>\n",
       "      <td>26272.294922</td>\n",
       "      <td>26272.294922</td>\n",
       "      <td>66479895605</td>\n",
       "    </tr>\n",
       "    <tr>\n",
       "      <th>2020-12-28</th>\n",
       "      <td>26280.822266</td>\n",
       "      <td>27389.111328</td>\n",
       "      <td>26207.640625</td>\n",
       "      <td>27084.808594</td>\n",
       "      <td>27084.808594</td>\n",
       "      <td>49056742893</td>\n",
       "    </tr>\n",
       "    <tr>\n",
       "      <th>2020-12-29</th>\n",
       "      <td>27081.810547</td>\n",
       "      <td>27370.720703</td>\n",
       "      <td>25987.298828</td>\n",
       "      <td>27362.437500</td>\n",
       "      <td>27362.437500</td>\n",
       "      <td>45265946774</td>\n",
       "    </tr>\n",
       "    <tr>\n",
       "      <th>2020-12-30</th>\n",
       "      <td>27360.089844</td>\n",
       "      <td>28937.740234</td>\n",
       "      <td>27360.089844</td>\n",
       "      <td>28840.953125</td>\n",
       "      <td>28840.953125</td>\n",
       "      <td>51287442704</td>\n",
       "    </tr>\n",
       "  </tbody>\n",
       "</table>\n",
       "<p>270 rows × 6 columns</p>\n",
       "</div>"
      ],
      "text/plain": [
       "                    Open          High           Low         Close  \\\n",
       "Date                                                                 \n",
       "2020-04-01   6437.319336   6612.573730   6202.373535   6606.776367   \n",
       "2020-04-02   6606.776367   7088.247559   6595.918457   6793.624512   \n",
       "2020-04-03   6797.396484   7003.220703   6673.335938   6733.387207   \n",
       "2020-04-04   6738.382812   6878.953613   6696.484863   6867.527344   \n",
       "2020-04-05   6862.537598   6883.414062   6715.929199   6791.129395   \n",
       "...                  ...           ...           ...           ...   \n",
       "2020-12-26  24677.015625  26718.070312  24522.689453  26437.037109   \n",
       "2020-12-27  26439.373047  28288.839844  25922.769531  26272.294922   \n",
       "2020-12-28  26280.822266  27389.111328  26207.640625  27084.808594   \n",
       "2020-12-29  27081.810547  27370.720703  25987.298828  27362.437500   \n",
       "2020-12-30  27360.089844  28937.740234  27360.089844  28840.953125   \n",
       "\n",
       "               Adj Close       Volume  \n",
       "Date                                   \n",
       "2020-04-01   6606.776367  40346426266  \n",
       "2020-04-02   6793.624512  47660646124  \n",
       "2020-04-03   6733.387207  38976504903  \n",
       "2020-04-04   6867.527344  33185988584  \n",
       "2020-04-05   6791.129395  29510409856  \n",
       "...                  ...          ...  \n",
       "2020-12-26  26437.037109  48332647295  \n",
       "2020-12-27  26272.294922  66479895605  \n",
       "2020-12-28  27084.808594  49056742893  \n",
       "2020-12-29  27362.437500  45265946774  \n",
       "2020-12-30  28840.953125  51287442704  \n",
       "\n",
       "[270 rows x 6 columns]"
      ]
     },
     "execution_count": 8,
     "metadata": {},
     "output_type": "execute_result"
    }
   ],
   "source": [
    "bitcoin_df['2020-04-01':]"
   ]
  },
  {
   "cell_type": "markdown",
   "metadata": {},
   "source": [
    "## 2. Data Processing\n",
    "\n",
    "First we wrote a utility method for adding a DataFrame column called `Daily Returns` to each dataset."
   ]
  },
  {
   "cell_type": "code",
   "execution_count": 9,
   "metadata": {},
   "outputs": [],
   "source": [
    "def compute_returns(df, col='Adj Close', start='2020-04-01'):\n",
    "    df['Daily Returns'] = df[col].pct_change()\n",
    "    return df[~df['Daily Returns'].isnull()][start:]"
   ]
  },
  {
   "cell_type": "markdown",
   "metadata": {},
   "source": [
    "<b>2.1) Compute the daily returns of your gold ETF, your Equity ETF, and bitcoin of April 2020 through Dec 2020"
   ]
  },
  {
   "cell_type": "code",
   "execution_count": 10,
   "metadata": {},
   "outputs": [
    {
     "name": "stdout",
     "output_type": "stream",
     "text": [
      "Daily returns for Gold ETF:\n"
     ]
    },
    {
     "data": {
      "text/html": [
       "<div>\n",
       "<style scoped>\n",
       "    .dataframe tbody tr th:only-of-type {\n",
       "        vertical-align: middle;\n",
       "    }\n",
       "\n",
       "    .dataframe tbody tr th {\n",
       "        vertical-align: top;\n",
       "    }\n",
       "\n",
       "    .dataframe thead th {\n",
       "        text-align: right;\n",
       "    }\n",
       "</style>\n",
       "<table border=\"1\" class=\"dataframe\">\n",
       "  <thead>\n",
       "    <tr style=\"text-align: right;\">\n",
       "      <th></th>\n",
       "      <th>Adj Close</th>\n",
       "      <th>Daily Returns</th>\n",
       "    </tr>\n",
       "    <tr>\n",
       "      <th>Date</th>\n",
       "      <th></th>\n",
       "      <th></th>\n",
       "    </tr>\n",
       "  </thead>\n",
       "  <tbody>\n",
       "    <tr>\n",
       "      <th>2020-04-01</th>\n",
       "      <td>149.449997</td>\n",
       "      <td>0.009456</td>\n",
       "    </tr>\n",
       "    <tr>\n",
       "      <th>2020-04-02</th>\n",
       "      <td>151.899994</td>\n",
       "      <td>0.016393</td>\n",
       "    </tr>\n",
       "    <tr>\n",
       "      <th>2020-04-03</th>\n",
       "      <td>152.649994</td>\n",
       "      <td>0.004937</td>\n",
       "    </tr>\n",
       "    <tr>\n",
       "      <th>2020-04-06</th>\n",
       "      <td>156.880005</td>\n",
       "      <td>0.027711</td>\n",
       "    </tr>\n",
       "    <tr>\n",
       "      <th>2020-04-07</th>\n",
       "      <td>156.039993</td>\n",
       "      <td>-0.005354</td>\n",
       "    </tr>\n",
       "    <tr>\n",
       "      <th>...</th>\n",
       "      <td>...</td>\n",
       "      <td>...</td>\n",
       "    </tr>\n",
       "    <tr>\n",
       "      <th>2020-12-23</th>\n",
       "      <td>175.649994</td>\n",
       "      <td>0.006648</td>\n",
       "    </tr>\n",
       "    <tr>\n",
       "      <th>2020-12-24</th>\n",
       "      <td>176.350006</td>\n",
       "      <td>0.003985</td>\n",
       "    </tr>\n",
       "    <tr>\n",
       "      <th>2020-12-28</th>\n",
       "      <td>175.710007</td>\n",
       "      <td>-0.003629</td>\n",
       "    </tr>\n",
       "    <tr>\n",
       "      <th>2020-12-29</th>\n",
       "      <td>176.350006</td>\n",
       "      <td>0.003642</td>\n",
       "    </tr>\n",
       "    <tr>\n",
       "      <th>2020-12-30</th>\n",
       "      <td>177.699997</td>\n",
       "      <td>0.007655</td>\n",
       "    </tr>\n",
       "  </tbody>\n",
       "</table>\n",
       "<p>190 rows × 2 columns</p>\n",
       "</div>"
      ],
      "text/plain": [
       "             Adj Close  Daily Returns\n",
       "Date                                 \n",
       "2020-04-01  149.449997       0.009456\n",
       "2020-04-02  151.899994       0.016393\n",
       "2020-04-03  152.649994       0.004937\n",
       "2020-04-06  156.880005       0.027711\n",
       "2020-04-07  156.039993      -0.005354\n",
       "...                ...            ...\n",
       "2020-12-23  175.649994       0.006648\n",
       "2020-12-24  176.350006       0.003985\n",
       "2020-12-28  175.710007      -0.003629\n",
       "2020-12-29  176.350006       0.003642\n",
       "2020-12-30  177.699997       0.007655\n",
       "\n",
       "[190 rows x 2 columns]"
      ]
     },
     "execution_count": 10,
     "metadata": {},
     "output_type": "execute_result"
    }
   ],
   "source": [
    "gold_etf_returns_df = compute_returns(gold_etf_df)\n",
    "\n",
    "print('Daily returns for Gold ETF:')\n",
    "gold_etf_returns_df[['Adj Close', 'Daily Returns']]"
   ]
  },
  {
   "cell_type": "code",
   "execution_count": 11,
   "metadata": {},
   "outputs": [
    {
     "name": "stdout",
     "output_type": "stream",
     "text": [
      "Daily returns for Equity ETF:\n"
     ]
    },
    {
     "data": {
      "text/html": [
       "<div>\n",
       "<style scoped>\n",
       "    .dataframe tbody tr th:only-of-type {\n",
       "        vertical-align: middle;\n",
       "    }\n",
       "\n",
       "    .dataframe tbody tr th {\n",
       "        vertical-align: top;\n",
       "    }\n",
       "\n",
       "    .dataframe thead th {\n",
       "        text-align: right;\n",
       "    }\n",
       "</style>\n",
       "<table border=\"1\" class=\"dataframe\">\n",
       "  <thead>\n",
       "    <tr style=\"text-align: right;\">\n",
       "      <th></th>\n",
       "      <th>Adj Close</th>\n",
       "      <th>Daily Returns</th>\n",
       "    </tr>\n",
       "    <tr>\n",
       "      <th>Date</th>\n",
       "      <th></th>\n",
       "      <th></th>\n",
       "    </tr>\n",
       "  </thead>\n",
       "  <tbody>\n",
       "    <tr>\n",
       "      <th>2020-04-01</th>\n",
       "      <td>39.518627</td>\n",
       "      <td>-0.043900</td>\n",
       "    </tr>\n",
       "    <tr>\n",
       "      <th>2020-04-02</th>\n",
       "      <td>40.273087</td>\n",
       "      <td>0.019091</td>\n",
       "    </tr>\n",
       "    <tr>\n",
       "      <th>2020-04-03</th>\n",
       "      <td>39.432674</td>\n",
       "      <td>-0.020868</td>\n",
       "    </tr>\n",
       "    <tr>\n",
       "      <th>2020-04-06</th>\n",
       "      <td>41.380909</td>\n",
       "      <td>0.049407</td>\n",
       "    </tr>\n",
       "    <tr>\n",
       "      <th>2020-04-07</th>\n",
       "      <td>41.629211</td>\n",
       "      <td>0.006000</td>\n",
       "    </tr>\n",
       "    <tr>\n",
       "      <th>...</th>\n",
       "      <td>...</td>\n",
       "      <td>...</td>\n",
       "    </tr>\n",
       "    <tr>\n",
       "      <th>2020-12-23</th>\n",
       "      <td>58.788280</td>\n",
       "      <td>0.013333</td>\n",
       "    </tr>\n",
       "    <tr>\n",
       "      <th>2020-12-24</th>\n",
       "      <td>58.935150</td>\n",
       "      <td>0.002498</td>\n",
       "    </tr>\n",
       "    <tr>\n",
       "      <th>2020-12-28</th>\n",
       "      <td>59.336597</td>\n",
       "      <td>0.006812</td>\n",
       "    </tr>\n",
       "    <tr>\n",
       "      <th>2020-12-29</th>\n",
       "      <td>59.767433</td>\n",
       "      <td>0.007261</td>\n",
       "    </tr>\n",
       "    <tr>\n",
       "      <th>2020-12-30</th>\n",
       "      <td>59.689098</td>\n",
       "      <td>-0.001311</td>\n",
       "    </tr>\n",
       "  </tbody>\n",
       "</table>\n",
       "<p>190 rows × 2 columns</p>\n",
       "</div>"
      ],
      "text/plain": [
       "            Adj Close  Daily Returns\n",
       "Date                                \n",
       "2020-04-01  39.518627      -0.043900\n",
       "2020-04-02  40.273087       0.019091\n",
       "2020-04-03  39.432674      -0.020868\n",
       "2020-04-06  41.380909       0.049407\n",
       "2020-04-07  41.629211       0.006000\n",
       "...               ...            ...\n",
       "2020-12-23  58.788280       0.013333\n",
       "2020-12-24  58.935150       0.002498\n",
       "2020-12-28  59.336597       0.006812\n",
       "2020-12-29  59.767433       0.007261\n",
       "2020-12-30  59.689098      -0.001311\n",
       "\n",
       "[190 rows x 2 columns]"
      ]
     },
     "execution_count": 11,
     "metadata": {},
     "output_type": "execute_result"
    }
   ],
   "source": [
    "equity_etf_returns_df = compute_returns(equity_etf_df)\n",
    "\n",
    "print('Daily returns for Equity ETF:')\n",
    "equity_etf_returns_df[['Adj Close', 'Daily Returns']]"
   ]
  },
  {
   "cell_type": "code",
   "execution_count": 12,
   "metadata": {},
   "outputs": [
    {
     "name": "stdout",
     "output_type": "stream",
     "text": [
      "Daily returns for Bitcoin:\n"
     ]
    },
    {
     "data": {
      "text/html": [
       "<div>\n",
       "<style scoped>\n",
       "    .dataframe tbody tr th:only-of-type {\n",
       "        vertical-align: middle;\n",
       "    }\n",
       "\n",
       "    .dataframe tbody tr th {\n",
       "        vertical-align: top;\n",
       "    }\n",
       "\n",
       "    .dataframe thead th {\n",
       "        text-align: right;\n",
       "    }\n",
       "</style>\n",
       "<table border=\"1\" class=\"dataframe\">\n",
       "  <thead>\n",
       "    <tr style=\"text-align: right;\">\n",
       "      <th></th>\n",
       "      <th>Adj Close</th>\n",
       "      <th>Daily Returns</th>\n",
       "    </tr>\n",
       "    <tr>\n",
       "      <th>Date</th>\n",
       "      <th></th>\n",
       "      <th></th>\n",
       "    </tr>\n",
       "  </thead>\n",
       "  <tbody>\n",
       "    <tr>\n",
       "      <th>2020-04-01</th>\n",
       "      <td>6606.776367</td>\n",
       "      <td>0.026113</td>\n",
       "    </tr>\n",
       "    <tr>\n",
       "      <th>2020-04-02</th>\n",
       "      <td>6793.624512</td>\n",
       "      <td>0.028281</td>\n",
       "    </tr>\n",
       "    <tr>\n",
       "      <th>2020-04-03</th>\n",
       "      <td>6733.387207</td>\n",
       "      <td>-0.008867</td>\n",
       "    </tr>\n",
       "    <tr>\n",
       "      <th>2020-04-04</th>\n",
       "      <td>6867.527344</td>\n",
       "      <td>0.019922</td>\n",
       "    </tr>\n",
       "    <tr>\n",
       "      <th>2020-04-05</th>\n",
       "      <td>6791.129395</td>\n",
       "      <td>-0.011125</td>\n",
       "    </tr>\n",
       "    <tr>\n",
       "      <th>...</th>\n",
       "      <td>...</td>\n",
       "      <td>...</td>\n",
       "    </tr>\n",
       "    <tr>\n",
       "      <th>2020-12-26</th>\n",
       "      <td>26437.037109</td>\n",
       "      <td>0.071853</td>\n",
       "    </tr>\n",
       "    <tr>\n",
       "      <th>2020-12-27</th>\n",
       "      <td>26272.294922</td>\n",
       "      <td>-0.006231</td>\n",
       "    </tr>\n",
       "    <tr>\n",
       "      <th>2020-12-28</th>\n",
       "      <td>27084.808594</td>\n",
       "      <td>0.030927</td>\n",
       "    </tr>\n",
       "    <tr>\n",
       "      <th>2020-12-29</th>\n",
       "      <td>27362.437500</td>\n",
       "      <td>0.010250</td>\n",
       "    </tr>\n",
       "    <tr>\n",
       "      <th>2020-12-30</th>\n",
       "      <td>28840.953125</td>\n",
       "      <td>0.054034</td>\n",
       "    </tr>\n",
       "  </tbody>\n",
       "</table>\n",
       "<p>270 rows × 2 columns</p>\n",
       "</div>"
      ],
      "text/plain": [
       "               Adj Close  Daily Returns\n",
       "Date                                   \n",
       "2020-04-01   6606.776367       0.026113\n",
       "2020-04-02   6793.624512       0.028281\n",
       "2020-04-03   6733.387207      -0.008867\n",
       "2020-04-04   6867.527344       0.019922\n",
       "2020-04-05   6791.129395      -0.011125\n",
       "...                  ...            ...\n",
       "2020-12-26  26437.037109       0.071853\n",
       "2020-12-27  26272.294922      -0.006231\n",
       "2020-12-28  27084.808594       0.030927\n",
       "2020-12-29  27362.437500       0.010250\n",
       "2020-12-30  28840.953125       0.054034\n",
       "\n",
       "[270 rows x 2 columns]"
      ]
     },
     "execution_count": 12,
     "metadata": {},
     "output_type": "execute_result"
    }
   ],
   "source": [
    "bitcoin_returns_df = compute_returns(bitcoin_df)\n",
    "\n",
    "print('Daily returns for Bitcoin:')\n",
    "bitcoin_returns_df[['Adj Close', 'Daily Returns']]"
   ]
  },
  {
   "cell_type": "markdown",
   "metadata": {},
   "source": [
    "# 3 Data Summaries\n",
    "\n",
    "Here, we have also provided reusable functions for calculating the moving averages for any DataFrame indexed by date."
   ]
  },
  {
   "cell_type": "code",
   "execution_count": 13,
   "metadata": {},
   "outputs": [],
   "source": [
    "def compute_moving_average(df, days):\n",
    "    df[f'MA{days}'] = df['Adj Close'].rolling(days).mean()\n",
    "    return df"
   ]
  },
  {
   "cell_type": "markdown",
   "metadata": {},
   "source": [
    "<b>3.1) Compute a 20-day moving average price of your gold ETF.  The moving average price on 1 April 2020 should include data from March.</b> <br/>\n",
    "Be sure to either graph or show a table of these values."
   ]
  },
  {
   "cell_type": "code",
   "execution_count": 14,
   "metadata": {},
   "outputs": [
    {
     "data": {
      "text/html": [
       "<div>\n",
       "<style scoped>\n",
       "    .dataframe tbody tr th:only-of-type {\n",
       "        vertical-align: middle;\n",
       "    }\n",
       "\n",
       "    .dataframe tbody tr th {\n",
       "        vertical-align: top;\n",
       "    }\n",
       "\n",
       "    .dataframe thead th {\n",
       "        text-align: right;\n",
       "    }\n",
       "</style>\n",
       "<table border=\"1\" class=\"dataframe\">\n",
       "  <thead>\n",
       "    <tr style=\"text-align: right;\">\n",
       "      <th></th>\n",
       "      <th>Adj Close</th>\n",
       "      <th>MA20</th>\n",
       "    </tr>\n",
       "    <tr>\n",
       "      <th>Date</th>\n",
       "      <th></th>\n",
       "      <th></th>\n",
       "    </tr>\n",
       "  </thead>\n",
       "  <tbody>\n",
       "    <tr>\n",
       "      <th>2020-01-29</th>\n",
       "      <td>148.460007</td>\n",
       "      <td>146.627500</td>\n",
       "    </tr>\n",
       "    <tr>\n",
       "      <th>2020-01-30</th>\n",
       "      <td>148.470001</td>\n",
       "      <td>146.906001</td>\n",
       "    </tr>\n",
       "    <tr>\n",
       "      <th>2020-01-31</th>\n",
       "      <td>149.330002</td>\n",
       "      <td>147.175001</td>\n",
       "    </tr>\n",
       "    <tr>\n",
       "      <th>2020-02-03</th>\n",
       "      <td>148.360001</td>\n",
       "      <td>147.300001</td>\n",
       "    </tr>\n",
       "    <tr>\n",
       "      <th>2020-02-04</th>\n",
       "      <td>146.429993</td>\n",
       "      <td>147.252000</td>\n",
       "    </tr>\n",
       "    <tr>\n",
       "      <th>...</th>\n",
       "      <td>...</td>\n",
       "      <td>...</td>\n",
       "    </tr>\n",
       "    <tr>\n",
       "      <th>2020-12-23</th>\n",
       "      <td>175.649994</td>\n",
       "      <td>172.893500</td>\n",
       "    </tr>\n",
       "    <tr>\n",
       "      <th>2020-12-24</th>\n",
       "      <td>176.350006</td>\n",
       "      <td>173.235500</td>\n",
       "    </tr>\n",
       "    <tr>\n",
       "      <th>2020-12-28</th>\n",
       "      <td>175.710007</td>\n",
       "      <td>173.631501</td>\n",
       "    </tr>\n",
       "    <tr>\n",
       "      <th>2020-12-29</th>\n",
       "      <td>176.350006</td>\n",
       "      <td>174.115501</td>\n",
       "    </tr>\n",
       "    <tr>\n",
       "      <th>2020-12-30</th>\n",
       "      <td>177.699997</td>\n",
       "      <td>174.491502</td>\n",
       "    </tr>\n",
       "  </tbody>\n",
       "</table>\n",
       "<p>234 rows × 2 columns</p>\n",
       "</div>"
      ],
      "text/plain": [
       "             Adj Close        MA20\n",
       "Date                              \n",
       "2020-01-29  148.460007  146.627500\n",
       "2020-01-30  148.470001  146.906001\n",
       "2020-01-31  149.330002  147.175001\n",
       "2020-02-03  148.360001  147.300001\n",
       "2020-02-04  146.429993  147.252000\n",
       "...                ...         ...\n",
       "2020-12-23  175.649994  172.893500\n",
       "2020-12-24  176.350006  173.235500\n",
       "2020-12-28  175.710007  173.631501\n",
       "2020-12-29  176.350006  174.115501\n",
       "2020-12-30  177.699997  174.491502\n",
       "\n",
       "[234 rows x 2 columns]"
      ]
     },
     "execution_count": 14,
     "metadata": {},
     "output_type": "execute_result"
    },
    {
     "data": {
      "image/png": "[encoded data removed]",
      "text/plain": [
       "<Figure size 432x288 with 1 Axes>"
      ]
     },
     "metadata": {
      "needs_background": "light"
     },
     "output_type": "display_data"
    }
   ],
   "source": [
    "gold_ma = compute_moving_average(gold_etf_df, days=20)\n",
    "gold_ma.plot(y='MA20', use_index=True,\n",
    "             label='20-day Moving Average',\n",
    "             title='Gold ETF Prices: 20-day Moving Average')\n",
    "plt.ylabel('Gold ETF Price (USD $)')\n",
    "gold_ma[~gold_ma.MA20.isnull()][['Adj Close', 'MA20']]"
   ]
  },
  {
   "cell_type": "markdown",
   "metadata": {},
   "source": [
    "<b>3.2) Compute a 20-day moving average price of your equity ETF.  The moving average price on 1 April 2020 should include data from March.</b>"
   ]
  },
  {
   "cell_type": "code",
   "execution_count": 15,
   "metadata": {},
   "outputs": [
    {
     "data": {
      "text/html": [
       "<div>\n",
       "<style scoped>\n",
       "    .dataframe tbody tr th:only-of-type {\n",
       "        vertical-align: middle;\n",
       "    }\n",
       "\n",
       "    .dataframe tbody tr th {\n",
       "        vertical-align: top;\n",
       "    }\n",
       "\n",
       "    .dataframe thead th {\n",
       "        text-align: right;\n",
       "    }\n",
       "</style>\n",
       "<table border=\"1\" class=\"dataframe\">\n",
       "  <thead>\n",
       "    <tr style=\"text-align: right;\">\n",
       "      <th></th>\n",
       "      <th>Adj Close</th>\n",
       "      <th>MA20</th>\n",
       "    </tr>\n",
       "    <tr>\n",
       "      <th>Date</th>\n",
       "      <th></th>\n",
       "      <th></th>\n",
       "    </tr>\n",
       "  </thead>\n",
       "  <tbody>\n",
       "    <tr>\n",
       "      <th>2020-01-29</th>\n",
       "      <td>54.752899</td>\n",
       "      <td>55.406592</td>\n",
       "    </tr>\n",
       "    <tr>\n",
       "      <th>2020-01-30</th>\n",
       "      <td>54.724438</td>\n",
       "      <td>55.362949</td>\n",
       "    </tr>\n",
       "    <tr>\n",
       "      <th>2020-01-31</th>\n",
       "      <td>53.880039</td>\n",
       "      <td>55.253842</td>\n",
       "    </tr>\n",
       "    <tr>\n",
       "      <th>2020-02-03</th>\n",
       "      <td>53.899017</td>\n",
       "      <td>55.180787</td>\n",
       "    </tr>\n",
       "    <tr>\n",
       "      <th>2020-02-04</th>\n",
       "      <td>54.800327</td>\n",
       "      <td>55.142362</td>\n",
       "    </tr>\n",
       "    <tr>\n",
       "      <th>...</th>\n",
       "      <td>...</td>\n",
       "      <td>...</td>\n",
       "    </tr>\n",
       "    <tr>\n",
       "      <th>2020-12-23</th>\n",
       "      <td>58.788280</td>\n",
       "      <td>57.656022</td>\n",
       "    </tr>\n",
       "    <tr>\n",
       "      <th>2020-12-24</th>\n",
       "      <td>58.935150</td>\n",
       "      <td>57.777210</td>\n",
       "    </tr>\n",
       "    <tr>\n",
       "      <th>2020-12-28</th>\n",
       "      <td>59.336597</td>\n",
       "      <td>57.905415</td>\n",
       "    </tr>\n",
       "    <tr>\n",
       "      <th>2020-12-29</th>\n",
       "      <td>59.767433</td>\n",
       "      <td>58.103028</td>\n",
       "    </tr>\n",
       "    <tr>\n",
       "      <th>2020-12-30</th>\n",
       "      <td>59.689098</td>\n",
       "      <td>58.226134</td>\n",
       "    </tr>\n",
       "  </tbody>\n",
       "</table>\n",
       "<p>234 rows × 2 columns</p>\n",
       "</div>"
      ],
      "text/plain": [
       "            Adj Close       MA20\n",
       "Date                            \n",
       "2020-01-29  54.752899  55.406592\n",
       "2020-01-30  54.724438  55.362949\n",
       "2020-01-31  53.880039  55.253842\n",
       "2020-02-03  53.899017  55.180787\n",
       "2020-02-04  54.800327  55.142362\n",
       "...               ...        ...\n",
       "2020-12-23  58.788280  57.656022\n",
       "2020-12-24  58.935150  57.777210\n",
       "2020-12-28  59.336597  57.905415\n",
       "2020-12-29  59.767433  58.103028\n",
       "2020-12-30  59.689098  58.226134\n",
       "\n",
       "[234 rows x 2 columns]"
      ]
     },
     "execution_count": 15,
     "metadata": {},
     "output_type": "execute_result"
    },
    {
     "data": {
      "image/png": "[encoded data removed]",
      "text/plain": [
       "<Figure size 432x288 with 1 Axes>"
      ]
     },
     "metadata": {
      "needs_background": "light"
     },
     "output_type": "display_data"
    }
   ],
   "source": [
    "equity_ma = compute_moving_average(equity_etf_df, days=20)\n",
    "equity_ma.plot(y='MA20', use_index=True,\n",
    "               label='20-day MA of Vanguard FTSE ETF',\n",
    "               title='Equity ETF Prices (VGK), 20-day Moving Average')\n",
    "plt.ylabel('Price of VGK (USD $)')\n",
    "equity_ma[~equity_ma.MA20.isnull()][['Adj Close', 'MA20']]"
   ]
  },
  {
   "cell_type": "markdown",
   "metadata": {},
   "source": [
    "<b>3.3) Compute a 20-day moving average price of bitcoin.  The moving average price on 1 April 2020 should include data from March.</b>"
   ]
  },
  {
   "cell_type": "code",
   "execution_count": 16,
   "metadata": {},
   "outputs": [
    {
     "data": {
      "text/html": [
       "<div>\n",
       "<style scoped>\n",
       "    .dataframe tbody tr th:only-of-type {\n",
       "        vertical-align: middle;\n",
       "    }\n",
       "\n",
       "    .dataframe tbody tr th {\n",
       "        vertical-align: top;\n",
       "    }\n",
       "\n",
       "    .dataframe thead th {\n",
       "        text-align: right;\n",
       "    }\n",
       "</style>\n",
       "<table border=\"1\" class=\"dataframe\">\n",
       "  <thead>\n",
       "    <tr style=\"text-align: right;\">\n",
       "      <th></th>\n",
       "      <th>Adj Close</th>\n",
       "      <th>MA20</th>\n",
       "    </tr>\n",
       "    <tr>\n",
       "      <th>Date</th>\n",
       "      <th></th>\n",
       "      <th></th>\n",
       "    </tr>\n",
       "  </thead>\n",
       "  <tbody>\n",
       "    <tr>\n",
       "      <th>2020-01-19</th>\n",
       "      <td>8706.245117</td>\n",
       "      <td>8045.769067</td>\n",
       "    </tr>\n",
       "    <tr>\n",
       "      <th>2020-01-20</th>\n",
       "      <td>8657.642578</td>\n",
       "      <td>8118.971240</td>\n",
       "    </tr>\n",
       "    <tr>\n",
       "      <th>2020-01-21</th>\n",
       "      <td>8745.894531</td>\n",
       "      <td>8196.257251</td>\n",
       "    </tr>\n",
       "    <tr>\n",
       "      <th>2020-01-22</th>\n",
       "      <td>8680.875977</td>\n",
       "      <td>8281.027539</td>\n",
       "    </tr>\n",
       "    <tr>\n",
       "      <th>2020-01-23</th>\n",
       "      <td>8406.515625</td>\n",
       "      <td>8334.109106</td>\n",
       "    </tr>\n",
       "    <tr>\n",
       "      <th>...</th>\n",
       "      <td>...</td>\n",
       "      <td>...</td>\n",
       "    </tr>\n",
       "    <tr>\n",
       "      <th>2020-12-26</th>\n",
       "      <td>26437.037109</td>\n",
       "      <td>21413.321484</td>\n",
       "    </tr>\n",
       "    <tr>\n",
       "      <th>2020-12-27</th>\n",
       "      <td>26272.294922</td>\n",
       "      <td>21767.354687</td>\n",
       "    </tr>\n",
       "    <tr>\n",
       "      <th>2020-12-28</th>\n",
       "      <td>27084.808594</td>\n",
       "      <td>22205.537891</td>\n",
       "    </tr>\n",
       "    <tr>\n",
       "      <th>2020-12-29</th>\n",
       "      <td>27362.437500</td>\n",
       "      <td>22645.963965</td>\n",
       "    </tr>\n",
       "    <tr>\n",
       "      <th>2020-12-30</th>\n",
       "      <td>28840.953125</td>\n",
       "      <td>23174.762012</td>\n",
       "    </tr>\n",
       "  </tbody>\n",
       "</table>\n",
       "<p>343 rows × 2 columns</p>\n",
       "</div>"
      ],
      "text/plain": [
       "               Adj Close          MA20\n",
       "Date                                  \n",
       "2020-01-19   8706.245117   8045.769067\n",
       "2020-01-20   8657.642578   8118.971240\n",
       "2020-01-21   8745.894531   8196.257251\n",
       "2020-01-22   8680.875977   8281.027539\n",
       "2020-01-23   8406.515625   8334.109106\n",
       "...                  ...           ...\n",
       "2020-12-26  26437.037109  21413.321484\n",
       "2020-12-27  26272.294922  21767.354687\n",
       "2020-12-28  27084.808594  22205.537891\n",
       "2020-12-29  27362.437500  22645.963965\n",
       "2020-12-30  28840.953125  23174.762012\n",
       "\n",
       "[343 rows x 2 columns]"
      ]
     },
     "execution_count": 16,
     "metadata": {},
     "output_type": "execute_result"
    },
    {
     "data": {
      "image/png": "[encoded data removed]",
      "text/plain": [
       "<Figure size 432x288 with 1 Axes>"
      ]
     },
     "metadata": {
      "needs_background": "light"
     },
     "output_type": "display_data"
    }
   ],
   "source": [
    "bitcoin_ma = compute_moving_average(bitcoin_df, days=20)\n",
    "bitcoin_ma.plot(y='MA20', use_index=True,\n",
    "                label='20-day Moving Average',\n",
    "                title='Bitcoin prices, 20-day Moving Average')\n",
    "plt.ylabel('Bitcoin Price (USD $)')\n",
    "bitcoin_ma[~bitcoin_ma.MA20.isnull()][['Adj Close', 'MA20']]"
   ]
  },
  {
   "cell_type": "markdown",
   "metadata": {},
   "source": [
    "# 4 Graphing"
   ]
  },
  {
   "cell_type": "markdown",
   "metadata": {},
   "source": [
    "<b>4.1) Graph each price series along with its moving average from April 2020 through Dec 2020.</b>"
   ]
  },
  {
   "cell_type": "code",
   "execution_count": 17,
   "metadata": {},
   "outputs": [
    {
     "data": {
      "image/png": "[encoded data removed]",
      "text/plain": [
       "<Figure size 432x288 with 1 Axes>"
      ]
     },
     "metadata": {
      "needs_background": "light"
     },
     "output_type": "display_data"
    }
   ],
   "source": [
    "# Graph Gold ETF Prices & 20-day moving averages from 01 Apr'20\n",
    "gold_apr_dec = gold_ma['2020-04-01':]\n",
    "gold_plt = gold_apr_dec.plot(y='Adj Close', use_index=True)\n",
    "gold_apr_dec.plot(y='MA20', use_index=True, ax=gold_plt,\n",
    "                  label='20-day Moving Average')\n",
    "\n",
    "plt.title('Gold ETF Prices (GLD, April 2020 - Dec 2020)')\n",
    "plt.ylabel('Gold ETF Prices (USD $)')\n",
    "plt.show()"
   ]
  },
  {
   "cell_type": "code",
   "execution_count": 18,
   "metadata": {},
   "outputs": [
    {
     "data": {
      "image/png": "[encoded data removed]",
      "text/plain": [
       "<Figure size 432x288 with 1 Axes>"
      ]
     },
     "metadata": {
      "needs_background": "light"
     },
     "output_type": "display_data"
    }
   ],
   "source": [
    "# Graph Equity ETF Prices & 20-day moving averages from 01 Apr'20\n",
    "equity_apr_dec = equity_ma['2020-04-01':]\n",
    "equity_plt = equity_apr_dec.plot(y='Adj Close', use_index=True)\n",
    "equity_apr_dec.plot(y='MA20', use_index=True, ax=equity_plt,\n",
    "                    label='20-day Moving Average')\n",
    "\n",
    "plt.title('Equity ETF Prices (VGK, April 2020 - Dec 2020)')\n",
    "plt.ylabel('Equity ETF Prices (USD $)')\n",
    "plt.show()"
   ]
  },
  {
   "cell_type": "code",
   "execution_count": 19,
   "metadata": {},
   "outputs": [
    {
     "data": {
      "image/png": "[encoded data removed]",
      "text/plain": [
       "<Figure size 432x288 with 1 Axes>"
      ]
     },
     "metadata": {
      "needs_background": "light"
     },
     "output_type": "display_data"
    }
   ],
   "source": [
    "# Graph Bitcoin Prices & 20-day moving averages from 01 Apr'20\n",
    "bitcoin_apr_dec = bitcoin_ma['2020-04-01':]\n",
    "bitcoin_plt = bitcoin_apr_dec.plot(y='Adj Close', use_index=True)\n",
    "bitcoin_apr_dec.plot(y='MA20', use_index=True, ax=bitcoin_plt, \n",
    "                     label='20-day Moving Average')\n",
    "\n",
    "plt.title('Bitcoin Prices (BTC-USD, April 2020 - Dec 2020)')\n",
    "plt.ylabel('Bitcoin Prices (USD $)')\n",
    "plt.show()"
   ]
  },
  {
   "cell_type": "markdown",
   "metadata": {},
   "source": [
    "\n",
    "\n",
    "<div class=\"alert alert-block alert-success\">\n",
    "\n",
    "<b>4.2) Comment on how the price series and average series intersect or not.</b><br/>\n",
    "   \n",
    "For all three assets, the price and moving average series do intersect (multiple times in the year, in fact). This is because of a well-subscribed theory of financial markets known as <b>mean reversion</b> which suggests that, after an extreme upward or downward price movements, asset prices tend to return back to normal or average levels. This is why prices routinely oscillate around the moving average prices and tend to return to that level over and over.\n",
    "\n",
    "</div>    \n"
   ]
  },
  {
   "cell_type": "markdown",
   "metadata": {},
   "source": [
    "<b>4.3) Graph gold and equity prices on the same plot.</b><br/>\n",
    "Use a separate scale for each series, and be sure to add a label and legend."
   ]
  },
  {
   "cell_type": "code",
   "execution_count": 20,
   "metadata": {},
   "outputs": [],
   "source": [
    "# Utility methods for plotting two price series on the same plot\n",
    "\n",
    "def get_xy_series(asset_df):\n",
    "    return list(asset_df.index), list(asset_df['Adj Close'])\n",
    "\n",
    "def twin_plot(asset1, asset2):\n",
    "    \n",
    "    # Create twin plots with ax1 and ax2\n",
    "    fig, ax1 = plt.subplots(figsize=(16,4))\n",
    "    ax2 = ax1.twinx()\n",
    "    \n",
    "    # Initialise chart attributes\n",
    "    labels = [asset.name.replace('_', ' ') for asset in [asset1, asset2]]\n",
    "    chart1, chart2 = asset1.value, asset2.value\n",
    "    colors = [chart1.color, chart2.color]\n",
    "    ax1.set_ylim(chart1.ylim)\n",
    "    ax2.set_ylim(chart2.ylim)\n",
    "    ax1.set_xlabel('Date')\n",
    "    ax1.grid(True)\n",
    "    \n",
    "    # Plot both series in chart, and configure legend and y labels\n",
    "    series1 = ax1.plot(chart1.x, chart1.y, color=chart1.color, label=labels[0])\n",
    "    series2 = ax2.plot(chart2.x, chart2.y, color=chart2.color, label=labels[1])\n",
    "    ax1.legend(series1 + series2, labels, loc='lower right')\n",
    "    for i, ax in enumerate([ax1, ax2]):\n",
    "        ax.set_ylabel(f'{labels[i]} Prices', color=colors[i])\n",
    "    \n",
    "    plt.title(f'{labels[0]} and {labels[1]} Prices (in USD $)') # configure title\n",
    "    plt.show()"
   ]
  },
  {
   "cell_type": "code",
   "execution_count": 21,
   "metadata": {},
   "outputs": [],
   "source": [
    "# Modularise Chart config into a dataclass\n",
    "@dataclass\n",
    "class Chart:\n",
    "    x: list\n",
    "    y: list\n",
    "    color: str\n",
    "    ylim: tuple\n",
    "\n",
    "# Create chart config for all 3 assets\n",
    "class Asset(Enum):\n",
    "    Gold_ETF = Chart(*get_xy_series(gold_etf_df), 'orange', (130,200))\n",
    "    Equity_ETF = Chart(*get_xy_series(equity_etf_df), 'blue', (35,70))\n",
    "    Bitcoin = Chart(*get_xy_series(bitcoin_df), 'purple', (5000,30000))"
   ]
  },
  {
   "cell_type": "code",
   "execution_count": 22,
   "metadata": {},
   "outputs": [
    {
     "data": {
      "image/png": "[encoded data removed]",
      "text/plain": [
       "<Figure size 1152x288 with 2 Axes>"
      ]
     },
     "metadata": {
      "needs_background": "light"
     },
     "output_type": "display_data"
    }
   ],
   "source": [
    "twin_plot(Asset.Gold_ETF, Asset.Equity_ETF)"
   ]
  },
  {
   "cell_type": "markdown",
   "metadata": {},
   "source": [
    "<b>4.4) Graph gold and bitcoin prices on the same plot.</b><br/>\n",
    "Use a separate scale for each series, and be sure to add a label and legend."
   ]
  },
  {
   "cell_type": "code",
   "execution_count": 23,
   "metadata": {},
   "outputs": [
    {
     "data": {
      "image/png": "[encoded data removed]",
      "text/plain": [
       "<Figure size 1152x288 with 2 Axes>"
      ]
     },
     "metadata": {
      "needs_background": "light"
     },
     "output_type": "display_data"
    }
   ],
   "source": [
    "twin_plot(Asset.Gold_ETF, Asset.Bitcoin)"
   ]
  },
  {
   "cell_type": "markdown",
   "metadata": {},
   "source": [
    "<b>4.5) Graph equity and bitcoin prices on the same plot.</b><br/>\n",
    "Use a separate scale for each series, and be sure to add a label and legend."
   ]
  },
  {
   "cell_type": "code",
   "execution_count": 24,
   "metadata": {},
   "outputs": [
    {
     "data": {
      "image/png": "[encoded data removed]",
      "text/plain": [
       "<Figure size 1152x288 with 2 Axes>"
      ]
     },
     "metadata": {
      "needs_background": "light"
     },
     "output_type": "display_data"
    }
   ],
   "source": [
    "twin_plot(Asset.Equity_ETF, Asset.Bitcoin)"
   ]
  },
  {
   "cell_type": "markdown",
   "metadata": {},
   "source": [
    "---\n",
    "# 5 Fitting a GARCH Model"
   ]
  },
  {
   "cell_type": "markdown",
   "metadata": {},
   "source": [
    "<b>5.1) Pick one of the 3 series (gold, equity, or bitcoin).</b>\n",
    "\n",
    "`Selected Series: __________________________`\n",
    "\n",
    "* Fit a GARCH model for quarter 2 (Q2).\n",
    "* Fit a GARCH model for quarter 3 (Q3).  \n",
    "* Fit a GARCH model for quarter 4 (Q4)."
   ]
  },
  {
   "cell_type": "markdown",
   "metadata": {},
   "source": [
    "### GARCH model for Q2"
   ]
  },
  {
   "cell_type": "code",
   "execution_count": null,
   "metadata": {},
   "outputs": [],
   "source": [
    "\n"
   ]
  },
  {
   "cell_type": "markdown",
   "metadata": {},
   "source": [
    "### GARCH model for Q3"
   ]
  },
  {
   "cell_type": "code",
   "execution_count": null,
   "metadata": {},
   "outputs": [],
   "source": [
    "\n"
   ]
  },
  {
   "cell_type": "markdown",
   "metadata": {},
   "source": [
    "### GARCH model for Q4"
   ]
  },
  {
   "cell_type": "code",
   "execution_count": null,
   "metadata": {},
   "outputs": [],
   "source": [
    "\n"
   ]
  },
  {
   "cell_type": "markdown",
   "metadata": {},
   "source": [
    "<b>5.2) Repeat the process, but instead using GARCH-M Model. </b>"
   ]
  },
  {
   "cell_type": "markdown",
   "metadata": {},
   "source": [
    "### GARCH-M model for Q2"
   ]
  },
  {
   "cell_type": "code",
   "execution_count": null,
   "metadata": {},
   "outputs": [],
   "source": [
    "\n"
   ]
  },
  {
   "cell_type": "markdown",
   "metadata": {},
   "source": [
    "### GARCH-M model for Q3"
   ]
  },
  {
   "cell_type": "code",
   "execution_count": null,
   "metadata": {},
   "outputs": [],
   "source": [
    "\n"
   ]
  },
  {
   "cell_type": "markdown",
   "metadata": {},
   "source": [
    "### GARCH-M model for Q4"
   ]
  },
  {
   "cell_type": "code",
   "execution_count": null,
   "metadata": {},
   "outputs": [],
   "source": [
    "\n"
   ]
  },
  {
   "cell_type": "markdown",
   "metadata": {},
   "source": [
    "<b>5.3) Repeat the process one more time, using another variation of GARCH. </b><br/>\n",
    "(e.g. Threshold GARCH, Exponential GARCH, Integrated GARCH)"
   ]
  },
  {
   "cell_type": "markdown",
   "metadata": {},
   "source": [
    "### ? model for Q2"
   ]
  },
  {
   "cell_type": "code",
   "execution_count": null,
   "metadata": {},
   "outputs": [],
   "source": [
    "\n"
   ]
  },
  {
   "cell_type": "markdown",
   "metadata": {},
   "source": [
    "### ? model for Q3"
   ]
  },
  {
   "cell_type": "code",
   "execution_count": null,
   "metadata": {},
   "outputs": [],
   "source": [
    "\n"
   ]
  },
  {
   "cell_type": "markdown",
   "metadata": {},
   "source": [
    "### ? model for Q4"
   ]
  },
  {
   "cell_type": "code",
   "execution_count": null,
   "metadata": {},
   "outputs": [],
   "source": [
    "\n"
   ]
  },
  {
   "cell_type": "markdown",
   "metadata": {},
   "source": [
    "\n",
    "\n",
    "<div class=\"alert alert-block alert-success\">\n",
    "\n",
    "<b>5.4) What are the 3 long-term variances indicated by the models?</b><br/>\n",
    "(1 point for each correct variance)<br/><br/>\n",
    "    \n",
    "The long-term variances are...\n",
    "</div>    \n"
   ]
  },
  {
   "cell_type": "markdown",
   "metadata": {},
   "source": [
    "---\n",
    "# 6 Assessing Stationarity"
   ]
  },
  {
   "cell_type": "markdown",
   "metadata": {},
   "source": [
    "<b>6.1) Pick 1 of the 3 quarters in 2020 (Q2, Q3, or Q4).  Test your gold ETF for stationarity.  Explicitly state which test you used to determine stationarity.</b><br/>\n",
    "\n",
    "`Selected Quarter:  _________`<br/>\n",
    "`Test Used:         _________`"
   ]
  },
  {
   "cell_type": "code",
   "execution_count": null,
   "metadata": {},
   "outputs": [],
   "source": [
    "\n"
   ]
  },
  {
   "cell_type": "markdown",
   "metadata": {},
   "source": [
    "<div class=\"alert alert-block alert-success\">\n",
    "\n",
    "<b>Conclusion:</b> Gold ETF prices in Q(?) is / is not stationary because<br/>\n",
    "</div>"
   ]
  },
  {
   "cell_type": "markdown",
   "metadata": {},
   "source": [
    "<b>6.2) Using the same quarter, test your equity ETF for stationarity. Explicitly state which test you used to determine stationarity.</b><br/>\n",
    "\n",
    "`Selected Quarter:  _________`<br/>\n",
    "`Test Used:         _________`"
   ]
  },
  {
   "cell_type": "code",
   "execution_count": null,
   "metadata": {},
   "outputs": [],
   "source": [
    "\n"
   ]
  },
  {
   "cell_type": "markdown",
   "metadata": {},
   "source": [
    "<div class=\"alert alert-block alert-success\">\n",
    "\n",
    "<b>Conclusion:</b> Equity ETF prices in Q(?) is / is not stationary because<br/>\n",
    "</div>"
   ]
  },
  {
   "cell_type": "markdown",
   "metadata": {},
   "source": [
    "<b>6.3) Using the same quarter, test Bitcoin for stationarity. Explicitly state which test you used to determine stationarity.</b><br/>\n",
    "\n",
    "`Selected Quarter:  _________`<br/>\n",
    "`Test Used:         _________`"
   ]
  },
  {
   "cell_type": "code",
   "execution_count": null,
   "metadata": {},
   "outputs": [],
   "source": [
    "\n"
   ]
  },
  {
   "cell_type": "markdown",
   "metadata": {},
   "source": [
    "<div class=\"alert alert-block alert-success\">\n",
    "\n",
    "<b>Conclusion:</b> Bitcoin prices in Q(?) is / is not stationary because<br/>\n",
    "</div>"
   ]
  },
  {
   "cell_type": "markdown",
   "metadata": {},
   "source": [
    "---\n",
    "# 7 Modelling Cointegration"
   ]
  },
  {
   "cell_type": "code",
   "execution_count": null,
   "metadata": {},
   "outputs": [],
   "source": [
    "q2_start = '2020-04-01'\n",
    "q3_end = '2020-09-30'\n",
    "\n",
    "gold_q2q3 = gold_etf_df[q2_start:q3_end]\n",
    "equity_q2q3 = equity_etf_df[q2_start:q3_end]\n",
    "bitcoin_q2q3 = bitcoin_df[q2_start:q3_end]\n",
    "\n",
    "bitcoin_q2q3"
   ]
  },
  {
   "cell_type": "markdown",
   "metadata": {},
   "source": [
    "<b>7.1) Using Q2 and Q3 data (April - Sept period), test all the 3 combinations of cointegration using Engle-Granger and Johansen test as following: (gold, equity), (equity, bitcoin) and (bitcoin, gold).\n",
    "</b><br/>"
   ]
  },
  {
   "cell_type": "markdown",
   "metadata": {},
   "source": [
    "### Engle-Granger Test"
   ]
  },
  {
   "cell_type": "code",
   "execution_count": null,
   "metadata": {},
   "outputs": [],
   "source": [
    "# (gold, equity)\n",
    "\n",
    "\n",
    "# (gold, bitcoin)\n",
    "\n",
    "\n",
    "# (equity, bitcoin)\n",
    "\n"
   ]
  },
  {
   "cell_type": "markdown",
   "metadata": {},
   "source": [
    "### Johansen Test"
   ]
  },
  {
   "cell_type": "code",
   "execution_count": null,
   "metadata": {},
   "outputs": [],
   "source": [
    "# (gold, equity)\n",
    "\n",
    "\n",
    "# (gold, bitcoin)\n",
    "\n",
    "\n",
    "# (equity, bitcoin)\n",
    "\n"
   ]
  },
  {
   "cell_type": "markdown",
   "metadata": {},
   "source": [
    "<div class=\"alert alert-block alert-success\">\n",
    "\n",
    "<b>7.2) Explain if Johansen test and Engle-Granger provided different results. </b><br/>\n",
    "</div>"
   ]
  },
  {
   "cell_type": "markdown",
   "metadata": {},
   "source": [
    "<b>7.3) Implement a VEC model and forecast Q4 evolution. Comment results. (Provide arguments if VEC can not be used).\n",
    "</b><br/>"
   ]
  },
  {
   "cell_type": "code",
   "execution_count": null,
   "metadata": {},
   "outputs": [],
   "source": [
    "\n"
   ]
  },
  {
   "cell_type": "markdown",
   "metadata": {},
   "source": [
    "<div class=\"alert alert-block alert-success\">\n",
    "\n",
    "<b> Comment on the results. Can VEC be used? </b><br/>\n",
    "\n",
    "VEC can/cannot be used because ...\n",
    "</div>"
   ]
  },
  {
   "cell_type": "markdown",
   "metadata": {},
   "source": [
    "<b>7.4) Implement a VAR model and forecast Q4 evolution.</b><br/>"
   ]
  },
  {
   "cell_type": "code",
   "execution_count": null,
   "metadata": {},
   "outputs": [],
   "source": [
    "\n"
   ]
  },
  {
   "cell_type": "markdown",
   "metadata": {},
   "source": [
    "<div class=\"alert alert-block alert-success\">\n",
    "\n",
    "<b> Comment on the results: </b><br/>\n",
    "\n",
    "</div>"
   ]
  },
  {
   "cell_type": "markdown",
   "metadata": {},
   "source": [
    "<b>7.5) Repeat the entire process using all three variables (equity, gold and bitcoin). Comment forecasts and results.</b><br/> \n"
   ]
  },
  {
   "cell_type": "code",
   "execution_count": null,
   "metadata": {},
   "outputs": [],
   "source": [
    "\n"
   ]
  },
  {
   "cell_type": "markdown",
   "metadata": {},
   "source": [
    "<div class=\"alert alert-block alert-success\">\n",
    "\n",
    "<b> Comment on the forecasts and results: </b><br/>\n",
    "\n",
    "<li>Equity</li>\n",
    "\n",
    "...\n",
    "\n",
    "<li>Gold</li>\n",
    "\n",
    "...\n",
    "\n",
    "<li>Bitcoin</li>\n",
    "...\n",
    "\n",
    "</div>"
   ]
  },
  {
   "cell_type": "markdown",
   "metadata": {},
   "source": [
    "---\n",
    "# 8 Correlation vs Cointegration\n",
    "\n",
    "Discuss as a group and briefly explain your answers with an example from the data set you are using. (Max 300 words.)"
   ]
  },
  {
   "cell_type": "markdown",
   "metadata": {},
   "source": [
    "<div class=\"alert alert-block alert-success\">\n",
    "\n",
    "<b>8.1) Does correlation have a direction?  In other words, is the correlation of x and y equal to correlation of y and x?</b><br/>\n",
    "</div>"
   ]
  },
  {
   "cell_type": "markdown",
   "metadata": {},
   "source": [
    "<div class=\"alert alert-block alert-success\">\n",
    "<b>8.2) Does linear regression have a direction?  Are the slope and intercept the same if x is regressed on y, or y is regressed on x?</b><br/>\n",
    "</div>"
   ]
  },
  {
   "cell_type": "markdown",
   "metadata": {},
   "source": [
    "<div class=\"alert alert-block alert-success\">\n",
    "<b>8.3) Does cointegration have a direction?  Will the cointegrating vector be the same if x is regressed on y, or if y is regressed on x?</b><br/>\n",
    "</div>"
   ]
  },
  {
   "cell_type": "markdown",
   "metadata": {},
   "source": [
    "---\n",
    "\n",
    "_(End of Questions 1-8)_"
   ]
  }
 ],
 "metadata": {
  "kernelspec": {
   "display_name": "Python 3",
   "language": "python",
   "name": "python3"
  },
  "language_info": {
   "codemirror_mode": {
    "name": "ipython",
    "version": 3
   },
   "file_extension": ".py",
   "mimetype": "text/x-python",
   "name": "python",
   "nbconvert_exporter": "python",
   "pygments_lexer": "ipython3",
   "version": "3.8.3"
  }
 },
 "nbformat": 4,
 "nbformat_minor": 5
}
