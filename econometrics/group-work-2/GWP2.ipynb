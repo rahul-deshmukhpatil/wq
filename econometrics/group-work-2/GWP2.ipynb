{
 "cells": [
  {
   "cell_type": "markdown",
   "id": "9593ab3a",
   "metadata": {},
   "source": [
    "***\n",
    "# WorldQuant University\n",
    "<b>MScFE 610 Econometrics: Group Project 2 Submission</b><br>\n",
    "***\n",
    "\n",
    "<b>Group 11 Team Members:</b>\n",
    "\n",
    "- Beh Min Yan\n",
    "- Mohammadkian Maghsoodi\n",
    "- Rahul Patil\n",
    "\n",
    "***"
   ]
  },
  {
   "cell_type": "markdown",
   "id": "e5ba719a",
   "metadata": {},
   "source": [
    "# 0 Selecting a data set\n",
    "\n",
    "<br/>\n",
    "\n",
    "**We have chosen the below datasets:**\n",
    "\n",
    "- **Gold ETF:** SPDR Gold Shares (GLD). \n",
    "    - Source: https://finance.yahoo.com/quote/GLD/\n",
    "\n",
    "\n",
    "- **Equity ETF:** Vanguard FTSE Europe Index Fund ETF Shares (VGK).\n",
    "    - Source: https://finance.yahoo.com/quote/vgk/\n",
    "\n",
    "\n",
    "- **Bitcoin:** Denominated in USD (BTC-USD).\n",
    "    - Source: https://finance.yahoo.com/quote/BTC-USD/"
   ]
  },
  {
   "cell_type": "code",
   "execution_count": 1,
   "id": "9b1f7ce0",
   "metadata": {},
   "outputs": [],
   "source": [
    "GOLD_ETF = 'GLD'     # SPDR Gold Shares (GLD)\n",
    "EQUITY_ETF = 'VGK'   # Vanguard FTSE Europe Index Fund ETF Shares (VGK)\n",
    "BITCOIN = 'BTC-USD'\n",
    "\n",
    "START_DATE = '2020-01-01'\n",
    "END_DATE = '2020-12-31'"
   ]
  },
  {
   "cell_type": "markdown",
   "id": "3d141c2b",
   "metadata": {},
   "source": [
    "***\n",
    "# 1. Data Importing"
   ]
  },
  {
   "cell_type": "markdown",
   "id": "c7409d87",
   "metadata": {},
   "source": [
    "#### Import Libraries"
   ]
  },
  {
   "cell_type": "code",
   "execution_count": 2,
   "id": "01846957",
   "metadata": {},
   "outputs": [],
   "source": [
    "# !pip install dataclasses     # uncomment to install package if you haven't"
   ]
  },
  {
   "cell_type": "code",
   "execution_count": 3,
   "id": "ff6bce5c",
   "metadata": {},
   "outputs": [],
   "source": [
    "from dataclasses import dataclass\n",
    "from enum import Enum\n",
    "import matplotlib.pyplot as plt\n",
    "import pandas as pd\n",
    "import yfinance as yf\n",
    "\n",
    "pd.options.display.max_rows = 15"
   ]
  },
  {
   "cell_type": "markdown",
   "id": "251504dc",
   "metadata": {},
   "source": [
    "<b>1.1) Import closing prices for the entire year of 2020 for your gold ETF, your equity ETF, and bitcoin.</b>"
   ]
  },
  {
   "cell_type": "code",
   "execution_count": 4,
   "id": "a7feef33",
   "metadata": {},
   "outputs": [
    {
     "name": "stdout",
     "output_type": "stream",
     "text": [
      "[*********************100%***********************]  1 of 1 completed\n",
      "[*********************100%***********************]  1 of 1 completed\n",
      "[*********************100%***********************]  1 of 1 completed\n"
     ]
    }
   ],
   "source": [
    "def download_datasets(tickers, start=START_DATE, end=END_DATE):\n",
    "    return [yf.download([t], start=start, end=end) for t in tickers]\n",
    "\n",
    "gold_etf_df, equity_etf_df, bitcoin_df = download_datasets([GOLD_ETF, EQUITY_ETF, BITCOIN])"
   ]
  },
  {
   "cell_type": "code",
   "execution_count": 5,
   "id": "e23c3c4a",
   "metadata": {},
   "outputs": [
    {
     "name": "stdout",
     "output_type": "stream",
     "text": [
      "Closing prices for entire year of 2020:\n"
     ]
    },
    {
     "data": {
      "text/html": [
       "<div>\n",
       "<style scoped>\n",
       "    .dataframe tbody tr th:only-of-type {\n",
       "        vertical-align: middle;\n",
       "    }\n",
       "\n",
       "    .dataframe tbody tr th {\n",
       "        vertical-align: top;\n",
       "    }\n",
       "\n",
       "    .dataframe thead th {\n",
       "        text-align: right;\n",
       "    }\n",
       "</style>\n",
       "<table border=\"1\" class=\"dataframe\">\n",
       "  <thead>\n",
       "    <tr style=\"text-align: right;\">\n",
       "      <th></th>\n",
       "      <th>Gold ETF</th>\n",
       "      <th>Equity ETF</th>\n",
       "      <th>Bitcoin</th>\n",
       "    </tr>\n",
       "    <tr>\n",
       "      <th>Date</th>\n",
       "      <th></th>\n",
       "      <th></th>\n",
       "      <th></th>\n",
       "    </tr>\n",
       "  </thead>\n",
       "  <tbody>\n",
       "    <tr>\n",
       "      <th>2020-01-01</th>\n",
       "      <td>NaN</td>\n",
       "      <td>NaN</td>\n",
       "      <td>7200.174316</td>\n",
       "    </tr>\n",
       "    <tr>\n",
       "      <th>2020-01-02</th>\n",
       "      <td>143.949997</td>\n",
       "      <td>56.062183</td>\n",
       "      <td>6985.470215</td>\n",
       "    </tr>\n",
       "    <tr>\n",
       "      <th>2020-01-03</th>\n",
       "      <td>145.860001</td>\n",
       "      <td>55.360100</td>\n",
       "      <td>7344.884277</td>\n",
       "    </tr>\n",
       "    <tr>\n",
       "      <th>2020-01-04</th>\n",
       "      <td>NaN</td>\n",
       "      <td>NaN</td>\n",
       "      <td>7410.656738</td>\n",
       "    </tr>\n",
       "    <tr>\n",
       "      <th>2020-01-05</th>\n",
       "      <td>NaN</td>\n",
       "      <td>NaN</td>\n",
       "      <td>7411.317383</td>\n",
       "    </tr>\n",
       "    <tr>\n",
       "      <th>...</th>\n",
       "      <td>...</td>\n",
       "      <td>...</td>\n",
       "      <td>...</td>\n",
       "    </tr>\n",
       "    <tr>\n",
       "      <th>2020-12-27</th>\n",
       "      <td>NaN</td>\n",
       "      <td>NaN</td>\n",
       "      <td>26272.294922</td>\n",
       "    </tr>\n",
       "    <tr>\n",
       "      <th>2020-12-28</th>\n",
       "      <td>175.710007</td>\n",
       "      <td>59.336601</td>\n",
       "      <td>27084.808594</td>\n",
       "    </tr>\n",
       "    <tr>\n",
       "      <th>2020-12-29</th>\n",
       "      <td>176.350006</td>\n",
       "      <td>59.767429</td>\n",
       "      <td>27362.437500</td>\n",
       "    </tr>\n",
       "    <tr>\n",
       "      <th>2020-12-30</th>\n",
       "      <td>177.699997</td>\n",
       "      <td>59.689095</td>\n",
       "      <td>28840.953125</td>\n",
       "    </tr>\n",
       "    <tr>\n",
       "      <th>2020-12-31</th>\n",
       "      <td>NaN</td>\n",
       "      <td>NaN</td>\n",
       "      <td>29001.720703</td>\n",
       "    </tr>\n",
       "  </tbody>\n",
       "</table>\n",
       "<p>362 rows × 3 columns</p>\n",
       "</div>"
      ],
      "text/plain": [
       "              Gold ETF  Equity ETF       Bitcoin\n",
       "Date                                            \n",
       "2020-01-01         NaN         NaN   7200.174316\n",
       "2020-01-02  143.949997   56.062183   6985.470215\n",
       "2020-01-03  145.860001   55.360100   7344.884277\n",
       "2020-01-04         NaN         NaN   7410.656738\n",
       "2020-01-05         NaN         NaN   7411.317383\n",
       "...                ...         ...           ...\n",
       "2020-12-27         NaN         NaN  26272.294922\n",
       "2020-12-28  175.710007   59.336601  27084.808594\n",
       "2020-12-29  176.350006   59.767429  27362.437500\n",
       "2020-12-30  177.699997   59.689095  28840.953125\n",
       "2020-12-31         NaN         NaN  29001.720703\n",
       "\n",
       "[362 rows x 3 columns]"
      ]
     },
     "execution_count": 5,
     "metadata": {},
     "output_type": "execute_result"
    }
   ],
   "source": [
    "# Consolidate imported close prices of all 3 assets into 1 dataframe\n",
    "\n",
    "closing_prices = pd.DataFrame({\n",
    "    'Gold ETF': gold_etf_df['Adj Close'],\n",
    "    'Equity ETF': equity_etf_df['Adj Close'],\n",
    "    'Bitcoin': bitcoin_df['Adj Close']\n",
    "}, index=bitcoin_df.index)\n",
    "\n",
    "print('Closing prices for entire year of 2020:')\n",
    "closing_prices"
   ]
  },
  {
   "cell_type": "markdown",
   "id": "6df78d0b",
   "metadata": {},
   "source": [
    "<div class=\"alert alert-block alert-info\">\n",
    "Note that BTC trades 24/7, and therefore has daily close prices 7 days a week. For weekends and non-trading days, for a more accurate representation, we have made the decision to leave them as NaN for Gold and Equity ETF columns instead of forward-filling the data.\n",
    "</div>    \n"
   ]
  },
  {
   "cell_type": "markdown",
   "id": "5cfa40d0",
   "metadata": {},
   "source": [
    "<b>1.2) Import your gold ETF prices for the months of April 2020 through Dec 2020.  (Therefore, you do not need the first few months of data you imported)</b>\n",
    "\n",
    "<br/>\n",
    "\n",
    "**Selected Gold ETF:** SPDR Gold Shares (GLD). [[Source](https://finance.yahoo.com/quote/GLD/)]"
   ]
  },
  {
   "cell_type": "code",
   "execution_count": 6,
   "id": "d524991e",
   "metadata": {},
   "outputs": [
    {
     "data": {
      "text/html": [
       "<div>\n",
       "<style scoped>\n",
       "    .dataframe tbody tr th:only-of-type {\n",
       "        vertical-align: middle;\n",
       "    }\n",
       "\n",
       "    .dataframe tbody tr th {\n",
       "        vertical-align: top;\n",
       "    }\n",
       "\n",
       "    .dataframe thead th {\n",
       "        text-align: right;\n",
       "    }\n",
       "</style>\n",
       "<table border=\"1\" class=\"dataframe\">\n",
       "  <thead>\n",
       "    <tr style=\"text-align: right;\">\n",
       "      <th></th>\n",
       "      <th>Open</th>\n",
       "      <th>High</th>\n",
       "      <th>Low</th>\n",
       "      <th>Close</th>\n",
       "      <th>Adj Close</th>\n",
       "      <th>Volume</th>\n",
       "    </tr>\n",
       "    <tr>\n",
       "      <th>Date</th>\n",
       "      <th></th>\n",
       "      <th></th>\n",
       "      <th></th>\n",
       "      <th></th>\n",
       "      <th></th>\n",
       "      <th></th>\n",
       "    </tr>\n",
       "  </thead>\n",
       "  <tbody>\n",
       "    <tr>\n",
       "      <th>2020-04-01</th>\n",
       "      <td>148.199997</td>\n",
       "      <td>150.080002</td>\n",
       "      <td>147.850006</td>\n",
       "      <td>149.449997</td>\n",
       "      <td>149.449997</td>\n",
       "      <td>11827400</td>\n",
       "    </tr>\n",
       "    <tr>\n",
       "      <th>2020-04-02</th>\n",
       "      <td>151.199997</td>\n",
       "      <td>152.500000</td>\n",
       "      <td>150.699997</td>\n",
       "      <td>151.899994</td>\n",
       "      <td>151.899994</td>\n",
       "      <td>9188300</td>\n",
       "    </tr>\n",
       "    <tr>\n",
       "      <th>2020-04-03</th>\n",
       "      <td>152.229996</td>\n",
       "      <td>153.089996</td>\n",
       "      <td>151.660004</td>\n",
       "      <td>152.649994</td>\n",
       "      <td>152.649994</td>\n",
       "      <td>8469100</td>\n",
       "    </tr>\n",
       "    <tr>\n",
       "      <th>2020-04-06</th>\n",
       "      <td>154.160004</td>\n",
       "      <td>157.220001</td>\n",
       "      <td>153.960007</td>\n",
       "      <td>156.880005</td>\n",
       "      <td>156.880005</td>\n",
       "      <td>14739300</td>\n",
       "    </tr>\n",
       "    <tr>\n",
       "      <th>2020-04-07</th>\n",
       "      <td>155.330002</td>\n",
       "      <td>156.139999</td>\n",
       "      <td>154.380005</td>\n",
       "      <td>156.039993</td>\n",
       "      <td>156.039993</td>\n",
       "      <td>9195400</td>\n",
       "    </tr>\n",
       "    <tr>\n",
       "      <th>...</th>\n",
       "      <td>...</td>\n",
       "      <td>...</td>\n",
       "      <td>...</td>\n",
       "      <td>...</td>\n",
       "      <td>...</td>\n",
       "      <td>...</td>\n",
       "    </tr>\n",
       "    <tr>\n",
       "      <th>2020-12-23</th>\n",
       "      <td>175.100006</td>\n",
       "      <td>176.210007</td>\n",
       "      <td>175.059998</td>\n",
       "      <td>175.649994</td>\n",
       "      <td>175.649994</td>\n",
       "      <td>6542800</td>\n",
       "    </tr>\n",
       "    <tr>\n",
       "      <th>2020-12-24</th>\n",
       "      <td>175.550003</td>\n",
       "      <td>176.369995</td>\n",
       "      <td>175.509995</td>\n",
       "      <td>176.350006</td>\n",
       "      <td>176.350006</td>\n",
       "      <td>3695400</td>\n",
       "    </tr>\n",
       "    <tr>\n",
       "      <th>2020-12-28</th>\n",
       "      <td>177.259995</td>\n",
       "      <td>177.910004</td>\n",
       "      <td>175.630005</td>\n",
       "      <td>175.710007</td>\n",
       "      <td>175.710007</td>\n",
       "      <td>7778700</td>\n",
       "    </tr>\n",
       "    <tr>\n",
       "      <th>2020-12-29</th>\n",
       "      <td>176.250000</td>\n",
       "      <td>176.970001</td>\n",
       "      <td>175.570007</td>\n",
       "      <td>176.350006</td>\n",
       "      <td>176.350006</td>\n",
       "      <td>5983700</td>\n",
       "    </tr>\n",
       "    <tr>\n",
       "      <th>2020-12-30</th>\n",
       "      <td>176.440002</td>\n",
       "      <td>177.720001</td>\n",
       "      <td>176.440002</td>\n",
       "      <td>177.699997</td>\n",
       "      <td>177.699997</td>\n",
       "      <td>5914000</td>\n",
       "    </tr>\n",
       "  </tbody>\n",
       "</table>\n",
       "<p>190 rows × 6 columns</p>\n",
       "</div>"
      ],
      "text/plain": [
       "                  Open        High         Low       Close   Adj Close  \\\n",
       "Date                                                                     \n",
       "2020-04-01  148.199997  150.080002  147.850006  149.449997  149.449997   \n",
       "2020-04-02  151.199997  152.500000  150.699997  151.899994  151.899994   \n",
       "2020-04-03  152.229996  153.089996  151.660004  152.649994  152.649994   \n",
       "2020-04-06  154.160004  157.220001  153.960007  156.880005  156.880005   \n",
       "2020-04-07  155.330002  156.139999  154.380005  156.039993  156.039993   \n",
       "...                ...         ...         ...         ...         ...   \n",
       "2020-12-23  175.100006  176.210007  175.059998  175.649994  175.649994   \n",
       "2020-12-24  175.550003  176.369995  175.509995  176.350006  176.350006   \n",
       "2020-12-28  177.259995  177.910004  175.630005  175.710007  175.710007   \n",
       "2020-12-29  176.250000  176.970001  175.570007  176.350006  176.350006   \n",
       "2020-12-30  176.440002  177.720001  176.440002  177.699997  177.699997   \n",
       "\n",
       "              Volume  \n",
       "Date                  \n",
       "2020-04-01  11827400  \n",
       "2020-04-02   9188300  \n",
       "2020-04-03   8469100  \n",
       "2020-04-06  14739300  \n",
       "2020-04-07   9195400  \n",
       "...              ...  \n",
       "2020-12-23   6542800  \n",
       "2020-12-24   3695400  \n",
       "2020-12-28   7778700  \n",
       "2020-12-29   5983700  \n",
       "2020-12-30   5914000  \n",
       "\n",
       "[190 rows x 6 columns]"
      ]
     },
     "execution_count": 6,
     "metadata": {},
     "output_type": "execute_result"
    }
   ],
   "source": [
    "gold_etf_df['2020-04-01':]"
   ]
  },
  {
   "cell_type": "markdown",
   "id": "b9f92f34",
   "metadata": {},
   "source": [
    "<b>1.3) Import your equity ETF prices for the months of April 2020 through Dec 2020.  (Therefore, you do not need the first few months of data you imported)</b>\n",
    "\n",
    "<br/>\n",
    "\n",
    "**Selected Equity ETF:** Vanguard FTSE Europe Index Fund ETF Shares (VGK). [[Source](https://finance.yahoo.com/quote/vgk/)]"
   ]
  },
  {
   "cell_type": "code",
   "execution_count": 7,
   "id": "6aa1088e",
   "metadata": {},
   "outputs": [
    {
     "data": {
      "text/html": [
       "<div>\n",
       "<style scoped>\n",
       "    .dataframe tbody tr th:only-of-type {\n",
       "        vertical-align: middle;\n",
       "    }\n",
       "\n",
       "    .dataframe tbody tr th {\n",
       "        vertical-align: top;\n",
       "    }\n",
       "\n",
       "    .dataframe thead th {\n",
       "        text-align: right;\n",
       "    }\n",
       "</style>\n",
       "<table border=\"1\" class=\"dataframe\">\n",
       "  <thead>\n",
       "    <tr style=\"text-align: right;\">\n",
       "      <th></th>\n",
       "      <th>Open</th>\n",
       "      <th>High</th>\n",
       "      <th>Low</th>\n",
       "      <th>Close</th>\n",
       "      <th>Adj Close</th>\n",
       "      <th>Volume</th>\n",
       "    </tr>\n",
       "    <tr>\n",
       "      <th>Date</th>\n",
       "      <th></th>\n",
       "      <th></th>\n",
       "      <th></th>\n",
       "      <th></th>\n",
       "      <th></th>\n",
       "      <th></th>\n",
       "    </tr>\n",
       "  </thead>\n",
       "  <tbody>\n",
       "    <tr>\n",
       "      <th>2020-04-01</th>\n",
       "      <td>42.020000</td>\n",
       "      <td>42.400002</td>\n",
       "      <td>41.340000</td>\n",
       "      <td>41.380001</td>\n",
       "      <td>39.518627</td>\n",
       "      <td>6718800</td>\n",
       "    </tr>\n",
       "    <tr>\n",
       "      <th>2020-04-02</th>\n",
       "      <td>41.389999</td>\n",
       "      <td>42.459999</td>\n",
       "      <td>41.360001</td>\n",
       "      <td>42.169998</td>\n",
       "      <td>40.273083</td>\n",
       "      <td>7903800</td>\n",
       "    </tr>\n",
       "    <tr>\n",
       "      <th>2020-04-03</th>\n",
       "      <td>41.590000</td>\n",
       "      <td>41.680000</td>\n",
       "      <td>40.959999</td>\n",
       "      <td>41.290001</td>\n",
       "      <td>39.432671</td>\n",
       "      <td>5113100</td>\n",
       "    </tr>\n",
       "    <tr>\n",
       "      <th>2020-04-06</th>\n",
       "      <td>42.689999</td>\n",
       "      <td>43.480000</td>\n",
       "      <td>42.540001</td>\n",
       "      <td>43.330002</td>\n",
       "      <td>41.380909</td>\n",
       "      <td>8061200</td>\n",
       "    </tr>\n",
       "    <tr>\n",
       "      <th>2020-04-07</th>\n",
       "      <td>44.689999</td>\n",
       "      <td>44.759998</td>\n",
       "      <td>43.500000</td>\n",
       "      <td>43.590000</td>\n",
       "      <td>41.629211</td>\n",
       "      <td>7931100</td>\n",
       "    </tr>\n",
       "    <tr>\n",
       "      <th>...</th>\n",
       "      <td>...</td>\n",
       "      <td>...</td>\n",
       "      <td>...</td>\n",
       "      <td>...</td>\n",
       "      <td>...</td>\n",
       "      <td>...</td>\n",
       "    </tr>\n",
       "    <tr>\n",
       "      <th>2020-12-23</th>\n",
       "      <td>59.880001</td>\n",
       "      <td>60.110001</td>\n",
       "      <td>59.790001</td>\n",
       "      <td>60.040001</td>\n",
       "      <td>58.788280</td>\n",
       "      <td>2826000</td>\n",
       "    </tr>\n",
       "    <tr>\n",
       "      <th>2020-12-24</th>\n",
       "      <td>60.160000</td>\n",
       "      <td>60.230000</td>\n",
       "      <td>59.950001</td>\n",
       "      <td>60.189999</td>\n",
       "      <td>58.935150</td>\n",
       "      <td>1453300</td>\n",
       "    </tr>\n",
       "    <tr>\n",
       "      <th>2020-12-28</th>\n",
       "      <td>60.779999</td>\n",
       "      <td>60.869999</td>\n",
       "      <td>60.509998</td>\n",
       "      <td>60.599998</td>\n",
       "      <td>59.336601</td>\n",
       "      <td>1942100</td>\n",
       "    </tr>\n",
       "    <tr>\n",
       "      <th>2020-12-29</th>\n",
       "      <td>61.340000</td>\n",
       "      <td>61.400002</td>\n",
       "      <td>60.869999</td>\n",
       "      <td>61.040001</td>\n",
       "      <td>59.767429</td>\n",
       "      <td>2058400</td>\n",
       "    </tr>\n",
       "    <tr>\n",
       "      <th>2020-12-30</th>\n",
       "      <td>61.250000</td>\n",
       "      <td>61.389999</td>\n",
       "      <td>60.910000</td>\n",
       "      <td>60.959999</td>\n",
       "      <td>59.689095</td>\n",
       "      <td>2492100</td>\n",
       "    </tr>\n",
       "  </tbody>\n",
       "</table>\n",
       "<p>190 rows × 6 columns</p>\n",
       "</div>"
      ],
      "text/plain": [
       "                 Open       High        Low      Close  Adj Close   Volume\n",
       "Date                                                                      \n",
       "2020-04-01  42.020000  42.400002  41.340000  41.380001  39.518627  6718800\n",
       "2020-04-02  41.389999  42.459999  41.360001  42.169998  40.273083  7903800\n",
       "2020-04-03  41.590000  41.680000  40.959999  41.290001  39.432671  5113100\n",
       "2020-04-06  42.689999  43.480000  42.540001  43.330002  41.380909  8061200\n",
       "2020-04-07  44.689999  44.759998  43.500000  43.590000  41.629211  7931100\n",
       "...               ...        ...        ...        ...        ...      ...\n",
       "2020-12-23  59.880001  60.110001  59.790001  60.040001  58.788280  2826000\n",
       "2020-12-24  60.160000  60.230000  59.950001  60.189999  58.935150  1453300\n",
       "2020-12-28  60.779999  60.869999  60.509998  60.599998  59.336601  1942100\n",
       "2020-12-29  61.340000  61.400002  60.869999  61.040001  59.767429  2058400\n",
       "2020-12-30  61.250000  61.389999  60.910000  60.959999  59.689095  2492100\n",
       "\n",
       "[190 rows x 6 columns]"
      ]
     },
     "execution_count": 7,
     "metadata": {},
     "output_type": "execute_result"
    }
   ],
   "source": [
    "equity_etf_df['2020-04-01':]"
   ]
  },
  {
   "cell_type": "markdown",
   "id": "a814dab8",
   "metadata": {},
   "source": [
    "<b>1.4) Import your bitcoin prices for the months of April 2020 through Dec 2020.  (Therefore, you do not need the first few months of data you imported)</b>\n",
    "\n",
    "<br/>\n",
    "\n",
    "**Ticker:** BTC-USD. [[Source](https://finance.yahoo.com/quote/BTC-USD/)]"
   ]
  },
  {
   "cell_type": "code",
   "execution_count": 8,
   "id": "74302694",
   "metadata": {},
   "outputs": [
    {
     "data": {
      "text/html": [
       "<div>\n",
       "<style scoped>\n",
       "    .dataframe tbody tr th:only-of-type {\n",
       "        vertical-align: middle;\n",
       "    }\n",
       "\n",
       "    .dataframe tbody tr th {\n",
       "        vertical-align: top;\n",
       "    }\n",
       "\n",
       "    .dataframe thead th {\n",
       "        text-align: right;\n",
       "    }\n",
       "</style>\n",
       "<table border=\"1\" class=\"dataframe\">\n",
       "  <thead>\n",
       "    <tr style=\"text-align: right;\">\n",
       "      <th></th>\n",
       "      <th>Open</th>\n",
       "      <th>High</th>\n",
       "      <th>Low</th>\n",
       "      <th>Close</th>\n",
       "      <th>Adj Close</th>\n",
       "      <th>Volume</th>\n",
       "    </tr>\n",
       "    <tr>\n",
       "      <th>Date</th>\n",
       "      <th></th>\n",
       "      <th></th>\n",
       "      <th></th>\n",
       "      <th></th>\n",
       "      <th></th>\n",
       "      <th></th>\n",
       "    </tr>\n",
       "  </thead>\n",
       "  <tbody>\n",
       "    <tr>\n",
       "      <th>2020-04-01</th>\n",
       "      <td>6437.319336</td>\n",
       "      <td>6612.573730</td>\n",
       "      <td>6202.373535</td>\n",
       "      <td>6606.776367</td>\n",
       "      <td>6606.776367</td>\n",
       "      <td>40346426266</td>\n",
       "    </tr>\n",
       "    <tr>\n",
       "      <th>2020-04-02</th>\n",
       "      <td>6606.776367</td>\n",
       "      <td>7088.247559</td>\n",
       "      <td>6595.918457</td>\n",
       "      <td>6793.624512</td>\n",
       "      <td>6793.624512</td>\n",
       "      <td>47660646124</td>\n",
       "    </tr>\n",
       "    <tr>\n",
       "      <th>2020-04-03</th>\n",
       "      <td>6797.396484</td>\n",
       "      <td>7003.220703</td>\n",
       "      <td>6673.335938</td>\n",
       "      <td>6733.387207</td>\n",
       "      <td>6733.387207</td>\n",
       "      <td>38976504903</td>\n",
       "    </tr>\n",
       "    <tr>\n",
       "      <th>2020-04-04</th>\n",
       "      <td>6738.382812</td>\n",
       "      <td>6878.953613</td>\n",
       "      <td>6696.484863</td>\n",
       "      <td>6867.527344</td>\n",
       "      <td>6867.527344</td>\n",
       "      <td>33185988584</td>\n",
       "    </tr>\n",
       "    <tr>\n",
       "      <th>2020-04-05</th>\n",
       "      <td>6862.537598</td>\n",
       "      <td>6883.414062</td>\n",
       "      <td>6715.929199</td>\n",
       "      <td>6791.129395</td>\n",
       "      <td>6791.129395</td>\n",
       "      <td>29510409856</td>\n",
       "    </tr>\n",
       "    <tr>\n",
       "      <th>...</th>\n",
       "      <td>...</td>\n",
       "      <td>...</td>\n",
       "      <td>...</td>\n",
       "      <td>...</td>\n",
       "      <td>...</td>\n",
       "      <td>...</td>\n",
       "    </tr>\n",
       "    <tr>\n",
       "      <th>2020-12-27</th>\n",
       "      <td>26439.373047</td>\n",
       "      <td>28288.839844</td>\n",
       "      <td>25922.769531</td>\n",
       "      <td>26272.294922</td>\n",
       "      <td>26272.294922</td>\n",
       "      <td>66479895605</td>\n",
       "    </tr>\n",
       "    <tr>\n",
       "      <th>2020-12-28</th>\n",
       "      <td>26280.822266</td>\n",
       "      <td>27389.111328</td>\n",
       "      <td>26207.640625</td>\n",
       "      <td>27084.808594</td>\n",
       "      <td>27084.808594</td>\n",
       "      <td>49056742893</td>\n",
       "    </tr>\n",
       "    <tr>\n",
       "      <th>2020-12-29</th>\n",
       "      <td>27081.810547</td>\n",
       "      <td>27370.720703</td>\n",
       "      <td>25987.298828</td>\n",
       "      <td>27362.437500</td>\n",
       "      <td>27362.437500</td>\n",
       "      <td>45265946774</td>\n",
       "    </tr>\n",
       "    <tr>\n",
       "      <th>2020-12-30</th>\n",
       "      <td>27360.089844</td>\n",
       "      <td>28937.740234</td>\n",
       "      <td>27360.089844</td>\n",
       "      <td>28840.953125</td>\n",
       "      <td>28840.953125</td>\n",
       "      <td>51287442704</td>\n",
       "    </tr>\n",
       "    <tr>\n",
       "      <th>2020-12-31</th>\n",
       "      <td>28841.574219</td>\n",
       "      <td>29244.876953</td>\n",
       "      <td>28201.992188</td>\n",
       "      <td>29001.720703</td>\n",
       "      <td>29001.720703</td>\n",
       "      <td>46754964848</td>\n",
       "    </tr>\n",
       "  </tbody>\n",
       "</table>\n",
       "<p>271 rows × 6 columns</p>\n",
       "</div>"
      ],
      "text/plain": [
       "                    Open          High           Low         Close  \\\n",
       "Date                                                                 \n",
       "2020-04-01   6437.319336   6612.573730   6202.373535   6606.776367   \n",
       "2020-04-02   6606.776367   7088.247559   6595.918457   6793.624512   \n",
       "2020-04-03   6797.396484   7003.220703   6673.335938   6733.387207   \n",
       "2020-04-04   6738.382812   6878.953613   6696.484863   6867.527344   \n",
       "2020-04-05   6862.537598   6883.414062   6715.929199   6791.129395   \n",
       "...                  ...           ...           ...           ...   \n",
       "2020-12-27  26439.373047  28288.839844  25922.769531  26272.294922   \n",
       "2020-12-28  26280.822266  27389.111328  26207.640625  27084.808594   \n",
       "2020-12-29  27081.810547  27370.720703  25987.298828  27362.437500   \n",
       "2020-12-30  27360.089844  28937.740234  27360.089844  28840.953125   \n",
       "2020-12-31  28841.574219  29244.876953  28201.992188  29001.720703   \n",
       "\n",
       "               Adj Close       Volume  \n",
       "Date                                   \n",
       "2020-04-01   6606.776367  40346426266  \n",
       "2020-04-02   6793.624512  47660646124  \n",
       "2020-04-03   6733.387207  38976504903  \n",
       "2020-04-04   6867.527344  33185988584  \n",
       "2020-04-05   6791.129395  29510409856  \n",
       "...                  ...          ...  \n",
       "2020-12-27  26272.294922  66479895605  \n",
       "2020-12-28  27084.808594  49056742893  \n",
       "2020-12-29  27362.437500  45265946774  \n",
       "2020-12-30  28840.953125  51287442704  \n",
       "2020-12-31  29001.720703  46754964848  \n",
       "\n",
       "[271 rows x 6 columns]"
      ]
     },
     "execution_count": 8,
     "metadata": {},
     "output_type": "execute_result"
    }
   ],
   "source": [
    "bitcoin_df['2020-04-01':]"
   ]
  },
  {
   "cell_type": "markdown",
   "id": "df8346d4",
   "metadata": {},
   "source": [
    "## 2. Data Processing\n",
    "\n",
    "First we wrote a utility method for adding a DataFrame column called `Daily Returns` to each dataset."
   ]
  },
  {
   "cell_type": "code",
   "execution_count": 9,
   "id": "3dab981e",
   "metadata": {},
   "outputs": [],
   "source": [
    "def compute_returns(df, col='Adj Close', start='2020-04-01'):\n",
    "    df['Daily Returns'] = df[col].pct_change()\n",
    "    return df[~df['Daily Returns'].isnull()][start:]"
   ]
  },
  {
   "cell_type": "markdown",
   "id": "7f309391",
   "metadata": {},
   "source": [
    "<b>2.1) Compute the daily returns of your gold ETF, your Equity ETF, and bitcoin of April 2020 through Dec 2020"
   ]
  },
  {
   "cell_type": "code",
   "execution_count": 10,
   "id": "fea798cf",
   "metadata": {},
   "outputs": [
    {
     "name": "stdout",
     "output_type": "stream",
     "text": [
      "Daily returns for Gold ETF:\n"
     ]
    },
    {
     "data": {
      "text/html": [
       "<div>\n",
       "<style scoped>\n",
       "    .dataframe tbody tr th:only-of-type {\n",
       "        vertical-align: middle;\n",
       "    }\n",
       "\n",
       "    .dataframe tbody tr th {\n",
       "        vertical-align: top;\n",
       "    }\n",
       "\n",
       "    .dataframe thead th {\n",
       "        text-align: right;\n",
       "    }\n",
       "</style>\n",
       "<table border=\"1\" class=\"dataframe\">\n",
       "  <thead>\n",
       "    <tr style=\"text-align: right;\">\n",
       "      <th></th>\n",
       "      <th>Adj Close</th>\n",
       "      <th>Daily Returns</th>\n",
       "    </tr>\n",
       "    <tr>\n",
       "      <th>Date</th>\n",
       "      <th></th>\n",
       "      <th></th>\n",
       "    </tr>\n",
       "  </thead>\n",
       "  <tbody>\n",
       "    <tr>\n",
       "      <th>2020-04-01</th>\n",
       "      <td>149.449997</td>\n",
       "      <td>0.009456</td>\n",
       "    </tr>\n",
       "    <tr>\n",
       "      <th>2020-04-02</th>\n",
       "      <td>151.899994</td>\n",
       "      <td>0.016393</td>\n",
       "    </tr>\n",
       "    <tr>\n",
       "      <th>2020-04-03</th>\n",
       "      <td>152.649994</td>\n",
       "      <td>0.004937</td>\n",
       "    </tr>\n",
       "    <tr>\n",
       "      <th>2020-04-06</th>\n",
       "      <td>156.880005</td>\n",
       "      <td>0.027711</td>\n",
       "    </tr>\n",
       "    <tr>\n",
       "      <th>2020-04-07</th>\n",
       "      <td>156.039993</td>\n",
       "      <td>-0.005354</td>\n",
       "    </tr>\n",
       "    <tr>\n",
       "      <th>...</th>\n",
       "      <td>...</td>\n",
       "      <td>...</td>\n",
       "    </tr>\n",
       "    <tr>\n",
       "      <th>2020-12-23</th>\n",
       "      <td>175.649994</td>\n",
       "      <td>0.006648</td>\n",
       "    </tr>\n",
       "    <tr>\n",
       "      <th>2020-12-24</th>\n",
       "      <td>176.350006</td>\n",
       "      <td>0.003985</td>\n",
       "    </tr>\n",
       "    <tr>\n",
       "      <th>2020-12-28</th>\n",
       "      <td>175.710007</td>\n",
       "      <td>-0.003629</td>\n",
       "    </tr>\n",
       "    <tr>\n",
       "      <th>2020-12-29</th>\n",
       "      <td>176.350006</td>\n",
       "      <td>0.003642</td>\n",
       "    </tr>\n",
       "    <tr>\n",
       "      <th>2020-12-30</th>\n",
       "      <td>177.699997</td>\n",
       "      <td>0.007655</td>\n",
       "    </tr>\n",
       "  </tbody>\n",
       "</table>\n",
       "<p>190 rows × 2 columns</p>\n",
       "</div>"
      ],
      "text/plain": [
       "             Adj Close  Daily Returns\n",
       "Date                                 \n",
       "2020-04-01  149.449997       0.009456\n",
       "2020-04-02  151.899994       0.016393\n",
       "2020-04-03  152.649994       0.004937\n",
       "2020-04-06  156.880005       0.027711\n",
       "2020-04-07  156.039993      -0.005354\n",
       "...                ...            ...\n",
       "2020-12-23  175.649994       0.006648\n",
       "2020-12-24  176.350006       0.003985\n",
       "2020-12-28  175.710007      -0.003629\n",
       "2020-12-29  176.350006       0.003642\n",
       "2020-12-30  177.699997       0.007655\n",
       "\n",
       "[190 rows x 2 columns]"
      ]
     },
     "execution_count": 10,
     "metadata": {},
     "output_type": "execute_result"
    }
   ],
   "source": [
    "gold_etf_returns_df = compute_returns(gold_etf_df)\n",
    "\n",
    "print('Daily returns for Gold ETF:')\n",
    "gold_etf_returns_df[['Adj Close', 'Daily Returns']]"
   ]
  },
  {
   "cell_type": "code",
   "execution_count": 11,
   "id": "99190f45",
   "metadata": {},
   "outputs": [
    {
     "name": "stdout",
     "output_type": "stream",
     "text": [
      "Daily returns for Equity ETF:\n"
     ]
    },
    {
     "data": {
      "text/html": [
       "<div>\n",
       "<style scoped>\n",
       "    .dataframe tbody tr th:only-of-type {\n",
       "        vertical-align: middle;\n",
       "    }\n",
       "\n",
       "    .dataframe tbody tr th {\n",
       "        vertical-align: top;\n",
       "    }\n",
       "\n",
       "    .dataframe thead th {\n",
       "        text-align: right;\n",
       "    }\n",
       "</style>\n",
       "<table border=\"1\" class=\"dataframe\">\n",
       "  <thead>\n",
       "    <tr style=\"text-align: right;\">\n",
       "      <th></th>\n",
       "      <th>Adj Close</th>\n",
       "      <th>Daily Returns</th>\n",
       "    </tr>\n",
       "    <tr>\n",
       "      <th>Date</th>\n",
       "      <th></th>\n",
       "      <th></th>\n",
       "    </tr>\n",
       "  </thead>\n",
       "  <tbody>\n",
       "    <tr>\n",
       "      <th>2020-04-01</th>\n",
       "      <td>39.518627</td>\n",
       "      <td>-0.043900</td>\n",
       "    </tr>\n",
       "    <tr>\n",
       "      <th>2020-04-02</th>\n",
       "      <td>40.273083</td>\n",
       "      <td>0.019091</td>\n",
       "    </tr>\n",
       "    <tr>\n",
       "      <th>2020-04-03</th>\n",
       "      <td>39.432671</td>\n",
       "      <td>-0.020868</td>\n",
       "    </tr>\n",
       "    <tr>\n",
       "      <th>2020-04-06</th>\n",
       "      <td>41.380909</td>\n",
       "      <td>0.049407</td>\n",
       "    </tr>\n",
       "    <tr>\n",
       "      <th>2020-04-07</th>\n",
       "      <td>41.629211</td>\n",
       "      <td>0.006000</td>\n",
       "    </tr>\n",
       "    <tr>\n",
       "      <th>...</th>\n",
       "      <td>...</td>\n",
       "      <td>...</td>\n",
       "    </tr>\n",
       "    <tr>\n",
       "      <th>2020-12-23</th>\n",
       "      <td>58.788280</td>\n",
       "      <td>0.013333</td>\n",
       "    </tr>\n",
       "    <tr>\n",
       "      <th>2020-12-24</th>\n",
       "      <td>58.935150</td>\n",
       "      <td>0.002498</td>\n",
       "    </tr>\n",
       "    <tr>\n",
       "      <th>2020-12-28</th>\n",
       "      <td>59.336601</td>\n",
       "      <td>0.006812</td>\n",
       "    </tr>\n",
       "    <tr>\n",
       "      <th>2020-12-29</th>\n",
       "      <td>59.767429</td>\n",
       "      <td>0.007261</td>\n",
       "    </tr>\n",
       "    <tr>\n",
       "      <th>2020-12-30</th>\n",
       "      <td>59.689095</td>\n",
       "      <td>-0.001311</td>\n",
       "    </tr>\n",
       "  </tbody>\n",
       "</table>\n",
       "<p>190 rows × 2 columns</p>\n",
       "</div>"
      ],
      "text/plain": [
       "            Adj Close  Daily Returns\n",
       "Date                                \n",
       "2020-04-01  39.518627      -0.043900\n",
       "2020-04-02  40.273083       0.019091\n",
       "2020-04-03  39.432671      -0.020868\n",
       "2020-04-06  41.380909       0.049407\n",
       "2020-04-07  41.629211       0.006000\n",
       "...               ...            ...\n",
       "2020-12-23  58.788280       0.013333\n",
       "2020-12-24  58.935150       0.002498\n",
       "2020-12-28  59.336601       0.006812\n",
       "2020-12-29  59.767429       0.007261\n",
       "2020-12-30  59.689095      -0.001311\n",
       "\n",
       "[190 rows x 2 columns]"
      ]
     },
     "execution_count": 11,
     "metadata": {},
     "output_type": "execute_result"
    }
   ],
   "source": [
    "equity_etf_returns_df = compute_returns(equity_etf_df)\n",
    "\n",
    "print('Daily returns for Equity ETF:')\n",
    "equity_etf_returns_df[['Adj Close', 'Daily Returns']]"
   ]
  },
  {
   "cell_type": "code",
   "execution_count": 12,
   "id": "fe28e171",
   "metadata": {},
   "outputs": [
    {
     "name": "stdout",
     "output_type": "stream",
     "text": [
      "Daily returns for Bitcoin:\n"
     ]
    },
    {
     "data": {
      "text/html": [
       "<div>\n",
       "<style scoped>\n",
       "    .dataframe tbody tr th:only-of-type {\n",
       "        vertical-align: middle;\n",
       "    }\n",
       "\n",
       "    .dataframe tbody tr th {\n",
       "        vertical-align: top;\n",
       "    }\n",
       "\n",
       "    .dataframe thead th {\n",
       "        text-align: right;\n",
       "    }\n",
       "</style>\n",
       "<table border=\"1\" class=\"dataframe\">\n",
       "  <thead>\n",
       "    <tr style=\"text-align: right;\">\n",
       "      <th></th>\n",
       "      <th>Adj Close</th>\n",
       "      <th>Daily Returns</th>\n",
       "    </tr>\n",
       "    <tr>\n",
       "      <th>Date</th>\n",
       "      <th></th>\n",
       "      <th></th>\n",
       "    </tr>\n",
       "  </thead>\n",
       "  <tbody>\n",
       "    <tr>\n",
       "      <th>2020-04-01</th>\n",
       "      <td>6606.776367</td>\n",
       "      <td>0.026113</td>\n",
       "    </tr>\n",
       "    <tr>\n",
       "      <th>2020-04-02</th>\n",
       "      <td>6793.624512</td>\n",
       "      <td>0.028281</td>\n",
       "    </tr>\n",
       "    <tr>\n",
       "      <th>2020-04-03</th>\n",
       "      <td>6733.387207</td>\n",
       "      <td>-0.008867</td>\n",
       "    </tr>\n",
       "    <tr>\n",
       "      <th>2020-04-04</th>\n",
       "      <td>6867.527344</td>\n",
       "      <td>0.019922</td>\n",
       "    </tr>\n",
       "    <tr>\n",
       "      <th>2020-04-05</th>\n",
       "      <td>6791.129395</td>\n",
       "      <td>-0.011125</td>\n",
       "    </tr>\n",
       "    <tr>\n",
       "      <th>...</th>\n",
       "      <td>...</td>\n",
       "      <td>...</td>\n",
       "    </tr>\n",
       "    <tr>\n",
       "      <th>2020-12-27</th>\n",
       "      <td>26272.294922</td>\n",
       "      <td>-0.006231</td>\n",
       "    </tr>\n",
       "    <tr>\n",
       "      <th>2020-12-28</th>\n",
       "      <td>27084.808594</td>\n",
       "      <td>0.030927</td>\n",
       "    </tr>\n",
       "    <tr>\n",
       "      <th>2020-12-29</th>\n",
       "      <td>27362.437500</td>\n",
       "      <td>0.010250</td>\n",
       "    </tr>\n",
       "    <tr>\n",
       "      <th>2020-12-30</th>\n",
       "      <td>28840.953125</td>\n",
       "      <td>0.054034</td>\n",
       "    </tr>\n",
       "    <tr>\n",
       "      <th>2020-12-31</th>\n",
       "      <td>29001.720703</td>\n",
       "      <td>0.005574</td>\n",
       "    </tr>\n",
       "  </tbody>\n",
       "</table>\n",
       "<p>271 rows × 2 columns</p>\n",
       "</div>"
      ],
      "text/plain": [
       "               Adj Close  Daily Returns\n",
       "Date                                   \n",
       "2020-04-01   6606.776367       0.026113\n",
       "2020-04-02   6793.624512       0.028281\n",
       "2020-04-03   6733.387207      -0.008867\n",
       "2020-04-04   6867.527344       0.019922\n",
       "2020-04-05   6791.129395      -0.011125\n",
       "...                  ...            ...\n",
       "2020-12-27  26272.294922      -0.006231\n",
       "2020-12-28  27084.808594       0.030927\n",
       "2020-12-29  27362.437500       0.010250\n",
       "2020-12-30  28840.953125       0.054034\n",
       "2020-12-31  29001.720703       0.005574\n",
       "\n",
       "[271 rows x 2 columns]"
      ]
     },
     "execution_count": 12,
     "metadata": {},
     "output_type": "execute_result"
    }
   ],
   "source": [
    "bitcoin_returns_df = compute_returns(bitcoin_df)\n",
    "\n",
    "print('Daily returns for Bitcoin:')\n",
    "bitcoin_returns_df[['Adj Close', 'Daily Returns']]"
   ]
  },
  {
   "cell_type": "markdown",
   "id": "2f56e9c8",
   "metadata": {},
   "source": [
    "# 3 Data Summaries\n",
    "\n",
    "Here, we have also provided reusable functions for calculating the moving averages for any DataFrame indexed by date."
   ]
  },
  {
   "cell_type": "code",
   "execution_count": 13,
   "id": "612d1eed",
   "metadata": {},
   "outputs": [],
   "source": [
    "def compute_moving_average(df, days):\n",
    "    df[f'MA{days}'] = df['Adj Close'].rolling(days).mean()\n",
    "    return df"
   ]
  },
  {
   "cell_type": "markdown",
   "id": "c9ff1913",
   "metadata": {},
   "source": [
    "<b>3.1) Compute a 20-day moving average price of your gold ETF.  The moving average price on 1 April 2020 should include data from March.</b> <br/>\n",
    "Be sure to either graph or show a table of these values."
   ]
  },
  {
   "cell_type": "code",
   "execution_count": 14,
   "id": "34d7dc8f",
   "metadata": {},
   "outputs": [
    {
     "data": {
      "text/html": [
       "<div>\n",
       "<style scoped>\n",
       "    .dataframe tbody tr th:only-of-type {\n",
       "        vertical-align: middle;\n",
       "    }\n",
       "\n",
       "    .dataframe tbody tr th {\n",
       "        vertical-align: top;\n",
       "    }\n",
       "\n",
       "    .dataframe thead th {\n",
       "        text-align: right;\n",
       "    }\n",
       "</style>\n",
       "<table border=\"1\" class=\"dataframe\">\n",
       "  <thead>\n",
       "    <tr style=\"text-align: right;\">\n",
       "      <th></th>\n",
       "      <th>Adj Close</th>\n",
       "      <th>MA20</th>\n",
       "    </tr>\n",
       "    <tr>\n",
       "      <th>Date</th>\n",
       "      <th></th>\n",
       "      <th></th>\n",
       "    </tr>\n",
       "  </thead>\n",
       "  <tbody>\n",
       "    <tr>\n",
       "      <th>2020-01-30</th>\n",
       "      <td>148.470001</td>\n",
       "      <td>146.906001</td>\n",
       "    </tr>\n",
       "    <tr>\n",
       "      <th>2020-01-31</th>\n",
       "      <td>149.330002</td>\n",
       "      <td>147.175001</td>\n",
       "    </tr>\n",
       "    <tr>\n",
       "      <th>2020-02-03</th>\n",
       "      <td>148.360001</td>\n",
       "      <td>147.300001</td>\n",
       "    </tr>\n",
       "    <tr>\n",
       "      <th>2020-02-04</th>\n",
       "      <td>146.429993</td>\n",
       "      <td>147.252000</td>\n",
       "    </tr>\n",
       "    <tr>\n",
       "      <th>2020-02-05</th>\n",
       "      <td>146.610001</td>\n",
       "      <td>147.184000</td>\n",
       "    </tr>\n",
       "    <tr>\n",
       "      <th>...</th>\n",
       "      <td>...</td>\n",
       "      <td>...</td>\n",
       "    </tr>\n",
       "    <tr>\n",
       "      <th>2020-12-23</th>\n",
       "      <td>175.649994</td>\n",
       "      <td>172.893500</td>\n",
       "    </tr>\n",
       "    <tr>\n",
       "      <th>2020-12-24</th>\n",
       "      <td>176.350006</td>\n",
       "      <td>173.235500</td>\n",
       "    </tr>\n",
       "    <tr>\n",
       "      <th>2020-12-28</th>\n",
       "      <td>175.710007</td>\n",
       "      <td>173.631501</td>\n",
       "    </tr>\n",
       "    <tr>\n",
       "      <th>2020-12-29</th>\n",
       "      <td>176.350006</td>\n",
       "      <td>174.115501</td>\n",
       "    </tr>\n",
       "    <tr>\n",
       "      <th>2020-12-30</th>\n",
       "      <td>177.699997</td>\n",
       "      <td>174.491502</td>\n",
       "    </tr>\n",
       "  </tbody>\n",
       "</table>\n",
       "<p>233 rows × 2 columns</p>\n",
       "</div>"
      ],
      "text/plain": [
       "             Adj Close        MA20\n",
       "Date                              \n",
       "2020-01-30  148.470001  146.906001\n",
       "2020-01-31  149.330002  147.175001\n",
       "2020-02-03  148.360001  147.300001\n",
       "2020-02-04  146.429993  147.252000\n",
       "2020-02-05  146.610001  147.184000\n",
       "...                ...         ...\n",
       "2020-12-23  175.649994  172.893500\n",
       "2020-12-24  176.350006  173.235500\n",
       "2020-12-28  175.710007  173.631501\n",
       "2020-12-29  176.350006  174.115501\n",
       "2020-12-30  177.699997  174.491502\n",
       "\n",
       "[233 rows x 2 columns]"
      ]
     },
     "execution_count": 14,
     "metadata": {},
     "output_type": "execute_result"
    },
    {
     "data": {
      "image/png": "[encoded data removed]",
      "text/plain": [
       "<Figure size 432x288 with 1 Axes>"
      ]
     },
     "metadata": {
      "needs_background": "light"
     },
     "output_type": "display_data"
    }
   ],
   "source": [
    "gold_ma = compute_moving_average(gold_etf_df, days=20)\n",
    "gold_ma.plot(y='MA20', use_index=True,\n",
    "             label='20-day Moving Average',\n",
    "             title='Gold ETF Prices: 20-day Moving Average')\n",
    "plt.ylabel('Gold ETF Price (USD $)')\n",
    "gold_ma[~gold_ma.MA20.isnull()][['Adj Close', 'MA20']]"
   ]
  },
  {
   "cell_type": "markdown",
   "id": "2c023a88",
   "metadata": {},
   "source": [
    "<b>3.2) Compute a 20-day moving average price of your equity ETF.  The moving average price on 1 April 2020 should include data from March.</b>"
   ]
  },
  {
   "cell_type": "code",
   "execution_count": 15,
   "id": "8828dd83",
   "metadata": {},
   "outputs": [
    {
     "data": {
      "text/html": [
       "<div>\n",
       "<style scoped>\n",
       "    .dataframe tbody tr th:only-of-type {\n",
       "        vertical-align: middle;\n",
       "    }\n",
       "\n",
       "    .dataframe tbody tr th {\n",
       "        vertical-align: top;\n",
       "    }\n",
       "\n",
       "    .dataframe thead th {\n",
       "        text-align: right;\n",
       "    }\n",
       "</style>\n",
       "<table border=\"1\" class=\"dataframe\">\n",
       "  <thead>\n",
       "    <tr style=\"text-align: right;\">\n",
       "      <th></th>\n",
       "      <th>Adj Close</th>\n",
       "      <th>MA20</th>\n",
       "    </tr>\n",
       "    <tr>\n",
       "      <th>Date</th>\n",
       "      <th></th>\n",
       "      <th></th>\n",
       "    </tr>\n",
       "  </thead>\n",
       "  <tbody>\n",
       "    <tr>\n",
       "      <th>2020-01-30</th>\n",
       "      <td>54.724438</td>\n",
       "      <td>55.362949</td>\n",
       "    </tr>\n",
       "    <tr>\n",
       "      <th>2020-01-31</th>\n",
       "      <td>53.880039</td>\n",
       "      <td>55.253842</td>\n",
       "    </tr>\n",
       "    <tr>\n",
       "      <th>2020-02-03</th>\n",
       "      <td>53.899014</td>\n",
       "      <td>55.180787</td>\n",
       "    </tr>\n",
       "    <tr>\n",
       "      <th>2020-02-04</th>\n",
       "      <td>54.800327</td>\n",
       "      <td>55.142362</td>\n",
       "    </tr>\n",
       "    <tr>\n",
       "      <th>2020-02-05</th>\n",
       "      <td>55.341133</td>\n",
       "      <td>55.144735</td>\n",
       "    </tr>\n",
       "    <tr>\n",
       "      <th>...</th>\n",
       "      <td>...</td>\n",
       "      <td>...</td>\n",
       "    </tr>\n",
       "    <tr>\n",
       "      <th>2020-12-23</th>\n",
       "      <td>58.788280</td>\n",
       "      <td>57.656022</td>\n",
       "    </tr>\n",
       "    <tr>\n",
       "      <th>2020-12-24</th>\n",
       "      <td>58.935150</td>\n",
       "      <td>57.777210</td>\n",
       "    </tr>\n",
       "    <tr>\n",
       "      <th>2020-12-28</th>\n",
       "      <td>59.336601</td>\n",
       "      <td>57.905415</td>\n",
       "    </tr>\n",
       "    <tr>\n",
       "      <th>2020-12-29</th>\n",
       "      <td>59.767429</td>\n",
       "      <td>58.103028</td>\n",
       "    </tr>\n",
       "    <tr>\n",
       "      <th>2020-12-30</th>\n",
       "      <td>59.689095</td>\n",
       "      <td>58.226134</td>\n",
       "    </tr>\n",
       "  </tbody>\n",
       "</table>\n",
       "<p>233 rows × 2 columns</p>\n",
       "</div>"
      ],
      "text/plain": [
       "            Adj Close       MA20\n",
       "Date                            \n",
       "2020-01-30  54.724438  55.362949\n",
       "2020-01-31  53.880039  55.253842\n",
       "2020-02-03  53.899014  55.180787\n",
       "2020-02-04  54.800327  55.142362\n",
       "2020-02-05  55.341133  55.144735\n",
       "...               ...        ...\n",
       "2020-12-23  58.788280  57.656022\n",
       "2020-12-24  58.935150  57.777210\n",
       "2020-12-28  59.336601  57.905415\n",
       "2020-12-29  59.767429  58.103028\n",
       "2020-12-30  59.689095  58.226134\n",
       "\n",
       "[233 rows x 2 columns]"
      ]
     },
     "execution_count": 15,
     "metadata": {},
     "output_type": "execute_result"
    },
    {
     "data": {
      "image/png": "[encoded data removed]",
      "text/plain": [
       "<Figure size 432x288 with 1 Axes>"
      ]
     },
     "metadata": {
      "needs_background": "light"
     },
     "output_type": "display_data"
    }
   ],
   "source": [
    "equity_ma = compute_moving_average(equity_etf_df, days=20)\n",
    "equity_ma.plot(y='MA20', use_index=True,\n",
    "               label='20-day MA of Vanguard FTSE ETF',\n",
    "               title='Equity ETF Prices (VGK), 20-day Moving Average')\n",
    "plt.ylabel('Price of VGK (USD $)')\n",
    "equity_ma[~equity_ma.MA20.isnull()][['Adj Close', 'MA20']]"
   ]
  },
  {
   "cell_type": "markdown",
   "id": "f13f78f1",
   "metadata": {},
   "source": [
    "<b>3.3) Compute a 20-day moving average price of bitcoin.  The moving average price on 1 April 2020 should include data from March.</b>"
   ]
  },
  {
   "cell_type": "code",
   "execution_count": 16,
   "id": "3b4e44e4",
   "metadata": {},
   "outputs": [
    {
     "data": {
      "text/html": [
       "<div>\n",
       "<style scoped>\n",
       "    .dataframe tbody tr th:only-of-type {\n",
       "        vertical-align: middle;\n",
       "    }\n",
       "\n",
       "    .dataframe tbody tr th {\n",
       "        vertical-align: top;\n",
       "    }\n",
       "\n",
       "    .dataframe thead th {\n",
       "        text-align: right;\n",
       "    }\n",
       "</style>\n",
       "<table border=\"1\" class=\"dataframe\">\n",
       "  <thead>\n",
       "    <tr style=\"text-align: right;\">\n",
       "      <th></th>\n",
       "      <th>Adj Close</th>\n",
       "      <th>MA20</th>\n",
       "    </tr>\n",
       "    <tr>\n",
       "      <th>Date</th>\n",
       "      <th></th>\n",
       "      <th></th>\n",
       "    </tr>\n",
       "  </thead>\n",
       "  <tbody>\n",
       "    <tr>\n",
       "      <th>2020-01-20</th>\n",
       "      <td>8657.642578</td>\n",
       "      <td>8118.971240</td>\n",
       "    </tr>\n",
       "    <tr>\n",
       "      <th>2020-01-21</th>\n",
       "      <td>8745.894531</td>\n",
       "      <td>8196.257251</td>\n",
       "    </tr>\n",
       "    <tr>\n",
       "      <th>2020-01-22</th>\n",
       "      <td>8680.875977</td>\n",
       "      <td>8281.027539</td>\n",
       "    </tr>\n",
       "    <tr>\n",
       "      <th>2020-01-23</th>\n",
       "      <td>8406.515625</td>\n",
       "      <td>8334.109106</td>\n",
       "    </tr>\n",
       "    <tr>\n",
       "      <th>2020-01-24</th>\n",
       "      <td>8445.434570</td>\n",
       "      <td>8385.847998</td>\n",
       "    </tr>\n",
       "    <tr>\n",
       "      <th>...</th>\n",
       "      <td>...</td>\n",
       "      <td>...</td>\n",
       "    </tr>\n",
       "    <tr>\n",
       "      <th>2020-12-27</th>\n",
       "      <td>26272.294922</td>\n",
       "      <td>21767.354687</td>\n",
       "    </tr>\n",
       "    <tr>\n",
       "      <th>2020-12-28</th>\n",
       "      <td>27084.808594</td>\n",
       "      <td>22205.537891</td>\n",
       "    </tr>\n",
       "    <tr>\n",
       "      <th>2020-12-29</th>\n",
       "      <td>27362.437500</td>\n",
       "      <td>22645.963965</td>\n",
       "    </tr>\n",
       "    <tr>\n",
       "      <th>2020-12-30</th>\n",
       "      <td>28840.953125</td>\n",
       "      <td>23174.762012</td>\n",
       "    </tr>\n",
       "    <tr>\n",
       "      <th>2020-12-31</th>\n",
       "      <td>29001.720703</td>\n",
       "      <td>23721.902832</td>\n",
       "    </tr>\n",
       "  </tbody>\n",
       "</table>\n",
       "<p>343 rows × 2 columns</p>\n",
       "</div>"
      ],
      "text/plain": [
       "               Adj Close          MA20\n",
       "Date                                  \n",
       "2020-01-20   8657.642578   8118.971240\n",
       "2020-01-21   8745.894531   8196.257251\n",
       "2020-01-22   8680.875977   8281.027539\n",
       "2020-01-23   8406.515625   8334.109106\n",
       "2020-01-24   8445.434570   8385.847998\n",
       "...                  ...           ...\n",
       "2020-12-27  26272.294922  21767.354687\n",
       "2020-12-28  27084.808594  22205.537891\n",
       "2020-12-29  27362.437500  22645.963965\n",
       "2020-12-30  28840.953125  23174.762012\n",
       "2020-12-31  29001.720703  23721.902832\n",
       "\n",
       "[343 rows x 2 columns]"
      ]
     },
     "execution_count": 16,
     "metadata": {},
     "output_type": "execute_result"
    },
    {
     "data": {
      "image/png": "[encoded data removed]",
      "text/plain": [
       "<Figure size 432x288 with 1 Axes>"
      ]
     },
     "metadata": {
      "needs_background": "light"
     },
     "output_type": "display_data"
    }
   ],
   "source": [
    "bitcoin_ma = compute_moving_average(bitcoin_df, days=20)\n",
    "bitcoin_ma.plot(y='MA20', use_index=True,\n",
    "                label='20-day Moving Average',\n",
    "                title='Bitcoin prices, 20-day Moving Average')\n",
    "plt.ylabel('Bitcoin Price (USD $)')\n",
    "bitcoin_ma[~bitcoin_ma.MA20.isnull()][['Adj Close', 'MA20']]"
   ]
  },
  {
   "cell_type": "markdown",
   "id": "37ee2e76",
   "metadata": {},
   "source": [
    "# 4 Graphing"
   ]
  },
  {
   "cell_type": "markdown",
   "id": "a5bb8848",
   "metadata": {},
   "source": [
    "<b>4.1) Graph each price series along with its moving average from April 2020 through Dec 2020.</b>"
   ]
  },
  {
   "cell_type": "code",
   "execution_count": 17,
   "id": "bb961139",
   "metadata": {},
   "outputs": [
    {
     "data": {
      "image/png": "[encoded data removed]",
      "text/plain": [
       "<Figure size 432x288 with 1 Axes>"
      ]
     },
     "metadata": {
      "needs_background": "light"
     },
     "output_type": "display_data"
    }
   ],
   "source": [
    "# Graph Gold ETF Prices & 20-day moving averages from 01 Apr'20\n",
    "gold_apr_dec = gold_ma['2020-04-01':]\n",
    "gold_plt = gold_apr_dec.plot(y='Adj Close', use_index=True)\n",
    "gold_apr_dec.plot(y='MA20', use_index=True, ax=gold_plt,\n",
    "                  label='20-day Moving Average')\n",
    "\n",
    "plt.title('Gold ETF Prices (GLD, April 2020 - Dec 2020)')\n",
    "plt.ylabel('Gold ETF Prices (USD $)')\n",
    "plt.show()"
   ]
  },
  {
   "cell_type": "code",
   "execution_count": 18,
   "id": "cb2dc865",
   "metadata": {},
   "outputs": [
    {
     "data": {
      "image/png": "[encoded data removed]",
      "text/plain": [
       "<Figure size 432x288 with 1 Axes>"
      ]
     },
     "metadata": {
      "needs_background": "light"
     },
     "output_type": "display_data"
    }
   ],
   "source": [
    "# Graph Equity ETF Prices & 20-day moving averages from 01 Apr'20\n",
    "equity_apr_dec = equity_ma['2020-04-01':]\n",
    "equity_plt = equity_apr_dec.plot(y='Adj Close', use_index=True)\n",
    "equity_apr_dec.plot(y='MA20', use_index=True, ax=equity_plt,\n",
    "                    label='20-day Moving Average')\n",
    "\n",
    "plt.title('Equity ETF Prices (VGK, April 2020 - Dec 2020)')\n",
    "plt.ylabel('Equity ETF Prices (USD $)')\n",
    "plt.show()"
   ]
  },
  {
   "cell_type": "code",
   "execution_count": 19,
   "id": "eb406940",
   "metadata": {},
   "outputs": [
    {
     "data": {
      "image/png": "[encoded data removed]",
      "text/plain": [
       "<Figure size 432x288 with 1 Axes>"
      ]
     },
     "metadata": {
      "needs_background": "light"
     },
     "output_type": "display_data"
    }
   ],
   "source": [
    "# Graph Bitcoin Prices & 20-day moving averages from 01 Apr'20\n",
    "bitcoin_apr_dec = bitcoin_ma['2020-04-01':]\n",
    "bitcoin_plt = bitcoin_apr_dec.plot(y='Adj Close', use_index=True)\n",
    "bitcoin_apr_dec.plot(y='MA20', use_index=True, ax=bitcoin_plt, \n",
    "                     label='20-day Moving Average')\n",
    "\n",
    "plt.title('Bitcoin Prices (BTC-USD, April 2020 - Dec 2020)')\n",
    "plt.ylabel('Bitcoin Prices (USD $)')\n",
    "plt.show()"
   ]
  },
  {
   "cell_type": "markdown",
   "id": "d775aaac",
   "metadata": {},
   "source": [
    "\n",
    "\n",
    "<div class=\"alert alert-block alert-success\">\n",
    "\n",
    "<b>4.2) Comment on how the price series and average series intersect or not.</b><br/>\n",
    "   \n",
    "For all three assets, the price and moving average series do intersect (multiple times in the year, in fact). This is because of a well-subscribed theory of financial markets known as <b>mean reversion</b> which suggests that, after an extreme upward or downward price movements, asset prices tend to return back to normal or average levels. This is why prices routinely oscillate around the moving average prices and tend to return to that level over and over.\n",
    "\n",
    "</div>    \n"
   ]
  },
  {
   "cell_type": "markdown",
   "id": "d232b2e7",
   "metadata": {},
   "source": [
    "<b>4.3) Graph gold and equity prices on the same plot.</b><br/>\n",
    "Use a separate scale for each series, and be sure to add a label and legend."
   ]
  },
  {
   "cell_type": "code",
   "execution_count": 20,
   "id": "67ac058c",
   "metadata": {},
   "outputs": [],
   "source": [
    "# Utility methods for plotting two price series on the same plot\n",
    "\n",
    "def get_xy_series(asset_df):\n",
    "    return list(asset_df.index), list(asset_df['Adj Close'])\n",
    "\n",
    "def twin_plot(asset1, asset2):\n",
    "    \n",
    "    # Create twin plots with ax1 and ax2\n",
    "    fig, ax1 = plt.subplots(figsize=(16,4))\n",
    "    ax2 = ax1.twinx()\n",
    "    \n",
    "    # Initialise chart attributes\n",
    "    labels = [asset.name.replace('_', ' ') for asset in [asset1, asset2]]\n",
    "    chart1, chart2 = asset1.value, asset2.value\n",
    "    colors = [chart1.color, chart2.color]\n",
    "    ax1.set_ylim(chart1.ylim)\n",
    "    ax2.set_ylim(chart2.ylim)\n",
    "    ax1.set_xlabel('Date')\n",
    "    ax1.grid(True)\n",
    "    \n",
    "    # Plot both series in chart, and configure legend and y labels\n",
    "    series1 = ax1.plot(chart1.x, chart1.y, color=chart1.color, label=labels[0])\n",
    "    series2 = ax2.plot(chart2.x, chart2.y, color=chart2.color, label=labels[1])\n",
    "    ax1.legend(series1 + series2, labels, loc='lower right')\n",
    "    for i, ax in enumerate([ax1, ax2]):\n",
    "        ax.set_ylabel(f'{labels[i]} Prices', color=colors[i])\n",
    "    \n",
    "    plt.title(f'{labels[0]} and {labels[1]} Prices (in USD $)') # configure title\n",
    "    plt.show()"
   ]
  },
  {
   "cell_type": "code",
   "execution_count": 21,
   "id": "43048837",
   "metadata": {},
   "outputs": [],
   "source": [
    "# Modularise Chart config into a dataclass\n",
    "@dataclass\n",
    "class Chart:\n",
    "    x: list\n",
    "    y: list\n",
    "    color: str\n",
    "    ylim: tuple\n",
    "\n",
    "# Create chart config for all 3 assets\n",
    "class Asset(Enum):\n",
    "    Gold_ETF = Chart(*get_xy_series(gold_etf_df), 'orange', (130,200))\n",
    "    Equity_ETF = Chart(*get_xy_series(equity_etf_df), 'blue', (35,70))\n",
    "    Bitcoin = Chart(*get_xy_series(bitcoin_df), 'purple', (5000,30000))"
   ]
  },
  {
   "cell_type": "code",
   "execution_count": 22,
   "id": "1f88cf6d",
   "metadata": {},
   "outputs": [
    {
     "data": {
      "image/png": "[encoded data removed]",
      "text/plain": [
       "<Figure size 1152x288 with 2 Axes>"
      ]
     },
     "metadata": {
      "needs_background": "light"
     },
     "output_type": "display_data"
    }
   ],
   "source": [
    "twin_plot(Asset.Gold_ETF, Asset.Equity_ETF)"
   ]
  },
  {
   "cell_type": "markdown",
   "id": "9c6b63a7",
   "metadata": {},
   "source": [
    "<b>4.4) Graph gold and bitcoin prices on the same plot.</b><br/>\n",
    "Use a separate scale for each series, and be sure to add a label and legend."
   ]
  },
  {
   "cell_type": "code",
   "execution_count": 23,
   "id": "e3ffa98a",
   "metadata": {},
   "outputs": [
    {
     "data": {
      "image/png": "[encoded data removed]",
      "text/plain": [
       "<Figure size 1152x288 with 2 Axes>"
      ]
     },
     "metadata": {
      "needs_background": "light"
     },
     "output_type": "display_data"
    }
   ],
   "source": [
    "twin_plot(Asset.Gold_ETF, Asset.Bitcoin)"
   ]
  },
  {
   "cell_type": "markdown",
   "id": "7ba76ca8",
   "metadata": {},
   "source": [
    "<b>4.5) Graph equity and bitcoin prices on the same plot.</b><br/>\n",
    "Use a separate scale for each series, and be sure to add a label and legend."
   ]
  },
  {
   "cell_type": "code",
   "execution_count": 24,
   "id": "79fbf416",
   "metadata": {},
   "outputs": [
    {
     "data": {
      "image/png": "[encoded data removed]",
      "text/plain": [
       "<Figure size 1152x288 with 2 Axes>"
      ]
     },
     "metadata": {
      "needs_background": "light"
     },
     "output_type": "display_data"
    }
   ],
   "source": [
    "twin_plot(Asset.Equity_ETF, Asset.Bitcoin)"
   ]
  },
  {
   "cell_type": "markdown",
   "id": "41feb499",
   "metadata": {},
   "source": [
    "---\n",
    "# 5 Fitting a GARCH Model"
   ]
  },
  {
   "cell_type": "markdown",
   "id": "59bf935f",
   "metadata": {},
   "source": [
    "<b>5.1) Pick one of the 3 series (gold, equity, or bitcoin).</b>\n",
    "\n",
    "We have selected equity etf series for the GARCH model fitting task.\n",
    "\n",
    "* Fit a GARCH model for quarter 2 (Q2) i.e Apr-Jun\n",
    "* Fit a GARCH model for quarter 3 (Q3) i.e Jul-Sept  \n",
    "* Fit a GARCH model for quarter 4 (Q4) i.e Oct-Dec"
   ]
  },
  {
   "cell_type": "code",
   "execution_count": 25,
   "id": "49d62e2a",
   "metadata": {},
   "outputs": [],
   "source": [
    "from enum import Enum\n",
    "\n",
    "class Quarter:\n",
    "    def __init__(self, start_date, end_date):\n",
    "        self.start_date = start_date\n",
    "        self.end_date = end_date\n",
    "        \n",
    "# Defined the enum for each quarter dates        \n",
    "class Year2020(Enum):\n",
    "    Q1 = Quarter('2020-01-01', '2020-04-01')\n",
    "    Q2 = Quarter('2020-04-01', '2020-07-01')\n",
    "    Q3 = Quarter('2020-07-01', '2020-10-01')\n",
    "    Q4 = Quarter('2020-10-01', '2021-01-01')"
   ]
  },
  {
   "cell_type": "code",
   "execution_count": 29,
   "id": "0dd83e75",
   "metadata": {},
   "outputs": [],
   "source": [
    "import numpy as np\n",
    "from arch import arch_model\n",
    "\n",
    "def fit_garch_model(series_df, quarter, model_type='GARCH', mean_type='Constant'):\n",
    "    '''\n",
    "        Calculates the garch model and fits it\n",
    "        series_df : series data frame\n",
    "        quater : value for Quarter enum\n",
    "    '''\n",
    "    \n",
    "    series_df['log_returns'] = np.log(series_df['Adj Close'] / series_df['Open'])\n",
    "    quarter_df = series_df[quarter.value.start_date:quarter.value.end_date]\n",
    "    quarter_garch = arch_model(y = quarter_df['log_returns'], mean = mean_type, vol = model_type,\n",
    "            p = 1, q = 1, dist = \"normal\", rescale=False)\n",
    "    return quarter_garch.fit()"
   ]
  },
  {
   "cell_type": "markdown",
   "id": "6c972eb8",
   "metadata": {},
   "source": [
    "### GARCH model for Q2"
   ]
  },
  {
   "cell_type": "code",
   "execution_count": 30,
   "id": "3d12b146",
   "metadata": {},
   "outputs": [
    {
     "name": "stdout",
     "output_type": "stream",
     "text": [
      "Iteration:      1,   Func. Count:      6,   Neg. LLF: 225522282.7660446\n",
      "Iteration:      2,   Func. Count:     17,   Neg. LLF: -194.73096168157645\n",
      "Iteration:      3,   Func. Count:     24,   Neg. LLF: -191.22048994602548\n",
      "Iteration:      4,   Func. Count:     31,   Neg. LLF: 1969.9933726306251\n",
      "Iteration:      5,   Func. Count:     42,   Neg. LLF: -110.27271500533033\n",
      "Iteration:      6,   Func. Count:     50,   Neg. LLF: -196.64682944003738\n",
      "Iteration:      7,   Func. Count:     57,   Neg. LLF: -196.44306298717544\n",
      "Iteration:      8,   Func. Count:     63,   Neg. LLF: -190.7389803800853\n",
      "Iteration:      9,   Func. Count:     70,   Neg. LLF: -197.27516754689404\n",
      "Iteration:     10,   Func. Count:     75,   Neg. LLF: -197.2751752094686\n",
      "Iteration:     11,   Func. Count:     79,   Neg. LLF: -197.27517520936314\n",
      "Optimization terminated successfully    (Exit mode 0)\n",
      "            Current function value: -197.2751752094686\n",
      "            Iterations: 12\n",
      "            Function evaluations: 79\n",
      "            Gradient evaluations: 11\n"
     ]
    },
    {
     "data": {
      "text/plain": [
       "                     Constant Mean - GARCH Model Results                      \n",
       "==============================================================================\n",
       "Dep. Variable:            log_returns   R-squared:                       0.000\n",
       "Mean Model:             Constant Mean   Adj. R-squared:                  0.000\n",
       "Vol Model:                      GARCH   Log-Likelihood:                197.275\n",
       "Distribution:                  Normal   AIC:                          -386.550\n",
       "Method:            Maximum Likelihood   BIC:                          -377.915\n",
       "                                        No. Observations:                   64\n",
       "Date:                Thu, Sep 30 2021   Df Residuals:                       63\n",
       "Time:                        23:08:23   Df Model:                            1\n",
       "                                  Mean Model                                  \n",
       "==============================================================================\n",
       "                 coef    std err          t      P>|t|        95.0% Conf. Int.\n",
       "------------------------------------------------------------------------------\n",
       "mu            -0.0460  1.254e-03    -36.660 3.228e-294 [-4.843e-02,-4.351e-02]\n",
       "                              Volatility Model                              \n",
       "============================================================================\n",
       "                 coef    std err          t      P>|t|      95.0% Conf. Int.\n",
       "----------------------------------------------------------------------------\n",
       "omega      4.6388e-05  6.714e-06      6.909  4.874e-12 [3.323e-05,5.955e-05]\n",
       "alpha[1]       0.1317      0.199      0.662      0.508     [ -0.258,  0.522]\n",
       "beta[1]        0.4959      0.170      2.914  3.564e-03     [  0.162,  0.829]\n",
       "============================================================================\n",
       "\n",
       "Covariance estimator: robust\n",
       "ARCHModelResult, id: 0x7ff49829bdf0"
      ]
     },
     "execution_count": 30,
     "metadata": {},
     "output_type": "execute_result"
    }
   ],
   "source": [
    "fit_garch_model(equity_etf_df, Year2020.Q2)"
   ]
  },
  {
   "cell_type": "markdown",
   "id": "3e404017",
   "metadata": {},
   "source": [
    "### GARCH model for Q3"
   ]
  },
  {
   "cell_type": "code",
   "execution_count": 28,
   "id": "f0087fc4",
   "metadata": {},
   "outputs": [
    {
     "name": "stdout",
     "output_type": "stream",
     "text": [
      "Iteration:      1,   Func. Count:      6,   Neg. LLF: 6239580.975406316\n",
      "Iteration:      2,   Func. Count:     17,   Neg. LLF: -78.86375430511401\n",
      "Iteration:      3,   Func. Count:     25,   Neg. LLF: -220.14671711478053\n",
      "Iteration:      4,   Func. Count:     30,   Neg. LLF: -220.1496390055782\n",
      "Iteration:      5,   Func. Count:     35,   Neg. LLF: -220.1475672586525\n",
      "Iteration:      6,   Func. Count:     41,   Neg. LLF: -220.08937055379357\n",
      "Iteration:      7,   Func. Count:     47,   Neg. LLF: -220.2774033164052\n",
      "Iteration:      8,   Func. Count:     52,   Neg. LLF: 697240.2626612791\n",
      "Iteration:      9,   Func. Count:     64,   Neg. LLF: 3970114513.4708295\n",
      "Iteration:     10,   Func. Count:     78,   Neg. LLF: 225777769.00604838\n",
      "Optimization terminated successfully    (Exit mode 0)\n",
      "            Current function value: -220.27749612867905\n",
      "            Iterations: 10\n",
      "            Function evaluations: 87\n",
      "            Gradient evaluations: 10\n"
     ]
    },
    {
     "data": {
      "text/plain": [
       "                     Constant Mean - GARCH Model Results                      \n",
       "==============================================================================\n",
       "Dep. Variable:            log_returns   R-squared:                       0.000\n",
       "Mean Model:             Constant Mean   Adj. R-squared:                  0.000\n",
       "Vol Model:                      GARCH   Log-Likelihood:                220.277\n",
       "Distribution:                  Normal   AIC:                          -432.555\n",
       "Method:            Maximum Likelihood   BIC:                          -423.857\n",
       "                                        No. Observations:                   65\n",
       "Date:                Thu, Sep 30 2021   Df Residuals:                       64\n",
       "Time:                        23:07:17   Df Model:                            1\n",
       "                                  Mean Model                                  \n",
       "==============================================================================\n",
       "                 coef    std err          t      P>|t|        95.0% Conf. Int.\n",
       "------------------------------------------------------------------------------\n",
       "mu            -0.0393  4.043e-07 -9.726e+04      0.000 [-3.932e-02,-3.932e-02]\n",
       "                              Volatility Model                              \n",
       "============================================================================\n",
       "                 coef    std err          t      P>|t|      95.0% Conf. Int.\n",
       "----------------------------------------------------------------------------\n",
       "omega      3.2416e-07  1.107e-10   2928.344      0.000 [3.239e-07,3.244e-07]\n",
       "alpha[1]   2.7353e-06      0.177  1.547e-05      1.000     [ -0.346,  0.346]\n",
       "beta[1]        0.9978      0.164      6.092  1.117e-09     [  0.677,  1.319]\n",
       "============================================================================\n",
       "\n",
       "Covariance estimator: robust\n",
       "ARCHModelResult, id: 0x7ff4b0d56700"
      ]
     },
     "execution_count": 28,
     "metadata": {},
     "output_type": "execute_result"
    }
   ],
   "source": [
    "fit_garch_model(equity_etf_df, Year2020.Q3)"
   ]
  },
  {
   "cell_type": "markdown",
   "id": "bc3a9691",
   "metadata": {},
   "source": [
    "### GARCH model for Q4"
   ]
  },
  {
   "cell_type": "code",
   "execution_count": 99,
   "id": "a9771e16",
   "metadata": {},
   "outputs": [
    {
     "name": "stdout",
     "output_type": "stream",
     "text": [
      "Iteration:      1,   Func. Count:      6,   Neg. LLF: 112472770.4526083\n",
      "Iteration:      2,   Func. Count:     17,   Neg. LLF: -137.7660632636965\n",
      "Iteration:      3,   Func. Count:     26,   Neg. LLF: -215.4522405567763\n",
      "Iteration:      4,   Func. Count:     32,   Neg. LLF: -215.46938840976708\n",
      "Iteration:      5,   Func. Count:     37,   Neg. LLF: -209.25969037877937\n",
      "Iteration:      6,   Func. Count:     45,   Neg. LLF: -215.46941222362\n",
      "Iteration:      7,   Func. Count:     51,   Neg. LLF: -215.46951080225847\n",
      "Iteration:      8,   Func. Count:     59,   Neg. LLF: -215.46950949536367\n",
      "Optimization terminated successfully    (Exit mode 0)\n",
      "            Current function value: -215.46957843006976\n",
      "            Iterations: 8\n",
      "            Function evaluations: 69\n",
      "            Gradient evaluations: 8\n"
     ]
    },
    {
     "data": {
      "text/plain": [
       "                     Constant Mean - GARCH Model Results                      \n",
       "==============================================================================\n",
       "Dep. Variable:            log_returns   R-squared:                       0.000\n",
       "Mean Model:             Constant Mean   Adj. R-squared:                  0.000\n",
       "Vol Model:                      GARCH   Log-Likelihood:                215.470\n",
       "Distribution:                  Normal   AIC:                          -422.939\n",
       "Method:            Maximum Likelihood   BIC:                          -414.367\n",
       "                                        No. Observations:                   63\n",
       "Date:                Thu, Sep 30 2021   Df Residuals:                       62\n",
       "Time:                        14:24:46   Df Model:                            1\n",
       "                                  Mean Model                                  \n",
       "==============================================================================\n",
       "                 coef    std err          t      P>|t|        95.0% Conf. Int.\n",
       "------------------------------------------------------------------------------\n",
       "mu            -0.0322  1.478e-03    -21.772 4.271e-105 [-3.507e-02,-2.928e-02]\n",
       "                              Volatility Model                              \n",
       "============================================================================\n",
       "                 coef    std err          t      P>|t|      95.0% Conf. Int.\n",
       "----------------------------------------------------------------------------\n",
       "omega      3.8252e-05  1.030e-06     37.143 5.695e-302 [3.623e-05,4.027e-05]\n",
       "alpha[1]   4.1797e-04  8.334e-02  5.015e-03      0.996     [ -0.163,  0.164]\n",
       "beta[1]        0.3912      0.220      1.781  7.485e-02  [-3.922e-02,  0.822]\n",
       "============================================================================\n",
       "\n",
       "Covariance estimator: robust\n",
       "ARCHModelResult, id: 0x7fefb7cf6fd0"
      ]
     },
     "execution_count": 99,
     "metadata": {},
     "output_type": "execute_result"
    }
   ],
   "source": [
    "fit_garch_model(equity_etf_df, Year2020.Q4)"
   ]
  },
  {
   "cell_type": "markdown",
   "id": "399a6fc8",
   "metadata": {},
   "source": [
    "<b>5.2) Repeat the process, but instead using GARCH-M Model. </b>"
   ]
  },
  {
   "cell_type": "markdown",
   "id": "59f8b6bc",
   "metadata": {},
   "source": [
    "### GARCH-M model for Q2"
   ]
  },
  {
   "cell_type": "code",
   "execution_count": 31,
   "id": "21be6407",
   "metadata": {},
   "outputs": [
    {
     "name": "stdout",
     "output_type": "stream",
     "text": [
      "Iteration:      1,   Func. Count:      6,   Neg. LLF: 225522282.7660446\n",
      "Iteration:      2,   Func. Count:     17,   Neg. LLF: -194.73096168157645\n",
      "Iteration:      3,   Func. Count:     24,   Neg. LLF: -191.22048994602548\n",
      "Iteration:      4,   Func. Count:     31,   Neg. LLF: 1969.9933726306251\n",
      "Iteration:      5,   Func. Count:     42,   Neg. LLF: -110.27271500533033\n",
      "Iteration:      6,   Func. Count:     50,   Neg. LLF: -196.64682944003738\n",
      "Iteration:      7,   Func. Count:     57,   Neg. LLF: -196.44306298717544\n",
      "Iteration:      8,   Func. Count:     63,   Neg. LLF: -190.7389803800853\n",
      "Iteration:      9,   Func. Count:     70,   Neg. LLF: -197.27516754689404\n",
      "Iteration:     10,   Func. Count:     75,   Neg. LLF: -197.2751752094686\n",
      "Iteration:     11,   Func. Count:     79,   Neg. LLF: -197.27517520936314\n",
      "Optimization terminated successfully    (Exit mode 0)\n",
      "            Current function value: -197.2751752094686\n",
      "            Iterations: 12\n",
      "            Function evaluations: 79\n",
      "            Gradient evaluations: 11\n"
     ]
    },
    {
     "data": {
      "text/plain": [
       "                           AR - GARCH Model Results                           \n",
       "==============================================================================\n",
       "Dep. Variable:            log_returns   R-squared:                       0.000\n",
       "Mean Model:                        AR   Adj. R-squared:                  0.000\n",
       "Vol Model:                      GARCH   Log-Likelihood:                197.275\n",
       "Distribution:                  Normal   AIC:                          -386.550\n",
       "Method:            Maximum Likelihood   BIC:                          -377.915\n",
       "                                        No. Observations:                   64\n",
       "Date:                Thu, Sep 30 2021   Df Residuals:                       63\n",
       "Time:                        23:09:24   Df Model:                            1\n",
       "                                  Mean Model                                  \n",
       "==============================================================================\n",
       "                 coef    std err          t      P>|t|        95.0% Conf. Int.\n",
       "------------------------------------------------------------------------------\n",
       "Const         -0.0460  1.254e-03    -36.660 3.228e-294 [-4.843e-02,-4.351e-02]\n",
       "                              Volatility Model                              \n",
       "============================================================================\n",
       "                 coef    std err          t      P>|t|      95.0% Conf. Int.\n",
       "----------------------------------------------------------------------------\n",
       "omega      4.6388e-05  6.714e-06      6.909  4.874e-12 [3.323e-05,5.955e-05]\n",
       "alpha[1]       0.1317      0.199      0.662      0.508     [ -0.258,  0.522]\n",
       "beta[1]        0.4959      0.170      2.914  3.564e-03     [  0.162,  0.829]\n",
       "============================================================================\n",
       "\n",
       "Covariance estimator: robust\n",
       "ARCHModelResult, id: 0x7ff4982a15b0"
      ]
     },
     "execution_count": 31,
     "metadata": {},
     "output_type": "execute_result"
    }
   ],
   "source": [
    "fit_garch_model(equity_etf_df, Year2020.Q2, model_type='GARCH', mean_type='AR')"
   ]
  },
  {
   "cell_type": "markdown",
   "id": "cac69959",
   "metadata": {},
   "source": [
    "### GARCH-M model for Q3"
   ]
  },
  {
   "cell_type": "code",
   "execution_count": 32,
   "id": "6b84ea31",
   "metadata": {},
   "outputs": [
    {
     "name": "stdout",
     "output_type": "stream",
     "text": [
      "Iteration:      1,   Func. Count:      6,   Neg. LLF: 6239580.975406316\n",
      "Iteration:      2,   Func. Count:     17,   Neg. LLF: -78.86375430511401\n",
      "Iteration:      3,   Func. Count:     25,   Neg. LLF: -220.14671711478053\n",
      "Iteration:      4,   Func. Count:     30,   Neg. LLF: -220.1496390055782\n",
      "Iteration:      5,   Func. Count:     35,   Neg. LLF: -220.1475672586525\n",
      "Iteration:      6,   Func. Count:     41,   Neg. LLF: -220.08937055379357\n",
      "Iteration:      7,   Func. Count:     47,   Neg. LLF: -220.2774033164052\n",
      "Iteration:      8,   Func. Count:     52,   Neg. LLF: 697240.2626612791\n",
      "Iteration:      9,   Func. Count:     64,   Neg. LLF: 3970114513.4708295\n",
      "Iteration:     10,   Func. Count:     78,   Neg. LLF: 225777769.00604838\n",
      "Optimization terminated successfully    (Exit mode 0)\n",
      "            Current function value: -220.27749612867905\n",
      "            Iterations: 10\n",
      "            Function evaluations: 87\n",
      "            Gradient evaluations: 10\n"
     ]
    },
    {
     "data": {
      "text/plain": [
       "                           AR - GARCH Model Results                           \n",
       "==============================================================================\n",
       "Dep. Variable:            log_returns   R-squared:                       0.000\n",
       "Mean Model:                        AR   Adj. R-squared:                  0.000\n",
       "Vol Model:                      GARCH   Log-Likelihood:                220.277\n",
       "Distribution:                  Normal   AIC:                          -432.555\n",
       "Method:            Maximum Likelihood   BIC:                          -423.857\n",
       "                                        No. Observations:                   65\n",
       "Date:                Thu, Sep 30 2021   Df Residuals:                       64\n",
       "Time:                        23:09:43   Df Model:                            1\n",
       "                                  Mean Model                                  \n",
       "==============================================================================\n",
       "                 coef    std err          t      P>|t|        95.0% Conf. Int.\n",
       "------------------------------------------------------------------------------\n",
       "Const         -0.0393  4.043e-07 -9.726e+04      0.000 [-3.932e-02,-3.932e-02]\n",
       "                              Volatility Model                              \n",
       "============================================================================\n",
       "                 coef    std err          t      P>|t|      95.0% Conf. Int.\n",
       "----------------------------------------------------------------------------\n",
       "omega      3.2416e-07  1.107e-10   2928.344      0.000 [3.239e-07,3.244e-07]\n",
       "alpha[1]   2.7353e-06      0.177  1.547e-05      1.000     [ -0.346,  0.346]\n",
       "beta[1]        0.9978      0.164      6.092  1.117e-09     [  0.677,  1.319]\n",
       "============================================================================\n",
       "\n",
       "Covariance estimator: robust\n",
       "ARCHModelResult, id: 0x7ff498251190"
      ]
     },
     "execution_count": 32,
     "metadata": {},
     "output_type": "execute_result"
    }
   ],
   "source": [
    "fit_garch_model(equity_etf_df, Year2020.Q3, model_type='GARCH', mean_type='AR')"
   ]
  },
  {
   "cell_type": "markdown",
   "id": "bb63cefc",
   "metadata": {},
   "source": [
    "### GARCH-M model for Q4"
   ]
  },
  {
   "cell_type": "code",
   "execution_count": 33,
   "id": "e081254b",
   "metadata": {},
   "outputs": [
    {
     "name": "stdout",
     "output_type": "stream",
     "text": [
      "Iteration:      1,   Func. Count:      6,   Neg. LLF: 117828452.16781382\n",
      "Iteration:      2,   Func. Count:     17,   Neg. LLF: -141.533583196388\n",
      "Iteration:      3,   Func. Count:     26,   Neg. LLF: -215.45143187243337\n",
      "Iteration:      4,   Func. Count:     32,   Neg. LLF: -215.46942599518846\n",
      "Iteration:      5,   Func. Count:     37,   Neg. LLF: -211.75561399807378\n",
      "Iteration:      6,   Func. Count:     44,   Neg. LLF: -215.46941178160077\n",
      "Iteration:      7,   Func. Count:     52,   Neg. LLF: -215.46950195027793\n",
      "Iteration:      8,   Func. Count:     59,   Neg. LLF: -215.46949921333322\n",
      "Optimization terminated successfully    (Exit mode 0)\n",
      "            Current function value: -215.46955342140006\n",
      "            Iterations: 8\n",
      "            Function evaluations: 69\n",
      "            Gradient evaluations: 8\n"
     ]
    },
    {
     "data": {
      "text/plain": [
       "                           AR - GARCH Model Results                           \n",
       "==============================================================================\n",
       "Dep. Variable:            log_returns   R-squared:                       0.000\n",
       "Mean Model:                        AR   Adj. R-squared:                  0.000\n",
       "Vol Model:                      GARCH   Log-Likelihood:                215.470\n",
       "Distribution:                  Normal   AIC:                          -422.939\n",
       "Method:            Maximum Likelihood   BIC:                          -414.367\n",
       "                                        No. Observations:                   63\n",
       "Date:                Thu, Sep 30 2021   Df Residuals:                       62\n",
       "Time:                        23:09:53   Df Model:                            1\n",
       "                                  Mean Model                                  \n",
       "==============================================================================\n",
       "                 coef    std err          t      P>|t|        95.0% Conf. Int.\n",
       "------------------------------------------------------------------------------\n",
       "Const         -0.0322  1.463e-03    -22.012 2.226e-107 [-3.506e-02,-2.933e-02]\n",
       "                              Volatility Model                              \n",
       "============================================================================\n",
       "                 coef    std err          t      P>|t|      95.0% Conf. Int.\n",
       "----------------------------------------------------------------------------\n",
       "omega      3.8900e-05  1.075e-06     36.174 1.579e-286 [3.679e-05,4.101e-05]\n",
       "alpha[1]   8.6198e-04  8.254e-02  1.044e-02      0.992     [ -0.161,  0.163]\n",
       "beta[1]        0.3804      0.222      1.715  8.636e-02  [-5.436e-02,  0.815]\n",
       "============================================================================\n",
       "\n",
       "Covariance estimator: robust\n",
       "ARCHModelResult, id: 0x7ff498257580"
      ]
     },
     "execution_count": 33,
     "metadata": {},
     "output_type": "execute_result"
    }
   ],
   "source": [
    "fit_garch_model(equity_etf_df, Year2020.Q4, model_type='GARCH', mean_type='AR')"
   ]
  },
  {
   "cell_type": "markdown",
   "id": "a6ceed27",
   "metadata": {},
   "source": [
    "<b>5.3) Repeat the process one more time, using another variation of GARCH. </b><br/>\n",
    "(e.g. Threshold GARCH, Exponential GARCH, Integrated GARCH)"
   ]
  },
  {
   "cell_type": "markdown",
   "id": "9b770dc9",
   "metadata": {},
   "source": [
    "EGARCH model for Q2"
   ]
  },
  {
   "cell_type": "code",
   "execution_count": 100,
   "id": "303fe2d9",
   "metadata": {},
   "outputs": [
    {
     "name": "stdout",
     "output_type": "stream",
     "text": [
      "Iteration:      1,   Func. Count:      6,   Neg. LLF: 4001494643.315389\n",
      "Iteration:      2,   Func. Count:     17,   Neg. LLF: 55457.07767364625\n",
      "Iteration:      3,   Func. Count:     25,   Neg. LLF: 1472.786404926037\n",
      "Iteration:      4,   Func. Count:     32,   Neg. LLF: -197.43925309853563\n",
      "Iteration:      5,   Func. Count:     37,   Neg. LLF: -197.4415204423526\n",
      "Iteration:      6,   Func. Count:     42,   Neg. LLF: -197.44527602867473\n",
      "Iteration:      7,   Func. Count:     47,   Neg. LLF: -197.44689521004122\n",
      "Iteration:      8,   Func. Count:     52,   Neg. LLF: -197.44714209154864\n",
      "Iteration:      9,   Func. Count:     57,   Neg. LLF: -197.4471562601041\n",
      "Iteration:     10,   Func. Count:     61,   Neg. LLF: -197.44715626014232\n",
      "Optimization terminated successfully    (Exit mode 0)\n",
      "            Current function value: -197.4471562601041\n",
      "            Iterations: 10\n",
      "            Function evaluations: 61\n",
      "            Gradient evaluations: 10\n"
     ]
    },
    {
     "data": {
      "text/plain": [
       "                     Constant Mean - EGARCH Model Results                     \n",
       "==============================================================================\n",
       "Dep. Variable:            log_returns   R-squared:                       0.000\n",
       "Mean Model:             Constant Mean   Adj. R-squared:                  0.000\n",
       "Vol Model:                     EGARCH   Log-Likelihood:                197.447\n",
       "Distribution:                  Normal   AIC:                          -386.894\n",
       "Method:            Maximum Likelihood   BIC:                          -378.259\n",
       "                                        No. Observations:                   64\n",
       "Date:                Thu, Sep 30 2021   Df Residuals:                       63\n",
       "Time:                        14:24:47   Df Model:                            1\n",
       "                                  Mean Model                                  \n",
       "==============================================================================\n",
       "                 coef    std err          t      P>|t|        95.0% Conf. Int.\n",
       "------------------------------------------------------------------------------\n",
       "mu            -0.0460  1.214e-03    -37.908      0.000 [-4.841e-02,-4.365e-02]\n",
       "                            Volatility Model                            \n",
       "========================================================================\n",
       "                 coef    std err          t      P>|t|  95.0% Conf. Int.\n",
       "------------------------------------------------------------------------\n",
       "omega         -3.9947      2.979     -1.341      0.180 [ -9.833,  1.843]\n",
       "alpha[1]       0.3160      0.251      1.258      0.209 [ -0.177,  0.809]\n",
       "beta[1]        0.5571      0.336      1.659  9.719e-02 [ -0.101,  1.215]\n",
       "========================================================================\n",
       "\n",
       "Covariance estimator: robust\n",
       "ARCHModelResult, id: 0x7fefb7d88250"
      ]
     },
     "execution_count": 100,
     "metadata": {},
     "output_type": "execute_result"
    }
   ],
   "source": [
    "fit_garch_model(equity_etf_df, Year2020.Q2, model_type=\"EGARCH\")\n"
   ]
  },
  {
   "cell_type": "markdown",
   "id": "c52d716d",
   "metadata": {},
   "source": [
    "### EGARCH model for Q3"
   ]
  },
  {
   "cell_type": "code",
   "execution_count": 101,
   "id": "b22108c2",
   "metadata": {},
   "outputs": [
    {
     "name": "stdout",
     "output_type": "stream",
     "text": [
      "Iteration:      1,   Func. Count:      6,   Neg. LLF: 143677385777670.56\n",
      "Iteration:      2,   Func. Count:     17,   Neg. LLF: -69.81479020246377\n",
      "Iteration:      3,   Func. Count:     25,   Neg. LLF: -220.79382573326535\n",
      "Iteration:      4,   Func. Count:     30,   Neg. LLF: 244542010.2432557\n",
      "Iteration:      5,   Func. Count:     37,   Neg. LLF: 35476758.301111154\n",
      "Iteration:      6,   Func. Count:     43,   Neg. LLF: 218708964.27082628\n",
      "Iteration:      7,   Func. Count:     50,   Neg. LLF: 221923938.47480315\n",
      "Iteration:      8,   Func. Count:     58,   Neg. LLF: 216112643.34882045\n",
      "Iteration:      9,   Func. Count:     66,   Neg. LLF: 233270713.49415126\n",
      "Iteration:     10,   Func. Count:     74,   Neg. LLF: -205.55117815053822\n",
      "Iteration:     11,   Func. Count:     82,   Neg. LLF: -221.86046219254024\n",
      "Iteration:     12,   Func. Count:     87,   Neg. LLF: 30898040.77275691\n",
      "Iteration:     13,   Func. Count:     93,   Neg. LLF: -222.13589934354283\n",
      "Iteration:     14,   Func. Count:     98,   Neg. LLF: -222.21829274312037\n",
      "Iteration:     15,   Func. Count:    103,   Neg. LLF: -222.25719835136815\n",
      "Iteration:     16,   Func. Count:    108,   Neg. LLF: -222.14811171564233\n",
      "Iteration:     17,   Func. Count:    114,   Neg. LLF: -222.3054614553853\n",
      "Iteration:     18,   Func. Count:    119,   Neg. LLF: -222.37618109204473\n",
      "Iteration:     19,   Func. Count:    124,   Neg. LLF: -222.51610096231857\n",
      "Iteration:     20,   Func. Count:    129,   Neg. LLF: -223.38479109714223\n",
      "Iteration:     21,   Func. Count:    134,   Neg. LLF: 21051173.182417363\n",
      "Iteration:     22,   Func. Count:    140,   Neg. LLF: 41734547.45184132\n",
      "Iteration:     23,   Func. Count:    147,   Neg. LLF: 52788291.042260826\n",
      "Iteration:     24,   Func. Count:    154,   Neg. LLF: 57815579.36229832\n",
      "Iteration:     25,   Func. Count:    161,   Neg. LLF: 29379375.096665364\n",
      "Iteration:     26,   Func. Count:    168,   Neg. LLF: 23308977.8954728\n",
      "Iteration:     27,   Func. Count:    174,   Neg. LLF: 8691500.217181182\n",
      "Iteration:     28,   Func. Count:    180,   Neg. LLF: -207.77530668587443\n",
      "Iteration:     29,   Func. Count:    186,   Neg. LLF: 144.1522124633243\n",
      "Iteration:     30,   Func. Count:    193,   Neg. LLF: -226.14626633633836\n",
      "Iteration:     31,   Func. Count:    198,   Neg. LLF: 38909886.440692075\n",
      "Iteration:     32,   Func. Count:    205,   Neg. LLF: -218.23943028512906\n",
      "Iteration:     33,   Func. Count:    212,   Neg. LLF: -221.4086186720444\n",
      "Iteration:     34,   Func. Count:    218,   Neg. LLF: -159.22507180325184\n",
      "Iteration:     35,   Func. Count:    226,   Neg. LLF: -219.5587602424752\n",
      "Iteration:     36,   Func. Count:    232,   Neg. LLF: 5715982.633900599\n",
      "Iteration:     37,   Func. Count:    238,   Neg. LLF: 43991826.29053067\n",
      "Iteration:     38,   Func. Count:    245,   Neg. LLF: 62175521.680022314\n",
      "Iteration:     39,   Func. Count:    254,   Neg. LLF: 62596275.352581665\n",
      "Iteration:     40,   Func. Count:    269,   Neg. LLF: 62615111.65884031\n",
      "Iteration:     41,   Func. Count:    284,   Neg. LLF: 62620861.55254488\n",
      "Iteration:     42,   Func. Count:    299,   Neg. LLF: 62638108.81655245\n",
      "Iteration:     43,   Func. Count:    314,   Neg. LLF: 54099102.740345486\n",
      "Iteration:     44,   Func. Count:    329,   Neg. LLF: 159889019.61408216\n",
      "Iteration:     45,   Func. Count:    344,   Neg. LLF: 8878715003824.79\n",
      "Iteration:     46,   Func. Count:    355,   Neg. LLF: 2115881195.856712\n",
      "Iteration:     47,   Func. Count:    364,   Neg. LLF: 31114249.811962806\n",
      "Iteration:     48,   Func. Count:    372,   Neg. LLF: 31113491.53905447\n",
      "Iteration:     49,   Func. Count:    380,   Neg. LLF: 31111314.692110352\n",
      "Iteration:     50,   Func. Count:    388,   Neg. LLF: 31108444.799911566\n",
      "Iteration:     51,   Func. Count:    397,   Neg. LLF: 9.054024382193789e+16\n",
      "Optimization terminated successfully    (Exit mode 0)\n",
      "            Current function value: -227.9582641379842\n",
      "            Iterations: 53\n",
      "            Function evaluations: 407\n",
      "            Gradient evaluations: 51\n"
     ]
    },
    {
     "data": {
      "text/plain": [
       "                     Constant Mean - EGARCH Model Results                     \n",
       "==============================================================================\n",
       "Dep. Variable:            log_returns   R-squared:                       0.000\n",
       "Mean Model:             Constant Mean   Adj. R-squared:                  0.000\n",
       "Vol Model:                     EGARCH   Log-Likelihood:                227.958\n",
       "Distribution:                  Normal   AIC:                          -447.917\n",
       "Method:            Maximum Likelihood   BIC:                          -439.219\n",
       "                                        No. Observations:                   65\n",
       "Date:                Thu, Sep 30 2021   Df Residuals:                       64\n",
       "Time:                        14:24:47   Df Model:                            1\n",
       "                                  Mean Model                                  \n",
       "==============================================================================\n",
       "                 coef    std err          t      P>|t|        95.0% Conf. Int.\n",
       "------------------------------------------------------------------------------\n",
       "mu            -0.0382  1.491e-11 -2.563e+09      0.000 [-3.823e-02,-3.823e-02]\n",
       "                            Volatility Model                            \n",
       "========================================================================\n",
       "                 coef    std err          t      P>|t|  95.0% Conf. Int.\n",
       "------------------------------------------------------------------------\n",
       "omega         -3.2595  4.839e-10 -6.736e+09      0.000 [ -3.260, -3.260]\n",
       "alpha[1]      -1.0430  9.095e-09 -1.147e+08      0.000 [ -1.043, -1.043]\n",
       "beta[1]        0.6639  4.702e-11  1.412e+10      0.000 [  0.664,  0.664]\n",
       "========================================================================\n",
       "\n",
       "Covariance estimator: robust\n",
       "ARCHModelResult, id: 0x7fefb7a76d00"
      ]
     },
     "execution_count": 101,
     "metadata": {},
     "output_type": "execute_result"
    }
   ],
   "source": [
    "fit_garch_model(equity_etf_df, Year2020.Q3, model_type=\"EGARCH\")\n"
   ]
  },
  {
   "cell_type": "markdown",
   "id": "82c7d071",
   "metadata": {},
   "source": [
    "### EGARCH model for Q4"
   ]
  },
  {
   "cell_type": "code",
   "execution_count": 34,
   "id": "93afa294",
   "metadata": {},
   "outputs": [
    {
     "name": "stdout",
     "output_type": "stream",
     "text": [
      "Iteration:      1,   Func. Count:      6,   Neg. LLF: 495711133345831.4\n",
      "Iteration:      2,   Func. Count:     17,   Neg. LLF: 28.49299178295043\n",
      "Iteration:      3,   Func. Count:     25,   Neg. LLF: 10762291849.72129\n",
      "Iteration:      4,   Func. Count:     33,   Neg. LLF: -216.0683089905088\n",
      "Iteration:      5,   Func. Count:     38,   Neg. LLF: -216.6765723818544\n",
      "Iteration:      6,   Func. Count:     43,   Neg. LLF: 29077627.83140301\n",
      "Iteration:      7,   Func. Count:     49,   Neg. LLF: 29785386.69386435\n",
      "Iteration:      8,   Func. Count:     55,   Neg. LLF: 30156062.99223698\n",
      "Iteration:      9,   Func. Count:     61,   Neg. LLF: 30237421.940790463\n",
      "Iteration:     10,   Func. Count:     67,   Neg. LLF: -219.40599492477432\n",
      "Iteration:     11,   Func. Count:     72,   Neg. LLF: -158.970568971522\n",
      "Iteration:     12,   Func. Count:     78,   Neg. LLF: 40752492.32341188\n",
      "Iteration:     13,   Func. Count:     85,   Neg. LLF: -50.10944175906618\n",
      "Iteration:     14,   Func. Count:     91,   Neg. LLF: 36199558.97165329\n",
      "Iteration:     15,   Func. Count:     97,   Neg. LLF: 39870883.70335717\n",
      "Iteration:     16,   Func. Count:    104,   Neg. LLF: 24342175.976628177\n",
      "Iteration:     17,   Func. Count:    110,   Neg. LLF: 58014.15008801884\n",
      "Iteration:     18,   Func. Count:    116,   Neg. LLF: 110027.55602211958\n",
      "Iteration:     19,   Func. Count:    122,   Neg. LLF: -222.37597194093848\n",
      "Iteration:     20,   Func. Count:    127,   Neg. LLF: 452351.5220088563\n",
      "Iteration:     21,   Func. Count:    133,   Neg. LLF: 28800658.239661057\n",
      "Iteration:     22,   Func. Count:    140,   Neg. LLF: 508.6759130738419\n",
      "Iteration:     23,   Func. Count:    146,   Neg. LLF: -220.15256321212678\n",
      "Iteration:     24,   Func. Count:    152,   Neg. LLF: -223.0176004282146\n",
      "Iteration:     25,   Func. Count:    158,   Neg. LLF: -222.83130124351783\n",
      "Iteration:     26,   Func. Count:    164,   Neg. LLF: 22560375.054583978\n",
      "Iteration:     27,   Func. Count:    170,   Neg. LLF: 49969984.713244736\n",
      "Iteration:     28,   Func. Count:    177,   Neg. LLF: 40724155.64745628\n",
      "Iteration:     29,   Func. Count:    184,   Neg. LLF: 50547757.63606586\n",
      "Iteration:     30,   Func. Count:    191,   Neg. LLF: 51751312.06388347\n",
      "Iteration:     31,   Func. Count:    198,   Neg. LLF: 51491536.42664727\n",
      "Iteration:     32,   Func. Count:    213,   Neg. LLF: 9.131153359046868e+20\n",
      "Iteration:     33,   Func. Count:    228,   Neg. LLF: 7321033545.920957\n",
      "Iteration:     34,   Func. Count:    237,   Neg. LLF: 3916899146.4839783\n",
      "Iteration:     35,   Func. Count:    245,   Neg. LLF: 47984802011.915504\n",
      "Iteration:     36,   Func. Count:    254,   Neg. LLF: 240185415.97557247\n",
      "Optimization terminated successfully    (Exit mode 0)\n",
      "            Current function value: -224.16144698605996\n",
      "            Iterations: 37\n",
      "            Function evaluations: 264\n",
      "            Gradient evaluations: 36\n"
     ]
    },
    {
     "ename": "AttributeError",
     "evalue": "'ARCHModelResult' object has no attribute 'type'",
     "output_type": "error",
     "traceback": [
      "\u001b[0;31m---------------------------------------------------------------------------\u001b[0m",
      "\u001b[0;31mAttributeError\u001b[0m                            Traceback (most recent call last)",
      "\u001b[0;32m/tmp/ipykernel_41339/3262003503.py\u001b[0m in \u001b[0;36m<module>\u001b[0;34m\u001b[0m\n\u001b[1;32m      1\u001b[0m \u001b[0mres\u001b[0m \u001b[0;34m=\u001b[0m \u001b[0mfit_garch_model\u001b[0m\u001b[0;34m(\u001b[0m\u001b[0mequity_etf_df\u001b[0m\u001b[0;34m,\u001b[0m \u001b[0mYear2020\u001b[0m\u001b[0;34m.\u001b[0m\u001b[0mQ4\u001b[0m\u001b[0;34m,\u001b[0m \u001b[0mmodel_type\u001b[0m\u001b[0;34m=\u001b[0m\u001b[0;34m\"EGARCH\"\u001b[0m\u001b[0;34m)\u001b[0m\u001b[0;34m\u001b[0m\u001b[0;34m\u001b[0m\u001b[0m\n\u001b[0;32m----> 2\u001b[0;31m \u001b[0mres\u001b[0m\u001b[0;34m.\u001b[0m\u001b[0mtype\u001b[0m\u001b[0;34m\u001b[0m\u001b[0;34m\u001b[0m\u001b[0m\n\u001b[0m",
      "\u001b[0;31mAttributeError\u001b[0m: 'ARCHModelResult' object has no attribute 'type'"
     ]
    }
   ],
   "source": [
    "res = fit_garch_model(equity_etf_df, Year2020.Q4, model_type=\"EGARCH\")\n",
    "res.type"
   ]
  },
  {
   "cell_type": "markdown",
   "id": "1e883858",
   "metadata": {},
   "source": [
    "\n",
    "\n",
    "<div class=\"alert alert-block alert-success\">\n",
    "\n",
    "<b>5.4) What are the 3 long-term variances indicated by the models?</b><br/>\n",
    "(1 point for each correct variance)<br/><br/>\n",
    "    \n",
    "The long-term variances are...\n",
    "</div>    \n"
   ]
  },
  {
   "cell_type": "markdown",
   "id": "5d0c471e",
   "metadata": {},
   "source": [
    "---\n",
    "# 6 Assessing Stationarity"
   ]
  },
  {
   "cell_type": "markdown",
   "id": "ea594b72",
   "metadata": {},
   "source": [
    "<b>6.1) Pick 1 of the 3 quarters in 2020 (Q2, Q3, or Q4).  Test your gold ETF for stationarity.  Explicitly state which test you used to determine stationarity.</b><br/>\n",
    "\n",
    "Stationarity is check for below conditions in the time series\n",
    "1. Mean : mean of the series is constant through out series\n",
    "2. variance or std_deviation : if standard deviation of the series is constant through out series\n",
    "3. covariance or seasanality : there is not sesionality or periodic behavior seen in the series\n",
    "\n",
    "Stationarity could be tested with one of the below method\n",
    "1. Visually : \n",
    "    For simple series with bold appearances of features discussed above\n",
    "    cant be used for every or complex serieses\n",
    "    less accurate\n",
    "2. Global vs Local tests\n",
    "    Involves some calculations of calculating local means and comparing with global means\n",
    "    Not strong test\n",
    "    Not stastatical method\n",
    "    cant be used for every or complex serieses    \n",
    "3. Augmented Dickey-Fuller or ADF Test\n",
    "4. Phillips–Perron test or PP Test : unitroot test\n",
    "    https://stats.stackexchange.com/questions/14076/phillips-perron-unit-root-test-instead-of-adf-test\n",
    "   \n",
    "\n",
    "\n",
    "`Selected Quarter:  Q3 = ('2020-07-01', '2020-10-01')`<br/>\n",
    "`Test Used: ADF Test for Gold`"
   ]
  },
  {
   "cell_type": "code",
   "execution_count": 103,
   "id": "584d3c0f",
   "metadata": {},
   "outputs": [],
   "source": [
    "from arch.unitroot import ADF\n",
    "from arch.unitroot import PhillipsPerron\n"
   ]
  },
  {
   "cell_type": "code",
   "execution_count": 104,
   "id": "28f9b352",
   "metadata": {},
   "outputs": [
    {
     "data": {
      "text/html": [
       "<table class=\"simpletable\">\n",
       "<caption>Augmented Dickey-Fuller Results</caption>\n",
       "<tr>\n",
       "  <td>Test Statistic</td>    <td>-1.497</td>\n",
       "</tr>\n",
       "<tr>\n",
       "  <td>P-value</td>            <td>0.535</td>\n",
       "</tr>\n",
       "<tr>\n",
       "  <td>Lags</td>                   <td>5</td>\n",
       "</tr>\n",
       "</table><br/><br/>Trend: Constant<br/>Critical Values: -3.46 (1%), -2.87 (5%), -2.57 (10%)<br/>Null Hypothesis: The process contains a unit root.<br/>Alternative Hypothesis: The process is weakly stationary."
      ],
      "text/plain": [
       "<class 'arch.unitroot.unitroot.ADF'>\n",
       "\"\"\"\n",
       "   Augmented Dickey-Fuller Results   \n",
       "=====================================\n",
       "Test Statistic                 -1.497\n",
       "P-value                         0.535\n",
       "Lags                                5\n",
       "-------------------------------------\n",
       "\n",
       "Trend: Constant\n",
       "Critical Values: -3.46 (1%), -2.87 (5%), -2.57 (10%)\n",
       "Null Hypothesis: The process contains a unit root.\n",
       "Alternative Hypothesis: The process is weakly stationary.\n",
       "\"\"\""
      ]
     },
     "execution_count": 104,
     "metadata": {},
     "output_type": "execute_result"
    }
   ],
   "source": [
    "gold_etf_closing_price_df = gold_etf_df.loc[:,['Adj Close']]\n",
    "gold_etf_closing_price_df.shape[1]\n",
    "ADF(gold_etf_closing_price_df)"
   ]
  },
  {
   "cell_type": "markdown",
   "id": "27aface2",
   "metadata": {},
   "source": [
    "<div class=\"alert alert-block alert-success\">\n",
    "\n",
    "<b>Conclusion:</b> Gold ETF adjusted closing price series in Q3 is weakly stationary(or not stationary) as per the ADF test conducted with results showing it is weakly stationary. While trend detected in constant and could be visually verified to some extent<br/>\n",
    "</div>"
   ]
  },
  {
   "cell_type": "markdown",
   "id": "3bd21f6b",
   "metadata": {},
   "source": [
    "<b>6.2) Using the same quarter, test your equity ETF for stationarity. Explicitly state which test you used to determine stationarity.</b><br/>\n",
    "\n",
    "`Selected Quarter: Q3 = ('2020-07-01', '2020-10-01')`<br/>\n",
    "`Test Used: PP or PhillipsPerron Test for Equity`"
   ]
  },
  {
   "cell_type": "code",
   "execution_count": 105,
   "id": "663a6356",
   "metadata": {},
   "outputs": [
    {
     "data": {
      "text/html": [
       "<table class=\"simpletable\">\n",
       "<caption>Phillips-Perron Test (Z-tau)</caption>\n",
       "<tr>\n",
       "  <td>Test Statistic</td>    <td>-1.403</td>\n",
       "</tr>\n",
       "<tr>\n",
       "  <td>P-value</td>            <td>0.581</td>\n",
       "</tr>\n",
       "<tr>\n",
       "  <td>Lags</td>                  <td>16</td>\n",
       "</tr>\n",
       "</table><br/><br/>Trend: Constant<br/>Critical Values: -3.46 (1%), -2.87 (5%), -2.57 (10%)<br/>Null Hypothesis: The process contains a unit root.<br/>Alternative Hypothesis: The process is weakly stationary."
      ],
      "text/plain": [
       "<class 'arch.unitroot.unitroot.PhillipsPerron'>\n",
       "\"\"\"\n",
       "     Phillips-Perron Test (Z-tau)    \n",
       "=====================================\n",
       "Test Statistic                 -1.403\n",
       "P-value                         0.581\n",
       "Lags                               16\n",
       "-------------------------------------\n",
       "\n",
       "Trend: Constant\n",
       "Critical Values: -3.46 (1%), -2.87 (5%), -2.57 (10%)\n",
       "Null Hypothesis: The process contains a unit root.\n",
       "Alternative Hypothesis: The process is weakly stationary.\n",
       "\"\"\""
      ]
     },
     "execution_count": 105,
     "metadata": {},
     "output_type": "execute_result"
    }
   ],
   "source": [
    "equity_etf_closing_price_df = equity_etf_df.loc[:,['Adj Close']]\n",
    "equity_etf_closing_price_df.shape[1]\n",
    "PhillipsPerron(equity_etf_closing_price_df)\n"
   ]
  },
  {
   "cell_type": "markdown",
   "id": "273ad27c",
   "metadata": {},
   "source": [
    "<div class=\"alert alert-block alert-success\">\n",
    "\n",
    "<b>Conclusion:</b> Equity ETF adjusted closing price series in Q3 is weakly stationary(or not stationary) as per the ADF test conducted with results showing it is weakly stationary. While trend detected in constant and could be visually verified to some extent<br/>\n",
    "</div>"
   ]
  },
  {
   "cell_type": "markdown",
   "id": "6cffb520",
   "metadata": {},
   "source": [
    "<b>6.3) Using the same quarter, test Bitcoin for stationarity. Explicitly state which test you used to determine stationarity.</b><br/>\n",
    "\n",
    "`Selected Quarter:  Q3 = ('2020-07-01', '2020-10-01')`<br/>\n",
    "`Test Used: ADF Test for BitCoin`"
   ]
  },
  {
   "cell_type": "code",
   "execution_count": 106,
   "id": "da0682a3",
   "metadata": {},
   "outputs": [
    {
     "data": {
      "text/html": [
       "<table class=\"simpletable\">\n",
       "<caption>Augmented Dickey-Fuller Results</caption>\n",
       "<tr>\n",
       "  <td>Test Statistic</td>     <td>3.786</td>\n",
       "</tr>\n",
       "<tr>\n",
       "  <td>P-value</td>            <td>1.000</td>\n",
       "</tr>\n",
       "<tr>\n",
       "  <td>Lags</td>                   <td>0</td>\n",
       "</tr>\n",
       "</table><br/><br/>Trend: Constant<br/>Critical Values: -3.45 (1%), -2.87 (5%), -2.57 (10%)<br/>Null Hypothesis: The process contains a unit root.<br/>Alternative Hypothesis: The process is weakly stationary."
      ],
      "text/plain": [
       "<class 'arch.unitroot.unitroot.ADF'>\n",
       "\"\"\"\n",
       "   Augmented Dickey-Fuller Results   \n",
       "=====================================\n",
       "Test Statistic                  3.786\n",
       "P-value                         1.000\n",
       "Lags                                0\n",
       "-------------------------------------\n",
       "\n",
       "Trend: Constant\n",
       "Critical Values: -3.45 (1%), -2.87 (5%), -2.57 (10%)\n",
       "Null Hypothesis: The process contains a unit root.\n",
       "Alternative Hypothesis: The process is weakly stationary.\n",
       "\"\"\""
      ]
     },
     "execution_count": 106,
     "metadata": {},
     "output_type": "execute_result"
    }
   ],
   "source": [
    "bitcoin_closing_price_df = bitcoin_df.loc[:,['Adj Close']]\n",
    "bitcoin_closing_price_df.shape[1]\n",
    "ADF(bitcoin_closing_price_df)"
   ]
  },
  {
   "cell_type": "markdown",
   "id": "b1a4271d",
   "metadata": {},
   "source": [
    "<div class=\"alert alert-block alert-success\">\n",
    "\n",
    "<b>Conclusion:</b> Bitcoin adjusted closing price series in Q3 is weakly stationary(or not stationary) as per the ADF test conducted with results showing it is weakly stationary. While trend detected in constant and could be visually verified to some extent<br/>\n",
    "</div>"
   ]
  },
  {
   "cell_type": "markdown",
   "id": "da3cce86",
   "metadata": {},
   "source": [
    "---\n",
    "# 7 Modelling Cointegration"
   ]
  },
  {
   "cell_type": "code",
   "execution_count": 107,
   "id": "347e62e7",
   "metadata": {},
   "outputs": [
    {
     "data": {
      "text/html": [
       "<div>\n",
       "<style scoped>\n",
       "    .dataframe tbody tr th:only-of-type {\n",
       "        vertical-align: middle;\n",
       "    }\n",
       "\n",
       "    .dataframe tbody tr th {\n",
       "        vertical-align: top;\n",
       "    }\n",
       "\n",
       "    .dataframe thead th {\n",
       "        text-align: right;\n",
       "    }\n",
       "</style>\n",
       "<table border=\"1\" class=\"dataframe\">\n",
       "  <thead>\n",
       "    <tr style=\"text-align: right;\">\n",
       "      <th></th>\n",
       "      <th>Open</th>\n",
       "      <th>High</th>\n",
       "      <th>Low</th>\n",
       "      <th>Close</th>\n",
       "      <th>Adj Close</th>\n",
       "      <th>Volume</th>\n",
       "      <th>Daily Returns</th>\n",
       "      <th>MA20</th>\n",
       "    </tr>\n",
       "    <tr>\n",
       "      <th>Date</th>\n",
       "      <th></th>\n",
       "      <th></th>\n",
       "      <th></th>\n",
       "      <th></th>\n",
       "      <th></th>\n",
       "      <th></th>\n",
       "      <th></th>\n",
       "      <th></th>\n",
       "    </tr>\n",
       "  </thead>\n",
       "  <tbody>\n",
       "    <tr>\n",
       "      <th>2020-04-01</th>\n",
       "      <td>6437.319336</td>\n",
       "      <td>6612.573730</td>\n",
       "      <td>6202.373535</td>\n",
       "      <td>6606.776367</td>\n",
       "      <td>6606.776367</td>\n",
       "      <td>40346426266</td>\n",
       "      <td>0.026113</td>\n",
       "      <td>6034.907422</td>\n",
       "    </tr>\n",
       "    <tr>\n",
       "      <th>2020-04-02</th>\n",
       "      <td>6606.776367</td>\n",
       "      <td>7088.247559</td>\n",
       "      <td>6595.918457</td>\n",
       "      <td>6793.624512</td>\n",
       "      <td>6793.624512</td>\n",
       "      <td>47660646124</td>\n",
       "      <td>0.028281</td>\n",
       "      <td>6096.403296</td>\n",
       "    </tr>\n",
       "    <tr>\n",
       "      <th>2020-04-03</th>\n",
       "      <td>6797.396484</td>\n",
       "      <td>7003.220703</td>\n",
       "      <td>6673.335938</td>\n",
       "      <td>6733.387207</td>\n",
       "      <td>6733.387207</td>\n",
       "      <td>38976504903</td>\n",
       "      <td>-0.008867</td>\n",
       "      <td>6173.054346</td>\n",
       "    </tr>\n",
       "    <tr>\n",
       "      <th>2020-04-04</th>\n",
       "      <td>6738.382812</td>\n",
       "      <td>6878.953613</td>\n",
       "      <td>6696.484863</td>\n",
       "      <td>6867.527344</td>\n",
       "      <td>6867.527344</td>\n",
       "      <td>33185988584</td>\n",
       "      <td>0.019922</td>\n",
       "      <td>6246.814966</td>\n",
       "    </tr>\n",
       "    <tr>\n",
       "      <th>2020-04-05</th>\n",
       "      <td>6862.537598</td>\n",
       "      <td>6883.414062</td>\n",
       "      <td>6715.929199</td>\n",
       "      <td>6791.129395</td>\n",
       "      <td>6791.129395</td>\n",
       "      <td>29510409856</td>\n",
       "      <td>-0.011125</td>\n",
       "      <td>6335.647437</td>\n",
       "    </tr>\n",
       "    <tr>\n",
       "      <th>...</th>\n",
       "      <td>...</td>\n",
       "      <td>...</td>\n",
       "      <td>...</td>\n",
       "      <td>...</td>\n",
       "      <td>...</td>\n",
       "      <td>...</td>\n",
       "      <td>...</td>\n",
       "      <td>...</td>\n",
       "    </tr>\n",
       "    <tr>\n",
       "      <th>2020-09-26</th>\n",
       "      <td>10702.237305</td>\n",
       "      <td>10778.500000</td>\n",
       "      <td>10682.082031</td>\n",
       "      <td>10754.437500</td>\n",
       "      <td>10754.437500</td>\n",
       "      <td>18105012128</td>\n",
       "      <td>0.004873</td>\n",
       "      <td>10604.057861</td>\n",
       "    </tr>\n",
       "    <tr>\n",
       "      <th>2020-09-27</th>\n",
       "      <td>10752.939453</td>\n",
       "      <td>10804.732422</td>\n",
       "      <td>10643.458008</td>\n",
       "      <td>10774.426758</td>\n",
       "      <td>10774.426758</td>\n",
       "      <td>18016880214</td>\n",
       "      <td>0.001859</td>\n",
       "      <td>10624.301025</td>\n",
       "    </tr>\n",
       "    <tr>\n",
       "      <th>2020-09-28</th>\n",
       "      <td>10771.641602</td>\n",
       "      <td>10949.123047</td>\n",
       "      <td>10716.676758</td>\n",
       "      <td>10721.327148</td>\n",
       "      <td>10721.327148</td>\n",
       "      <td>22720365389</td>\n",
       "      <td>-0.004928</td>\n",
       "      <td>10653.791553</td>\n",
       "    </tr>\n",
       "    <tr>\n",
       "      <th>2020-09-29</th>\n",
       "      <td>10712.462891</td>\n",
       "      <td>10858.939453</td>\n",
       "      <td>10665.344727</td>\n",
       "      <td>10848.830078</td>\n",
       "      <td>10848.830078</td>\n",
       "      <td>20459870042</td>\n",
       "      <td>0.011892</td>\n",
       "      <td>10684.115674</td>\n",
       "    </tr>\n",
       "    <tr>\n",
       "      <th>2020-09-30</th>\n",
       "      <td>10845.411133</td>\n",
       "      <td>10856.528320</td>\n",
       "      <td>10689.670898</td>\n",
       "      <td>10787.618164</td>\n",
       "      <td>10787.618164</td>\n",
       "      <td>20759622010</td>\n",
       "      <td>-0.005642</td>\n",
       "      <td>10705.339648</td>\n",
       "    </tr>\n",
       "  </tbody>\n",
       "</table>\n",
       "<p>182 rows × 8 columns</p>\n",
       "</div>"
      ],
      "text/plain": [
       "                    Open          High           Low         Close  \\\n",
       "Date                                                                 \n",
       "2020-04-01   6437.319336   6612.573730   6202.373535   6606.776367   \n",
       "2020-04-02   6606.776367   7088.247559   6595.918457   6793.624512   \n",
       "2020-04-03   6797.396484   7003.220703   6673.335938   6733.387207   \n",
       "2020-04-04   6738.382812   6878.953613   6696.484863   6867.527344   \n",
       "2020-04-05   6862.537598   6883.414062   6715.929199   6791.129395   \n",
       "...                  ...           ...           ...           ...   \n",
       "2020-09-26  10702.237305  10778.500000  10682.082031  10754.437500   \n",
       "2020-09-27  10752.939453  10804.732422  10643.458008  10774.426758   \n",
       "2020-09-28  10771.641602  10949.123047  10716.676758  10721.327148   \n",
       "2020-09-29  10712.462891  10858.939453  10665.344727  10848.830078   \n",
       "2020-09-30  10845.411133  10856.528320  10689.670898  10787.618164   \n",
       "\n",
       "               Adj Close       Volume  Daily Returns          MA20  \n",
       "Date                                                                \n",
       "2020-04-01   6606.776367  40346426266       0.026113   6034.907422  \n",
       "2020-04-02   6793.624512  47660646124       0.028281   6096.403296  \n",
       "2020-04-03   6733.387207  38976504903      -0.008867   6173.054346  \n",
       "2020-04-04   6867.527344  33185988584       0.019922   6246.814966  \n",
       "2020-04-05   6791.129395  29510409856      -0.011125   6335.647437  \n",
       "...                  ...          ...            ...           ...  \n",
       "2020-09-26  10754.437500  18105012128       0.004873  10604.057861  \n",
       "2020-09-27  10774.426758  18016880214       0.001859  10624.301025  \n",
       "2020-09-28  10721.327148  22720365389      -0.004928  10653.791553  \n",
       "2020-09-29  10848.830078  20459870042       0.011892  10684.115674  \n",
       "2020-09-30  10787.618164  20759622010      -0.005642  10705.339648  \n",
       "\n",
       "[182 rows x 8 columns]"
      ]
     },
     "execution_count": 107,
     "metadata": {},
     "output_type": "execute_result"
    }
   ],
   "source": [
    "q2_start = '2020-04-01'\n",
    "q3_end = '2020-09-30'\n",
    "\n",
    "gold_q2q3 = gold_etf_df[q2_start:q3_end]\n",
    "equity_q2q3 = equity_etf_df[q2_start:q3_end]\n",
    "bitcoin_q2q3 = bitcoin_df[q2_start:q3_end]\n",
    "\n",
    "bitcoin_q2q3"
   ]
  },
  {
   "cell_type": "markdown",
   "id": "8fbd4dfe",
   "metadata": {},
   "source": [
    "<b>7.1) Using Q2 and Q3 data (April - Sept period), test all the 3 combinations of cointegration using Engle-Granger and Johansen test as following: (gold, equity), (equity, bitcoin) and (bitcoin, gold).\n",
    "</b><br/>"
   ]
  },
  {
   "cell_type": "markdown",
   "id": "ec92fd91",
   "metadata": {},
   "source": [
    "### Engle-Granger Test"
   ]
  },
  {
   "cell_type": "code",
   "execution_count": 108,
   "id": "93b8a106",
   "metadata": {},
   "outputs": [],
   "source": [
    "# (gold, equity)\n",
    "\n",
    "\n",
    "# (gold, bitcoin)\n",
    "\n",
    "\n",
    "# (equity, bitcoin)\n",
    "\n"
   ]
  },
  {
   "cell_type": "markdown",
   "id": "093d258f",
   "metadata": {},
   "source": [
    "### Johansen Test"
   ]
  },
  {
   "cell_type": "code",
   "execution_count": null,
   "id": "be4791a9",
   "metadata": {},
   "outputs": [],
   "source": [
    "# (gold, equity)\n",
    "\n",
    "\n",
    "# (gold, bitcoin)\n",
    "\n",
    "\n",
    "# (equity, bitcoin)\n",
    "\n"
   ]
  },
  {
   "cell_type": "markdown",
   "id": "38f87535",
   "metadata": {},
   "source": [
    "<div class=\"alert alert-block alert-success\">\n",
    "\n",
    "<b>7.2) Explain if Johansen test and Engle-Granger provided different results. </b><br/>\n",
    "</div>"
   ]
  },
  {
   "cell_type": "markdown",
   "id": "5c142bd5",
   "metadata": {},
   "source": [
    "<b>7.3) Implement a VEC model and forecast Q4 evolution. Comment results. (Provide arguments if VEC can not be used).\n",
    "</b><br/>"
   ]
  },
  {
   "cell_type": "code",
   "execution_count": null,
   "id": "37b94aba",
   "metadata": {},
   "outputs": [],
   "source": [
    "\n"
   ]
  },
  {
   "cell_type": "markdown",
   "id": "ee5baf9c",
   "metadata": {},
   "source": [
    "<div class=\"alert alert-block alert-success\">\n",
    "\n",
    "<b> Comment on the results. Can VEC be used? </b><br/>\n",
    "\n",
    "VEC can/cannot be used because ...\n",
    "</div>"
   ]
  },
  {
   "cell_type": "markdown",
   "id": "631544e6",
   "metadata": {},
   "source": [
    "<b>7.4) Implement a VAR model and forecast Q4 evolution.</b><br/>"
   ]
  },
  {
   "cell_type": "code",
   "execution_count": null,
   "id": "e535657d",
   "metadata": {},
   "outputs": [],
   "source": [
    "\n"
   ]
  },
  {
   "cell_type": "markdown",
   "id": "3e7bc658",
   "metadata": {},
   "source": [
    "<div class=\"alert alert-block alert-success\">\n",
    "\n",
    "<b> Comment on the results: </b><br/>\n",
    "\n",
    "</div>"
   ]
  },
  {
   "cell_type": "markdown",
   "id": "7fca112c",
   "metadata": {},
   "source": [
    "<b>7.5) Repeat the entire process using all three variables (equity, gold and bitcoin). Comment forecasts and results.</b><br/> \n"
   ]
  },
  {
   "cell_type": "code",
   "execution_count": null,
   "id": "cd1f0af8",
   "metadata": {},
   "outputs": [],
   "source": [
    "\n"
   ]
  },
  {
   "cell_type": "markdown",
   "id": "a17c45b2",
   "metadata": {},
   "source": [
    "<div class=\"alert alert-block alert-success\">\n",
    "\n",
    "<b> Comment on the forecasts and results: </b><br/>\n",
    "\n",
    "<li>Equity</li>\n",
    "\n",
    "...\n",
    "\n",
    "<li>Gold</li>\n",
    "\n",
    "...\n",
    "\n",
    "<li>Bitcoin</li>\n",
    "...\n",
    "\n",
    "</div>"
   ]
  },
  {
   "cell_type": "markdown",
   "id": "ada677ec",
   "metadata": {},
   "source": [
    "---\n",
    "# 8 Correlation vs Cointegration\n",
    "\n",
    "Discuss as a group and briefly explain your answers with an example from the data set you are using. (Max 300 words.)"
   ]
  },
  {
   "cell_type": "markdown",
   "id": "f007c47c",
   "metadata": {},
   "source": [
    "<div class=\"alert alert-block alert-success\">\n",
    "\n",
    "<b>8.1) Does correlation have a direction?  In other words, is the correlation of x and y equal to correlation of y and x?</b><br/>\n",
    "</div>"
   ]
  },
  {
   "cell_type": "markdown",
   "id": "e441039f",
   "metadata": {},
   "source": [
    "<div class=\"alert alert-block alert-success\">\n",
    "<b>8.2) Does linear regression have a direction?  Are the slope and intercept the same if x is regressed on y, or y is regressed on x?</b><br/>\n",
    "</div>"
   ]
  },
  {
   "cell_type": "markdown",
   "id": "f40cb357",
   "metadata": {},
   "source": [
    "<div class=\"alert alert-block alert-success\">\n",
    "<b>8.3) Does cointegration have a direction?  Will the cointegrating vector be the same if x is regressed on y, or if y is regressed on x?</b><br/>\n",
    "</div>"
   ]
  },
  {
   "cell_type": "markdown",
   "id": "d6c11748",
   "metadata": {},
   "source": [
    "---\n",
    "\n",
    "_(End of Questions 1-8)_"
   ]
  }
 ],
 "metadata": {
  "kernelspec": {
   "display_name": "Python 3 (ipykernel)",
   "language": "python",
   "name": "python3"
  },
  "language_info": {
   "codemirror_mode": {
    "name": "ipython",
    "version": 3
   },
   "file_extension": ".py",
   "mimetype": "text/x-python",
   "name": "python",
   "nbconvert_exporter": "python",
   "pygments_lexer": "ipython3",
   "version": "3.8.10"
  }
 },
 "nbformat": 4,
 "nbformat_minor": 5
}
