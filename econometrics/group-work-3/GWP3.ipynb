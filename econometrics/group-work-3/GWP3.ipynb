{
 "cells": [
  {
   "cell_type": "code",
   "execution_count": 139,
   "id": "bf97788f",
   "metadata": {
    "executionInfo": {
     "elapsed": 437,
     "status": "ok",
     "timestamp": 1634709899237,
     "user": {
      "displayName": "k yuning",
      "photoUrl": "https://lh3.googleusercontent.com/a/default-user=s64",
      "userId": "17832151192192192873"
     },
     "user_tz": -480
    },
    "id": "06e15fe8"
   },
   "outputs": [],
   "source": [
    "import pandas as pd\n",
    "import numpy as np\n",
    "import matplotlib.pyplot as plt\n",
    "import yfinance as yf\n",
    "import arch"
   ]
  },
  {
   "cell_type": "markdown",
   "id": "da080c0b",
   "metadata": {
    "id": "460cc14e"
   },
   "source": [
    "## 1. Importing Data"
   ]
  },
  {
   "cell_type": "code",
   "execution_count": 8,
   "id": "7e1e673d",
   "metadata": {
    "colab": {
     "base_uri": "https://localhost:8080/",
     "height": 501
    },
    "executionInfo": {
     "elapsed": 810,
     "status": "ok",
     "timestamp": 1634709903140,
     "user": {
      "displayName": "k yuning",
      "photoUrl": "https://lh3.googleusercontent.com/a/default-user=s64",
      "userId": "17832151192192192873"
     },
     "user_tz": -480
    },
    "id": "d1a2a17c",
    "outputId": "af5bd615-42be-47fb-febe-fbbb7ec4c791"
   },
   "outputs": [
    {
     "name": "stdout",
     "output_type": "stream",
     "text": [
      "[*********************100%***********************]  1 of 1 completed\n",
      "[*********************100%***********************]  1 of 1 completed\n",
      "[*********************100%***********************]  1 of 1 completed\n"
     ]
    },
    {
     "data": {
      "text/html": [
       "<div>\n",
       "<style scoped>\n",
       "    .dataframe tbody tr th:only-of-type {\n",
       "        vertical-align: middle;\n",
       "    }\n",
       "\n",
       "    .dataframe tbody tr th {\n",
       "        vertical-align: top;\n",
       "    }\n",
       "\n",
       "    .dataframe thead th {\n",
       "        text-align: right;\n",
       "    }\n",
       "</style>\n",
       "<table border=\"1\" class=\"dataframe\">\n",
       "  <thead>\n",
       "    <tr style=\"text-align: right;\">\n",
       "      <th></th>\n",
       "      <th>BTC</th>\n",
       "      <th>GLD</th>\n",
       "      <th>VGK</th>\n",
       "    </tr>\n",
       "    <tr>\n",
       "      <th>Date</th>\n",
       "      <th></th>\n",
       "      <th></th>\n",
       "      <th></th>\n",
       "    </tr>\n",
       "  </thead>\n",
       "  <tbody>\n",
       "    <tr>\n",
       "      <th>2020-03-31</th>\n",
       "      <td>6438.644531</td>\n",
       "      <td>148.050003</td>\n",
       "      <td>41.333157</td>\n",
       "    </tr>\n",
       "    <tr>\n",
       "      <th>2020-04-01</th>\n",
       "      <td>6606.776367</td>\n",
       "      <td>149.449997</td>\n",
       "      <td>39.518623</td>\n",
       "    </tr>\n",
       "    <tr>\n",
       "      <th>2020-04-02</th>\n",
       "      <td>6793.624512</td>\n",
       "      <td>151.899994</td>\n",
       "      <td>40.273083</td>\n",
       "    </tr>\n",
       "    <tr>\n",
       "      <th>2020-04-03</th>\n",
       "      <td>6733.387207</td>\n",
       "      <td>152.649994</td>\n",
       "      <td>39.432674</td>\n",
       "    </tr>\n",
       "    <tr>\n",
       "      <th>2020-04-04</th>\n",
       "      <td>6867.527344</td>\n",
       "      <td>152.649994</td>\n",
       "      <td>39.432674</td>\n",
       "    </tr>\n",
       "    <tr>\n",
       "      <th>...</th>\n",
       "      <td>...</td>\n",
       "      <td>...</td>\n",
       "      <td>...</td>\n",
       "    </tr>\n",
       "    <tr>\n",
       "      <th>2020-12-27</th>\n",
       "      <td>26272.294922</td>\n",
       "      <td>176.350006</td>\n",
       "      <td>58.935150</td>\n",
       "    </tr>\n",
       "    <tr>\n",
       "      <th>2020-12-28</th>\n",
       "      <td>27084.808594</td>\n",
       "      <td>175.710007</td>\n",
       "      <td>59.336601</td>\n",
       "    </tr>\n",
       "    <tr>\n",
       "      <th>2020-12-29</th>\n",
       "      <td>27362.437500</td>\n",
       "      <td>176.350006</td>\n",
       "      <td>59.767429</td>\n",
       "    </tr>\n",
       "    <tr>\n",
       "      <th>2020-12-30</th>\n",
       "      <td>28840.953125</td>\n",
       "      <td>177.699997</td>\n",
       "      <td>59.689095</td>\n",
       "    </tr>\n",
       "    <tr>\n",
       "      <th>2020-12-31</th>\n",
       "      <td>29001.720703</td>\n",
       "      <td>178.360001</td>\n",
       "      <td>58.984108</td>\n",
       "    </tr>\n",
       "  </tbody>\n",
       "</table>\n",
       "<p>272 rows × 3 columns</p>\n",
       "</div>"
      ],
      "text/plain": [
       "                     BTC         GLD        VGK\n",
       "Date                                           \n",
       "2020-03-31   6438.644531  148.050003  41.333157\n",
       "2020-04-01   6606.776367  149.449997  39.518623\n",
       "2020-04-02   6793.624512  151.899994  40.273083\n",
       "2020-04-03   6733.387207  152.649994  39.432674\n",
       "2020-04-04   6867.527344  152.649994  39.432674\n",
       "...                  ...         ...        ...\n",
       "2020-12-27  26272.294922  176.350006  58.935150\n",
       "2020-12-28  27084.808594  175.710007  59.336601\n",
       "2020-12-29  27362.437500  176.350006  59.767429\n",
       "2020-12-30  28840.953125  177.699997  59.689095\n",
       "2020-12-31  29001.720703  178.360001  58.984108\n",
       "\n",
       "[272 rows x 3 columns]"
      ]
     },
     "execution_count": 8,
     "metadata": {},
     "output_type": "execute_result"
    }
   ],
   "source": [
    "# Importing Data\n",
    "bit_data = yf.download(tickers = 'BTC-USD', start = \"2020-04-01\", end = \"2021-01-01\", interval = '1d')\n",
    "gld_data = yf.download(tickers = 'GLD', start = \"2020-04-01\", end = \"2021-01-01\", interval = '1d')\n",
    "vgk_data = yf.download(tickers = 'VGK', start = \"2020-04-01\", end = \"2021-01-01\", interval = '1d')\n",
    "\n",
    "# Concatenating the adjusted close prices together\n",
    "adj_close_data = pd.DataFrame(columns = ['BTC', 'GLD', 'VGK'])\n",
    "adj_close_data['BTC'] = bit_data['Adj Close']\n",
    "adj_close_data['GLD'] = gld_data['Adj Close']\n",
    "adj_close_data['VGK'] = vgk_data['Adj Close']\n",
    "\n",
    "# Filling NaN Values with forward-filling\n",
    "adj_close_data.fillna(method = \"ffill\", axis = 0, inplace = True)\n",
    "\n",
    "adj_close_data"
   ]
  },
  {
   "cell_type": "markdown",
   "id": "a2521574",
   "metadata": {
    "id": "e018b88e"
   },
   "source": [
    "## 2. Data Processing and Calculating Returns"
   ]
  },
  {
   "cell_type": "code",
   "execution_count": 9,
   "id": "e29fa591",
   "metadata": {
    "colab": {
     "base_uri": "https://localhost:8080/",
     "height": 450
    },
    "executionInfo": {
     "elapsed": 372,
     "status": "ok",
     "timestamp": 1634709915716,
     "user": {
      "displayName": "k yuning",
      "photoUrl": "https://lh3.googleusercontent.com/a/default-user=s64",
      "userId": "17832151192192192873"
     },
     "user_tz": -480
    },
    "id": "d6dfc949",
    "outputId": "a8c1112f-378c-45ce-a1f8-23182f6bc4dd"
   },
   "outputs": [
    {
     "data": {
      "text/html": [
       "<div>\n",
       "<style scoped>\n",
       "    .dataframe tbody tr th:only-of-type {\n",
       "        vertical-align: middle;\n",
       "    }\n",
       "\n",
       "    .dataframe tbody tr th {\n",
       "        vertical-align: top;\n",
       "    }\n",
       "\n",
       "    .dataframe thead th {\n",
       "        text-align: right;\n",
       "    }\n",
       "</style>\n",
       "<table border=\"1\" class=\"dataframe\">\n",
       "  <thead>\n",
       "    <tr style=\"text-align: right;\">\n",
       "      <th></th>\n",
       "      <th>BTC</th>\n",
       "      <th>GLD</th>\n",
       "      <th>VGK</th>\n",
       "    </tr>\n",
       "    <tr>\n",
       "      <th>Date</th>\n",
       "      <th></th>\n",
       "      <th></th>\n",
       "      <th></th>\n",
       "    </tr>\n",
       "  </thead>\n",
       "  <tbody>\n",
       "    <tr>\n",
       "      <th>2020-04-01</th>\n",
       "      <td>0.025778</td>\n",
       "      <td>0.009412</td>\n",
       "      <td>-0.044893</td>\n",
       "    </tr>\n",
       "    <tr>\n",
       "      <th>2020-04-02</th>\n",
       "      <td>0.027889</td>\n",
       "      <td>0.016261</td>\n",
       "      <td>0.018911</td>\n",
       "    </tr>\n",
       "    <tr>\n",
       "      <th>2020-04-03</th>\n",
       "      <td>-0.008906</td>\n",
       "      <td>0.004925</td>\n",
       "      <td>-0.021089</td>\n",
       "    </tr>\n",
       "    <tr>\n",
       "      <th>2020-04-04</th>\n",
       "      <td>0.019726</td>\n",
       "      <td>0.000000</td>\n",
       "      <td>0.000000</td>\n",
       "    </tr>\n",
       "    <tr>\n",
       "      <th>2020-04-05</th>\n",
       "      <td>-0.011187</td>\n",
       "      <td>0.000000</td>\n",
       "      <td>0.000000</td>\n",
       "    </tr>\n",
       "    <tr>\n",
       "      <th>...</th>\n",
       "      <td>...</td>\n",
       "      <td>...</td>\n",
       "      <td>...</td>\n",
       "    </tr>\n",
       "    <tr>\n",
       "      <th>2020-12-27</th>\n",
       "      <td>-0.006251</td>\n",
       "      <td>0.000000</td>\n",
       "      <td>0.000000</td>\n",
       "    </tr>\n",
       "    <tr>\n",
       "      <th>2020-12-28</th>\n",
       "      <td>0.030458</td>\n",
       "      <td>-0.003636</td>\n",
       "      <td>0.006789</td>\n",
       "    </tr>\n",
       "    <tr>\n",
       "      <th>2020-12-29</th>\n",
       "      <td>0.010198</td>\n",
       "      <td>0.003636</td>\n",
       "      <td>0.007235</td>\n",
       "    </tr>\n",
       "    <tr>\n",
       "      <th>2020-12-30</th>\n",
       "      <td>0.052625</td>\n",
       "      <td>0.007626</td>\n",
       "      <td>-0.001312</td>\n",
       "    </tr>\n",
       "    <tr>\n",
       "      <th>2020-12-31</th>\n",
       "      <td>0.005559</td>\n",
       "      <td>0.003707</td>\n",
       "      <td>-0.011881</td>\n",
       "    </tr>\n",
       "  </tbody>\n",
       "</table>\n",
       "<p>271 rows × 3 columns</p>\n",
       "</div>"
      ],
      "text/plain": [
       "                 BTC       GLD       VGK\n",
       "Date                                    \n",
       "2020-04-01  0.025778  0.009412 -0.044893\n",
       "2020-04-02  0.027889  0.016261  0.018911\n",
       "2020-04-03 -0.008906  0.004925 -0.021089\n",
       "2020-04-04  0.019726  0.000000  0.000000\n",
       "2020-04-05 -0.011187  0.000000  0.000000\n",
       "...              ...       ...       ...\n",
       "2020-12-27 -0.006251  0.000000  0.000000\n",
       "2020-12-28  0.030458 -0.003636  0.006789\n",
       "2020-12-29  0.010198  0.003636  0.007235\n",
       "2020-12-30  0.052625  0.007626 -0.001312\n",
       "2020-12-31  0.005559  0.003707 -0.011881\n",
       "\n",
       "[271 rows x 3 columns]"
      ]
     },
     "execution_count": 9,
     "metadata": {},
     "output_type": "execute_result"
    }
   ],
   "source": [
    "ret_data = pd.DataFrame(columns = ['BTC', 'GLD', 'VGK'])\n",
    "\n",
    "# Calculating daily returns for GOLD ETF\n",
    "ret_data['BTC'] = np.log(adj_close_data['BTC']) - np.log(adj_close_data['BTC'].shift(1))\n",
    "\n",
    "# Calculating daily returns for GOLD ETF\n",
    "ret_data['GLD'] = np.log(adj_close_data['GLD']) - np.log(adj_close_data['GLD'].shift(1))\n",
    "\n",
    "# Calculating daily returns for EQUITY ETF\n",
    "ret_data['VGK'] = np.log(adj_close_data['VGK']) - np.log(adj_close_data['VGK'].shift(1))\n",
    "\n",
    "ret_data.dropna(inplace = True)\n",
    "ret_data"
   ]
  },
  {
   "cell_type": "markdown",
   "id": "5d0ba2c8",
   "metadata": {
    "id": "b0d8c507"
   },
   "source": [
    "## 3. Data Summaries Extreme Values"
   ]
  },
  {
   "cell_type": "markdown",
   "id": "f3620ccf",
   "metadata": {
    "id": "c6e7d082"
   },
   "source": [
    "Here we use the Z Score method for finding the extreme values, meaning that when a values is 3 standard deviations away from the mean of our data series we consider that an extreme, probably rare, realization of the data generating process."
   ]
  },
  {
   "cell_type": "code",
   "execution_count": 10,
   "id": "9b480984",
   "metadata": {
    "colab": {
     "base_uri": "https://localhost:8080/"
    },
    "executionInfo": {
     "elapsed": 9,
     "status": "ok",
     "timestamp": 1634709919450,
     "user": {
      "displayName": "k yuning",
      "photoUrl": "https://lh3.googleusercontent.com/a/default-user=s64",
      "userId": "17832151192192192873"
     },
     "user_tz": -480
    },
    "id": "2ca17f11",
    "outputId": "780d9dc5-ffe9-433f-8688-ba983410cacd"
   },
   "outputs": [
    {
     "name": "stdout",
     "output_type": "stream",
     "text": [
      "Bitcoin's return for the given period is: 150.504 %\n",
      "Gold ETF's return for the given period is: 18.625 %\n",
      "Equity ETF's return for the given period is: 35.56 %\n",
      "\n",
      "Bitcoin's kurtosis for the given period is: 2.742976185262016\n",
      "Gold ETF's kurtosis for the given period is: 7.800406418235283\n",
      "Equity ETF's kurtosis for the given period is: 4.094602787923698\n",
      "\n",
      "BTC outlier returns are: \n",
      "Date\n",
      "2020-04-29    11.984141\n",
      "2020-05-10    -9.133875\n",
      "2020-07-27    10.400867\n",
      "2020-09-03   -10.802491\n",
      "2020-11-05     9.741581\n",
      "2020-11-26    -8.820525\n",
      "Name: BTC, dtype: float64\n",
      "GLD outlier returns are: \n",
      "Date\n",
      "2020-08-11   -5.518973\n",
      "2020-08-19   -3.207438\n",
      "2020-11-09   -4.528086\n",
      "Name: GLD, dtype: float64\n",
      "VGK outlier returns are: \n",
      "Date\n",
      "2020-04-01   -4.489296\n",
      "2020-04-06    4.822487\n",
      "2020-04-15   -4.173799\n",
      "2020-05-18    4.420724\n",
      "2020-06-11   -6.042095\n",
      "2020-10-28   -3.935259\n",
      "Name: VGK, dtype: float64\n"
     ]
    }
   ],
   "source": [
    "# 3.1 Calculating total returns of assets for the given period\n",
    "btc_tot_ret = ret_data['BTC'].sum()\n",
    "gld_tot_ret = ret_data['GLD'].sum()\n",
    "vgk_tot_ret = ret_data['VGK'].sum()\n",
    "\n",
    "print(\"Bitcoin's return for the given period is: {} %\".format(np.round(btc_tot_ret*100, 3)))\n",
    "print(\"Gold ETF's return for the given period is: {} %\".format(np.round(gld_tot_ret*100, 3)))\n",
    "print(\"Equity ETF's return for the given period is: {} %\".format(np.round(vgk_tot_ret*100, 3)))\n",
    "print(\"\")\n",
    "\n",
    "# 3.2 Computing the kurtosis of each return series \n",
    "btc_kurt = ret_data['BTC'].kurtosis()\n",
    "gld_kurt = ret_data['GLD'].kurtosis()\n",
    "vgk_kurt = ret_data['VGK'].kurtosis()\n",
    "\n",
    "print(\"Bitcoin's kurtosis for the given period is: {}\".format(btc_kurt))\n",
    "print(\"Gold ETF's kurtosis for the given period is: {}\".format(gld_kurt))\n",
    "print(\"Equity ETF's kurtosis for the given period is: {}\".format(vgk_kurt))\n",
    "print(\"\")\n",
    "\n",
    "# 3.3 - 3.4 Using z-score method for finding extreme values\n",
    "\n",
    "# BTC \n",
    "btc_high_bound =  ret_data['BTC'].mean() + 3*ret_data['BTC'].std()\n",
    "btc_low_bound  =  ret_data['BTC'].mean() - 3*ret_data['BTC'].std()\n",
    "btc_outliers = ret_data['BTC'][(ret_data['BTC'] >= btc_high_bound) | (ret_data['BTC'] <= btc_low_bound)]\n",
    "print(\"BTC outlier returns are: \")\n",
    "print(btc_outliers*100)\n",
    "\n",
    "# GLD \n",
    "gld_high_bound =  ret_data['GLD'].mean() + 3*ret_data['GLD'].std()\n",
    "gld_low_bound  =  ret_data['GLD'].mean() - 3*ret_data['GLD'].std()\n",
    "gld_outliers = ret_data['GLD'][(ret_data['GLD'] >= gld_high_bound) | (ret_data['GLD'] <= gld_low_bound)]\n",
    "print(\"GLD outlier returns are: \")\n",
    "print(gld_outliers*100)\n",
    "\n",
    "# VGK \n",
    "vgk_high_bound =  ret_data['VGK'].mean() + 3*ret_data['VGK'].std()\n",
    "vgk_low_bound  =  ret_data['VGK'].mean() - 3*ret_data['VGK'].std()\n",
    "vgk_outliers = ret_data['VGK'][(ret_data['VGK'] >= vgk_high_bound) | (ret_data['VGK'] <= vgk_low_bound)]\n",
    "print(\"VGK outlier returns are: \")\n",
    "print(vgk_outliers*100)"
   ]
  },
  {
   "cell_type": "markdown",
   "id": "39da5d72",
   "metadata": {
    "id": "050430e1"
   },
   "source": [
    "### [ THE SECTION'S TITLE]\n"
   ]
  },
  {
   "cell_type": "markdown",
   "id": "654c4bdf",
   "metadata": {
    "id": "751fa84f"
   },
   "source": [
    "--- EXPLAIN THE THEORY BEHIND YOUR IMPLEMENTATION HERE (IF NEEDED) ---\n",
    "#### Header One \n",
    "\n",
    "#### Header Two"
   ]
  },
  {
   "cell_type": "code",
   "execution_count": 11,
   "id": "ebd7342d",
   "metadata": {
    "collapsed": true,
    "executionInfo": {
     "elapsed": 4,
     "status": "ok",
     "timestamp": 1634709921866,
     "user": {
      "displayName": "k yuning",
      "photoUrl": "https://lh3.googleusercontent.com/a/default-user=s64",
      "userId": "17832151192192192873"
     },
     "user_tz": -480
    },
    "id": "2b6296af"
   },
   "outputs": [],
   "source": [
    "# USE HASHTAGS TO DIVIDE YOUR CODE INTO READABLE CHUNKS OR YOU CAN ADDRESS EACH PROMPT SEPERATELY\n",
    "# 4.1 (EXAMPLE)\n",
    "\n",
    "\n",
    "\n",
    "\n"
   ]
  },
  {
   "cell_type": "markdown",
   "id": "d3d1d0c9",
   "metadata": {
    "id": "44c043ad"
   },
   "source": [
    "##### Interpretation of the Results"
   ]
  },
  {
   "cell_type": "markdown",
   "id": "a14064d9",
   "metadata": {
    "id": "4aaf9986"
   },
   "source": [
    "--- COMMENT ON YOUR RESULTS ---"
   ]
  },
  {
   "attachments": {},
   "cell_type": "markdown",
   "id": "ed007891",
   "metadata": {
    "id": "2e82d475"
   },
   "source": [
    "## 4. Data Comparison Copulas\n",
    "\n",
    "#### 4.1 Pick 2 of the series  that had the most extreme values.\n",
    "Here, we chose ETF and Bitcoin given that they had the most extreme values."
   ]
  },
  {
   "cell_type": "code",
   "execution_count": 119,
   "id": "d1d15c03",
   "metadata": {
    "executionInfo": {
     "elapsed": 5,
     "status": "ok",
     "timestamp": 1634709923751,
     "user": {
      "displayName": "k yuning",
      "photoUrl": "https://lh3.googleusercontent.com/a/default-user=s64",
      "userId": "17832151192192192873"
     },
     "user_tz": -480
    },
    "id": "b16370f0"
   },
   "outputs": [],
   "source": [
    "# Utility method to calculate the returns of a provided quarter\n",
    "import warnings\n",
    "warnings.filterwarnings(\"ignore\")\n",
    "\n",
    "def get_data(df, year_start, year_end, month_start, month_end, column):\n",
    "    return df[(df.index >= f\"{year_start}-{month_start:02d}-01\") & (df.index < f\"{year_end}-{month_end:02d}-01\")][column]    "
   ]
  },
  {
   "cell_type": "markdown",
   "id": "adaec78f",
   "metadata": {},
   "source": [
    "#### 4.2 Graph the returns of those 2 series on an x-y plot.  Feel free to use either an individual quarter, or several quarters.\n"
   ]
  },
  {
   "cell_type": "code",
   "execution_count": 120,
   "id": "ccd7f46e",
   "metadata": {
    "colab": {
     "base_uri": "https://localhost:8080/",
     "height": 337
    },
    "executionInfo": {
     "elapsed": 808,
     "status": "ok",
     "timestamp": 1634709925176,
     "user": {
      "displayName": "k yuning",
      "photoUrl": "https://lh3.googleusercontent.com/a/default-user=s64",
      "userId": "17832151192192192873"
     },
     "user_tz": -480
    },
    "id": "1608115c",
    "outputId": "43b1641e-b808-492d-ab37-8b9e83435a2d"
   },
   "outputs": [
    {
     "data": {
      "image/png": "[encoded data removed]",
      "text/plain": [
       "<Figure size 576x288 with 1 Axes>"
      ]
     },
     "metadata": {},
     "output_type": "display_data"
    }
   ],
   "source": [
    "import matplotlib.pyplot as plt\n",
    "# Change color theme\n",
    "plt.style.use('ggplot')\n",
    "\n",
    "#Extract quarter 2 data to be plotted\n",
    "btc_q2 = get_data(ret_data, 2020, 2020, 4, 7, \"BTC\").reset_index()\n",
    "equities_q2 = get_data(ret_data, 2020, 2020, 4, 7, \"VGK\").reset_index()\n",
    "\n",
    "# Plot figure\n",
    "fig, ax = plt.subplots(figsize=(8, 4))\n",
    "ax.plot(btc_q2[\"Date\"], btc_q2[\"BTC\"])\n",
    "ax.plot(equities_q2[\"Date\"], equities_q2[\"VGK\"])\n",
    "\n",
    "# Setting the title\n",
    "ax.set_title(\"BTC vs VGK Returns\")\n",
    "\n",
    "# Setting the ylabels and xlabels\n",
    "ax.set_ylabel('% Returns')\n",
    "ax.set_xlabel('Date')\n",
    "\n",
    "# Rotate xticks\n",
    "plt.xticks(rotation = 45)\n",
    "\n",
    "plt.show()"
   ]
  },
  {
   "cell_type": "markdown",
   "id": "10ac3bd9",
   "metadata": {},
   "source": [
    "#### 4.3 Fit a non-Gaussian copula to the returns of those 2 series.  Some possibilities are Student's T, Clayton, Gumbel, choose your own, …\n"
   ]
  },
  {
   "cell_type": "code",
   "execution_count": 101,
   "id": "c38928b5",
   "metadata": {
    "colab": {
     "base_uri": "https://localhost:8080/",
     "height": 429
    },
    "executionInfo": {
     "elapsed": 1326,
     "status": "ok",
     "timestamp": 1634711831277,
     "user": {
      "displayName": "k yuning",
      "photoUrl": "https://lh3.googleusercontent.com/a/default-user=s64",
      "userId": "17832151192192192873"
     },
     "user_tz": -480
    },
    "id": "f24e4140",
    "outputId": "a1723e49-e0bd-4ed5-8ab0-cbc591f9937d"
   },
   "outputs": [],
   "source": [
    "from copulalib.copulalib import Copula\n",
    "from array import array \n",
    "\n",
    "# Data and histograms\n",
    "def plotData(x_value, y_value):\n",
    "\n",
    "    fig = plt.figure()\n",
    "    fig.add_subplot(2,2,1)\n",
    "    plt.hist(x_value,bins=20,color='green',alpha=0.8,align='mid')\n",
    "    plt.title('X variable distribution')\n",
    "    fig.add_subplot(2,2,3)\n",
    "    plt.scatter(x_value,y_value,marker=\"o\",alpha=0.8)\n",
    "    fig.add_subplot(2,2,4)\n",
    "    plt.title('Joint X,Y')\n",
    "    plt.hist(y_value,bins=20,orientation='horizontal',color='red',alpha=0.8,align='mid')\n",
    "    plt.title('Y variable distribution')    \n",
    "    plt.show()\n",
    "    \n",
    "# Generate Copula\n",
    "def generateCopulas(x_value, y_value):\n",
    "\n",
    "    fig = plt.figure()\n",
    "    clayton = Copula(x_value,y_value,family='clayton')\n",
    "    uc,vc = clayton.generate_uv(1000)\n",
    "    fig.add_subplot(2,2,2)\n",
    "    plt.scatter(uc,vc,marker='.',color='red')\n",
    "    plt.ylim(0,1)\n",
    "    plt.xlim(0,1)\n",
    "    plt.title('Clayton copula')\n",
    "    plt.show()"
   ]
  },
  {
   "cell_type": "markdown",
   "id": "aa3fb244",
   "metadata": {},
   "source": [
    "Non-Gaussian Coupula of BTC"
   ]
  },
  {
   "cell_type": "code",
   "execution_count": 121,
   "id": "52615784",
   "metadata": {},
   "outputs": [
    {
     "data": {
      "image/png": "[encoded data removed]",
      "text/plain": [
       "<Figure size 432x288 with 3 Axes>"
      ]
     },
     "metadata": {},
     "output_type": "display_data"
    },
    {
     "data": {
      "image/png": "[encoded data removed]",
      "text/plain": [
       "<Figure size 432x288 with 1 Axes>"
      ]
     },
     "metadata": {},
     "output_type": "display_data"
    }
   ],
   "source": [
    "q2_btc_closing = get_data(adj_close_data, 2020, 2020, 4, 7, \"BTC\").reset_index()[\"BTC\"]\n",
    "q2_btc_returns = get_data(ret_data, 2020, 2020, 4, 7, \"BTC\").reset_index()[\"BTC\"]\n",
    "\n",
    "plotData(q2_btc_closing, q2_btc_returns)\n",
    "generateCopulas(q2_btc_closing, q2_btc_returns)"
   ]
  },
  {
   "cell_type": "markdown",
   "id": "5ab799ce",
   "metadata": {},
   "source": [
    "Non-Gaussian Coupula of VGK"
   ]
  },
  {
   "cell_type": "code",
   "execution_count": 122,
   "id": "c83dc862",
   "metadata": {},
   "outputs": [
    {
     "data": {
      "image/png": "[encoded data removed]",
      "text/plain": [
       "<Figure size 432x288 with 3 Axes>"
      ]
     },
     "metadata": {},
     "output_type": "display_data"
    },
    {
     "data": {
      "image/png": "[encoded data removed]",
      "text/plain": [
       "<Figure size 432x288 with 1 Axes>"
      ]
     },
     "metadata": {},
     "output_type": "display_data"
    }
   ],
   "source": [
    "q2_vgk_closing = get_data(adj_close_data, 2020, 2020, 4, 7, \"VGK\").reset_index()[\"VGK\"]\n",
    "q2_vgk_returns = get_data(ret_data, 2020, 2020, 4, 7, \"VGK\").reset_index()[\"VGK\"]\n",
    "\n",
    "plotData(q2_vgk_closing, q2_vgk_returns)\n",
    "generateCopulas(q2_vgk_closing, q2_vgk_returns)"
   ]
  },
  {
   "attachments": {},
   "cell_type": "markdown",
   "id": "f2947fda",
   "metadata": {
    "id": "9e9c2825"
   },
   "source": [
    "## 6. Category 2 Models: Just use 2 variables: the one you are trading, and an additional (called exogeneous variable) to enhance prediction\n",
    "\n",
    "#### 6.1 Use the same series as you did in the previous question\n",
    " we will choose ETF and Bitcoin."
   ]
  },
  {
   "cell_type": "code",
   "execution_count": 134,
   "id": "da607d51",
   "metadata": {
    "colab": {
     "base_uri": "https://localhost:8080/",
     "height": 368
    },
    "executionInfo": {
     "elapsed": 350,
     "status": "error",
     "timestamp": 1634710608910,
     "user": {
      "displayName": "k yuning",
      "photoUrl": "https://lh3.googleusercontent.com/a/default-user=s64",
      "userId": "17832151192192192873"
     },
     "user_tz": -480
    },
    "id": "112e716e",
    "outputId": "0b30c318-92a4-48bc-c5e1-a51b48afe13e"
   },
   "outputs": [],
   "source": [
    "from statsmodels.tsa.arima.model import ARIMA\n",
    "from statsmodels.tsa.statespace.varmax import VARMAX\n",
    "\n",
    "def fit_arima(data, exog= None):\n",
    "    model = ARIMA(data, exog=exog, order=(2,0,2))\n",
    "    model_fit = model.fit()\n",
    "    return model_fit\n",
    "\n",
    "def fit_varmax(data, exog= None):\n",
    "    model = VARMAX(data, exog=exog, order=(2,1))\n",
    "    model_fit = model.fit()\n",
    "    return model_fit"
   ]
  },
  {
   "cell_type": "markdown",
   "id": "d3519077",
   "metadata": {},
   "source": [
    "#### 6.2 Use Q2 data for estimation, and Q3 data for evaluating performance.\n",
    "\n",
    "The returns is approximately 101%"
   ]
  },
  {
   "cell_type": "code",
   "execution_count": 123,
   "id": "f81c0a74",
   "metadata": {},
   "outputs": [
    {
     "data": {
      "text/plain": [
       "1.0135675110145441"
      ]
     },
     "execution_count": 123,
     "metadata": {},
     "output_type": "execute_result"
    }
   ],
   "source": [
    "q2_btc_returns = get_data(ret_data, 2020, 2020, 4, 7, \"BTC\").reset_index()[\"BTC\"]\n",
    "q2_vgk_returns = get_data(ret_data, 2020, 2020, 4, 7, \"VGK\").reset_index()[\"VGK\"]\n",
    "q3_btc_returns = get_data(ret_data, 2020, 2020, 7, 10, \"BTC\").reset_index()[\"BTC\"]\n",
    "q3_vgk_returns = get_data(ret_data, 2020, 2020, 7, 10, \"VGK\").reset_index()[\"VGK\"]\n",
    "\n",
    "model = fit_arima(q2_btc_returns, q2_vgk_returns)\n",
    "return_pred = model.predict(exog=q3_vgk_returns, start=q2_btc_returns.shape[0], end=q2_btc_returns.shape[0] + q3_btc_returns.shape[0] - 1).values\n",
    "signal = np.where(return_pred > 0, 1, -1)\n",
    "return_q3 = np.product(q3_btc_returns * signal + 1) - 1\n",
    "return_q3"
   ]
  },
  {
   "cell_type": "markdown",
   "id": "ec45bab0",
   "metadata": {},
   "source": [
    "#### 6.3 Repeat, using Q3 data for estimation, and Q4 data for evaluating performance\n",
    "\n",
    "The returns is approximately 44.3%"
   ]
  },
  {
   "cell_type": "code",
   "execution_count": 127,
   "id": "7e923a31",
   "metadata": {},
   "outputs": [
    {
     "data": {
      "text/plain": [
       "0.4431098827855444"
      ]
     },
     "execution_count": 127,
     "metadata": {},
     "output_type": "execute_result"
    }
   ],
   "source": [
    "q3_btc_returns = get_data(ret_data, 2020, 2020, 7, 10, \"BTC\").reset_index()[\"BTC\"]\n",
    "q3_vgk_returns = get_data(ret_data, 2020, 2020, 7, 10, \"VGK\").reset_index()[\"VGK\"]\n",
    "q4_btc_returns = get_data(ret_data, 2020, 2021, 10, 1, \"BTC\").reset_index()[\"BTC\"] \n",
    "q4_vgk_returns = get_data(ret_data, 2020, 2021, 10, 1, \"VGK\").reset_index()[\"VGK\"] \n",
    "\n",
    "model = fit_arima(q3_btc_returns, q3_vgk_returns)\n",
    "return_pred = model.predict(exog=q4_vgk_returns, start=q3_btc_returns.shape[0], end=q3_btc_returns.shape[0] + q4_btc_returns.shape[0] - 1).values\n",
    "signal = np.where(return_pred > 0, 1, -1)\n",
    "return_q4 = np.product(q4_btc_returns * signal + 1) - 1\n",
    "return_q4\n"
   ]
  },
  {
   "cell_type": "markdown",
   "id": "7d904edd",
   "metadata": {},
   "source": [
    "#### 6.4 Build 3 trading strategies. + 6.5 The 1st strategy should include a form of VAR or VARMA.  "
   ]
  },
  {
   "cell_type": "code",
   "execution_count": null,
   "id": "8c39fa8e",
   "metadata": {},
   "outputs": [],
   "source": [
    "## No idea"
   ]
  },
  {
   "attachments": {},
   "cell_type": "markdown",
   "id": "e61c5b74",
   "metadata": {},
   "source": [
    "#### 6.6 The 2nd strategy should include multivariate GARCH.  There are several possibilities.  \n",
    "\n",
    "Here we combine the use of Garch with Arima to derive at the ARMA-GARCH model."
   ]
  },
  {
   "cell_type": "code",
   "execution_count": 140,
   "id": "925575b8",
   "metadata": {},
   "outputs": [],
   "source": [
    "def fit_garch(data, garch_type=\"GARCH\"):\n",
    "    if garch_type == \"TARCH\":\n",
    "        garch = arch.arch_model(data, vol='TGARCH', p=1, o=1, q=1, power=1)\n",
    "    else:\n",
    "        garch = arch.arch_model(data, vol=garch_type, p=1, o=0, q=1)\n",
    "    garch_fitted = garch.fit()\n",
    "    print(garch_fitted.summary())\n",
    "    if garch_type != \"FIGARCH\":\n",
    "        omega = garch_fitted.params[\"omega\"]\n",
    "        alpha = garch_fitted.params[\"alpha[1]\"]\n",
    "        beta = garch_fitted.params[\"beta[1]\"]\n",
    "        print(f\"Unconditional variance: {omega/(1 - alpha - beta)}\")\n",
    "    return garch_fitted"
   ]
  },
  {
   "cell_type": "code",
   "execution_count": 172,
   "id": "c48df0ab",
   "metadata": {},
   "outputs": [
    {
     "name": "stdout",
     "output_type": "stream",
     "text": [
      "Iteration:      1,   Func. Count:      6,   Neg. LLF: 101.49247709970281\n",
      "Iteration:      2,   Func. Count:     15,   Neg. LLF: 68.00466295163567\n",
      "Iteration:      3,   Func. Count:     24,   Neg. LLF: -184.0820913883987\n",
      "Iteration:      4,   Func. Count:     29,   Neg. LLF: -184.08220401787744\n",
      "Iteration:      5,   Func. Count:     34,   Neg. LLF: -184.08226945143187\n",
      "Iteration:      6,   Func. Count:     39,   Neg. LLF: -184.08229004340967\n",
      "Iteration:      7,   Func. Count:     44,   Neg. LLF: -184.0822916265253\n",
      "Iteration:      8,   Func. Count:     48,   Neg. LLF: -184.08229162627197\n",
      "Optimization terminated successfully    (Exit mode 0)\n",
      "            Current function value: -184.0822916265253\n",
      "            Iterations: 8\n",
      "            Function evaluations: 48\n",
      "            Gradient evaluations: 8\n",
      "                     Constant Mean - GARCH Model Results                      \n",
      "==============================================================================\n",
      "Dep. Variable:                    BTC   R-squared:                       0.000\n",
      "Mean Model:             Constant Mean   Adj. R-squared:                  0.000\n",
      "Vol Model:                      GARCH   Log-Likelihood:                184.082\n",
      "Distribution:                  Normal   AIC:                          -360.165\n",
      "Method:            Maximum Likelihood   BIC:                          -350.165\n",
      "                                        No. Observations:                   90\n",
      "Date:                Fri, Oct 22 2021   Df Residuals:                       89\n",
      "Time:                        01:02:39   Df Model:                            1\n",
      "                                  Mean Model                                 \n",
      "=============================================================================\n",
      "                 coef    std err          t      P>|t|       95.0% Conf. Int.\n",
      "-----------------------------------------------------------------------------\n",
      "mu         3.8893e-03  3.320e-03      1.172      0.241 [-2.617e-03,1.040e-02]\n",
      "                               Volatility Model                              \n",
      "=============================================================================\n",
      "                 coef    std err          t      P>|t|       95.0% Conf. Int.\n",
      "-----------------------------------------------------------------------------\n",
      "omega      9.7938e-04  5.550e-04      1.765  7.763e-02 [-1.084e-04,2.067e-03]\n",
      "alpha[1]   1.2820e-14  3.378e-03  3.795e-12      1.000 [-6.622e-03,6.622e-03]\n",
      "beta[1]        0.0000      0.507      0.000      1.000      [ -0.994,  0.994]\n",
      "=============================================================================\n",
      "\n",
      "Covariance estimator: robust\n",
      "Unconditional variance: 0.0009793800699137534\n",
      "The returns is 1.017456841410446\n"
     ]
    }
   ],
   "source": [
    "import pmdarima\n",
    "import arch\n",
    "\n",
    "q2_btc_returns = get_data(ret_data, 2020, 2020, 4, 7, \"BTC\").reset_index()[\"BTC\"]\n",
    "model = fit_arima(q2_btc_returns, q2_vgk_returns)\n",
    "return_pred = model.predict(exog=q3_vgk_returns, start=q2_btc_returns.shape[0], end=q2_btc_returns.shape[0] + q3_btc_returns.shape[0] - 1).values\n",
    "signal = np.where(return_pred > 0, 1, -1)\n",
    "return_q3 = np.product(q3_btc_returns * signal + 1) - 1\n",
    "return_q3\n",
    "\n",
    "# fit a GARCH(1,1) model on the residuals of the ARIMA model\n",
    "model = fit_garch(q2_btc_returns)\n",
    "garch_forecast = model.forecast(horizon=1)\n",
    "predicted_et = garch_forecast.mean['h.1'].iloc[-1]\n",
    "\n",
    "return_q3 = return_q3 + predicted_et\n",
    "print(\"The returns is\", return_q3)"
   ]
  },
  {
   "cell_type": "markdown",
   "id": "d11ff045",
   "metadata": {},
   "source": [
    "#### 6.7 The 3rd strategy should attempt to include cointegration.  Note that if cointegration is not found, then justify the lack of existence for cointegration in quantitative terms.\n",
    "\n",
    "Given that p-value < 0.01 for all tests, we conclude that there are cointegrating vectors."
   ]
  },
  {
   "cell_type": "code",
   "execution_count": 170,
   "id": "026f410c",
   "metadata": {},
   "outputs": [
    {
     "name": "stdout",
     "output_type": "stream",
     "text": [
      "(-3.7219743379755807, 0.05249239182963255, array([-4.46005898, -3.83820607, -3.52247298]))\n",
      "(-5.508525153998414, 8.719628627588787e-05, array([-4.46005898, -3.83820607, -3.52247298]))\n",
      "(-9.967914411796926, 1.2560441593036165e-16, array([-4.46005898, -3.83820607, -3.52247298]))\n"
     ]
    }
   ],
   "source": [
    "from statsmodels.tsa.stattools import adfuller, coint\n",
    "\n",
    "q2_btc_returns = get_data(ret_data, 2020, 2020, 4, 7, \"BTC\").reset_index()[\"BTC\"]\n",
    "q2_vgk_returns = get_data(ret_data, 2020, 2020, 4, 7, \"VGK\").reset_index()[\"VGK\"]\n",
    "q2_gold_returns = get_data(ret_data, 2020, 2020, 4, 7, \"GLD\").reset_index()[\"GLD\"]\n",
    "\n",
    "print(coint(q2_btc_returns, np.array([q2_vgk_returns, q2_gold_returns]).T))\n",
    "print(coint(q2_vgk_returns, np.array([q2_btc_returns, q2_gold_returns]).T))\n",
    "print(coint(q2_gold_returns, np.array([q2_vgk_returns, q2_btc_returns]).T))"
   ]
  }
 ],
 "metadata": {
  "colab": {
   "name": "DRAFT - PROMPTS [1 - 3 DONE].ipynb",
   "provenance": []
  },
  "kernelspec": {
   "display_name": "Python 3",
   "language": "python",
   "name": "python3"
  },
  "language_info": {
   "codemirror_mode": {
    "name": "ipython",
    "version": 3
   },
   "file_extension": ".py",
   "mimetype": "text/x-python",
   "name": "python",
   "nbconvert_exporter": "python",
   "pygments_lexer": "ipython3",
   "version": "3.8.8"
  }
 },
 "nbformat": 4,
 "nbformat_minor": 5
}
